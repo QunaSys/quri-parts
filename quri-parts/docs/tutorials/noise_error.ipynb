{
 "cells": [
  {
   "cell_type": "markdown",
   "id": "134fe285",
   "metadata": {},
   "source": [
    "# Noisy simulation\n",
    "\n",
    "Quantum circuits running on real machines are affected by a variety of stochastic noises. In QURI Parts, noise models can be defined to represent these noises and reproduce them on simulators. (Qulacs is used in this tutorial.)"
   ]
  },
  {
   "cell_type": "markdown",
   "id": "6cd7f522",
   "metadata": {},
   "source": [
    "## Prerequisite\n",
    "\n",
    "QURI Parts modules used in this tutorial: `quri-parts-circuit`, `quri-parts-core`, and `quri-parts-qulacs`. You can install them as follows:"
   ]
  },
  {
   "cell_type": "code",
   "execution_count": null,
   "id": "225d59a3",
   "metadata": {},
   "outputs": [],
   "source": [
    "!pip install \"quri-parts[qulacs]\""
   ]
  },
  {
   "cell_type": "markdown",
   "id": "20e75b55",
   "metadata": {},
   "source": [
    "## Prepare a circuit\n",
    "\n",
    "First, prepare a circuit to apply noise."
   ]
  },
  {
   "cell_type": "code",
   "execution_count": 1,
   "id": "99e9c319",
   "metadata": {},
   "outputs": [],
   "source": [
    "from quri_parts.circuit import QuantumCircuit\n",
    "circuit = QuantumCircuit(3)\n",
    "circuit.add_H_gate(2)\n",
    "circuit.add_X_gate(0)\n",
    "circuit.add_CNOT_gate(2, 1)\n",
    "circuit.add_Z_gate(2)"
   ]
  },
  {
   "cell_type": "markdown",
   "id": "c50be918",
   "metadata": {},
   "source": [
    "## Create a noise model\n",
    "\n",
    "Next, create a noise model. Create several `NoiseInstruction`s that represent noises and their application conditions, and add them to `NoiseModel`.\n",
    "\n",
    "(This is a noise model to illustrate API functionality and is not a realistic example. Noise models should be adjusted to match the characteristics of the actual equipment of interest.)"
   ]
  },
  {
   "cell_type": "code",
   "execution_count": 2,
   "id": "0691a2fd",
   "metadata": {},
   "outputs": [],
   "source": [
    "import quri_parts.circuit.gate_names as gate_names\n",
    "from quri_parts.circuit.noise import (\n",
    "    BitFlipNoise,\n",
    "    BitPhaseFlipNoise,\n",
    "    DepolarizingNoise,\n",
    "    DepthIntervalNoise,\n",
    "    MeasurementNoise,\n",
    "    NoiseModel,\n",
    "    PauliNoise,\n",
    "    PhaseFlipNoise,\n",
    ")\n",
    "noises = [\n",
    "    # Single qubit noise\n",
    "    BitFlipNoise(\n",
    "        error_prob=0.004,\n",
    "        qubit_indices=[0, 2],  # Qubit 0 or 2\n",
    "        target_gates=[gate_names.H, gate_names.CNOT],  # H or CNOT gates\n",
    "    ),\n",
    "    DepolarizingNoise(\n",
    "        error_prob=0.003,\n",
    "        qubit_indices=[],  # All qubits\n",
    "        target_gates=[gate_names.X, gate_names.CNOT]  # X or CNOT gates\n",
    "    ),\n",
    "    PhaseFlipNoise(\n",
    "        error_prob=0.002,\n",
    "        qubit_indices=[1, 0],  # Qubit 0 or 1\n",
    "        target_gates=[]  # All kind of gates\n",
    "    ),\n",
    "    BitPhaseFlipNoise(\n",
    "        error_prob=0.001,\n",
    "        qubit_indices=[],  # All qubits\n",
    "        target_gates=[],  # All kind of gates\n",
    "    ),\n",
    "    \n",
    "    # Multi qubit noise\n",
    "    PauliNoise(\n",
    "        pauli_list=[[1, 2], [2, 3]],\n",
    "        prob_list=[0.001, 0.002],\n",
    "        qubit_indices=[1, 2],  # 2 qubit gates applying to qubits (1, 2) or (2, 1)\n",
    "        target_gates=[gate_names.CNOT]  # CNOT gates\n",
    "    ),\n",
    "    \n",
    "    # Circuit noise\n",
    "    DepthIntervalNoise([PhaseFlipNoise(0.001)], depth_interval=5),\n",
    "    MeasurementNoise([BitFlipNoise(0.004), DepolarizingNoise(0.003)]),\n",
    "]\n",
    "model = NoiseModel(noises)"
   ]
  },
  {
   "cell_type": "markdown",
   "id": "f7cc7293",
   "metadata": {},
   "source": [
    "For single qubit noises, you can specify the target qubit indices and the target gate names. If the argument is omitted or an empty list is given, all qubits or gates are treated as targets.\n",
    "\n",
    "The method to specify application condition is similar for multi qubit noises, but the target qubit indices requires the complete set of qubits (in any order) for the target gate. The noise is applied to the qubits sorted as specified in the target gate. For example, if the target gate is specified as CNOT(5, 3), then the noise applied to the qubits (5, 3) not (3, 5).\n",
    "\n",
    "In addition to the ones used here, various other `NoiseInstruction` are available. Please refer to the API documentation for details on each `NoiseInstruction`."
   ]
  },
  {
   "cell_type": "markdown",
   "id": "f79a43bd",
   "metadata": {},
   "source": [
    "## Sampling simulation with Qulacs\n",
    "\n",
    "For sampling, several functions are provided to create a Sampler with a noise model applied."
   ]
  },
  {
   "cell_type": "code",
   "execution_count": 3,
   "id": "708d1bb1",
   "metadata": {},
   "outputs": [
    {
     "data": {
      "text/plain": [
       "Counter({7: 487, 1: 483, 4: 1, 5: 11, 3: 12, 6: 5, 0: 1})"
      ]
     },
     "execution_count": 3,
     "metadata": {},
     "output_type": "execute_result"
    }
   ],
   "source": [
    "from quri_parts.qulacs.sampler import create_qulacs_density_matrix_sampler\n",
    "density_matrix_sampler = create_qulacs_density_matrix_sampler(model)\n",
    "counts = density_matrix_sampler(circuit, shots=1000)\n",
    "counts"
   ]
  },
  {
   "cell_type": "code",
   "execution_count": 4,
   "id": "69e63856",
   "metadata": {},
   "outputs": [
    {
     "data": {
      "text/plain": [
       "Counter({7: 507, 0: 4, 1: 454, 3: 12, 6: 6, 5: 17})"
      ]
     },
     "execution_count": 4,
     "metadata": {},
     "output_type": "execute_result"
    }
   ],
   "source": [
    "from quri_parts.qulacs.sampler import create_qulacs_stochastic_state_vector_sampler\n",
    "stochastic_state_vector_sampler = create_qulacs_stochastic_state_vector_sampler(model)\n",
    "counts = stochastic_state_vector_sampler(circuit, shots=1000)\n",
    "counts"
   ]
  },
  {
   "cell_type": "markdown",
   "id": "22b1e7c8",
   "metadata": {},
   "source": [
    "Density matrix sampler (created by `create_qulacs_density_matrix_sampler()`) uses the density matrix for calculating measurement probability for sampling, while stochastic state vector sampler (created by `create_qulacs_stochastic_state_vector_sampler()`) performs sampling by repeating stochastic state vector simulation for a specified shot count. The computation time varies with the type of circuit, but in general, stochastic state vector sampler is advantageous when the number of shots is less than about 10^3.\n",
    "\n",
    "The usage of `Sampler` with noise model is the same as that of other `Sampler`, except that a `NoiseModel` should be given on creation. As with regular `Sampler`, there are versions that support concurrent execution. Please refer to the API documentation and [the sampling simulation tutorial](sampling_simulation.ipynb) for details on how to use `Sampler`."
   ]
  },
  {
   "cell_type": "markdown",
   "id": "fca65c72",
   "metadata": {},
   "source": [
    "## Estimation of operator expectation value with Qulacs\n",
    "\n",
    "Also for estimation, you can create an `Estimator` with noise model applied."
   ]
  },
  {
   "cell_type": "code",
   "execution_count": 5,
   "id": "083aebb3",
   "metadata": {},
   "outputs": [],
   "source": [
    "from quri_parts.qulacs.estimator import create_qulacs_density_matrix_estimator\n",
    "density_matrix_estimator = create_qulacs_density_matrix_estimator(model)"
   ]
  },
  {
   "cell_type": "markdown",
   "id": "d7465268",
   "metadata": {},
   "source": [
    "Simillar to the `Sampler` case, the usage of `Estimator` with noise model is the same as that of other `Estimator`s, except that a `NoiseModel` should be given on creation. As with regular `Estimator`, there are versions that support parametric circuit and/or concurrent execution. Please refer to the API documentation and [Estimate expectation value of operators tutorial](estimator_basics.ipynb) for details on how to use `Estimator`.\n",
    "\n",
    "Finally, let's take a simple example to see the noise model is working. Create a circuit with only one X gate applied and calculate the expectation value with an empty noise model."
   ]
  },
  {
   "cell_type": "code",
   "execution_count": 6,
   "id": "26d6fd0c",
   "metadata": {},
   "outputs": [
    {
     "data": {
      "text/plain": [
       "(-1+0j)"
      ]
     },
     "execution_count": 6,
     "metadata": {},
     "output_type": "execute_result"
    }
   ],
   "source": [
    "from quri_parts.core.operator import pauli_label\n",
    "from quri_parts.core.state import GeneralCircuitQuantumState\n",
    "circuit = QuantumCircuit(1)\n",
    "circuit.add_X_gate(0)\n",
    "state = GeneralCircuitQuantumState(1, circuit)\n",
    "pauli = pauli_label(\"Z0\")\n",
    "empty_model = NoiseModel()\n",
    "estimator = create_qulacs_density_matrix_estimator(empty_model)\n",
    "estimate = estimator(pauli, state)\n",
    "estimate.value"
   ]
  },
  {
   "cell_type": "markdown",
   "id": "a085454e",
   "metadata": {},
   "source": [
    "The result is as expected. Now let's add a bit flip noise with probability 0.5 to the noise model."
   ]
  },
  {
   "cell_type": "code",
   "execution_count": 7,
   "id": "928a779c",
   "metadata": {},
   "outputs": [
    {
     "data": {
      "text/plain": [
       "0j"
      ]
     },
     "execution_count": 7,
     "metadata": {},
     "output_type": "execute_result"
    }
   ],
   "source": [
    "bitflip_model = NoiseModel([BitFlipNoise(0.5)])\n",
    "noised_estimator = create_qulacs_density_matrix_estimator(bitflip_model)\n",
    "noised_estimate = noised_estimator(pauli, state)\n",
    "noised_estimate.value"
   ]
  },
  {
   "cell_type": "markdown",
   "id": "64a4dc06",
   "metadata": {},
   "source": [
    "We are getting the expected effect."
   ]
  },
  {
   "cell_type": "markdown",
   "id": "66a90cbd",
   "metadata": {},
   "source": [
    "## Convert circuit with noise model\n",
    "\n",
    "If you need a Qulacs circuit with the noise model applied directly, the following circuit conversion function is provided. For purposes such as sampling or estimation, it is usually not necessary for the user to perform this conversion."
   ]
  },
  {
   "cell_type": "code",
   "execution_count": 8,
   "id": "88aa3a2b",
   "metadata": {},
   "outputs": [],
   "source": [
    "from quri_parts.qulacs.circuit.noise import convert_circuit_with_noise_model\n",
    "qulacs_circuit = convert_circuit_with_noise_model(circuit, model)"
   ]
  }
 ],
 "metadata": {
  "kernelspec": {
   "display_name": "Python 3 (ipykernel)",
   "language": "python",
   "name": "python3"
  },
  "language_info": {
   "codemirror_mode": {
    "name": "ipython",
    "version": 3
   },
   "file_extension": ".py",
   "mimetype": "text/x-python",
   "name": "python",
   "nbconvert_exporter": "python",
   "pygments_lexer": "ipython3",
   "version": "3.9.9"
  }
 },
 "nbformat": 4,
 "nbformat_minor": 5
}
