{
 "cells": [
  {
   "cell_type": "markdown",
   "id": "d73c9e24",
   "metadata": {},
   "source": [
    "# Parametric circuits\n",
    "\n",
    "Quantum circuits with variable parameters play an important role in some quantum algorithms, especially variational algorithms. QURI Parts treats such circuits in a special way so that such algorithms can be efficiently performed."
   ]
  },
  {
   "cell_type": "markdown",
   "id": "3d58ef42",
   "metadata": {},
   "source": [
    "## Prerequisite\n",
    "\n",
    "QURI Parts modules used in this tutorial: `quri-parts-circuit`, `quri-parts-core` and `quri-parts-qulacs`. You can install them as follows:"
   ]
  },
  {
   "cell_type": "code",
   "execution_count": null,
   "id": "52676117",
   "metadata": {},
   "outputs": [],
   "source": [
    "!pip install \"quri-parts[qulacs]\""
   ]
  },
  {
   "cell_type": "markdown",
   "id": "9ecc20d7",
   "metadata": {},
   "source": [
    "## Parametric quantum circuit\n",
    "\n",
    "\"Parametric quantum circuit\" and \"parametric quantum gate\" are often used to mean a circuit and a gate with some parameters (usually real numbers) for both of the following two cases: the parameters are *not bound*, i.e., no specific values are assigned to them, or the parameters are *bound* to specific values. In QURI Parts, the term \"parametric\" basically means the former case. We use a term \"unbound\" when we want to make it clear.\n",
    "\n",
    "### Parameter\n",
    "\n",
    "An unbound parameter in a parametric circuit is represented by a `quri_parts.circuit.Parameter` class. A `Parameter` object works as a placeholder for the parameter and does not hold any specific value. Identity of a `Parameter` object is determined by identity of it as a Python object. Even if two `Parameter` objects have the same name, they are treated as different parameters:"
   ]
  },
  {
   "cell_type": "code",
   "execution_count": 1,
   "id": "9baf7eea",
   "metadata": {},
   "outputs": [
    {
     "name": "stdout",
     "output_type": "stream",
     "text": [
      "Parameter(name=phi) Parameter(name=psi) Parameter(name=psi2) Parameter(name=)\n",
      "phi == psi1: False\n",
      "psi1 == psi2: False\n",
      "phi == CONST: False\n"
     ]
    }
   ],
   "source": [
    "from quri_parts.circuit import Parameter, CONST\n",
    "\n",
    "phi = Parameter(\"phi\")\n",
    "psi1 = Parameter(\"psi\")\n",
    "psi2 = Parameter(\"psi2\")\n",
    "\n",
    "# CONST is a pre-defined parameter that represents a constant.\n",
    "print(phi, psi1, psi2, CONST)\n",
    "print(\"phi == psi1:\", phi == psi1)\n",
    "print(\"psi1 == psi2:\", psi1 == psi2)\n",
    "print(\"phi == CONST:\", phi == CONST)"
   ]
  },
  {
   "cell_type": "markdown",
   "id": "7b1563a6",
   "metadata": {},
   "source": [
    "Although a `Parameter` can be created as above, you don't usually need to do it yourself since parameters are managed by parametric circuit objects."
   ]
  },
  {
   "cell_type": "markdown",
   "id": "669e72ae",
   "metadata": {},
   "source": [
    "### Unbound parametric quantum circuit: common usage\n",
    "\n",
    "There are several types of unbound parametric quantum circuits, which will be described in the following sections. Here we describe common usage of them."
   ]
  },
  {
   "cell_type": "code",
   "execution_count": 2,
   "id": "8515cb31",
   "metadata": {},
   "outputs": [],
   "source": [
    "# This part shows one way to create an unbound parametric circuit.\n",
    "# Details will be described in the following sections.\n",
    "from quri_parts.circuit import UnboundParametricQuantumCircuit\n",
    "parametric_circuit = UnboundParametricQuantumCircuit(2)\n",
    "parametric_circuit.add_H_gate(0)\n",
    "parametric_circuit.add_CNOT_gate(0, 1)\n",
    "param1 = parametric_circuit.add_ParametricRX_gate(0)\n",
    "param2 = parametric_circuit.add_ParametricRZ_gate(1)"
   ]
  },
  {
   "cell_type": "markdown",
   "id": "8113f419",
   "metadata": {},
   "source": [
    "An unbound parametric circuit object has some properties in common with a usual (non-parametric) circuit object, and also some additional properties:"
   ]
  },
  {
   "cell_type": "code",
   "execution_count": 3,
   "id": "d609d96f",
   "metadata": {},
   "outputs": [
    {
     "name": "stdout",
     "output_type": "stream",
     "text": [
      "Qubit count: 2\n",
      "Circuit depth: 3\n",
      "Parameter count: 2\n",
      "Circuit depth: 4\n"
     ]
    }
   ],
   "source": [
    "print(\"Qubit count:\", parametric_circuit.qubit_count)\n",
    "print(\"Circuit depth:\", parametric_circuit.depth)\n",
    "\n",
    "# A parametric circuit object does not have .gates property.\n",
    "\n",
    "print(\"Parameter count:\", parametric_circuit.parameter_count)\n",
    "\n",
    "# Non-parametric gates can be added in the same way as QuantumCircuit:\n",
    "parametric_circuit.add_X_gate(1)\n",
    "print(\"Circuit depth:\", parametric_circuit.depth)"
   ]
  },
  {
   "cell_type": "markdown",
   "id": "ab6089b1",
   "metadata": {},
   "source": [
    "You can copy or get a frozen version of an unbound parametric circuit:"
   ]
  },
  {
   "cell_type": "code",
   "execution_count": 4,
   "id": "c0807331",
   "metadata": {},
   "outputs": [],
   "source": [
    "frozen_parametric_circuit = parametric_circuit.freeze()\n",
    "copied_parametric_circuit = parametric_circuit.get_mutable_copy()"
   ]
  },
  {
   "cell_type": "markdown",
   "id": "29012e32",
   "metadata": {},
   "source": [
    "You can bind specific values to parameters in a parametric circuit by `.bind_parameters` method. This method does not modify the original parametric circuit object but returns a newly created circuit object:"
   ]
  },
  {
   "cell_type": "code",
   "execution_count": 5,
   "id": "3d4d0849",
   "metadata": {},
   "outputs": [
    {
     "name": "stdout",
     "output_type": "stream",
     "text": [
      "QuantumGate(name='H', target_indices=(0,), control_indices=(), params=(), pauli_ids=())\n",
      "QuantumGate(name='CNOT', target_indices=(1,), control_indices=(0,), params=(), pauli_ids=())\n",
      "QuantumGate(name='RX', target_indices=(0,), control_indices=(), params=(0.2,), pauli_ids=())\n",
      "QuantumGate(name='RZ', target_indices=(1,), control_indices=(), params=(0.3,), pauli_ids=())\n",
      "QuantumGate(name='X', target_indices=(1,), control_indices=(), params=(), pauli_ids=())\n"
     ]
    }
   ],
   "source": [
    "bound_circuit = parametric_circuit.bind_parameters([0.2, 0.3])\n",
    "# bound_circuit is an immutable version of a usual circuit object, which has .gates property.\n",
    "for gate in bound_circuit.gates:\n",
    "    print(gate)"
   ]
  },
  {
   "cell_type": "markdown",
   "id": "530e2c3c",
   "metadata": {},
   "source": [
    "### UnboundParametricQuantumCircuit and LinearMappedUnboundParametricQuantumCircuit\n",
    "\n",
    "QURI Parts currently provides two types of parametric circuits: `UnboundParametricQuantumCircuit` and `LinearMappedUnboundParametricQuantumCircuit`. Here we introduce the former one.\n",
    "\n",
    "`UnboundParametricQuantumCircuit` represents an unbound parametric circuit where each parametric gate in it has its own parameter independent from other parameters. You can add each parametric gate as the following:"
   ]
  },
  {
   "cell_type": "code",
   "execution_count": 6,
   "id": "32309148",
   "metadata": {},
   "outputs": [
    {
     "name": "stdout",
     "output_type": "stream",
     "text": [
      "param1 == param2: False\n"
     ]
    }
   ],
   "source": [
    "from quri_parts.circuit import UnboundParametricQuantumCircuit\n",
    "parametric_circuit = UnboundParametricQuantumCircuit(2)\n",
    "parametric_circuit.add_H_gate(0)\n",
    "parametric_circuit.add_CNOT_gate(0, 1)\n",
    "param1 = parametric_circuit.add_ParametricRX_gate(0)\n",
    "param2 = parametric_circuit.add_ParametricRZ_gate(1)\n",
    "print(\"param1 == param2:\", param1 == param2)"
   ]
  },
  {
   "cell_type": "markdown",
   "id": "e2b845cb",
   "metadata": {},
   "source": [
    "A parametric gate is added by `.add_Parametric{}_gate` methods (here `{}` should be replaced by a specific gate name) and a newly created parameter is returned. This parametric circuit corresponds to a gate sequence $[\\mathrm{H}_0, \\mathrm{CNOT}_{0, 1}, \\mathrm{RX}(\\theta)_0, \\mathrm{RZ}(\\phi)_1]$, where $\\theta$ and $\\phi$ are independent parameters. You can bind two values to those two parameters independently."
   ]
  },
  {
   "cell_type": "code",
   "execution_count": 7,
   "id": "998ba156",
   "metadata": {
    "scrolled": true
   },
   "outputs": [
    {
     "name": "stdout",
     "output_type": "stream",
     "text": [
      "QuantumGate(name='H', target_indices=(0,), control_indices=(), params=(), pauli_ids=())\n",
      "QuantumGate(name='CNOT', target_indices=(1,), control_indices=(0,), params=(), pauli_ids=())\n",
      "QuantumGate(name='RX', target_indices=(0,), control_indices=(), params=(0.2,), pauli_ids=())\n",
      "QuantumGate(name='RZ', target_indices=(1,), control_indices=(), params=(0.3,), pauli_ids=())\n"
     ]
    }
   ],
   "source": [
    "bound_circuit = parametric_circuit.bind_parameters([0.2, 0.3])\n",
    "for gate in bound_circuit.gates:\n",
    "    print(gate)"
   ]
  },
  {
   "cell_type": "markdown",
   "id": "0a280c5f",
   "metadata": {},
   "source": [
    "It is often the case where you want multiple parametric gates in a parametric circuit to depend on the same parameters via some functions. `LinearMappedUnboundParametricQuantumCircuit` supports this use case (only for linear dependency). For example, suppose we want to define a parametric circuit with two independent parameters $\\theta$ and $\\phi$, whose gate sequence is $[\\mathrm{H}_0, \\mathrm{CNOT}_{0, 1}, \\mathrm{RX}(\\theta/2+\\phi/3+\\pi/2)_0, \\mathrm{RZ}(\\theta/3-\\phi/2-\\pi/2)_1]$. Such a parametric circuit can be constructed as:"
   ]
  },
  {
   "cell_type": "code",
   "execution_count": 8,
   "id": "00b9843d",
   "metadata": {},
   "outputs": [],
   "source": [
    "from math import pi\n",
    "from quri_parts.circuit import LinearMappedUnboundParametricQuantumCircuit, CONST\n",
    "\n",
    "linear_param_circuit = LinearMappedUnboundParametricQuantumCircuit(2)\n",
    "linear_param_circuit.add_H_gate(0)\n",
    "linear_param_circuit.add_CNOT_gate(0, 1)\n",
    "\n",
    "theta, phi = linear_param_circuit.add_parameters(\"theta\", \"phi\")\n",
    "linear_param_circuit.add_ParametricRX_gate(0, {theta: 1/2, phi: 1/3, CONST: pi/2})\n",
    "linear_param_circuit.add_ParametricRZ_gate(1, {theta: 1/3, phi: -1/2, CONST: -pi/2})"
   ]
  },
  {
   "cell_type": "markdown",
   "id": "a20d8d7d",
   "metadata": {},
   "source": [
    "To add parametric gates to a `LinearMappedUnboundParametricQuantumCircuit`, you need to define independent parameters for the circuit beforehand by `.add_parameters` method. Then you can specify a parameter of a parametric gate as a dictionary in which a key is a circuit parameter and a value is its coefficient. `quri_parts.circuit.CONST` is used to represent a constant term (i.e. `CONST` is substituted with 1 when binding parameter values). You can bind two values to the two circuit parameters:"
   ]
  },
  {
   "cell_type": "code",
   "execution_count": 9,
   "id": "ca32da7f",
   "metadata": {
    "scrolled": true
   },
   "outputs": [
    {
     "name": "stdout",
     "output_type": "stream",
     "text": [
      "QuantumGate(name='H', target_indices=(0,), control_indices=(), params=(), pauli_ids=())\n",
      "QuantumGate(name='CNOT', target_indices=(1,), control_indices=(0,), params=(), pauli_ids=())\n",
      "QuantumGate(name='RX', target_indices=(0,), control_indices=(), params=(1.7707963267948965,), pauli_ids=())\n",
      "QuantumGate(name='RZ', target_indices=(1,), control_indices=(), params=(-1.6541296601282298,), pauli_ids=())\n"
     ]
    }
   ],
   "source": [
    "bound_linear_circuit = linear_param_circuit.bind_parameters([0.2, 0.3])\n",
    "for gate in bound_linear_circuit.gates:\n",
    "    print(gate)"
   ]
  },
  {
   "cell_type": "markdown",
   "id": "7da87207",
   "metadata": {},
   "source": [
    "## Parametric state and operator expectation estimation\n",
    "\n",
    "A `GeneralCircuitQuantumState` can be created from a circuit obtained by binding values to a parametric circuit and an Estimator can be used to estimate an expectation value of an operator for the state:"
   ]
  },
  {
   "cell_type": "code",
   "execution_count": 10,
   "id": "1c3505eb",
   "metadata": {},
   "outputs": [
    {
     "name": "stdout",
     "output_type": "stream",
     "text": [
      "Estimated expectation value: (0.15950226366943507+0.14776010333066977j)\n"
     ]
    }
   ],
   "source": [
    "from quri_parts.core.state import GeneralCircuitQuantumState\n",
    "\n",
    "circuit = parametric_circuit.bind_parameters([0.2, 0.3])\n",
    "circuit_state = GeneralCircuitQuantumState(2, circuit)\n",
    "\n",
    "from quri_parts.core.operator import Operator, pauli_label\n",
    "op = Operator({\n",
    "    pauli_label(\"X0 Y1\"): 0.5 + 0.5j,\n",
    "    pauli_label(\"Z0 X1\"): 0.2,\n",
    "})\n",
    "\n",
    "from quri_parts.qulacs.estimator import create_qulacs_vector_estimator\n",
    "estimator = create_qulacs_vector_estimator()\n",
    "\n",
    "estimate = estimator(op, circuit_state)\n",
    "print(f\"Estimated expectation value: {estimate.value}\")"
   ]
  },
  {
   "cell_type": "markdown",
   "id": "f1265d50",
   "metadata": {},
   "source": [
    "However, it is more straightforward to use `ParametricCircuitQuantumState`. It has a few benefits:\n",
    "\n",
    "- It makes it clear that the state is parametric and possible to treat parameter-related problems in terms of quantum state (e.g. gradient of an expectation value for the state with respect to its parameters).\n",
    "- It may improve performance for some circuit simulators (e.g. Qulacs).\n",
    "\n",
    "In order to estimate an expectation value of an operator for a parametric state, you can use `ParametricQuantumEstimator` interface:"
   ]
  },
  {
   "cell_type": "code",
   "execution_count": 11,
   "id": "73c882fa",
   "metadata": {},
   "outputs": [
    {
     "name": "stdout",
     "output_type": "stream",
     "text": [
      "Estimated expectation value: (0.15950226366943507+0.14776010333066977j)\n"
     ]
    }
   ],
   "source": [
    "from quri_parts.core.state import ParametricCircuitQuantumState\n",
    "\n",
    "parametric_state = ParametricCircuitQuantumState(2, parametric_circuit)\n",
    "\n",
    "# Create a parametric estimator using Qulacs, which implements ParametricQuantumEstimator interface.\n",
    "from quri_parts.qulacs.estimator import create_qulacs_vector_parametric_estimator\n",
    "parametric_estimator = create_qulacs_vector_parametric_estimator()\n",
    "\n",
    "estimate = parametric_estimator(op, parametric_state, [0.2, 0.3])\n",
    "print(f\"Estimated expectation value: {estimate.value}\")"
   ]
  },
  {
   "cell_type": "markdown",
   "id": "be30e464",
   "metadata": {},
   "source": [
    "There is also a `ConcurrentParametricQuantumEstimator` interface in the same way as a (non-parametric) Estimator. Especially the parametric Estimator for Qulacs provides performance improvement compared to using an Estimator with states obtained by binding parameter values each time."
   ]
  },
  {
   "cell_type": "code",
   "execution_count": 12,
   "id": "9f08a75c",
   "metadata": {},
   "outputs": [
    {
     "name": "stdout",
     "output_type": "stream",
     "text": [
      "Parameters 0: value=(0.15950226366943507+0.14776010333066977j)\n",
      "Parameters 1: value=(0.2770521890028376+0.23971276930210147j)\n"
     ]
    }
   ],
   "source": [
    "from quri_parts.qulacs.estimator import create_qulacs_vector_concurrent_parametric_estimator\n",
    "# Here we don't specify executor and concurrency arguments, but it still brings performance improvement\n",
    "concurrent_parametric_estimator = create_qulacs_vector_concurrent_parametric_estimator()\n",
    "\n",
    "estimates = concurrent_parametric_estimator(op, parametric_state, [[0.2, 0.3], [0.4, 0.5]])\n",
    "for i, est in enumerate(estimates):\n",
    "    print(f\"Parameters {i}: value={est.value}\")"
   ]
  }
 ],
 "metadata": {
  "kernelspec": {
   "display_name": "Python 3 (ipykernel)",
   "language": "python",
   "name": "python3"
  },
  "language_info": {
   "codemirror_mode": {
    "name": "ipython",
    "version": 3
   },
   "file_extension": ".py",
   "mimetype": "text/x-python",
   "name": "python",
   "nbconvert_exporter": "python",
   "pygments_lexer": "ipython3",
   "version": "3.9.9"
  }
 },
 "nbformat": 4,
 "nbformat_minor": 5
}
