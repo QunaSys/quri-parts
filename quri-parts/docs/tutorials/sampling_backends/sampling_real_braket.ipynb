{
 "cells": [
  {
   "cell_type": "markdown",
   "id": "a533cde3",
   "metadata": {},
   "source": [
    "# Sampling on Braket's real quantum computers\n",
    "\n",
    "Here we introduce the Braket backends and some Braket specific features QURI Parts provide"
   ]
  },
  {
   "cell_type": "markdown",
   "id": "f0ff7af6",
   "metadata": {},
   "source": [
    "## Prerequisite\n",
    "\n",
    "This section requires topics described in previous sections([Sampling simulation](../sampling_simulation.ipynb), [Sampling Backends](sampling_real.ipynb)), so you need to read them before this section.\n",
    "\n",
    "In this section, we use [Amazon Braket](https://aws.amazon.com/braket/) as the platform with real quantum computers. In order to use Braket devices provided on AWS, you need to have an AWS account and enable Braket service. Please see [Amazon Braket Documentation](https://docs.aws.amazon.com/braket/index.html) for details. In this section, instead, we use the local simulator included in [Amazon Braket SDK](https://amazon-braket-sdk-python.readthedocs.io/en/latest/index.html), which does not require an AWS account. The Braket devices provided on AWS and the local simulator have the same interface, you can simply replace them each other.\n",
    "\n",
    "QURI Parts modules used in this tutorial: `quri-parts-circuit`, `quri-parts-core` and `quri-parts-braket`. You can install them as follows:"
   ]
  },
  {
   "cell_type": "code",
   "execution_count": null,
   "id": "cdf46a7a",
   "metadata": {},
   "outputs": [],
   "source": [
    "!pip install \"quri-parts[braket]\""
   ]
  },
  {
   "cell_type": "markdown",
   "id": "ddbcded0",
   "metadata": {},
   "source": [
    "## The BraketSamplingBackend\n",
    "\n",
    "How to create a `SamplingBackend` object depends on the used backend. For Braket devices, you can create a `BraketSamplingBackend` by passing a `braket.devices.Device` object (provided by Amazon Braket SDK):"
   ]
  },
  {
   "cell_type": "code",
   "execution_count": 1,
   "id": "cad810b9",
   "metadata": {},
   "outputs": [],
   "source": [
    "from braket.aws import AwsDevice\n",
    "from braket.devices import LocalSimulator\n",
    "\n",
    "# A device for QPU provided on AWS\n",
    "# device = AwsDevice(\"arn:aws:braket:us-west-1::device/qpu/rigetti/Aspen-M-2\")\n",
    "\n",
    "# A device for the local simulator\n",
    "device = LocalSimulator()"
   ]
  },
  {
   "cell_type": "code",
   "execution_count": 2,
   "id": "c6e85888",
   "metadata": {},
   "outputs": [],
   "source": [
    "from quri_parts.braket.backend import BraketSamplingBackend\n",
    "\n",
    "# Create a SamplingBackend with the device\n",
    "backend = BraketSamplingBackend(device)"
   ]
  },
  {
   "cell_type": "markdown",
   "id": "f097c085",
   "metadata": {},
   "source": [
    "With the sampling backend we just created, we can run the exact codes as in the [Sampling Backend and Sampler](sampling_real.ipynb#Sampling-Backend-and-Sampler) section of the `QURI Part’s Sampling Backend` tutorial."
   ]
  },
  {
   "cell_type": "markdown",
   "id": "32041bd2",
   "metadata": {},
   "source": [
    "## Qubit mapping\n",
    "\n",
    "Here, we explain some details you need to know when you use the devices provided by Bracket. Following the code in the [Sampling Backend](sampling_real.ipynb) tutorial, we consider the following qubit mapping sampling."
   ]
  },
  {
   "cell_type": "code",
   "execution_count": null,
   "id": "70104976",
   "metadata": {
    "scrolled": true
   },
   "outputs": [
    {
     "name": "stdout",
     "output_type": "stream",
     "text": [
      "{5: 423, 3: 436, 13: 64, 11: 77}\n"
     ]
    }
   ],
   "source": [
    "from numpy import pi\n",
    "from quri_parts.circuit import QuantumCircuit\n",
    "from quri_parts.core.sampling import create_sampler_from_sampling_backend\n",
    "\n",
    "circuit = QuantumCircuit(4)\n",
    "circuit.add_X_gate(0)\n",
    "circuit.add_H_gate(1)\n",
    "circuit.add_Y_gate(2)\n",
    "circuit.add_CNOT_gate(1, 2)\n",
    "circuit.add_RX_gate(3, pi/4)\n",
    "\n",
    "\n",
    "backend = BraketSamplingBackend(device, qubit_mapping={0: 3, 1: 2, 2: 0, 3: 1})\n",
    "sampler = create_sampler_from_sampling_backend(backend)\n",
    "sampling_result = sampler(circuit, 1000)\n",
    "print(sampling_result)"
   ]
  },
  {
   "cell_type": "markdown",
   "id": "91c01db0",
   "metadata": {},
   "source": [
    "The result looks similar to one with no qubit mapping, since the measurement result from the device is mapped backward so that it is interpreted in terms of the original qubit indices."
   ]
  },
  {
   "cell_type": "markdown",
   "id": "c98e4dda",
   "metadata": {},
   "source": [
    "<div class=\"alert alert-info\">\n",
    "    You may notice that the above mapping is a permutation of the original qubit indices and device qubits with indices larger than 3 are not involved. The reason for choosing such a mapping is to avoid an error of <code>LocalSimulator</code>: the <code>LocalSimulator</code> does not accept non-contiguous qubit indices. On the other hand, the qubit mapping feature of the <code>SamplingBackend</code> accepts such a mapping, as shown below.\n",
    "</div>"
   ]
  },
  {
   "cell_type": "markdown",
   "id": "b51b2d11",
   "metadata": {},
   "source": [
    "When you apply qubit mapping to devices provided on AWS, you will need to [enable manual qubit allocation by passing disable_qubit_rewiring=True](https://docs.aws.amazon.com/braket/latest/developerguide/braket-constructing-circuit.html#manual-qubit-allocation) to the device. You can specify such an argument (i.e. keyword arguments for `run` method of a `braket.devices.Device` object) via `run_kwargs` argument of the `BraketSamplingBackend` object:"
   ]
  },
  {
   "cell_type": "code",
   "execution_count": 9,
   "id": "5ae085fe",
   "metadata": {},
   "outputs": [],
   "source": [
    "# Commented out because it requires an access to a real device on AWS\n",
    "\n",
    "# device = AwsDevice(\"arn:aws:braket:us-west-1::device/qpu/rigetti/Aspen-M-2\")\n",
    "# backend = BraketSamplingBackend(\n",
    "#     device,\n",
    "#     qubit_mapping={0: 10, 1: 13, 2: 17, 3: 21},\n",
    "#     run_kwargs={\"disable_qubit_rewiring\": True},\n",
    "# )\n",
    "# sampler = create_sampler_from_sampling_backend(backend)\n",
    "# sampling_result = sampler(circuit, 1000)\n",
    "# print(sampling_result)"
   ]
  },
  {
   "cell_type": "markdown",
   "id": "af882249",
   "metadata": {},
   "source": [
    "## Circuit transpilation before execution\n",
    "\n",
    "The transpilation performed by default depends on the backend; in the case of `BraketSamplingBackend`, it uses `quri_parts.braket.circuit.BraketTranspiler` for all devices, and also performs some device-specific transpilation defined in `quri_parts.braket.backend.transpiler`. It is possible to change the former one (device-independent transpilation) by supplying `circuit_transpiler` argument to `BraketSamplingBackend`."
   ]
  },
  {
   "cell_type": "markdown",
   "id": "10bc68f1",
   "metadata": {},
   "source": [
    "## Data saving"
   ]
  },
  {
   "cell_type": "markdown",
   "id": "b27bebf8",
   "metadata": {},
   "source": [
    "Data saving can be turned on by setting `save_data_while_sampling` in the `BraketSamplingBackend` to True."
   ]
  },
  {
   "cell_type": "code",
   "execution_count": 19,
   "id": "c00c4629",
   "metadata": {},
   "outputs": [
    {
     "name": "stdout",
     "output_type": "stream",
     "text": [
      "{5: 433, 3: 420, 13: 78, 11: 69}\n",
      "{3: 4830, 5: 4794, 13: 203, 11: 173}\n"
     ]
    }
   ],
   "source": [
    "from numpy import pi\n",
    "from quri_parts.circuit import QuantumCircuit\n",
    "from quri_parts.core.sampling import create_sampler_from_sampling_backend\n",
    "\n",
    "circuit_1 = QuantumCircuit(4)\n",
    "circuit_1.add_X_gate(0)\n",
    "circuit_1.add_H_gate(1)\n",
    "circuit_1.add_Y_gate(2)\n",
    "circuit_1.add_CNOT_gate(1, 2)\n",
    "circuit_1.add_RX_gate(3, pi/4)\n",
    "\n",
    "\n",
    "circuit_2 = QuantumCircuit(4)\n",
    "circuit_2.add_X_gate(0)\n",
    "circuit_2.add_H_gate(1)\n",
    "circuit_2.add_Y_gate(2)\n",
    "circuit_2.add_CNOT_gate(1, 2)\n",
    "circuit_2.add_RX_gate(3, pi/8)\n",
    "\n",
    "qubit_mapping = {0: 3, 1: 2, 2: 0, 3: 1}\n",
    "\n",
    "backend = BraketSamplingBackend(\n",
    "    device, qubit_mapping=qubit_mapping, save_data_while_sampling=True\n",
    ")\n",
    "sampler = create_sampler_from_sampling_backend(backend)\n",
    "sampling_result_1 = sampler(circuit_1, 1000)\n",
    "print(sampling_result_1)\n",
    "sampling_result_2 = sampler(circuit_2, 10000)\n",
    "print(sampling_result_2)"
   ]
  },
  {
   "cell_type": "markdown",
   "id": "63c1f779",
   "metadata": {},
   "source": [
    "Now, we can replay the above experiment"
   ]
  },
  {
   "cell_type": "code",
   "execution_count": 20,
   "id": "d1eb6543",
   "metadata": {},
   "outputs": [
    {
     "name": "stdout",
     "output_type": "stream",
     "text": [
      "{5: 433, 3: 420, 13: 78, 11: 69}\n",
      "{3: 4830, 5: 4794, 13: 203, 11: 173}\n"
     ]
    }
   ],
   "source": [
    "from quri_parts.braket.backend.saved_sampling import BraketSavedDataSamplingBackend\n",
    "\n",
    "replay_backend = BraketSavedDataSamplingBackend(\n",
    "    device, backend.jobs_json, qubit_mapping=qubit_mapping\n",
    ")\n",
    "replay_sampler = create_sampler_from_sampling_backend(replay_backend)\n",
    "replay_sampling_result_1 = replay_sampler(circuit_1, 1000)\n",
    "print(replay_sampling_result_1)\n",
    "replay_sampling_result_2 = replay_sampler(circuit_2, 10000)\n",
    "print(replay_sampling_result_2)"
   ]
  }
 ],
 "metadata": {
  "kernelspec": {
   "display_name": ".venv",
   "language": "python",
   "name": "python3"
  },
  "language_info": {
   "codemirror_mode": {
    "name": "ipython",
    "version": 3
   },
   "file_extension": ".py",
   "mimetype": "text/x-python",
   "name": "python",
   "nbconvert_exporter": "python",
   "pygments_lexer": "ipython3",
   "version": "3.11.10"
  }
 },
 "nbformat": 4,
 "nbformat_minor": 5
}
