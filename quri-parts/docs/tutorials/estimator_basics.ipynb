{
 "cells": [
  {
   "cell_type": "markdown",
   "id": "dc790c83",
   "metadata": {},
   "source": [
    "# Estimate expectation value of operators\n",
    "\n",
    "One of the most basic procedures in quantum algorithms is measuring operators with a given quantum state. There are several ways to measure operators. We start with estimation of expectation value of operators since it is a basic operation found in many NISQ algorithms."
   ]
  },
  {
   "cell_type": "markdown",
   "id": "c8e6941f",
   "metadata": {},
   "source": [
    "## Prerequisite\n",
    "\n",
    "QURI Parts modules used in this tutorial: `quri-parts-core` and `quri-parts-qulacs`. You can install them as follows:"
   ]
  },
  {
   "cell_type": "code",
   "execution_count": null,
   "id": "2ef92dd6",
   "metadata": {},
   "outputs": [],
   "source": [
    "!pip install \"quri-parts[qulacs]\""
   ]
  },
  {
   "cell_type": "markdown",
   "id": "d1283b26",
   "metadata": {},
   "source": [
    "## Pauli label\n",
    "\n",
    "A Pauli label (also known as Pauli string) is a product of Pauli matrices for single qubits. A Pauli label $X_0 Y_2 Z_4$, a product of $X$ on qubit 0, $Y$ on qubit 2 and $Z$ on qubit 4, can be defined as follows: "
   ]
  },
  {
   "cell_type": "code",
   "execution_count": 1,
   "id": "702bf08a",
   "metadata": {},
   "outputs": [
    {
     "name": "stdout",
     "output_type": "stream",
     "text": [
      "X0 Y2 Z4\n"
     ]
    }
   ],
   "source": [
    "from quri_parts.core.operator import pauli_label\n",
    "label = pauli_label(\"X0 Y2 Z4\")\n",
    "# You can put spaces between a Pauli name and a qubit index\n",
    "label = pauli_label(\"X 0 Y 2 Z 4\")\n",
    "print(label)"
   ]
  },
  {
   "cell_type": "markdown",
   "id": "441dee98",
   "metadata": {},
   "source": [
    "`PAULI_IDENTITY` represents a Pauli label with zero Pauli matrices:"
   ]
  },
  {
   "cell_type": "code",
   "execution_count": 2,
   "id": "317a8001",
   "metadata": {},
   "outputs": [
    {
     "name": "stdout",
     "output_type": "stream",
     "text": [
      "I\n"
     ]
    }
   ],
   "source": [
    "from quri_parts.core.operator import PAULI_IDENTITY\n",
    "print(PAULI_IDENTITY)"
   ]
  },
  {
   "cell_type": "markdown",
   "id": "4571428e",
   "metadata": {},
   "source": [
    "A Pauli label is immutable and hashable. It is a (frozen) set of pairs of a qubit index and a `SinglePauli` enum, and you can iterate over it:"
   ]
  },
  {
   "cell_type": "code",
   "execution_count": 3,
   "id": "92722de9",
   "metadata": {},
   "outputs": [
    {
     "name": "stdout",
     "output_type": "stream",
     "text": [
      "(0, <SinglePauli.X: 1>)\n",
      "(4, <SinglePauli.Z: 3>)\n",
      "(2, <SinglePauli.Y: 2>)\n"
     ]
    }
   ],
   "source": [
    "for pair in label:\n",
    "    print(pair)"
   ]
  },
  {
   "cell_type": "code",
   "execution_count": 4,
   "id": "c37ed614",
   "metadata": {},
   "outputs": [
    {
     "name": "stdout",
     "output_type": "stream",
     "text": [
      "qubit index: 0, Pauli matrix: 1\n",
      "qubit index: 4, Pauli matrix: 3\n",
      "qubit index: 2, Pauli matrix: 2\n"
     ]
    }
   ],
   "source": [
    "for index, matrix in label:\n",
    "    print(f\"qubit index: {index}, Pauli matrix: {matrix}\")"
   ]
  },
  {
   "cell_type": "markdown",
   "id": "4895c2ee",
   "metadata": {},
   "source": [
    "`SinglePauli` is an `IntEnum`. You can either use `SinglePauli.X`, `SinglePauli.Y` and `SinglePauli.Z`, or just integers 1, 2, 3:"
   ]
  },
  {
   "cell_type": "code",
   "execution_count": 5,
   "id": "fcbafb38",
   "metadata": {},
   "outputs": [
    {
     "name": "stdout",
     "output_type": "stream",
     "text": [
      "True\n",
      "True\n",
      "True\n"
     ]
    }
   ],
   "source": [
    "from quri_parts.core.operator import SinglePauli\n",
    "print(SinglePauli.X == 1)\n",
    "print(SinglePauli.Y == 2)\n",
    "print(SinglePauli.Z == 3)"
   ]
  },
  {
   "cell_type": "markdown",
   "id": "d2f027b9",
   "metadata": {},
   "source": [
    "## Operator\n",
    "\n",
    "An operator is defined as a set of pairs of a Pauli label and its complex coefficient. For example, an operator $(0.5 + 0.5i) X_0 Y_1 + 0.2i Z_0 Z_2 + 0.3 + 0.4i$ can be defined as follows:"
   ]
  },
  {
   "cell_type": "code",
   "execution_count": 6,
   "id": "b844ef4d",
   "metadata": {},
   "outputs": [
    {
     "name": "stdout",
     "output_type": "stream",
     "text": [
      "(0.5+0.5j)*X0 Y1 + 0.2j*Z0 Z2 + (0.3+0.4j)*I\n"
     ]
    }
   ],
   "source": [
    "from quri_parts.core.operator import Operator\n",
    "op = Operator({\n",
    "    pauli_label(\"X0 Y1\"): 0.5 + 0.5j,\n",
    "    pauli_label(\"Z0 Z2\"): 0.2j,\n",
    "    PAULI_IDENTITY: 0.3 + 0.4j,\n",
    "})\n",
    "print(op)"
   ]
  },
  {
   "cell_type": "markdown",
   "id": "f7603411",
   "metadata": {},
   "source": [
    "You can also construct an operator by adding single Pauli terms:"
   ]
  },
  {
   "cell_type": "code",
   "execution_count": 7,
   "id": "572df402",
   "metadata": {},
   "outputs": [
    {
     "name": "stdout",
     "output_type": "stream",
     "text": [
      "(0.5+0.5j)*X0 Y1 + 0.2j*Z0 Z2 + (0.3+0.4j)*I\n",
      "Number of terms: 3\n",
      "(1+0.5j)*X0 Y1 + 0.2j*Z0 Z2 + (0.3+0.4j)*I\n",
      "Number of terms: 3\n",
      "0.2j*Z0 Z2 + (0.3+0.4j)*I\n",
      "Number of terms: 2\n"
     ]
    }
   ],
   "source": [
    "op = Operator()\n",
    "op.add_term(pauli_label(\"X0 Y1\"), 0.5 + 0.5j)\n",
    "op.add_term(pauli_label(\"Z0 Z2\"), 0.2j)\n",
    "op.constant = 0.3 + 0.4j\n",
    "print(op)\n",
    "print(f\"Number of terms: {op.n_terms}\")\n",
    "\n",
    "# When adding an existing term, its coefficient is summed\n",
    "op.add_term(pauli_label(\"X0 Y1\"), 0.5)\n",
    "print(op)\n",
    "print(f\"Number of terms: {op.n_terms}\")\n",
    "\n",
    "# If the sum of coefficient is zero, the term gets removed\n",
    "op.add_term(pauli_label(\"X0 Y1\"), -1.0 - 0.5j)\n",
    "print(op)\n",
    "print(f\"Number of terms: {op.n_terms}\")"
   ]
  },
  {
   "cell_type": "markdown",
   "id": "9a59782e",
   "metadata": {},
   "source": [
    "To get a hermitian conjugated operator:"
   ]
  },
  {
   "cell_type": "code",
   "execution_count": 8,
   "id": "ea309bcf",
   "metadata": {},
   "outputs": [
    {
     "name": "stdout",
     "output_type": "stream",
     "text": [
      "-0.2j*Z0 Z2 + (0.3-0.4j)*I\n"
     ]
    }
   ],
   "source": [
    "conj = op.hermitian_conjugated()\n",
    "print(conj)"
   ]
  },
  {
   "cell_type": "markdown",
   "id": "e55f715b",
   "metadata": {},
   "source": [
    "An `Operator` is internally a `dict`, so you can do the followings:"
   ]
  },
  {
   "cell_type": "code",
   "execution_count": 9,
   "id": "90833cc6",
   "metadata": {},
   "outputs": [
    {
     "name": "stdout",
     "output_type": "stream",
     "text": [
      "Coefficient of Z0 Z2 = 0.2j\n",
      "Coefficient of Z0 Z2 = 0.4\n",
      "Coefficient of Z0 Z2 = 0.4\n",
      "Coefficient of I = (0.3+0.4j)\n"
     ]
    }
   ],
   "source": [
    "p = pauli_label(\"Z0 Z2\")\n",
    "coef = op[p]\n",
    "print(f\"Coefficient of {p} = {coef}\")\n",
    "\n",
    "op[p] = 0.4\n",
    "coef = op[p]\n",
    "print(f\"Coefficient of {p} = {coef}\")\n",
    "\n",
    "for label, coef in op.items():\n",
    "    print(f\"Coefficient of {label} = {coef}\")"
   ]
  },
  {
   "cell_type": "markdown",
   "id": "205d199a",
   "metadata": {},
   "source": [
    "## Quantum state\n",
    "\n",
    "Several types of quantum states are available. Here we introduce the most basic states: computational basis states. Other types of states will be described later.\n",
    "\n",
    "A computational basis state is a quantum state where each qubit is in 0 or 1 eigenstate. To construct a computational basis state for 5 qubits:"
   ]
  },
  {
   "cell_type": "code",
   "execution_count": 10,
   "id": "c0aa53a9",
   "metadata": {},
   "outputs": [
    {
     "name": "stdout",
     "output_type": "stream",
     "text": [
      "ComputationalBasisState(qubit_count=5, bits=0b10100, phase=0π/2)\n"
     ]
    }
   ],
   "source": [
    "from quri_parts.core.state import ComputationalBasisState\n",
    "state1 = ComputationalBasisState(5, bits=0b10100)\n",
    "print(state1)"
   ]
  },
  {
   "cell_type": "markdown",
   "id": "c8375189",
   "metadata": {},
   "source": [
    "Here `bits=0b10100` means that qubit 0 is in $|0\\rangle$, qubit 1 is in $|0\\rangle$, qubit 2 is in $|1\\rangle$, qubit 3 is in $|0\\rangle$ and qubit 4 is in $|1\\rangle$. We use 0-based indices for qubits, and bits for qubits are ordered from the least significant bit to the most significant bit."
   ]
  },
  {
   "cell_type": "markdown",
   "id": "91c166be",
   "metadata": {},
   "source": [
    "You can also create a superposition of two computational basis states. Note that the resulting state is not a computational basis state anymore. `comp_basis_superposition()` takes four arguments. First two are computational basis states to be superposed. The third argument $\\theta$ determines the weight for the superposition and the fourth argument $\\phi$ determines the phase factor for the superposition: coefficients for two states are given as $\\cos\\theta$ and $e^{i\\phi}\\sin\\theta$."
   ]
  },
  {
   "cell_type": "code",
   "execution_count": 11,
   "id": "7f6ae83c",
   "metadata": {},
   "outputs": [
    {
     "name": "stdout",
     "output_type": "stream",
     "text": [
      "GeneralCircuitQuantumState(n_qubits=5, circuit=<quri_parts.circuit.circuit.ImmutableQuantumCircuit object at 0x7f78a3de2ee0>)\n"
     ]
    }
   ],
   "source": [
    "import math\n",
    "from quri_parts.core.state import comp_basis_superposition\n",
    "state2 = ComputationalBasisState(5, bits=0b01011)\n",
    "sp_state = comp_basis_superposition(state1, state2, math.pi/2, math.pi/4)\n",
    "print(sp_state)"
   ]
  },
  {
   "cell_type": "markdown",
   "id": "48bc77e0",
   "metadata": {},
   "source": [
    "## Estimator\n",
    "\n",
    "To estimate the expectation value of an operator with a given state, you can use a `QuantumEstimator`. The `QuantumEstimator` itself (defined in `quri_parts.core.estimator` package) is an abstract interface and you need a concrete instance for actual estimation. Various implementations of `QuantumEstimator` interface can use various methods for estimation: direct calculation with state vector simulation, sampling simulation, sampling on real devices, or more advanced ones.\n",
    "\n",
    "One of the most basic estimators is one that calculates the expectation value directly by state vector simulation with Qulacs:"
   ]
  },
  {
   "cell_type": "code",
   "execution_count": 12,
   "id": "7f0600ca",
   "metadata": {},
   "outputs": [
    {
     "name": "stdout",
     "output_type": "stream",
     "text": [
      "Estimated expectation value: (-0.10000000000000003+0.4j)\n",
      "Estimation error: 0.0\n"
     ]
    }
   ],
   "source": [
    "from quri_parts.qulacs.estimator import create_qulacs_vector_estimator\n",
    "# First create the estimator\n",
    "estimator = create_qulacs_vector_estimator()\n",
    "# Pass the operator and state to the estimator\n",
    "estimate = estimator(op, sp_state)\n",
    "# The return value contains the estimated value and the estimation error\n",
    "print(f\"Estimated expectation value: {estimate.value}\")\n",
    "# (The estimation error is zero for state vector calculation)\n",
    "print(f\"Estimation error: {estimate.error}\")"
   ]
  },
  {
   "cell_type": "markdown",
   "id": "f42d8870",
   "metadata": {},
   "source": [
    "The return value of a `QuantumEstimator` contains the estimated expectation value (`.value`) and the estimation error (`.error`).\n",
    "\n",
    "There is also a `ConcurrentQuantumEstimator` interface, which estimates multiple operators and multiple states at once. The interface accept either one of the followings:\n",
    "\n",
    "- One operator, multiple states\n",
    "- Multiple operators, one state\n",
    "- The same number of operators and states\n",
    "\n",
    "For the case of Qulacs, you can create a `ConcurrentQuantumEstimator` specifying a `concurrent.futures.Executor` (default is `None`, meaning no parallelization) and concurrency (default is 1). Note that since Qulacs itself has multithreading support, using `ThreadPoolExecutor` or `ProcessPoolExecutor` may not have performance improvement."
   ]
  },
  {
   "cell_type": "code",
   "execution_count": 13,
   "id": "9bbebec6",
   "metadata": {},
   "outputs": [
    {
     "name": "stdout",
     "output_type": "stream",
     "text": [
      "State 0: value=(-1+0j), error=0.0\n",
      "State 1: value=(1+0j), error=0.0\n",
      "Operator 0: value=(1+0j), error=0.0\n",
      "Operator 1: value=(-0.10000000000000003+0.4j), error=0.0\n",
      "Operator 0, state 0: value=(1+0j), error=0.0\n",
      "Operator 1, state 1: value=(-0.10000000000000003+0.4j), error=0.0\n"
     ]
    }
   ],
   "source": [
    "from concurrent.futures import ThreadPoolExecutor\n",
    "from quri_parts.qulacs.estimator import create_qulacs_vector_concurrent_estimator\n",
    "# Create an executor (optional)\n",
    "executor = ThreadPoolExecutor(max_workers=4)\n",
    "# Create the concurrent estimator\n",
    "estimator = create_qulacs_vector_concurrent_estimator(executor, concurrency=4)\n",
    "\n",
    "estimates = estimator(op, [state1, state2])\n",
    "for i, est in enumerate(estimates):\n",
    "    print(f\"State {i}: value={est.value}, error={est.error}\")\n",
    "\n",
    "# You can pass a PauliLabel to an estimator too\n",
    "estimates = estimator([label, op], [sp_state])\n",
    "for i, est in enumerate(estimates):\n",
    "    print(f\"Operator {i}: value={est.value}, error={est.error}\")\n",
    "    \n",
    "estimates = estimator([label, op], [state1, state2])\n",
    "for i, est in enumerate(estimates):\n",
    "    print(f\"Operator {i}, state {i}: value={est.value}, error={est.error}\")"
   ]
  }
 ],
 "metadata": {
  "kernelspec": {
   "display_name": "Python 3 (ipykernel)",
   "language": "python",
   "name": "python3"
  },
  "language_info": {
   "codemirror_mode": {
    "name": "ipython",
    "version": 3
   },
   "file_extension": ".py",
   "mimetype": "text/x-python",
   "name": "python",
   "nbconvert_exporter": "python",
   "pygments_lexer": "ipython3",
   "version": "3.9.9"
  }
 },
 "nbformat": 4,
 "nbformat_minor": 5
}
