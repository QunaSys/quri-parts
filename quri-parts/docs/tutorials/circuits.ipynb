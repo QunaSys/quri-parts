{
 "cells": [
  {
   "cell_type": "markdown",
   "id": "8358441f",
   "metadata": {},
   "source": [
    "# Quantum gates and circuits\n",
    "\n",
    "Quantum gates and circuits are essential when working on quantum computing. Here we describe basic treatment of them in QURI Parts."
   ]
  },
  {
   "cell_type": "markdown",
   "id": "25e764c2",
   "metadata": {},
   "source": [
    "## Prerequisite\n",
    "\n",
    "QURI Parts modules used in this tutorial: `quri-parts-circuit`, `quri-parts-core` and `quri-parts-qulacs`. You can install them as follows:"
   ]
  },
  {
   "cell_type": "code",
   "execution_count": null,
   "id": "43a353d1",
   "metadata": {},
   "outputs": [],
   "source": [
    "!pip install \"quri-parts[qulacs]\""
   ]
  },
  {
   "cell_type": "markdown",
   "id": "99f71b9d",
   "metadata": {},
   "source": [
    "## QuantumGate object\n",
    "\n",
    "In QURI Parts, a quantum gate is represented by a `QuantumGate` object (more precisely `NamedTuple`). A `QuantumGate` contains not only the kind of the gate but also some additional information such as gate parameters and qubits on which the gate acts. You can create gate objects using `QuantumGate`:"
   ]
  },
  {
   "cell_type": "code",
   "execution_count": 1,
   "id": "76319e6e",
   "metadata": {},
   "outputs": [
    {
     "name": "stdout",
     "output_type": "stream",
     "text": [
      "QuantumGate(name='X', target_indices=(0,), control_indices=(), params=(), pauli_ids=())\n",
      "QuantumGate(name='RX', target_indices=(1,), control_indices=(), params=(1.0471975511965976,), pauli_ids=())\n",
      "QuantumGate(name='CNOT', target_indices=(1,), control_indices=(2,), params=(), pauli_ids=())\n"
     ]
    }
   ],
   "source": [
    "from math import pi\n",
    "from quri_parts.circuit import QuantumGate\n",
    "\n",
    "gates = [\n",
    "    # X gate acting on qubit 0\n",
    "    QuantumGate(\"X\", target_indices=(0,)),\n",
    "    # Rotation gate acting on qubit 1 with angle pi/3\n",
    "    QuantumGate(\"RX\", target_indices=(1,), params=(pi/3,)),\n",
    "    # CNOT gate on control qubit 2 and target qubit 1\n",
    "    QuantumGate(\"CNOT\", target_indices=(1,), control_indices=(2,)),\n",
    "]\n",
    "\n",
    "for gate in gates:\n",
    "    print(gate)"
   ]
  },
  {
   "cell_type": "markdown",
   "id": "539898d7",
   "metadata": {},
   "source": [
    "However it is more convenient to use factory functions:"
   ]
  },
  {
   "cell_type": "code",
   "execution_count": 2,
   "id": "1ca87c01",
   "metadata": {},
   "outputs": [
    {
     "name": "stdout",
     "output_type": "stream",
     "text": [
      "QuantumGate(name='X', target_indices=(0,), control_indices=(), params=(), pauli_ids=())\n",
      "QuantumGate(name='RX', target_indices=(1,), control_indices=(), params=(1.0471975511965976,), pauli_ids=())\n",
      "QuantumGate(name='CNOT', target_indices=(1,), control_indices=(2,), params=(), pauli_ids=())\n"
     ]
    }
   ],
   "source": [
    "from quri_parts.circuit import X, RX, CNOT\n",
    "\n",
    "gates = [\n",
    "    # X gate acting on qubit 0\n",
    "    X(0),\n",
    "    # Rotation gate acting on qubit 1 with angle pi/3\n",
    "    RX(1, pi/3),\n",
    "    # CNOT gate on control qubit 2 and target qubit 1\n",
    "    CNOT(2, 1),\n",
    "]\n",
    "\n",
    "for gate in gates:\n",
    "    print(gate)"
   ]
  },
  {
   "cell_type": "markdown",
   "id": "6cb79053",
   "metadata": {},
   "source": [
    "You can access (but not set) attributes of a gate object:"
   ]
  },
  {
   "cell_type": "code",
   "execution_count": 3,
   "id": "ab35bc4a",
   "metadata": {},
   "outputs": [
    {
     "name": "stdout",
     "output_type": "stream",
     "text": [
      "name: X, target: (0,)\n",
      "name: RX, target: (1,), angle: 1.0471975511965976\n",
      "name: CNOT, control: (2,), target: (1,)\n",
      "name: PauliRotation, target: (0, 1, 2), pauli_ids: (1, 2, 3), angle: 1.0471975511965976\n"
     ]
    }
   ],
   "source": [
    "from quri_parts.circuit import PauliRotation\n",
    "\n",
    "x_gate = X(0)\n",
    "print(f\"name: {x_gate.name}, target: {x_gate.target_indices}\")\n",
    "\n",
    "rx_gate = RX(1, pi/3)\n",
    "print(f\"name: {rx_gate.name}, target: {rx_gate.target_indices}, angle: {rx_gate.params[0]}\")\n",
    "\n",
    "cnot_gate = CNOT(2, 1)\n",
    "print(f\"name: {cnot_gate.name}, control: {cnot_gate.control_indices}, target: {cnot_gate.target_indices}\")\n",
    "\n",
    "pauli_rot_gate = PauliRotation(target_indices=(0, 1, 2), pauli_ids=(1, 2, 3), angle=pi/3)\n",
    "print(f\"name: {pauli_rot_gate.name}, target: {pauli_rot_gate.target_indices}, pauli_ids: {pauli_rot_gate.pauli_ids}, angle: {pauli_rot_gate.params[0]}\")"
   ]
  },
  {
   "cell_type": "markdown",
   "id": "03a78cd9",
   "metadata": {},
   "source": [
    "## QuantumCircuit object\n",
    "\n",
    "You can construct a quantum circuit by specifying the number of qubits used in the circuit as follows:"
   ]
  },
  {
   "cell_type": "code",
   "execution_count": 4,
   "id": "501b88f7",
   "metadata": {},
   "outputs": [],
   "source": [
    "from quri_parts.circuit import QuantumCircuit\n",
    "\n",
    "# Create a circuit for 3 qubits\n",
    "circuit = QuantumCircuit(3)\n",
    "# Add an already created QuantumGate object\n",
    "circuit.add_gate(X(0))\n",
    "# Or use methods to add gates\n",
    "circuit.add_X_gate(0)\n",
    "circuit.add_RX_gate(1, pi/3)\n",
    "circuit.add_CNOT_gate(2, 1)\n",
    "circuit.add_PauliRotation_gate(target_qubits=(0, 1, 2), pauli_id_list=(1, 2, 3), angle=pi/3)"
   ]
  },
  {
   "cell_type": "markdown",
   "id": "7431c919",
   "metadata": {},
   "source": [
    "A `QuantumCircuit` object has several properties:"
   ]
  },
  {
   "cell_type": "code",
   "execution_count": 5,
   "id": "e63da874",
   "metadata": {},
   "outputs": [
    {
     "name": "stdout",
     "output_type": "stream",
     "text": [
      "Qubit count: 3\n",
      "Circuit depth: 3\n",
      "# of gates in the circuit: 5\n",
      "QuantumGate(name='X', target_indices=(0,), control_indices=(), params=(), pauli_ids=())\n",
      "QuantumGate(name='X', target_indices=(0,), control_indices=(), params=(), pauli_ids=())\n",
      "QuantumGate(name='RX', target_indices=(1,), control_indices=(), params=(1.0471975511965976,), pauli_ids=())\n",
      "QuantumGate(name='CNOT', target_indices=(1,), control_indices=(2,), params=(), pauli_ids=())\n",
      "QuantumGate(name='PauliRotation', target_indices=(0, 1, 2), control_indices=(), params=(1.0471975511965976,), pauli_ids=(1, 2, 3))\n"
     ]
    }
   ],
   "source": [
    "print(\"Qubit count:\", circuit.qubit_count)\n",
    "print(\"Circuit depth:\", circuit.depth)\n",
    "\n",
    "gates = circuit.gates # .gates returns the gates in the circuit as a sequence\n",
    "print(\"# of gates in the circuit:\", len(gates))\n",
    "for gate in gates:\n",
    "    print(gate)"
   ]
  },
  {
   "cell_type": "markdown",
   "id": "64e2ac3b",
   "metadata": {},
   "source": [
    "`QuantumCircuit` objects with the same number of qubits can be combined and extended:"
   ]
  },
  {
   "cell_type": "code",
   "execution_count": 6,
   "id": "da1e7d51",
   "metadata": {
    "scrolled": true
   },
   "outputs": [
    {
     "name": "stdout",
     "output_type": "stream",
     "text": [
      "Combined circuit: (QuantumGate(name='X', target_indices=(0,), control_indices=(), params=(), pauli_ids=()), QuantumGate(name='X', target_indices=(0,), control_indices=(), params=(), pauli_ids=()), QuantumGate(name='RX', target_indices=(1,), control_indices=(), params=(1.0471975511965976,), pauli_ids=()), QuantumGate(name='CNOT', target_indices=(1,), control_indices=(2,), params=(), pauli_ids=()), QuantumGate(name='PauliRotation', target_indices=(0, 1, 2), control_indices=(), params=(1.0471975511965976,), pauli_ids=(1, 2, 3)), QuantumGate(name='Y', target_indices=(1,), control_indices=(), params=(), pauli_ids=()), QuantumGate(name='H', target_indices=(2,), control_indices=(), params=(), pauli_ids=()))\n",
      "Extended circuit: (QuantumGate(name='Y', target_indices=(1,), control_indices=(), params=(), pauli_ids=()), QuantumGate(name='H', target_indices=(2,), control_indices=(), params=(), pauli_ids=()), QuantumGate(name='X', target_indices=(0,), control_indices=(), params=(), pauli_ids=()), QuantumGate(name='X', target_indices=(0,), control_indices=(), params=(), pauli_ids=()), QuantumGate(name='RX', target_indices=(1,), control_indices=(), params=(1.0471975511965976,), pauli_ids=()), QuantumGate(name='CNOT', target_indices=(1,), control_indices=(2,), params=(), pauli_ids=()), QuantumGate(name='PauliRotation', target_indices=(0, 1, 2), control_indices=(), params=(1.0471975511965976,), pauli_ids=(1, 2, 3)))\n"
     ]
    }
   ],
   "source": [
    "circuit2 = QuantumCircuit(3)\n",
    "circuit2.add_Y_gate(1)\n",
    "circuit2.add_H_gate(2)\n",
    "\n",
    "combined = circuit + circuit2 # equivalent: combined = circuit.combine(circuit2)\n",
    "print(\"Combined circuit:\", combined.gates)\n",
    "\n",
    "circuit2 += circuit # equivalent: circuit2.extend(circuit)\n",
    "print(\"Extended circuit:\", circuit2.gates)"
   ]
  },
  {
   "cell_type": "markdown",
   "id": "48057538",
   "metadata": {},
   "source": [
    "## Mutable and immutable circuit objects\n",
    "\n",
    "In the above example, a `QuantumCircuit` object is first created and then some gates are added to it. Contents (in this case a gate sequence) of the `QuantumCircuit` object are mutated in-place. Such an object is called a *mutable object*. A mutable circuit is useful to construct a circuit step-by-step, but mutability is often a cause of a trouble. For example, you may pass a circuit to a function and the function may alter contents of the circuit against your intention:"
   ]
  },
  {
   "cell_type": "code",
   "execution_count": 7,
   "id": "ba169352",
   "metadata": {},
   "outputs": [
    {
     "name": "stdout",
     "output_type": "stream",
     "text": [
      "# of gates: 2\n",
      "Circuit depth: 1\n",
      "# of gates: 3\n"
     ]
    }
   ],
   "source": [
    "def get_depth(circuit):\n",
    "    # This function adds some gates despite its name!\n",
    "    depth = circuit.depth\n",
    "    circuit.add_X_gate(0)\n",
    "    return depth\n",
    "\n",
    "circuit = QuantumCircuit(2)\n",
    "circuit.add_Z_gate(0)\n",
    "circuit.add_H_gate(1)\n",
    "print(\"# of gates:\", len(circuit.gates))\n",
    "\n",
    "depth = get_depth(circuit)\n",
    "print(\"Circuit depth:\", depth)\n",
    "print(\"# of gates:\", len(circuit.gates))"
   ]
  },
  {
   "cell_type": "markdown",
   "id": "d3b6cc35",
   "metadata": {},
   "source": [
    "This example is rather explicit and easy to avoid, but there are more subtle cases for which it is difficult to find the cause of the trouble. To prevent such a problem, you can use an *immutable* version (which we often call a *frozen* version) of the circuit obtained by `.freeze()`:"
   ]
  },
  {
   "cell_type": "code",
   "execution_count": 8,
   "id": "fd0013e0",
   "metadata": {},
   "outputs": [
    {
     "name": "stdout",
     "output_type": "stream",
     "text": [
      "# of gates: 2\n",
      "ERROR: 'ImmutableQuantumCircuit' object has no attribute 'add_X_gate'\n",
      "# of gates: 2\n"
     ]
    }
   ],
   "source": [
    "circuit = QuantumCircuit(2)\n",
    "circuit.add_Z_gate(0)\n",
    "circuit.add_H_gate(1)\n",
    "print(\"# of gates:\", len(circuit.gates))\n",
    "\n",
    "frozen_circuit = circuit.freeze()\n",
    "\n",
    "try:\n",
    "    depth = get_depth(frozen_circuit)\n",
    "except Exception as e:\n",
    "    print(\"ERROR:\", e)\n",
    "    \n",
    "print(\"# of gates:\", len(circuit.gates))"
   ]
  },
  {
   "cell_type": "markdown",
   "id": "6f89e789",
   "metadata": {},
   "source": [
    "The frozen version does not have methods to alter its contents, so you can safely use one frozen circuit object in many places.\n",
    "\n",
    "You can call `.freeze()` on the frozen version too. In this case, the frozen version itself is returned without copy:"
   ]
  },
  {
   "cell_type": "code",
   "execution_count": 9,
   "id": "9de66eef",
   "metadata": {},
   "outputs": [
    {
     "name": "stdout",
     "output_type": "stream",
     "text": [
      "<quri_parts.circuit.circuit.ImmutableQuantumCircuit object at 0x7fdd7bcc3160>\n",
      "<quri_parts.circuit.circuit.ImmutableQuantumCircuit object at 0x7fdd7bcc3160>\n"
     ]
    }
   ],
   "source": [
    "print(frozen_circuit)\n",
    "frozen_circuit2 = frozen_circuit.freeze()\n",
    "print(frozen_circuit2)"
   ]
  },
  {
   "cell_type": "markdown",
   "id": "b6c0087f",
   "metadata": {},
   "source": [
    "When you want to copy a circuit so that further modification does not affect the original one, call `.get_mutable_copy()`:"
   ]
  },
  {
   "cell_type": "code",
   "execution_count": 10,
   "id": "5176297c",
   "metadata": {
    "scrolled": true
   },
   "outputs": [
    {
     "name": "stdout",
     "output_type": "stream",
     "text": [
      "# of gates in circuit: 2\n",
      "# of gates in copied_circuit: 3\n",
      "# of gates in frozen_circuit: 2\n",
      "# of gates in copied_circuit2: 3\n"
     ]
    }
   ],
   "source": [
    "copied_circuit = circuit.get_mutable_copy()\n",
    "copied_circuit.add_X_gate(0)\n",
    "print(\"# of gates in circuit:\", len(circuit.gates))\n",
    "print(\"# of gates in copied_circuit:\", len(copied_circuit.gates))\n",
    "\n",
    "# You can also copy a frozen circuit\n",
    "copied_circuit2 = frozen_circuit.get_mutable_copy()\n",
    "copied_circuit2.add_X_gate(0)\n",
    "print(\"# of gates in frozen_circuit:\", len(frozen_circuit.gates))\n",
    "print(\"# of gates in copied_circuit2:\", len(copied_circuit2.gates))"
   ]
  },
  {
   "cell_type": "markdown",
   "id": "108812c6",
   "metadata": {},
   "source": [
    "## State preparation with a quantum circuit\n",
    "\n",
    "A quantum state prepared by applying a quantum circuit to $|00\\ldots 0\\rangle$ is represented by a `CircuitQuantumState` interface. You can create a `CircuitQuantumState` with a quantum circuit object by `GeneralCircuitQuantumState`:"
   ]
  },
  {
   "cell_type": "code",
   "execution_count": 11,
   "id": "562a7eb0",
   "metadata": {},
   "outputs": [],
   "source": [
    "from quri_parts.core.state import GeneralCircuitQuantumState\n",
    "\n",
    "circuit = QuantumCircuit(2)\n",
    "circuit.add_Z_gate(0)\n",
    "circuit.add_H_gate(1)\n",
    "\n",
    "# A quantum state of 2 qubits with an empty circuit (i.e. |00>)\n",
    "circuit_state = GeneralCircuitQuantumState(2)\n",
    "# A quantum state of 2 qubits with a given circuit (i.e. C|00> where C is the ciruict)\n",
    "circuit_state = GeneralCircuitQuantumState(2, circuit)"
   ]
  },
  {
   "cell_type": "markdown",
   "id": "33111528",
   "metadata": {},
   "source": [
    "Note that the `ComputationalBasisState` we introduced in [the previous section](estimator_basics.ipynb) is also a `CircuitQuantumState`, since such a state can always be constructed by applying a circuit to a zero state."
   ]
  },
  {
   "cell_type": "code",
   "execution_count": 12,
   "id": "c5be26a0",
   "metadata": {},
   "outputs": [],
   "source": [
    "from quri_parts.core.state import ComputationalBasisState\n",
    "\n",
    "cb_state = ComputationalBasisState(2, bits=0b01)"
   ]
  },
  {
   "cell_type": "markdown",
   "id": "8dbfce78",
   "metadata": {},
   "source": [
    "`CircuitQuantumState` has some properties and methods:"
   ]
  },
  {
   "cell_type": "code",
   "execution_count": 13,
   "id": "4eef08b4",
   "metadata": {},
   "outputs": [
    {
     "name": "stdout",
     "output_type": "stream",
     "text": [
      "(circuit_state)\n",
      "qubit_count: 2\n",
      "circuit: <quri_parts.circuit.circuit.ImmutableQuantumCircuit object at 0x7fdd7bcc31c0>\n",
      "original circuit len: 2\n",
      "new circuit len: 4\n"
     ]
    }
   ],
   "source": [
    "print(\"(circuit_state)\")\n",
    "# Get how many qubits this state is for.\n",
    "print(\"qubit_count:\", circuit_state.qubit_count)\n",
    "# Get the circuit of the state. This returns an immutable circuit.\n",
    "print(\"circuit:\", circuit_state.circuit)\n",
    "# Create a new state with some new gates added.\n",
    "gate_added_state = circuit_state.with_gates_applied([X(1), CNOT(1, 0)])\n",
    "print(\"original circuit len:\", len(circuit_state.circuit.gates))\n",
    "print(\"new circuit len:\", len(gate_added_state.circuit.gates))"
   ]
  },
  {
   "cell_type": "code",
   "execution_count": 14,
   "id": "34cea2ef",
   "metadata": {},
   "outputs": [
    {
     "name": "stdout",
     "output_type": "stream",
     "text": [
      "(cb_state)\n",
      "qubit_count: 2\n",
      "QuantumGate(name='X', target_indices=(0,), control_indices=(), params=(), pauli_ids=())\n",
      "original circuit len: 1\n",
      "new circuit len: 3\n"
     ]
    }
   ],
   "source": [
    "print(\"(cb_state)\")\n",
    "# Get how many qubits this state is for.\n",
    "print(\"qubit_count:\", cb_state.qubit_count)\n",
    "# Get the circuit of the state. This returns an immutable circuit.\n",
    "cb_circuit = cb_state.circuit\n",
    "for gate in cb_circuit.gates:\n",
    "    print(gate)\n",
    "# Create a new state with some new gates added.\n",
    "# Note that the new state is no longer a ComputationalBasisState.\n",
    "gate_added_cb_state = cb_state.with_gates_applied([X(1), CNOT(1, 0)])\n",
    "print(\"original circuit len:\", len(cb_state.circuit.gates))\n",
    "print(\"new circuit len:\", len(gate_added_cb_state.circuit.gates))"
   ]
  },
  {
   "cell_type": "markdown",
   "id": "17e771ad",
   "metadata": {},
   "source": [
    "Note that classes for quantum states in QURI Parts are always immutable; you cannot modify an already created quantum state object.\n",
    "\n",
    "A `CircuitQuantumState` prepared as above can be used to estimate an expectation value of an operator using an Estimator as described in [the previous section](estimator_basics.ipynb). In an example below, we use an Estimator using Qulacs, which internally converts the given circuit into a Qulacs circuit, run it and compute the expectation value of the given operator."
   ]
  },
  {
   "cell_type": "code",
   "execution_count": 15,
   "id": "8b1ef1ba",
   "metadata": {},
   "outputs": [
    {
     "name": "stdout",
     "output_type": "stream",
     "text": [
      "Estimated expectation value: (0.19999999999999996+0j)\n"
     ]
    }
   ],
   "source": [
    "from quri_parts.core.operator import Operator, pauli_label\n",
    "op = Operator({\n",
    "    pauli_label(\"X0 Y1\"): 0.5 + 0.5j,\n",
    "    pauli_label(\"Z0 X1\"): 0.2,\n",
    "})\n",
    "\n",
    "from quri_parts.qulacs.estimator import create_qulacs_vector_estimator\n",
    "estimator = create_qulacs_vector_estimator()\n",
    "\n",
    "estimate = estimator(op, circuit_state)\n",
    "print(f\"Estimated expectation value: {estimate.value}\")"
   ]
  },
  {
   "cell_type": "markdown",
   "id": "4f4ca1a3",
   "metadata": {},
   "source": [
    "## Circuit conversion\n",
    "\n",
    "In the above example, the Estimator handles conversion of the QURI Parts circuit to a Qulacs circuit object internally, so you usually don't need to do it yourself. If, however, you want to get the converted Qulacs circuit, you can use `quri_parts.qulacs.circuit.convert_circuit` function."
   ]
  },
  {
   "cell_type": "code",
   "execution_count": 16,
   "id": "ef62d414",
   "metadata": {},
   "outputs": [
    {
     "name": "stdout",
     "output_type": "stream",
     "text": [
      "*** Quantum Circuit Info ***\n",
      "# of qubit: 2\n",
      "# of step : 1\n",
      "# of gate : 2\n",
      "# of 1 qubit gate: 2\n",
      "Clifford  : yes\n",
      "Gaussian  : no\n",
      "\n",
      "\n",
      " *** Quantum State ***\n",
      " * Qubit Count : 2\n",
      " * Dimension   : 4\n",
      " * State vector : \n",
      "(0.707107,0)\n",
      "     (-0,-0)\n",
      "(0.707107,0)\n",
      "       (0,0)\n",
      "\n"
     ]
    }
   ],
   "source": [
    "from quri_parts.qulacs.circuit import convert_circuit\n",
    "qulacs_circuit = convert_circuit(circuit)\n",
    "print(qulacs_circuit)\n",
    "\n",
    "import qulacs\n",
    "qulacs_state = qulacs.QuantumState(2)\n",
    "qulacs_circuit.update_quantum_state(qulacs_state)\n",
    "print(qulacs_state)"
   ]
  },
  {
   "cell_type": "markdown",
   "id": "14c10015",
   "metadata": {},
   "source": [
    "The location of such a conversion function of course depends on the SDK/simulator you want to use, but it is typically located at `quri_parts.[SDK].circuit.convert_circuit`."
   ]
  }
 ],
 "metadata": {
  "kernelspec": {
   "display_name": "Python 3 (ipykernel)",
   "language": "python",
   "name": "python3"
  },
  "language_info": {
   "codemirror_mode": {
    "name": "ipython",
    "version": 3
   },
   "file_extension": ".py",
   "mimetype": "text/x-python",
   "name": "python",
   "nbconvert_exporter": "python",
   "pygments_lexer": "ipython3",
   "version": "3.9.9"
  }
 },
 "nbformat": 4,
 "nbformat_minor": 5
}
