{
 "cells": [
  {
   "cell_type": "markdown",
   "metadata": {},
   "source": [
    "# Fermion-qubit mappings"
   ]
  },
  {
   "cell_type": "markdown",
   "metadata": {},
   "source": [
    "Physical observables are often written in terms of fermionic operators: $c_i$, $c_i^{\\dagger}$ instead of a sum of Pauli strings. Here, $c_i$, $c_i^{\\dagger}$ satisfy the anti-commutation relation:\n",
    "\n",
    "$$\n",
    "\\begin{equation}\n",
    "    \\{c_{i}, c_{j}^{\\dagger}\\} = \\delta_{ij},\n",
    "\\end{equation}\n",
    "$$\n",
    "\n",
    "and $i$, $j$ denote the label of degree of freedom the operator acts on. In this tutorial, we explain how to perform mapping from `OpenFermion`'s `FermionOperator`  to QURI Parts `Operator`, where we provide 3 types of mapping:\n",
    "\n",
    "1. Jordan-Wigner mapping\n",
    "2. Bravyi-Kitaev mapping\n",
    "3. Symmetry-conserving Bravyi-Kitaev mapping"
   ]
  },
  {
   "cell_type": "markdown",
   "metadata": {},
   "source": [
    "## Prerequisite"
   ]
  },
  {
   "cell_type": "markdown",
   "metadata": {},
   "source": [
    "QURI Parts modules used in this tutorial: `quri-parts-core`, and `quri-parts-openfermion`. You can install them as follows:"
   ]
  },
  {
   "cell_type": "code",
   "execution_count": null,
   "metadata": {},
   "outputs": [],
   "source": [
    "!pip install \"quri_parts[openfermion]\""
   ]
  },
  {
   "cell_type": "markdown",
   "metadata": {},
   "source": [
    "## Overview"
   ]
  },
  {
   "cell_type": "markdown",
   "metadata": {},
   "source": [
    "Here we set up a Fermi-Hubbard hamiltonian for demonstration:"
   ]
  },
  {
   "cell_type": "code",
   "execution_count": 27,
   "metadata": {},
   "outputs": [
    {
     "name": "stdout",
     "output_type": "stream",
     "text": [
      "Fermi-Hubbard Hamiltonian:\n",
      "2.0 [0^ 0 1^ 1] +\n",
      "-1.0 [0^ 2] +\n",
      "-1.0 [1^ 3] +\n",
      "-1.0 [2^ 0] +\n",
      "2.0 [2^ 2 3^ 3] +\n",
      "-1.0 [3^ 1]\n"
     ]
    }
   ],
   "source": [
    "from openfermion import fermi_hubbard\n",
    "\n",
    "n_site = 2\n",
    "hamiltonian = fermi_hubbard(x_dimension=n_site, y_dimension=1, tunneling=1, coulomb=2)\n",
    "print(\"Fermi-Hubbard Hamiltonian:\")\n",
    "print(hamiltonian)"
   ]
  },
  {
   "cell_type": "markdown",
   "metadata": {},
   "source": [
    "In QURI Parts, we provide mapping objects that generates:\n",
    "\n",
    "- `OpenFermion` operator mapper: a function that maps\n",
    "    - `openfermion.ops.FermionOperator`\n",
    "    - `openfermion.ops.InteractionOperator`\n",
    "    - `openfermion.ops.MajoranaOperator`\n",
    "    \n",
    "    to QURI Parts `Operator`.\n",
    "\n",
    "- state mapper: A function that maps the occupation number state:\n",
    "    $$\n",
    "    \\begin{equation}\n",
    "        | \\Psi \\rangle = c_i^{\\dagger} c_j^{\\dagger} \\cdots c_k^{\\dagger} | 00\\cdots 0\\rangle\n",
    "    \\end{equation}\n",
    "    $$\n",
    "    to a `ComputationalBasisState`.\n",
    "- inverse state mapper: A function that maps a `ComputationalBasisState` to the occupation number state.\n",
    "\n",
    "We use Jordan-Wigner mapping as an example. The steps of obtaining the mappers in QURI Parts are:\n",
    "\n",
    "1. Create a mapping object.\n",
    "2. Retrieve the mappers by accessing corresponding properties.\n",
    "\n",
    "We first create a mapping object that performs Jordan-Wigner mapping for a system with 4 spin orbitals."
   ]
  },
  {
   "cell_type": "code",
   "execution_count": 28,
   "metadata": {},
   "outputs": [],
   "source": [
    "from quri_parts.openfermion.transforms import jordan_wigner\n",
    "jw_mapping = jordan_wigner(n_spin_orbitals=2*n_site)"
   ]
  },
  {
   "cell_type": "markdown",
   "metadata": {},
   "source": [
    "### Map a Fermion operator to qubit operator"
   ]
  },
  {
   "cell_type": "code",
   "execution_count": 29,
   "metadata": {},
   "outputs": [
    {
     "name": "stdout",
     "output_type": "stream",
     "text": [
      "(-0.5+0j)*Y0 Z1 Y2 + (-0.5+0j)*X0 Z1 X2 + (-0.5+0j)*Y1 Z2 Y3 + (-0.5+0j)*X1 Z2 X3 + (1+0j)*I + (-0.5+0j)*Z1 + (-0.5+0j)*Z0 + (0.5+0j)*Z0 Z1 + (-0.5+0j)*Z3 + (-0.5+0j)*Z2 + (0.5+0j)*Z2 Z3\n"
     ]
    }
   ],
   "source": [
    "operator_mapper = jw_mapping.of_operator_mapper\n",
    "qubit_hamiltonian = operator_mapper(hamiltonian)\n",
    "print(qubit_hamiltonian)"
   ]
  },
  {
   "cell_type": "markdown",
   "metadata": {},
   "source": [
    "### Map an occupation state to a `ComputationalBasisState`\n",
    "\n",
    "Let's look at what the occupation state $|0, 3\\rangle = c_0^{\\dagger} c_3^{\\dagger}|0000\\rangle$ is mapped to under Jordan-Wigner mapping."
   ]
  },
  {
   "cell_type": "code",
   "execution_count": 30,
   "metadata": {},
   "outputs": [
    {
     "name": "stdout",
     "output_type": "stream",
     "text": [
      "Occupation state: |0, 3>\n",
      "ComputationalBasisState: ComputationalBasisState(qubit_count=4, bits=0b1001, phase=0π/2)\n",
      "State preparation circuit:\n",
      "QuantumGate(name='X', target_indices=(0,), control_indices=(), classical_indices=(), params=(), pauli_ids=(), unitary_matrix=())\n",
      "QuantumGate(name='X', target_indices=(3,), control_indices=(), classical_indices=(), params=(), pauli_ids=(), unitary_matrix=())\n"
     ]
    }
   ],
   "source": [
    "state_mapper = jw_mapping.state_mapper\n",
    "\n",
    "occ_state = [0, 3]\n",
    "cb_state = state_mapper(occ_state)\n",
    "\n",
    "print(\"Occupation state:\", \"|\" + \", \".join(map(str, occ_state)) + \">\")\n",
    "print(\"ComputationalBasisState:\", cb_state)\n",
    "print(\"State preparation circuit:\")\n",
    "for g in cb_state.circuit.gates:\n",
    "    print(g)"
   ]
  },
  {
   "cell_type": "markdown",
   "metadata": {},
   "source": [
    "### Map a `ComputationalBasisState` to an occupation state\n",
    "\n",
    "We look at what the computational basis state $|1011\\rangle$ is mapped to under Jordan-Wigner mapping."
   ]
  },
  {
   "cell_type": "code",
   "execution_count": 31,
   "metadata": {},
   "outputs": [
    {
     "name": "stdout",
     "output_type": "stream",
     "text": [
      "ComputationalBasisState: ComputationalBasisState(qubit_count=4, bits=0b1011, phase=0π/2)\n",
      "Occupation state: |0, 1, 3>\n"
     ]
    }
   ],
   "source": [
    "from quri_parts.core.state import quantum_state\n",
    "\n",
    "inv_state_mapper = jw_mapping.inv_state_mapper\n",
    "\n",
    "cb_state = quantum_state(n_qubits=2*n_site, bits=0b1011)\n",
    "occ_state = inv_state_mapper(cb_state)\n",
    "\n",
    "print(\"ComputationalBasisState:\", cb_state)\n",
    "print(\"Occupation state:\", \"|\" + \", \".join(map(str, occ_state)) + \">\")"
   ]
  },
  {
   "cell_type": "markdown",
   "metadata": {},
   "source": [
    "The Bravyi-Kitaev mapping and symmetry conserving Bravyi-Kitaev mapping can also be used in a similar way."
   ]
  },
  {
   "cell_type": "markdown",
   "metadata": {},
   "source": [
    "## Interface\n",
    "\n",
    "Here, we introduce the two pillars of performing mappings in QURI Parts: `OpenFermionQubitMapperFactory` and `OpenFermionQubitMapping`."
   ]
  },
  {
   "cell_type": "markdown",
   "metadata": {},
   "source": [
    "### `OpenFermionQubitMapping`\n",
    "\n",
    "An `OpenFermionQubitMapping` is a mapping object that holds the configuration of a state you want to transform or act operators onto. We will refer it as a \"mapping object\" for short throughout this tutorial. The configuration of a state includes:\n",
    "\n",
    "- $N_s$: number of spin-orbitals\n",
    "- $N_e$: number of electrons\n",
    "- $s_z$: $z$-component of the state's spin\n",
    "\n",
    "Operator mapper, state mapper and inverse state mapper are retrieved as properties. The `jw_mapping` variable we created in the last section is an `OpenFermionQubitMapping` object. They are generated by `OpenFermionQubitMapperFactory`, which we will introduce in the next subsection."
   ]
  },
  {
   "cell_type": "markdown",
   "metadata": {},
   "source": [
    "### `OpenFermionQubitMapperFactory`\n",
    "\n",
    "An `OpenFermionQubitMapperFactory` is an object for generating `OpenFermionQubitMapping`s. In QURI Parts, we provide the following `OpenFermionQubitMapperFactory`s."
   ]
  },
  {
   "cell_type": "code",
   "execution_count": 32,
   "metadata": {},
   "outputs": [],
   "source": [
    "# Jordan-Wigner\n",
    "from quri_parts.openfermion.transforms import jordan_wigner\n",
    "\n",
    "# Bravyi-Kitaev\n",
    "from quri_parts.openfermion.transforms import bravyi_kitaev\n",
    "\n",
    "# Symmetry conserving Bravyi-Kitaev\n",
    "from quri_parts.openfermion.transforms import symmetry_conserving_bravyi_kitaev as scbk"
   ]
  },
  {
   "cell_type": "markdown",
   "metadata": {},
   "source": [
    "An `OpenFermionQubitMapperFactory` can also generate mappers with the:\n",
    "\n",
    "- `get_of_operator_mapper`\n",
    "- `get_state_mapper`\n",
    "- `get_inv_state_mapper`\n",
    "\n",
    "methods by passing in the state configuration. In addition, they hold information about how many qubits are required to perform the mapping for a system of given number of spin orbitals and vice versa. You may obtain the information with:\n",
    "\n",
    "- `n_qubits_required`: Number of qubits required to perform the mapping for a system of $n$ spin orbitals.\n",
    "- `n_spin_orbitals`: Number of spin orbtials the system contains if the mapped computational basis state contains $n$ qubits."
   ]
  },
  {
   "cell_type": "markdown",
   "metadata": {},
   "source": [
    "## Jordan-Wigner Mapping\n",
    "\n",
    "Jordan-Wigner mapping can be performed with the `jordan_wigner` object in QURI Parts. We first look at the relation between the number of spin orbitals and the number of qubits when Jordan-Wigner mapping is under consideration."
   ]
  },
  {
   "cell_type": "code",
   "execution_count": 33,
   "metadata": {},
   "outputs": [
    {
     "name": "stdout",
     "output_type": "stream",
     "text": [
      "4 qubits are required to perform Jordan-Wigner mapping for a 4-spin-orbital system.\n",
      "4 spin orbitals are present in a system if the Jordan-Wigner-mapped computational basis state contains 4 qubits.\n"
     ]
    }
   ],
   "source": [
    "from quri_parts.openfermion.transforms import jordan_wigner\n",
    "\n",
    "n_spin_orbitals = 4\n",
    "n_qubits_required = jordan_wigner.n_qubits_required(n_spin_orbitals=4)\n",
    "print(\n",
    "    f\"{n_qubits_required} qubits are required to perform Jordan-Wigner mapping for a {n_spin_orbitals}-spin-orbital system.\"\n",
    ")\n",
    "\n",
    "n_qubits = 4\n",
    "n_spin_orbitals = jordan_wigner.n_spin_orbitals(n_qubits=4)\n",
    "print(\n",
    "    f\"{n_spin_orbitals} spin orbitals are present in a system if the Jordan-Wigner-mapped \"\n",
    "    f\"computational basis state contains {n_qubits} qubits.\"\n",
    ")"
   ]
  },
  {
   "cell_type": "markdown",
   "metadata": {},
   "source": [
    "Now, let's generate a Jordan-Wigner mapping object. For Jordan-Wigner mapping, only the number of spin orbitals is required for creating the mapping object. `n_fermions` or `sz` are ignored automatically if they are passed in. Let's create one for a system with 4 spin orbitals. "
   ]
  },
  {
   "cell_type": "code",
   "execution_count": 34,
   "metadata": {},
   "outputs": [],
   "source": [
    "n_spin_orbitals = 2 * n_site\n",
    "jw_mapping = jordan_wigner(n_spin_orbitals)"
   ]
  },
  {
   "cell_type": "markdown",
   "metadata": {},
   "source": [
    "Let's retrieve mappers from it."
   ]
  },
  {
   "cell_type": "markdown",
   "metadata": {},
   "source": [
    "### Operator mapper"
   ]
  },
  {
   "cell_type": "code",
   "execution_count": 35,
   "metadata": {},
   "outputs": [
    {
     "name": "stdout",
     "output_type": "stream",
     "text": [
      "(-0.5+0j)*Y0 Z1 Y2 + (-0.5+0j)*X0 Z1 X2 + (-0.5+0j)*Y1 Z2 Y3 + (-0.5+0j)*X1 Z2 X3 + (1+0j)*I + (-0.5+0j)*Z1 + (-0.5+0j)*Z0 + (0.5+0j)*Z0 Z1 + (-0.5+0j)*Z3 + (-0.5+0j)*Z2 + (0.5+0j)*Z2 Z3\n"
     ]
    }
   ],
   "source": [
    "jw_operator_mapper = jw_mapping.of_operator_mapper\n",
    "qubit_hamiltonian = jw_operator_mapper(hamiltonian)\n",
    "print(qubit_hamiltonian)"
   ]
  },
  {
   "cell_type": "markdown",
   "metadata": {},
   "source": [
    "### State mapper\n",
    "\n",
    "Let's look at what the occupation state $|0, 3\\rangle = c_0^{\\dagger} c_3^{\\dagger}|0000\\rangle$ is mapped to under Jordan-Wigner mapping."
   ]
  },
  {
   "cell_type": "code",
   "execution_count": 36,
   "metadata": {},
   "outputs": [
    {
     "name": "stdout",
     "output_type": "stream",
     "text": [
      "Occupation state: |0, 3>\n",
      "ComputationalBasisState: ComputationalBasisState(qubit_count=4, bits=0b1001, phase=0π/2)\n",
      "State preparation circuit:\n",
      "QuantumGate(name='X', target_indices=(0,), control_indices=(), classical_indices=(), params=(), pauli_ids=(), unitary_matrix=())\n",
      "QuantumGate(name='X', target_indices=(3,), control_indices=(), classical_indices=(), params=(), pauli_ids=(), unitary_matrix=())\n"
     ]
    }
   ],
   "source": [
    "jw_state_mapper = jw_mapping.state_mapper\n",
    "\n",
    "occ_state = [0, 3]\n",
    "cb_state = jw_state_mapper(occ_state)\n",
    "\n",
    "print(\"Occupation state:\", \"|\" + \", \".join(map(str, occ_state)) + \">\")\n",
    "print(\"ComputationalBasisState:\", cb_state)\n",
    "print(\"State preparation circuit:\")\n",
    "for g in cb_state.circuit.gates:\n",
    "    print(g)"
   ]
  },
  {
   "cell_type": "markdown",
   "metadata": {},
   "source": [
    "### Inverse state mapper\n",
    "\n",
    "We look at what the computational basis state $|1011\\rangle$ is mapped to under Jordan-Wigner mapping."
   ]
  },
  {
   "cell_type": "code",
   "execution_count": 37,
   "metadata": {},
   "outputs": [
    {
     "name": "stdout",
     "output_type": "stream",
     "text": [
      "ComputationalBasisState: ComputationalBasisState(qubit_count=4, bits=0b1011, phase=0π/2)\n",
      "Occupation state: |0, 1, 3>\n"
     ]
    }
   ],
   "source": [
    "from quri_parts.core.state import quantum_state\n",
    "\n",
    "jw_inv_state_mapper = jw_mapping.inv_state_mapper\n",
    "\n",
    "cb_state = quantum_state(n_qubits=2*n_site, bits=0b1011)\n",
    "occ_state = jw_inv_state_mapper(cb_state)\n",
    "\n",
    "print(\"ComputationalBasisState:\", cb_state)\n",
    "print(\"Occupation state:\", \"|\" + \", \".join(map(str, occ_state)) + \">\")"
   ]
  },
  {
   "cell_type": "markdown",
   "metadata": {},
   "source": [
    "### Alternative way of obtaining the mappers\n",
    "\n",
    "As explained in the [interface](#openfermionqubitmapperfactory) section, mappers can also be generated by the `jordan_wigner` object without creating the mapping object. They can be done with:"
   ]
  },
  {
   "cell_type": "code",
   "execution_count": 38,
   "metadata": {},
   "outputs": [],
   "source": [
    "jw_operator_mapper = jordan_wigner.get_of_operator_mapper(n_spin_orbitals=2*n_site)\n",
    "jw_state_mapper = jordan_wigner.get_state_mapper(n_spin_orbitals=2*n_site)\n",
    "jw_inv_state_mapper = jordan_wigner.get_inv_state_mapper(n_spin_orbitals=2*n_site)"
   ]
  },
  {
   "cell_type": "markdown",
   "metadata": {},
   "source": [
    "## Bravyi-Kitaev Mapping\n",
    "\n",
    "Bravyi-Kitaev mapping can be performed with the `bravyi_kitaev` object in QURI Parts. We first look at the relation between the number of spin orbitals and the number of qubits when Bravyi-Kitaev mapping is under consideration."
   ]
  },
  {
   "cell_type": "code",
   "execution_count": 39,
   "metadata": {},
   "outputs": [
    {
     "name": "stdout",
     "output_type": "stream",
     "text": [
      "4 qubits are required to perform Bravyi-Kitaev mapping for a 4-spin-orbital system.\n",
      "4 spin orbitals are present in a system if the Bravyi-Kitaev-mapped computational basis state contains 4 qubits.\n"
     ]
    }
   ],
   "source": [
    "from quri_parts.openfermion.transforms import bravyi_kitaev\n",
    "\n",
    "n_spin_orbitals = 4\n",
    "n_qubits_required = bravyi_kitaev.n_qubits_required(n_spin_orbitals=4)\n",
    "print(\n",
    "    f\"{n_qubits_required} qubits are required to perform Bravyi-Kitaev mapping for a {n_spin_orbitals}-spin-orbital system.\"\n",
    ")\n",
    "\n",
    "n_qubits = 4\n",
    "n_spin_orbitals = bravyi_kitaev.n_spin_orbitals(n_qubits=4)\n",
    "print(\n",
    "    f\"{n_spin_orbitals} spin orbitals are present in a system if the Bravyi-Kitaev-mapped \"\n",
    "    f\"computational basis state contains {n_qubits} qubits.\"\n",
    ")"
   ]
  },
  {
   "cell_type": "markdown",
   "metadata": {},
   "source": [
    "Now, let's generate a Bravyi-Kitaev mapping object. For Bravyi-Kitaev mapping, only the number of spin orbitals is required for creating the mapping object. `n_fermions` or `sz` are ignored automatically if they are passed in. Let's create one for a system with 4 spin orbitals. "
   ]
  },
  {
   "cell_type": "code",
   "execution_count": 40,
   "metadata": {},
   "outputs": [],
   "source": [
    "n_spin_orbitals = 2 * n_site\n",
    "bk_mapping = bravyi_kitaev(n_spin_orbitals)"
   ]
  },
  {
   "cell_type": "markdown",
   "metadata": {},
   "source": [
    "Let's retrieve mappers from it."
   ]
  },
  {
   "cell_type": "markdown",
   "metadata": {},
   "source": [
    "### Operator mapper"
   ]
  },
  {
   "cell_type": "code",
   "execution_count": 41,
   "metadata": {},
   "outputs": [
    {
     "name": "stdout",
     "output_type": "stream",
     "text": [
      "(-0.5+0j)*X0 Y1 Y2 + (0.5+0j)*Y0 Y1 X2 + (0.5+0j)*Z0 X1 Z3 + (-0.5+0j)*X1 Z2 + (1+0j)*I + (-0.5+0j)*Z0 Z1 + (-0.5+0j)*Z0 + (0.5+0j)*Z1 + (-0.5+0j)*Z1 Z2 Z3 + (-0.5+0j)*Z2 + (0.5+0j)*Z1 Z3\n"
     ]
    }
   ],
   "source": [
    "bk_operator_mapper = bk_mapping.of_operator_mapper\n",
    "qubit_hamiltonian = bk_operator_mapper(hamiltonian)\n",
    "print(qubit_hamiltonian)"
   ]
  },
  {
   "cell_type": "markdown",
   "metadata": {},
   "source": [
    "### State mapper\n",
    "\n",
    "Let's look at what the occupation state $|0, 3\\rangle = c_0^{\\dagger} c_3^{\\dagger}|0000\\rangle$ is mapped to under Bravyi-Kitaev mapping."
   ]
  },
  {
   "cell_type": "code",
   "execution_count": 42,
   "metadata": {},
   "outputs": [
    {
     "name": "stdout",
     "output_type": "stream",
     "text": [
      "Occupation state: |0, 3>\n",
      "ComputationalBasisState: ComputationalBasisState(qubit_count=4, bits=0b11, phase=0π/2)\n",
      "State preparation circuit:\n",
      "QuantumGate(name='X', target_indices=(0,), control_indices=(), classical_indices=(), params=(), pauli_ids=(), unitary_matrix=())\n",
      "QuantumGate(name='X', target_indices=(1,), control_indices=(), classical_indices=(), params=(), pauli_ids=(), unitary_matrix=())\n"
     ]
    }
   ],
   "source": [
    "bk_state_mapper = bk_mapping.state_mapper\n",
    "\n",
    "occ_state = [0, 3]\n",
    "cb_state = bk_state_mapper(occ_state)\n",
    "\n",
    "print(\"Occupation state:\", \"|\" + \", \".join(map(str, occ_state)) + \">\")\n",
    "print(\"ComputationalBasisState:\", cb_state)\n",
    "print(\"State preparation circuit:\")\n",
    "for g in cb_state.circuit.gates:\n",
    "    print(g)"
   ]
  },
  {
   "cell_type": "markdown",
   "metadata": {},
   "source": [
    "### Inverse state mapper\n",
    "\n",
    "We look at what the computational basis state $|0011\\rangle$ is mapped to under Bravyi-Kitaev mapping."
   ]
  },
  {
   "cell_type": "code",
   "execution_count": 43,
   "metadata": {},
   "outputs": [
    {
     "name": "stdout",
     "output_type": "stream",
     "text": [
      "ComputationalBasisState: ComputationalBasisState(qubit_count=4, bits=0b11, phase=0π/2)\n",
      "Occupation state: |0, 3>\n"
     ]
    }
   ],
   "source": [
    "from quri_parts.core.state import quantum_state\n",
    "\n",
    "bk_inv_state_mapper = bk_mapping.inv_state_mapper\n",
    "\n",
    "cb_state = quantum_state(n_qubits=2*n_site, bits=0b11)\n",
    "occ_state = bk_inv_state_mapper(cb_state)\n",
    "\n",
    "print(\"ComputationalBasisState:\", cb_state)\n",
    "print(\"Occupation state:\", \"|\" + \", \".join(map(str, occ_state)) + \">\")"
   ]
  },
  {
   "cell_type": "markdown",
   "metadata": {},
   "source": [
    "### Alternative way of obtaining the mappers\n",
    "\n",
    "As explained in the [interface](#openfermionqubitmapperfactory) section, mappers can also be generated by the `bravyi_kitaev` object without creating the mapping object. They can be done with:"
   ]
  },
  {
   "cell_type": "code",
   "execution_count": 44,
   "metadata": {},
   "outputs": [],
   "source": [
    "bk_operator_mapper = bravyi_kitaev.get_of_operator_mapper(n_spin_orbitals=2*n_site)\n",
    "bk_state_mapper = bravyi_kitaev.get_state_mapper(n_spin_orbitals=2*n_site)\n",
    "bk_inv_state_mapper = bravyi_kitaev.get_inv_state_mapper(n_spin_orbitals=2*n_site)"
   ]
  },
  {
   "cell_type": "markdown",
   "metadata": {},
   "source": [
    "## Symmetry conserving Bravyi-Kitaev Mapping\n",
    "\n",
    "Symmetry conserving Bravyi-Kitaev (SCBK) mapping can be performed with the `symmetry_conserving_bravyi_kitaev` object in QURI Parts. We first look at the relation between the number of spin orbitals and the number of qubits when SCBK mapping is under consideration."
   ]
  },
  {
   "cell_type": "code",
   "execution_count": 45,
   "metadata": {},
   "outputs": [
    {
     "name": "stdout",
     "output_type": "stream",
     "text": [
      "2 qubits are required to perform SCBK mapping for a 4-spin-orbital system.\n",
      "4 spin orbitals are present in a system if the SCBK-mapped computational basis state contains 2 qubits.\n"
     ]
    }
   ],
   "source": [
    "from quri_parts.openfermion.transforms import symmetry_conserving_bravyi_kitaev as scbk\n",
    "\n",
    "n_spin_orbitals = 4\n",
    "n_qubits_required = scbk.n_qubits_required(n_spin_orbitals=n_spin_orbitals)\n",
    "print(\n",
    "    f\"{n_qubits_required} qubits are required to perform SCBK mapping for a {n_spin_orbitals}-spin-orbital system.\"\n",
    ")\n",
    "\n",
    "n_qubits = 2\n",
    "n_spin_orbitals = scbk.n_spin_orbitals(n_qubits=n_qubits)\n",
    "print(\n",
    "    f\"{n_spin_orbitals} spin orbitals are present in a system if the SCBK-mapped \"\n",
    "    f\"computational basis state contains {n_qubits} qubits.\"\n",
    ")"
   ]
  },
  {
   "cell_type": "markdown",
   "metadata": {},
   "source": [
    "Now, let's generate a SCBK mapping object. For SCBK mapping, we need to be particular careful about the configuration of the state. Thus, all `n_spin_orbitals`, `n_fermions` and `sz` are required to create a SCBK mapping object. Let's create one for a system with 4 spin orbitals, 2 electrons and $s_z = 0$."
   ]
  },
  {
   "cell_type": "code",
   "execution_count": 46,
   "metadata": {},
   "outputs": [],
   "source": [
    "n_spin_orbitals = 2 * n_site\n",
    "n_fermions = 2\n",
    "sz = 0\n",
    "scbk_mapping = scbk(n_spin_orbitals, n_fermions, sz)"
   ]
  },
  {
   "cell_type": "markdown",
   "metadata": {},
   "source": [
    "Let's retrieve mappers from it."
   ]
  },
  {
   "cell_type": "markdown",
   "metadata": {},
   "source": [
    "### Operator mapper"
   ]
  },
  {
   "cell_type": "code",
   "execution_count": 47,
   "metadata": {},
   "outputs": [
    {
     "name": "stdout",
     "output_type": "stream",
     "text": [
      "-1.0*X0 + -1.0*X1 + 1.0*I + 1.0*Z0 Z1\n"
     ]
    }
   ],
   "source": [
    "scbk_operator_mapper = scbk_mapping.of_operator_mapper\n",
    "qubit_hamiltonian = scbk_operator_mapper(hamiltonian)\n",
    "print(qubit_hamiltonian)"
   ]
  },
  {
   "cell_type": "markdown",
   "metadata": {},
   "source": [
    "### State mapper\n",
    "\n",
    "Let's look at what the occupation state $|0, 3\\rangle = c_0^{\\dagger} c_3^{\\dagger}|0000\\rangle$ is mapped to under SCBK mapping."
   ]
  },
  {
   "cell_type": "code",
   "execution_count": 48,
   "metadata": {},
   "outputs": [
    {
     "name": "stdout",
     "output_type": "stream",
     "text": [
      "Occupation state: |0, 3>\n",
      "ComputationalBasisState: ComputationalBasisState(qubit_count=2, bits=0b1, phase=0π/2)\n",
      "State preparation circuit:\n",
      "QuantumGate(name='X', target_indices=(0,), control_indices=(), classical_indices=(), params=(), pauli_ids=(), unitary_matrix=())\n"
     ]
    }
   ],
   "source": [
    "scbk_state_mapper = scbk_mapping.state_mapper\n",
    "\n",
    "occ_state = [0, 3]\n",
    "cb_state = scbk_state_mapper(occ_state)\n",
    "\n",
    "print(\"Occupation state:\", \"|\" + \", \".join(map(str, occ_state)) + \">\")\n",
    "print(\"ComputationalBasisState:\", cb_state)\n",
    "print(\"State preparation circuit:\")\n",
    "for g in cb_state.circuit.gates:\n",
    "    print(g)"
   ]
  },
  {
   "cell_type": "markdown",
   "metadata": {},
   "source": [
    "### Inverse state mapper\n",
    "\n",
    "We look at what the computational basis state $|01\\rangle$ is mapped to under SCBK mapping."
   ]
  },
  {
   "cell_type": "code",
   "execution_count": 49,
   "metadata": {},
   "outputs": [
    {
     "name": "stdout",
     "output_type": "stream",
     "text": [
      "ComputationalBasisState: ComputationalBasisState(qubit_count=2, bits=0b1, phase=0π/2)\n",
      "Occupation state: |0, 3>\n"
     ]
    }
   ],
   "source": [
    "from quri_parts.core.state import quantum_state\n",
    "\n",
    "scbk_inv_state_mapper = scbk_mapping.inv_state_mapper\n",
    "\n",
    "n_spin_orbitals = 2*n_site\n",
    "n_qubits = scbk.n_qubits_required(n_spin_orbitals)\n",
    "cb_state = quantum_state(n_qubits=n_qubits, bits=0b01)\n",
    "occ_state = scbk_inv_state_mapper(cb_state)\n",
    "\n",
    "print(\"ComputationalBasisState:\", cb_state)\n",
    "print(\"Occupation state:\", \"|\" + \", \".join(map(str, occ_state)) + \">\")"
   ]
  },
  {
   "cell_type": "markdown",
   "metadata": {},
   "source": [
    "### Alternative way of obtaining the mappers\n",
    "\n",
    "As explained in the [interface](#openfermionqubitmapperfactory) section, mappers can also be generated by the `scbk` object without creating the mapping object. They can be done with:"
   ]
  },
  {
   "cell_type": "code",
   "execution_count": 50,
   "metadata": {},
   "outputs": [],
   "source": [
    "scbk_operator_mapper = scbk.get_of_operator_mapper(n_spin_orbitals=2*n_site, n_fermions=n_fermions, sz=sz)\n",
    "scbk_state_mapper = scbk.get_state_mapper(n_spin_orbitals=2*n_site, n_fermions=n_fermions, sz=sz)\n",
    "scbk_inv_state_mapper = scbk.get_inv_state_mapper(n_spin_orbitals=2*n_site, n_fermions=n_fermions, sz=sz)"
   ]
  }
 ],
 "metadata": {
  "kernelspec": {
   "display_name": "Python 3 (ipykernel)",
   "language": "python",
   "name": "python3"
  },
  "language_info": {
   "codemirror_mode": {
    "name": "ipython",
    "version": 3
   },
   "file_extension": ".py",
   "mimetype": "text/x-python",
   "name": "python",
   "nbconvert_exporter": "python",
   "pygments_lexer": "ipython3",
   "version": "3.9.16"
  }
 },
 "nbformat": 4,
 "nbformat_minor": 2
}
