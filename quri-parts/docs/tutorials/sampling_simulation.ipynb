{
 "cells": [
  {
   "cell_type": "markdown",
   "id": "c5a8438a",
   "metadata": {},
   "source": [
    "# Sampling simulation\n",
    "\n",
    "In order to estimate expectation value of operators on a quantum computer, *sampling measurements* are necessary. In sampling measurements, execution of a quantum circuit and a subsequent measurement of qubits are repeated multiple times. Estimation of expectation value of operators is then performed using statistics of the repeated measurements.\n",
    "\n",
    "Before performing sampling estimation on real quantum computers, let's see how such procedures can be simulated with a quantum circuit simulator."
   ]
  },
  {
   "cell_type": "markdown",
   "id": "f0ff7af6",
   "metadata": {},
   "source": [
    "## Prerequisite\n",
    "\n",
    "QURI Parts modules used in this tutorial: `quri-parts-circuit`, `quri-parts-core` and `quri-parts-qulacs`. You can install them as follows:"
   ]
  },
  {
   "cell_type": "code",
   "execution_count": null,
   "id": "cdf46a7a",
   "metadata": {},
   "outputs": [],
   "source": [
    "!pip install \"quri-parts[qulacs]\""
   ]
  },
  {
   "cell_type": "markdown",
   "id": "8aaa543b",
   "metadata": {},
   "source": [
    "## Prepare a circuit\n",
    "\n",
    "As a preparation, we create a circuit to be sampled:"
   ]
  },
  {
   "cell_type": "code",
   "execution_count": 1,
   "id": "89fd8970",
   "metadata": {},
   "outputs": [],
   "source": [
    "from math import pi\n",
    "from quri_parts.circuit import QuantumCircuit\n",
    "# A circuit with 4 qubits\n",
    "circuit = QuantumCircuit(4)\n",
    "circuit.add_X_gate(0)\n",
    "circuit.add_H_gate(1)\n",
    "circuit.add_Y_gate(2)\n",
    "circuit.add_CNOT_gate(1, 2)\n",
    "circuit.add_RX_gate(3, pi/4)"
   ]
  },
  {
   "cell_type": "markdown",
   "id": "baa8599e",
   "metadata": {},
   "source": [
    "## Sampler\n",
    "\n",
    "When performing a sampling measurement for a circuit, you can use a `Sampler`. The `Sampler` itself (defined in `quri_parts.core.sampling`) is an abstract interface and you need a concrete instance to actually perform sampling. There are several implementations of `Sampler` interface, some of which use a circuit simulator while others use a real quantum computer.\n",
    "\n",
    "Here we start with a sampler using state vector simulation with Qulacs:"
   ]
  },
  {
   "cell_type": "code",
   "execution_count": 2,
   "id": "3d971120",
   "metadata": {},
   "outputs": [
    {
     "name": "stdout",
     "output_type": "stream",
     "text": [
      "Counter({5: 434, 3: 411, 13: 90, 11: 65})\n"
     ]
    }
   ],
   "source": [
    "from quri_parts.qulacs.sampler import create_qulacs_vector_sampler\n",
    "# Create the sampler\n",
    "sampler = create_qulacs_vector_sampler()\n",
    "sampling_result = sampler(circuit, shots=1000)\n",
    "print(sampling_result)"
   ]
  },
  {
   "cell_type": "markdown",
   "id": "829b8d7b",
   "metadata": {},
   "source": [
    "A sampler receives two arguments: a circuit to be sampled and a number of repeated samplings (shots). The returned value is a mapping (dict) with the following keys and values:\n",
    "\n",
    "* **Keys** Bitstrings of measurement outcomes, encoded as int. Each measured bit of each qubit are ordered from the least significant bit to the most significant bit. For example, when qubit 0 and qubit 2 are measured to be in $|1\\rangle$ while the others are in $|0\\rangle$, the bitstring is `0b0101`.\n",
    "* **Values** Counts of times for which each bitstring is measured. A sum of all counts is equal to the specified `shots`."
   ]
  },
  {
   "cell_type": "code",
   "execution_count": 3,
   "id": "9b46c282",
   "metadata": {},
   "outputs": [
    {
     "name": "stdout",
     "output_type": "stream",
     "text": [
      "A bitstring '0b11' is measured 411 times\n",
      "A bitstring '0b101' is measured 434 times\n",
      "A bitstring '0b1101' is measured 90 times\n",
      "A bitstring '0b1011' is measured 65 times\n",
      "Total count is 1000\n"
     ]
    }
   ],
   "source": [
    "for bits, count in sampling_result.items():\n",
    "    print(f\"A bitstring '{bin(bits)}' is measured {count} times\")\n",
    "print(f\"Total count is {sum(sampling_result.values())}\")"
   ]
  },
  {
   "cell_type": "markdown",
   "id": "c596fa2c",
   "metadata": {},
   "source": [
    "In the above example, we can see that the qubit 0 is always measured as in $|1\\rangle$ since the only gate applied to the qubit is $X$. On the other hand qubit 1, 2 and 3 can take either 0 or 1, but since qubit 1 and 2 are correlated by a CNOT gate, only 4 patterns are in the measurement result."
   ]
  },
  {
   "cell_type": "markdown",
   "id": "4dccd5ae",
   "metadata": {},
   "source": [
    "## Pauli grouping\n",
    "\n",
    "Estimation of expectation value of operators involves operators and states, which cannot be handled directly by a sampler. It is thus necessary to translate the problem to circuits, which can be sampled by a sampler.\n",
    "\n",
    "First let's define an operator to be estimated:"
   ]
  },
  {
   "cell_type": "code",
   "execution_count": 4,
   "id": "9d82d76d",
   "metadata": {},
   "outputs": [
    {
     "name": "stdout",
     "output_type": "stream",
     "text": [
      "0.25*Z0 + 2.0*Z1 Z2 + (0.5+0.25j)*X1 X2 + 1j*Z1 Y3 + (1.5+0.5j)*Z2 Y3 + 2j*X1 Y3 + 3.0*I\n"
     ]
    }
   ],
   "source": [
    "from quri_parts.core.operator import Operator, pauli_label, PAULI_IDENTITY\n",
    "op = Operator({\n",
    "    pauli_label(\"Z0\"): 0.25,\n",
    "    pauli_label(\"Z1 Z2\"): 2.0,\n",
    "    pauli_label(\"X1 X2\"): 0.5 + 0.25j,\n",
    "    pauli_label(\"Z1 Y3\"): 1.0j,\n",
    "    pauli_label(\"Z2 Y3\"): 1.5 + 0.5j,\n",
    "    pauli_label(\"X1 Y3\"): 2.0j,\n",
    "    PAULI_IDENTITY: 3.0,\n",
    "})\n",
    "print(op)"
   ]
  },
  {
   "cell_type": "markdown",
   "id": "cade5567",
   "metadata": {},
   "source": [
    "The operator is represented as a sum of Pauli operators. One of the ways to estimate expectation value of such an operator is to estimate expectation value of each Pauli term and then sum up them.\n",
    "\n",
    "When estimating the Pauli terms, it is possible to measure multiple Pauli terms at once if they are commutable. The first step is thus to group the Pauli terms into several sets of commutable Pauli terms. This Pauli grouping is an important research subject in context of operator estimation.\n",
    "\n",
    "One of the simplest Pauli grouping is *bitwise grouping*, where the groups are determined based on bitwise commutability of the Pauli terms. We can test the grouping as follows:"
   ]
  },
  {
   "cell_type": "code",
   "execution_count": 5,
   "id": "c11fc8c2",
   "metadata": {},
   "outputs": [
    {
     "name": "stdout",
     "output_type": "stream",
     "text": [
      "frozenset({frozenset({PauliLabel({(1, <SinglePauli.X: 1>), (3, <SinglePauli.Y: 2>)})}), frozenset({PauliLabel()}), frozenset({PauliLabel({(1, <SinglePauli.X: 1>), (2, <SinglePauli.X: 1>)})}), frozenset({PauliLabel({(0, <SinglePauli.Z: 3>)}), PauliLabel({(2, <SinglePauli.Z: 3>), (1, <SinglePauli.Z: 3>)})}), frozenset({PauliLabel({(2, <SinglePauli.Z: 3>), (3, <SinglePauli.Y: 2>)}), PauliLabel({(3, <SinglePauli.Y: 2>), (1, <SinglePauli.Z: 3>)})})})\n"
     ]
    }
   ],
   "source": [
    "from quri_parts.core.operator.grouping import bitwise_pauli_grouping\n",
    "pauli_sets = bitwise_pauli_grouping(op)\n",
    "print(pauli_sets)"
   ]
  },
  {
   "cell_type": "markdown",
   "id": "8190020f",
   "metadata": {},
   "source": [
    "The above looks a bit complicated since the grouping method returns a frozenset of frozensets of Pauli labels."
   ]
  },
  {
   "cell_type": "code",
   "execution_count": 6,
   "id": "77c405ec",
   "metadata": {
    "scrolled": true
   },
   "outputs": [
    {
     "name": "stdout",
     "output_type": "stream",
     "text": [
      "Number of groups: 5\n",
      "Group 0 contains: X1 Y3\n",
      "Group 1 contains: I\n",
      "Group 2 contains: X1 X2\n",
      "Group 3 contains: Z0, Z1 Z2\n",
      "Group 4 contains: Z2 Y3, Z1 Y3\n"
     ]
    }
   ],
   "source": [
    "print(f\"Number of groups: {len(pauli_sets)}\")\n",
    "for i, pauli_set in enumerate(pauli_sets):\n",
    "    labels = \", \".join([str(pauli) for pauli in pauli_set])\n",
    "    print(f\"Group {i} contains: {labels}\")"
   ]
  },
  {
   "cell_type": "markdown",
   "id": "c2542499",
   "metadata": {},
   "source": [
    "## Measurement circuit\n",
    "\n",
    "To perform a measurement for a commutable Pauli set, it is necessary to construct a circuit to be applied before measurement. In the case of bitwise Pauli grouping, the corresponding circuit can be constructed as follows:"
   ]
  },
  {
   "cell_type": "code",
   "execution_count": 7,
   "id": "332897ec",
   "metadata": {},
   "outputs": [
    {
     "name": "stdout",
     "output_type": "stream",
     "text": [
      "(QuantumGate(name='Sdag', target_indices=(3,), control_indices=(), params=(), pauli_ids=()), QuantumGate(name='H', target_indices=(3,), control_indices=(), params=(), pauli_ids=()))\n"
     ]
    }
   ],
   "source": [
    "from quri_parts.core.measurement import bitwise_commuting_pauli_measurement_circuit\n",
    "pauli_set = {pauli_label(\"Z2 Y3\"), pauli_label(\"Z1 Y3\")}\n",
    "measurement_circuit = bitwise_commuting_pauli_measurement_circuit(pauli_set)\n",
    "print(measurement_circuit)"
   ]
  },
  {
   "cell_type": "markdown",
   "id": "fa69cd10",
   "metadata": {},
   "source": [
    "## Sampling on a state\n",
    "\n",
    "In order to measure a commutable Pauli set for a quantum state, the following steps are necessary:\n",
    "\n",
    "* Construct a circuit that prepares the state\n",
    "* Concatenate the measurement circuit for the Pauli set after the state preparation circuit\n",
    "* Perform sampling on the concatenated circuit\n",
    "\n",
    "Here we use a `ComputationalBasisState` as the initial state for simplicity, though you can use any `CircuitQuantumState`."
   ]
  },
  {
   "cell_type": "code",
   "execution_count": 8,
   "id": "be74dd18",
   "metadata": {},
   "outputs": [
    {
     "name": "stdout",
     "output_type": "stream",
     "text": [
      "{'0b101': 500, '0b1101': 500}\n"
     ]
    }
   ],
   "source": [
    "from quri_parts.core.state import ComputationalBasisState\n",
    "initial_state = ComputationalBasisState(4, bits=0b0101)\n",
    "# Circuit for state preparation\n",
    "state_prep_circuit = initial_state.circuit\n",
    "# Concatenate measurement circuit\n",
    "sampled_circuit = state_prep_circuit + measurement_circuit\n",
    "# Sampling\n",
    "sampling_result = sampler(sampled_circuit, shots=1000)\n",
    "print({bin(bits): count for bits, count in sampling_result.items()})"
   ]
  },
  {
   "cell_type": "markdown",
   "id": "c2ad9654",
   "metadata": {},
   "source": [
    "## Reconstructing Pauli values from sampled values\n",
    "\n",
    "It is then necessary to reconstruct values of Pauli terms from the sampling result. In the above example, we performed a sampling measurement for $Z_2 Y_3$ and $Z_1 Y_3$, and obtained two bit patterns `0b1101` and `0b0101`. In the case of bitwise Pauli grouping, a value of a Pauli operator can be reconstructed from a sampled bit pattern as follows:"
   ]
  },
  {
   "cell_type": "code",
   "execution_count": 9,
   "id": "685e7abd",
   "metadata": {},
   "outputs": [
    {
     "name": "stdout",
     "output_type": "stream",
     "text": [
      "1\n",
      "-1\n"
     ]
    }
   ],
   "source": [
    "from quri_parts.core.measurement import bitwise_pauli_reconstructor_factory\n",
    "# Obtain a reconstructor for Z2 Y3\n",
    "reconstructor = bitwise_pauli_reconstructor_factory(pauli_label(\"Z2 Y3\"))\n",
    "# Reconstruct a value of Z2 Y3 from a sampled bit pattern 0b1101\n",
    "pauli_value = reconstructor(0b1101)\n",
    "print(pauli_value)\n",
    "# Reconstruct from 0b0101\n",
    "pauli_value = reconstructor(0b0101)\n",
    "print(pauli_value)"
   ]
  },
  {
   "cell_type": "markdown",
   "id": "d1d4bc7e",
   "metadata": {},
   "source": [
    "The expectation value of $Z_2 Y_3$ can then be calculated as:"
   ]
  },
  {
   "cell_type": "code",
   "execution_count": 10,
   "id": "ce05ba0f",
   "metadata": {},
   "outputs": [
    {
     "name": "stdout",
     "output_type": "stream",
     "text": [
      "0.0\n",
      "0.0\n",
      "0.0\n"
     ]
    }
   ],
   "source": [
    "pauli_exp = (\n",
    "    reconstructor(0b1101) * sampling_result[0b1101] +\n",
    "    reconstructor(0b0101) * sampling_result[0b0101]\n",
    ") / 1000\n",
    "print(pauli_exp)\n",
    "\n",
    "# Equivalent to above\n",
    "pauli_exp = sum(\n",
    "    reconstructor(bits) * count for bits, count in sampling_result.items()\n",
    ") / sum(sampling_result.values())\n",
    "print(pauli_exp)\n",
    "\n",
    "# More convenient way\n",
    "from quri_parts.core.estimator.sampling import trivial_pauli_expectation_estimator\n",
    "pauli_exp = trivial_pauli_expectation_estimator(sampling_result, pauli_label(\"Z2 Y3\"))\n",
    "print(pauli_exp)"
   ]
  },
  {
   "cell_type": "markdown",
   "id": "c416e481",
   "metadata": {},
   "source": [
    "Here `trivial_pauli_expectation_estimator` can be used because we used bitwise Pauli grouping. In a more general case, `general_pauli_expectation_estimator` should be used with a `PauliReconstructorFactory`:"
   ]
  },
  {
   "cell_type": "code",
   "execution_count": 11,
   "id": "8597f0f5",
   "metadata": {},
   "outputs": [
    {
     "name": "stdout",
     "output_type": "stream",
     "text": [
      "0.0\n"
     ]
    }
   ],
   "source": [
    "from quri_parts.core.estimator.sampling import general_pauli_expectation_estimator\n",
    "pauli_exp = general_pauli_expectation_estimator(\n",
    "    sampling_result, pauli_label(\"Z2 Y3\"), bitwise_pauli_reconstructor_factory\n",
    ")\n",
    "print(pauli_exp)"
   ]
  },
  {
   "cell_type": "markdown",
   "id": "60b9d2c3",
   "metadata": {},
   "source": [
    "## Estimate original operator expectation value from estimated Pauli values\n",
    "\n",
    "Finally, expectation value of the original operator can be estimated by summing up contributions of each Pauli term. To calculate contribution of $Z_2 Y_3$:"
   ]
  },
  {
   "cell_type": "code",
   "execution_count": 12,
   "id": "66eddfb2",
   "metadata": {},
   "outputs": [
    {
     "name": "stdout",
     "output_type": "stream",
     "text": [
      "0j\n"
     ]
    }
   ],
   "source": [
    "# Coefficient of Z2 Y3 in op\n",
    "coef = op[pauli_label(\"Z2 Y3\")]\n",
    "pauli_contrib = coef * pauli_exp\n",
    "print(pauli_contrib)"
   ]
  },
  {
   "cell_type": "markdown",
   "id": "f609c538",
   "metadata": {},
   "source": [
    "Repeating this procedure for all Pauli terms, expectation value of the original operator can be estimated."
   ]
  },
  {
   "cell_type": "markdown",
   "id": "c1ffdc66",
   "metadata": {},
   "source": [
    "## Sampling estimation\n",
    "\n",
    "The above procedure is a bit complicated, so a shortcut methods are provided. To use them we first introduce `CommutablePauliSetMeasurement`: it is a data structure containing the following elements:\n",
    "\n",
    "* `pauli_set`: A set of commutable Pauli operators that are measured together.\n",
    "* `measurement_circuit`: A circuit required to measure the given `pauli_set`.\n",
    "* `pauli_reconstructor_factory`: A factory of functions that reconstruct Pauli operator values from sampling result\n",
    "\n",
    "A set of `CommutablePauliSetMeasurement` needs to be constructed depending on a specific measurement scheme: for example, for bitwise Pauli grouping, you can do as follows:"
   ]
  },
  {
   "cell_type": "code",
   "execution_count": 13,
   "id": "29894700",
   "metadata": {},
   "outputs": [
    {
     "name": "stdout",
     "output_type": "stream",
     "text": [
      "Number of CommutablePauliSetMeasurement: 5\n",
      "frozenset({PauliLabel({(1, <SinglePauli.X: 1>), (3, <SinglePauli.Y: 2>)})})\n",
      "(QuantumGate(name='H', target_indices=(1,), control_indices=(), params=(), pauli_ids=()), QuantumGate(name='Sdag', target_indices=(3,), control_indices=(), params=(), pauli_ids=()), QuantumGate(name='H', target_indices=(3,), control_indices=(), params=(), pauli_ids=()))\n",
      "<function bitwise_pauli_reconstructor_factory at 0x7f567494e9d0>\n"
     ]
    }
   ],
   "source": [
    "from quri_parts.core.measurement import bitwise_commuting_pauli_measurement\n",
    "measurements = bitwise_commuting_pauli_measurement(op)\n",
    "print(f\"Number of CommutablePauliSetMeasurement: {len(measurements)}\")\n",
    "measurement = measurements[0]\n",
    "print(measurement.pauli_set)\n",
    "print(measurement.measurement_circuit)\n",
    "print(measurement.pauli_reconstructor_factory)"
   ]
  },
  {
   "cell_type": "markdown",
   "id": "7bf8293d",
   "metadata": {},
   "source": [
    "Another input necessary for estimation is `PauliSamplingShotsAllocator`: it specifies how total sampling shots should be allocated to measurement of each Pauli sets. There are several allocators available:"
   ]
  },
  {
   "cell_type": "code",
   "execution_count": 14,
   "id": "0015f73c",
   "metadata": {},
   "outputs": [],
   "source": [
    "from quri_parts.core.sampling.shots_allocator import (\n",
    "    create_equipartition_shots_allocator,\n",
    "    create_proportional_shots_allocator,\n",
    "    create_weighted_random_shots_allocator,\n",
    ")\n",
    "# Allocates shots equally among the Pauli sets\n",
    "allocator = create_equipartition_shots_allocator()\n",
    "# Allocates shots proportional to Pauli coefficients in the operator\n",
    "allocator = create_proportional_shots_allocator()\n",
    "# Allocates shots using random weights\n",
    "allocator = create_weighted_random_shots_allocator(seed=777)"
   ]
  },
  {
   "cell_type": "markdown",
   "id": "986a1ab5",
   "metadata": {},
   "source": [
    "With these inputs, sampling estimation can be performed as follows:"
   ]
  },
  {
   "cell_type": "code",
   "execution_count": 15,
   "id": "215d9a8c",
   "metadata": {
    "scrolled": true
   },
   "outputs": [
    {
     "name": "stdout",
     "output_type": "stream",
     "text": [
      "Estimated expectation value: (0.6911126120594374+0.021229238383697557j)\n",
      "Standard error of estimation: 0.07071572965514332\n"
     ]
    }
   ],
   "source": [
    "from quri_parts.qulacs.sampler import create_qulacs_vector_concurrent_sampler\n",
    "from quri_parts.core.estimator.sampling import sampling_estimate\n",
    "concurrent_sampler = create_qulacs_vector_concurrent_sampler()\n",
    "estimate = sampling_estimate(\n",
    "    op,            # Operator to estimate\n",
    "    initial_state, # Initial (circuit) state\n",
    "    5000,          # Total sampling shots\n",
    "    concurrent_sampler, # ConcurrentSampler\n",
    "    bitwise_commuting_pauli_measurement, # Factory function for CommutablePauliSetMeasurement\n",
    "    allocator,     # PauliSamplingShotsAllocator\n",
    ")\n",
    "print(f\"Estimated expectation value: {estimate.value}\")\n",
    "print(f\"Standard error of estimation: {estimate.error}\")"
   ]
  },
  {
   "cell_type": "markdown",
   "id": "e5fb91e6",
   "metadata": {},
   "source": [
    "You can also create a `QuantumEstimator` that performs sampling estimation:"
   ]
  },
  {
   "cell_type": "code",
   "execution_count": 16,
   "id": "70759ad0",
   "metadata": {},
   "outputs": [
    {
     "name": "stdout",
     "output_type": "stream",
     "text": [
      "Estimated expectation value: (0.7443525413563896-0.06931160253571916j)\n",
      "Standard error of estimation: 0.07035696518563977\n"
     ]
    }
   ],
   "source": [
    "from quri_parts.core.estimator.sampling import create_sampling_estimator\n",
    "estimator = create_sampling_estimator(\n",
    "    5000,          # Total sampling shots\n",
    "    concurrent_sampler, # ConcurrentSampler\n",
    "    bitwise_commuting_pauli_measurement, # Factory function for CommutablePauliSetMeasurement\n",
    "    allocator,     # PauliSamplingShotsAllocator\n",
    ")\n",
    "estimate = estimator(op, initial_state)\n",
    "print(f\"Estimated expectation value: {estimate.value}\")\n",
    "print(f\"Standard error of estimation: {estimate.error}\")"
   ]
  }
 ],
 "metadata": {
  "kernelspec": {
   "display_name": "Python 3 (ipykernel)",
   "language": "python",
   "name": "python3"
  },
  "language_info": {
   "codemirror_mode": {
    "name": "ipython",
    "version": 3
   },
   "file_extension": ".py",
   "mimetype": "text/x-python",
   "name": "python",
   "nbconvert_exporter": "python",
   "pygments_lexer": "ipython3",
   "version": "3.9.9"
  }
 },
 "nbformat": 4,
 "nbformat_minor": 5
}
