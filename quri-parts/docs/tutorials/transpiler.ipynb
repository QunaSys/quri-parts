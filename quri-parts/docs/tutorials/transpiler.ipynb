{
 "cells": [
  {
   "attachments": {},
   "cell_type": "markdown",
   "id": "134fe285",
   "metadata": {},
   "source": [
    "# Circuit transpiler\n",
    "\n",
    "For various reasons, we may want to convert a quantum circuit to another quantum circuit that is semantically equivalent.\n",
    "\n",
    "For example, if a particular backend supports only a particular gate set, the gate set must be converted. Also, if the qubits are implemented in a particular topology, a conversion may be necessary to make the circuit viable. Converting a semantically equivalent redundant representation to a more concise representation may reduce the execution time of the circuit, the error rate, and the number of qubits.\n",
    "\n",
    "These motivations can be broadly classified into two categories.\n",
    "\n",
    "1. Backend (hardware) adaptation\n",
    "2. Circuit optimization\n",
    "\n",
    "QURI Parts provides a variety of circuit transpilers for these purposes. Users can also prepare a new transpiler by combining existing transpilers or implementing one from scratch. This tutorial will show you how to handle circuit transpilers with QURI Parts."
   ]
  },
  {
   "attachments": {},
   "cell_type": "markdown",
   "id": "6cd7f522",
   "metadata": {},
   "source": [
    "## Prerequisite\n",
    "\n",
    "QURI Parts modules used in this tutorial: `quri-parts-circuit` and `quri-parts-core`. You can install them as follows:"
   ]
  },
  {
   "cell_type": "code",
   "execution_count": null,
   "id": "225d59a3",
   "metadata": {},
   "outputs": [],
   "source": [
    "!pip install \"quri-parts\""
   ]
  },
  {
   "attachments": {},
   "cell_type": "markdown",
   "id": "20e75b55",
   "metadata": {},
   "source": [
    "## Transpiler interface\n",
    "\n",
    "All transpilers in QURI Parts are `CircuitTranspiler` and can convert `NonParametricQuantumCircuit` to another `NonParametricQuantumCircuit` by calling with the circuit as follows."
   ]
  },
  {
   "cell_type": "code",
   "execution_count": 2,
   "id": "d17d3fe0",
   "metadata": {},
   "outputs": [],
   "source": [
    "from typing import Callable\n",
    "from typing_extensions import TypeAlias\n",
    "from quri_parts.circuit import NonParametricQuantumCircuit\n",
    "from quri_parts.circuit.transpile import CircuitTranspiler\n",
    "\n",
    "CircuitTranspiler: TypeAlias = Callable[\n",
    "    [NonParametricQuantumCircuit], NonParametricQuantumCircuit\n",
    "]"
   ]
  },
  {
   "cell_type": "code",
   "execution_count": 3,
   "id": "99e9c319",
   "metadata": {},
   "outputs": [
    {
     "name": "stdout",
     "output_type": "stream",
     "text": [
      "original:\n",
      "   ___                  \n",
      "  | X |                 \n",
      "--|1  |-----------------\n",
      "  |___|                 \n",
      "           ___          \n",
      "          |CX |         \n",
      "----------|2  |---------\n",
      "          |___|         \n",
      "   ___      |      ___  \n",
      "  | H |     |     | Z | \n",
      "--|0  |-----●-----|3  |-\n",
      "  |___|           |___| \n",
      "\n",
      "transpiled:\n",
      "   ___                                  \n",
      "  | X |                                 \n",
      "--|3  |---------------------------------\n",
      "  |___|                                 \n",
      "                           ___          \n",
      "                          |CX |         \n",
      "--------------------------|4  |---------\n",
      "                          |___|         \n",
      "   ___     ___     ___      |      ___  \n",
      "  |RZ |   |sqX|   |RZ |     |     |RZ | \n",
      "--|0  |---|1  |---|2  |-----●-----|5  |-\n",
      "  |___|   |___|   |___|           |___| \n"
     ]
    }
   ],
   "source": [
    "from quri_parts.circuit import QuantumCircuit\n",
    "from quri_parts.circuit.transpile import RZSetTranspiler\n",
    "from quri_parts.circuit.utils.circuit_drawer import draw_circuit\n",
    "\n",
    "circuit = QuantumCircuit(3)\n",
    "circuit.add_H_gate(2)\n",
    "circuit.add_X_gate(0)\n",
    "circuit.add_CNOT_gate(2, 1)\n",
    "circuit.add_Z_gate(2)\n",
    "\n",
    "print(\"original:\")\n",
    "draw_circuit(circuit)\n",
    "\n",
    "transpiler = RZSetTranspiler()\n",
    "transpiled_circuit = transpiler(circuit)\n",
    "\n",
    "print(\"\\ntranspiled:\")\n",
    "draw_circuit(transpiled_circuit)"
   ]
  },
  {
   "attachments": {},
   "cell_type": "markdown",
   "id": "73a7cc57",
   "metadata": {},
   "source": [
    "Multiple transpilers can be applied simply by lining up the transformations."
   ]
  },
  {
   "cell_type": "code",
   "execution_count": 4,
   "id": "2eb0f9ad",
   "metadata": {},
   "outputs": [],
   "source": [
    "from quri_parts.circuit.transpile import (\n",
    "    TOFFOLI2HTTdagCNOTTranspiler,\n",
    "    H2RZSqrtXTranspiler,\n",
    "    T2RZTranspiler,\n",
    "    Tdag2RZTranspiler,\n",
    ")\n",
    "\n",
    "circuit = QuantumCircuit(3)\n",
    "circuit.add_TOFFOLI_gate(0, 1, 2)\n",
    "\n",
    "circuit = TOFFOLI2HTTdagCNOTTranspiler()(circuit)\n",
    "circuit = H2RZSqrtXTranspiler()(circuit)\n",
    "circuit = T2RZTranspiler()(circuit)\n",
    "circuit = Tdag2RZTranspiler()(circuit)\n",
    "\n",
    "# draw_circuit(circuit)"
   ]
  },
  {
   "attachments": {},
   "cell_type": "markdown",
   "id": "83a4e20d",
   "metadata": {},
   "source": [
    "\n",
    "It can also be written somewhat more easily by using `SequentialTranspiler` by passing `CircuitTranspiler` instances on creation."
   ]
  },
  {
   "cell_type": "code",
   "execution_count": 5,
   "id": "5d1c29bb",
   "metadata": {},
   "outputs": [],
   "source": [
    "from quri_parts.circuit.transpile import SequentialTranspiler\n",
    "\n",
    "circuit = QuantumCircuit(3)\n",
    "circuit.add_TOFFOLI_gate(0, 1, 2)\n",
    "\n",
    "transpiler = SequentialTranspiler([\n",
    "    TOFFOLI2HTTdagCNOTTranspiler(),\n",
    "    H2RZSqrtXTranspiler(),\n",
    "    T2RZTranspiler(),\n",
    "    Tdag2RZTranspiler(),\n",
    "])\n",
    "circuit = transpiler(circuit)\n",
    "\n",
    "# draw_circuit(circuit)"
   ]
  },
  {
   "attachments": {},
   "cell_type": "markdown",
   "id": "7899a3b9",
   "metadata": {},
   "source": [
    "\n",
    "If the gate transformations are exclusive, `ParallelDecomposer` can also be used to make it more efficient. `SequentialTranspiler` and `ParallelDecomposer` can be nested since they also are `CircuitTranspiler`."
   ]
  },
  {
   "cell_type": "code",
   "execution_count": 6,
   "id": "9e9b163a",
   "metadata": {},
   "outputs": [],
   "source": [
    "from quri_parts.circuit.transpile import ParallelDecomposer\n",
    "\n",
    "circuit = QuantumCircuit(3)\n",
    "circuit.add_TOFFOLI_gate(0, 1, 2)\n",
    "\n",
    "transpiler = SequentialTranspiler([\n",
    "    TOFFOLI2HTTdagCNOTTranspiler(),\n",
    "    ParallelDecomposer([\n",
    "        H2RZSqrtXTranspiler(),\n",
    "        T2RZTranspiler(),\n",
    "        Tdag2RZTranspiler(),\n",
    "    ]),\n",
    "])\n",
    "circuit = transpiler(circuit)\n",
    "\n",
    "# draw_circuit(circuit)"
   ]
  },
  {
   "attachments": {},
   "cell_type": "markdown",
   "id": "c50be918",
   "metadata": {},
   "source": [
    "## Transpiler for backend adaptation\n",
    "\n",
    "### Gate set conversion\n",
    "\n",
    "When a circuit is executed on a real machine in each backend, the gate set of the circuit is often limited to a few universal gates. Also, QURI Parts has high level gate representations such as multi-pauli gates, which are not supported by most backends. Therefore, the circuit must be tranpiled to convert gate set prior to the circuit execution on the backend.\n",
    "\n",
    "When creating a SamplingBackend or converting a circuit, a default transpiler for each backend is automatically applied, but a user-specified transpiler can be used instead of the default one.\n",
    "\n",
    "**Complex gate decomposition**\n",
    "\n",
    "|Module|Transpiler|Target gate|Decomposed gate set|Description|\n",
    "|:--|:--|:--|:--|:--|\n",
    "|quri_parts.circuit.transpile|PauliDecomposeTranspiler|Pauli|{X, Y, Z}|Decompose Pauli gates into gate sequences including X, Y, and Z gates.|\n",
    "|quri_parts.circuit.transpile|PauliRotationDecomposeTranspiler|PauliRotation|{H, RX, RZ, CNOT}|Decompose PauliRotation gates into gate sequences including H, RX, RZ, and CNOT gates.|\n",
    "|quri_parts.circuit.transpile|SingleQubitUnitaryMatrix2RYRZTranspiler|UnitaryMatrix|{RY, RZ}|Decompose single qubit UnitaryMatrix gates into named gate sequences.|\n",
    "|quri_parts.circuit.transpile|TwoQubitUnitaryMatrixKAKTranspiler|UnitaryMatrix|{H, S, RX, RY, RZ, CNOT}|Decompose two qubit UnitaryMatrix gates into named gate sequences.|\n",
    "\n",
    "**Gate set conversion**\n",
    "\n",
    "|Module|Transpiler|Target gate set|Description|\n",
    "|:--|:--|:--|:--|\n",
    "|quri_parts.circuit.transpile|RZSetTranspiler|{X, SqrtX, RZ, CNOT}|Gate set used in superconducting type equipment such as IBM Quantum via Qiskit.|\n",
    "|quri_parts.circuit.transpile|RotationSetTranspiler|{RX, RY, RZ, CNOT}|Intermediate gate set for ion trap type equipment.|\n",
    "|quri_parts.circuit.transpile|CliffordRZSetTranspiler|{H, X, Y, Z, S, SqrtX, SqrtXdag, SqrtY, SqrtYdag, Sdag, RZ, CZ, CNOT}|Clifford + RZ gate set.|\n",
    "|quri_parts.quantinuum.circuit.transpile|QuantinuumSetTranspiler|{U1q, RZ, ZZ, RZZ}|Gate set for actual equipment of Quantinuum H1 and H2.|\n",
    "|quri_parts.ionq.circuit.transpile|IonQSetTranspiler|{GPi, GPi2, MS}|Gate set for actual equipment of IonQ.|"
   ]
  },
  {
   "attachments": {},
   "cell_type": "markdown",
   "id": "164a328e",
   "metadata": {},
   "source": [
    "\n",
    "### Qubit mapping\n",
    "\n",
    "Real devices in the NISQ era are also constrained by the topology of the qubit. In most cases, these constraints are satisfied by the backend automatically transforming the circuit, but sometimes it is desirable to suppress the transformation by the backend and give an explicit mapping of the qubits.\n",
    "\n",
    "Such qubit mapping can be specified by a dictionary when creating `SamplingBackend`s, but you can also create `QubitRemappingTranspiler` that performs the qubit mapping for given circuits."
   ]
  },
  {
   "cell_type": "code",
   "execution_count": 7,
   "id": "11510fb4",
   "metadata": {},
   "outputs": [
    {
     "name": "stdout",
     "output_type": "stream",
     "text": [
      "original:\n",
      "   ___          \n",
      "  | H |         \n",
      "--|0  |---------\n",
      "  |___|         \n",
      "   ___          \n",
      "  | X |         \n",
      "--|1  |-----●---\n",
      "  |___|     |   \n",
      "           _|_  \n",
      "          |CX | \n",
      "----------|2  |-\n",
      "          |___| \n",
      "\n",
      "transpiled:\n",
      "   ___          \n",
      "  | X |         \n",
      "--|1  |-----●---\n",
      "  |___|     |   \n",
      "           _|_  \n",
      "          |CX | \n",
      "----------|2  |-\n",
      "          |___| \n",
      "   ___          \n",
      "  | H |         \n",
      "--|0  |---------\n",
      "  |___|         \n"
     ]
    }
   ],
   "source": [
    "from quri_parts.circuit import H, X, CNOT\n",
    "from quri_parts.circuit.transpile import QubitRemappingTranspiler\n",
    "\n",
    "circuit = QuantumCircuit(3)\n",
    "circuit.extend([H(0), X(1), CNOT(1, 2)])\n",
    "\n",
    "print(\"original:\")\n",
    "draw_circuit(circuit)\n",
    "\n",
    "circuit = QubitRemappingTranspiler({0: 2, 1: 0, 2: 1})(circuit)\n",
    "\n",
    "print(\"\\ntranspiled:\")\n",
    "draw_circuit(circuit)"
   ]
  },
  {
   "attachments": {},
   "cell_type": "markdown",
   "id": "f79a43bd",
   "metadata": {},
   "source": [
    "## Transpiler for circuit optimization\n",
    "\n",
    "Quantum circuits may be converted to more concise circuits with equivalent action. In actual hardware, certain representations of equivalent circuits may reduce errors or decrease execution time. For example, in the NISQ era, the number of 2-qubit gates often has a significant impact on the error rate, and in the FTQC era, the number of T gates may affect the execution time of a circuit. Optimizing circuits based on these various criteria is another role expected of transpilers.\n",
    "\n",
    "In QURI Parts, many optimization paths are currently private, but some are available and more will be public in the future.\n",
    "\n",
    "|Module|Transpiler|Type|Description|\n",
    "|:--|:--|:--|:--|\n",
    "|quri_parts.circuit.transpile|CliffordApproximationTranspiler|Approximate|Replace non-Clifford gates with approximate Clifford gate sequences.|\n",
    "|quri_parts.circuit.transpile|IdentityInsertionTranspiler|Equivalent|Add Identity gates to qubits which have no gate acting on.|\n",
    "|quri_parts.circuit.transpile|IdentityEliminationTranspiler|Equivalent|Remove all Identity gates.|\n",
    "|quri_parts.qiskit.circuit.transpile|QiskitTranspiler|Equivalent (Numerical error)|Perform backend adaptation, gate set conversion, and circuit simplification using Qiskit's capabilities.|\n",
    "|quri_parts.tket.circuit.transpile|TketTranspiler|Equivalent (Numerical error)|Perfomr backend adaptation, gate set conversion, and circuit simplification using Tket's capabilities.|"
   ]
  },
  {
   "attachments": {},
   "cell_type": "markdown",
   "id": "0f944366",
   "metadata": {},
   "source": [
    "The most basic optimization paths for the rotation gates with parameters are available as follows.\n",
    "\n",
    "|Module|Transpiler|Type|Description|\n",
    "|:--|:--|:--|:--|\n",
    "|quri_parts.circuit.transpile|FuseRotationTranspiler|Equivalent (Numerical error)|Fuse consecutive rotation gates of the same kind.|\n",
    "|quri_parts.circuit.transpile|NormalizeRotationTranspiler|Equivalent (Numerical error)|Normalize the rotation angle of the rotation gates to the specified range.|\n",
    "|quri_parts.circuit.transpile|RX2NamedTranspiler|Equivalent (Numerical error)|Convert RX gate if the RX gate is equal to a named gate with no parameters.|\n",
    "|quri_parts.circuit.transpile|RY2NamedTranspiler|Equivalent (Numerical error)|Convert RY gate if the RY gate is equal to a named gate with no parameters.|\n",
    "|quri_parts.circuit.transpile|RZ2NamedTranspiler|Equivalent (Numerical error)|Convert RZ gate if the RZ gate is equal to a named gate with no parameters.|"
   ]
  },
  {
   "attachments": {},
   "cell_type": "markdown",
   "id": "c200724f",
   "metadata": {},
   "source": [
    "## Define your original transpilers"
   ]
  },
  {
   "attachments": {},
   "cell_type": "markdown",
   "id": "03525536",
   "metadata": {},
   "source": [
    "As explained above, a transpiler chained by `SequentialTranspiler` or `ParallellDecomposer` is itself a `CircuitTranspiler` and can be used like other transpilers. In addition, any callable object with an interface of `CircuitTranspiler` can act as a transpiler, whether it is a user defined function or a class."
   ]
  },
  {
   "cell_type": "code",
   "execution_count": 8,
   "id": "151e26b9",
   "metadata": {},
   "outputs": [],
   "source": [
    "def transpiler(circuit: NonParametricQuantumCircuit) -> NonParametricQuantumCircuit:\n",
    "    ..."
   ]
  },
  {
   "attachments": {},
   "cell_type": "markdown",
   "id": "afa249d5",
   "metadata": {},
   "source": [
    "When defining the original transpiler as a class, `CircuitTranspilerProtocol` is defined as an abstract base class that satisfies the properties `CircuitTranspiler` and can be inherited."
   ]
  },
  {
   "cell_type": "code",
   "execution_count": 9,
   "id": "fd681cd6",
   "metadata": {},
   "outputs": [],
   "source": [
    "from quri_parts.circuit.transpile import CircuitTranspilerProtocol\n",
    "\n",
    "class Transpiler(CircuitTranspilerProtocol):\n",
    "    def __call__(self, circuit: NonParametricQuantumCircuit) -> NonParametricQuantumCircuit:\n",
    "        ..."
   ]
  },
  {
   "attachments": {},
   "cell_type": "markdown",
   "id": "dc91621b",
   "metadata": {},
   "source": [
    "`GateDecomposer` and `GateKindDecomposer` are available for transpilers that convert a specific type of gates in a circuit to some gate sequences (e.g., a transpiler for converting gate sets). `GateDecomposer` can be used to create a new transpiler by writing only the target gate conditions and the transformation of a target gate into a gate sequence. `GateKindDecomposer` is simillar to `GateDecomposer` but it require gate names as target gate conditions."
   ]
  },
  {
   "cell_type": "code",
   "execution_count": 10,
   "id": "08251d22",
   "metadata": {},
   "outputs": [],
   "source": [
    "from collections.abc import Sequence\n",
    "from quri_parts.circuit import QuantumGate, gate_names\n",
    "from quri_parts.circuit.transpile import GateDecomposer, GateKindDecomposer\n",
    "\n",
    "class S0toTTranspiler(GateDecomposer):\n",
    "    def is_target_gate(self, gate: QuantumGate) -> bool:\n",
    "        return gate.target_indices[0] == 0 and gate.name == gate_names.S\n",
    "    \n",
    "    def decompose(self, gate: QuantumGate) -> Sequence[QuantumGate]:\n",
    "        target = gate.target_indices[0]\n",
    "        return [gate.T(target), gate.T(target)]\n",
    "    \n",
    "class AnyStoTTranspiler(GateKindDecomposer):\n",
    "    def target_gate_names(self) -> Sequence[str]:\n",
    "        return [gate_names.S]\n",
    "    \n",
    "    def decompose(self, gate: QuantumGate) -> Sequence[QuantumGate]:\n",
    "        target = gate.target_indices[0]\n",
    "        return [gate.T(target), gate.T(target)]"
   ]
  }
 ],
 "metadata": {
  "kernelspec": {
   "display_name": "Python 3 (ipykernel)",
   "language": "python",
   "name": "python3"
  },
  "language_info": {
   "codemirror_mode": {
    "name": "ipython",
    "version": 3
   },
   "file_extension": ".py",
   "mimetype": "text/x-python",
   "name": "python",
   "nbconvert_exporter": "python",
   "pygments_lexer": "ipython3",
   "version": "3.10.13"
  }
 },
 "nbformat": 4,
 "nbformat_minor": 5
}
