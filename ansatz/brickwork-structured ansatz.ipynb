{
 "cells": [
  {
   "cell_type": "code",
   "execution_count": 3,
   "id": "c5de3f64-3219-4338-b7d7-ec2d512dcd04",
   "metadata": {},
   "outputs": [
    {
     "name": "stdout",
     "output_type": "stream",
     "text": [
      "\u001b[1minfo:\u001b[0m downloading installer\n",
      "\u001b[0m\u001b[1minfo: \u001b[0mprofile set to 'default'\n",
      "\u001b[0m\u001b[1minfo: \u001b[0mdefault host triple is x86_64-apple-darwin\n",
      "\u001b[0m\u001b[1minfo: \u001b[0msyncing channel updates for 'stable-x86_64-apple-darwin'\n",
      "\u001b[0m\u001b[1minfo: \u001b[0mlatest update on 2024-10-17, rust version 1.82.0 (f6e511eec 2024-10-15)\n",
      "\u001b[0m\u001b[1minfo: \u001b[0mdownloading component 'cargo'\n",
      "\u001b[0m\u001b[1minfo: \u001b[0mdownloading component 'clippy'\n",
      "\u001b[0m\u001b[1minfo: \u001b[0mdownloading component 'rust-docs'\n",
      "\u001b[0m\u001b[1minfo: \u001b[0mdownloading component 'rust-std'\n",
      "\u001b[0m\u001b[1minfo: \u001b[0mdownloading component 'rustc'\n",
      " 59.6 MiB /  59.6 MiB (100 %)  33.0 MiB/s in  1s ETA:  0s\n",
      "\u001b[0m\u001b[1minfo: \u001b[0mdownloading component 'rustfmt'\n",
      "\u001b[0m\u001b[1minfo: \u001b[0minstalling component 'cargo'\n",
      "  7.1 MiB /   7.1 MiB (100 %)   4.9 MiB/s in  1s ETA:  0s\n",
      "\u001b[0m\u001b[1minfo: \u001b[0minstalling component 'clippy'\n",
      "\u001b[0m\u001b[1minfo: \u001b[0minstalling component 'rust-docs'\n",
      " 16.3 MiB /  16.3 MiB (100 %)   1.9 MiB/s in 14s ETA:  0s    \n",
      "\u001b[0m\u001b[1minfo: \u001b[0minstalling component 'rust-std'\n",
      " 24.9 MiB /  24.9 MiB (100 %)   8.6 MiB/s in  2s ETA:  0s\n",
      "\u001b[0m\u001b[1minfo: \u001b[0minstalling component 'rustc'\n",
      " 59.6 MiB /  59.6 MiB (100 %)   9.3 MiB/s in  6s ETA:  0s\n",
      "\u001b[0m\u001b[1minfo: \u001b[0minstalling component 'rustfmt'\n",
      "\u001b[0m\u001b[1minfo: \u001b[0mdefault toolchain set to 'stable-x86_64-apple-darwin'\n",
      "\n",
      "  \u001b[0m\u001b[1m\u001b[0m\u001b[1m\u001b[32mstable-x86_64-apple-darwin installed\u001b[0m - rustc 1.82.0 (f6e511eec 2024-10-15)\n",
      "\n",
      "\u001b[0m\u001b[1m\n",
      "Rust is installed now. Great!\n",
      "\u001b[0m\n",
      "To get started you may need to restart your current shell.\n",
      "This would reload your \u001b[0m\u001b[1mPATH\u001b[0m environment variable to include\n",
      "Cargo's bin directory ($HOME/.cargo/bin).\n",
      "\n",
      "To configure your current shell, you need to source\n",
      "the corresponding \u001b[0m\u001b[1menv\u001b[0m file under $HOME/.cargo.\n",
      "\n",
      "This is usually done by running one of the following (note the leading DOT):\n",
      ". \"$HOME/.cargo/env\"            # For sh/bash/zsh/ash/dash/pdksh\n",
      "source \"$HOME/.cargo/env.fish\"  # For fish\n"
     ]
    }
   ],
   "source": [
    "!curl --proto '=https' --tlsv1.2 -sSf https://sh.rustup.rs | sh -s -- -y"
   ]
  },
  {
   "cell_type": "code",
   "execution_count": 5,
   "id": "c957a264-756b-4903-a146-c991b08fbe25",
   "metadata": {},
   "outputs": [],
   "source": [
    "import os\n",
    "os.environ['PATH'] += os.pathsep + os.path.expanduser('~/.cargo/bin')"
   ]
  },
  {
   "cell_type": "code",
   "execution_count": 7,
   "id": "c597c8d7-8c59-4a32-8bb7-890165c64658",
   "metadata": {},
   "outputs": [
    {
     "name": "stdout",
     "output_type": "stream",
     "text": [
      "rustc 1.82.0 (f6e511eec 2024-10-15)\n",
      "cargo 1.82.0 (8f40fc59f 2024-08-21)\n"
     ]
    }
   ],
   "source": [
    "!rustc --version\n",
    "!cargo --version\n"
   ]
  },
  {
   "cell_type": "code",
   "execution_count": 9,
   "id": "12e4cc54-ae77-41a4-b1fa-169fd4386905",
   "metadata": {},
   "outputs": [
    {
     "name": "stdout",
     "output_type": "stream",
     "text": [
      "Collecting quri-parts[braket,cirq,qiskit,qulacs,tket]\n",
      "  Using cached quri_parts-0.20.3-py3-none-any.whl.metadata (6.6 kB)\n",
      "Collecting quri-parts-algo (from quri-parts[braket,cirq,qiskit,qulacs,tket])\n",
      "  Using cached quri_parts_algo-0.20.3-py3-none-any.whl.metadata (1.2 kB)\n",
      "Collecting quri-parts-braket (from quri-parts[braket,cirq,qiskit,qulacs,tket])\n",
      "  Using cached quri_parts_braket-0.20.3-py3-none-any.whl.metadata (1.4 kB)\n",
      "Collecting quri-parts-chem (from quri-parts[braket,cirq,qiskit,qulacs,tket])\n",
      "  Using cached quri_parts_chem-0.20.3-py3-none-any.whl.metadata (1.1 kB)\n",
      "Collecting quri-parts-circuit (from quri-parts[braket,cirq,qiskit,qulacs,tket])\n",
      "  Using cached quri_parts_circuit-0.20.3-py3-none-any.whl.metadata (1.1 kB)\n",
      "Collecting quri-parts-cirq (from quri-parts[braket,cirq,qiskit,qulacs,tket])\n",
      "  Using cached quri_parts_cirq-0.20.3-py3-none-any.whl.metadata (1.1 kB)\n",
      "Collecting quri-parts-core (from quri-parts[braket,cirq,qiskit,qulacs,tket])\n",
      "  Using cached quri_parts_core-0.20.3-py3-none-any.whl.metadata (1.2 kB)\n",
      "Collecting quri-parts-qiskit (from quri-parts[braket,cirq,qiskit,qulacs,tket])\n",
      "  Using cached quri_parts_qiskit-0.20.3-py3-none-any.whl.metadata (1.3 kB)\n",
      "Collecting quri-parts-qulacs (from quri-parts[braket,cirq,qiskit,qulacs,tket])\n",
      "  Using cached quri_parts_qulacs-0.20.3-py3-none-any.whl.metadata (1.3 kB)\n",
      "Collecting quri-parts-tket (from quri-parts[braket,cirq,qiskit,qulacs,tket])\n",
      "  Using cached quri_parts_tket-0.20.3-py3-none-any.whl.metadata (1.2 kB)\n",
      "Requirement already satisfied: scipy<2.0.0,>=1.9.1 in /Applications/anaconda3/lib/python3.12/site-packages (from quri-parts-algo->quri-parts[braket,cirq,qiskit,qulacs,tket]) (1.13.1)\n",
      "Requirement already satisfied: typing-extensions<5.0.0,>=4.1.1 in /Applications/anaconda3/lib/python3.12/site-packages (from quri-parts-algo->quri-parts[braket,cirq,qiskit,qulacs,tket]) (4.11.0)\n",
      "Collecting amazon-braket-schemas<2.0.0,>=1.22.0 (from quri-parts-braket->quri-parts[braket,cirq,qiskit,qulacs,tket])\n",
      "  Using cached amazon_braket_schemas-1.22.2-py3-none-any.whl.metadata (5.8 kB)\n",
      "Collecting amazon-braket-sdk<2.0.0,>=1.25.1 (from quri-parts-braket->quri-parts[braket,cirq,qiskit,qulacs,tket])\n",
      "  Using cached amazon_braket_sdk-1.88.1-py3-none-any.whl.metadata (14 kB)\n",
      "Requirement already satisfied: numpy>=1.22.0 in /Applications/anaconda3/lib/python3.12/site-packages (from quri-parts-circuit->quri-parts[braket,cirq,qiskit,qulacs,tket]) (1.26.4)\n",
      "Collecting quri-parts-rust (from quri-parts-circuit->quri-parts[braket,cirq,qiskit,qulacs,tket])\n",
      "  Using cached quri_parts_rust-0.20.3.tar.gz (629 kB)\n",
      "  Installing build dependencies ... \u001b[?25ldone\n",
      "\u001b[?25h  Getting requirements to build wheel ... \u001b[?25ldone\n",
      "\u001b[?25h  Preparing metadata (pyproject.toml) ... \u001b[?25ldone\n",
      "\u001b[?25hCollecting cirq-core<2.0.0,>=1.0.0 (from quri-parts-cirq->quri-parts[braket,cirq,qiskit,qulacs,tket])\n",
      "  Downloading cirq_core-1.4.1-py3-none-any.whl.metadata (1.8 kB)\n",
      "Requirement already satisfied: networkx in /Applications/anaconda3/lib/python3.12/site-packages (from quri-parts-core->quri-parts[braket,cirq,qiskit,qulacs,tket]) (3.2.1)\n",
      "Requirement already satisfied: pydantic<3.0,>=2.0 in /Applications/anaconda3/lib/python3.12/site-packages (from quri-parts-qiskit->quri-parts[braket,cirq,qiskit,qulacs,tket]) (2.5.3)\n",
      "Requirement already satisfied: qiskit>=1 in /Applications/anaconda3/lib/python3.12/site-packages (from quri-parts-qiskit->quri-parts[braket,cirq,qiskit,qulacs,tket]) (1.1.1)\n",
      "Collecting qiskit-ibm-runtime<0.23.0,>=0.22.0 (from quri-parts-qiskit->quri-parts[braket,cirq,qiskit,qulacs,tket])\n",
      "  Downloading qiskit_ibm_runtime-0.22.0-py3-none-any.whl.metadata (19 kB)\n",
      "Collecting Qulacs<0.7.0,>=0.3.0 (from quri-parts-qulacs->quri-parts[braket,cirq,qiskit,qulacs,tket])\n",
      "  Downloading qulacs-0.6.10-cp312-cp312-macosx_10_9_x86_64.whl.metadata (14 kB)\n",
      "INFO: pip is looking at multiple versions of quri-parts-tket to determine which version is compatible with other requirements. This could take a while.\n",
      "Collecting quri-parts-tket (from quri-parts[braket,cirq,qiskit,qulacs,tket])\n",
      "  Downloading quri_parts_tket-0.20.2-py3-none-any.whl.metadata (1.2 kB)\n",
      "  Downloading quri_parts_tket-0.20.1-py3-none-any.whl.metadata (1.2 kB)\n",
      "  Downloading quri_parts_tket-0.20.0-py3-none-any.whl.metadata (1.2 kB)\n",
      "  Downloading quri_parts_tket-0.19.0-py3-none-any.whl.metadata (1.2 kB)\n",
      "  Downloading quri_parts_tket-0.18.1-py3-none-any.whl.metadata (1.2 kB)\n",
      "  Downloading quri_parts_tket-0.18.0-py3-none-any.whl.metadata (1.2 kB)\n",
      "  Downloading quri_parts_tket-0.17.0-py3-none-any.whl.metadata (1.2 kB)\n",
      "INFO: pip is still looking at multiple versions of quri-parts-tket to determine which version is compatible with other requirements. This could take a while.\n",
      "  Downloading quri_parts_tket-0.16.1-py3-none-any.whl.metadata (1.2 kB)\n",
      "  Downloading quri_parts_tket-0.16.0-py3-none-any.whl.metadata (1.2 kB)\n",
      "  Downloading quri_parts_tket-0.15.1-py3-none-any.whl.metadata (1.2 kB)\n",
      "  Downloading quri_parts_tket-0.15.0-py3-none-any.whl.metadata (1.2 kB)\n",
      "  Downloading quri_parts_tket-0.14.0-py3-none-any.whl.metadata (1.2 kB)\n",
      "INFO: This is taking longer than usual. You might need to provide the dependency resolver with stricter constraints to reduce runtime. See https://pip.pypa.io/warnings/backtracking for guidance. If you want to abort this run, press Ctrl + C.\n",
      "  Downloading quri_parts_tket-0.13.0-py3-none-any.whl.metadata (1.2 kB)\n",
      "  Downloading quri_parts_tket-0.12.0.post1-py3-none-any.whl.metadata (1.2 kB)\n",
      "  Downloading quri_parts_tket-0.11.0-py3-none-any.whl.metadata (1.2 kB)\n",
      "  Downloading quri_parts_tket-0.0.0-py3-none-any.whl.metadata (1.2 kB)\n",
      "Collecting quri-parts[braket,cirq,qiskit,qulacs,tket]\n",
      "  Downloading quri_parts-0.20.2-py3-none-any.whl.metadata (6.6 kB)\n",
      "  Downloading quri_parts-0.20.1-py3-none-any.whl.metadata (6.6 kB)\n",
      "  Downloading quri_parts-0.20.0-py3-none-any.whl.metadata (6.6 kB)\n",
      "\u001b[31mERROR: Cannot install quri-parts because these package versions have conflicting dependencies.\u001b[0m\u001b[31m\n",
      "\u001b[0m\n",
      "The conflict is caused by:\n",
      "    quri-parts-tket 0.20.3 depends on pytket<2.0.0 and >=1.0.0\n",
      "    quri-parts-tket 0.20.2 depends on pytket<2.0.0 and >=1.0.0\n",
      "    quri-parts-tket 0.20.1 depends on pytket<2.0.0 and >=1.0.0\n",
      "    quri-parts-tket 0.20.0 depends on pytket<2.0.0 and >=1.0.0\n",
      "    quri-parts-tket 0.19.0 depends on pytket<2.0.0 and >=1.0.0\n",
      "    quri-parts-tket 0.18.1 depends on pytket<2.0.0 and >=1.0.0\n",
      "    quri-parts-tket 0.18.0 depends on pytket<2.0.0 and >=1.0.0\n",
      "    quri-parts-tket 0.17.0 depends on pytket<2.0.0 and >=1.0.0\n",
      "    quri-parts-tket 0.16.1 depends on pytket<2.0.0 and >=1.0.0\n",
      "    quri-parts-tket 0.16.0 depends on pytket<2.0.0 and >=1.0.0\n",
      "    quri-parts-tket 0.15.1 depends on pytket<2.0.0 and >=1.0.0\n",
      "    quri-parts-tket 0.15.0 depends on pytket<2.0.0 and >=1.0.0\n",
      "    quri-parts-tket 0.14.0 depends on pytket<2.0.0 and >=1.0.0\n",
      "    quri-parts-tket 0.13.0 depends on pytket<2.0.0 and >=1.0.0\n",
      "    quri-parts-tket 0.12.0.post1 depends on pytket<2.0.0 and >=1.0.0\n",
      "    quri-parts-tket 0.11.0 depends on pytket<2.0.0 and >=1.0.0\n",
      "    quri-parts-tket 0.0.0 depends on pytket<2.0.0 and >=1.0.0\n",
      "\n",
      "To fix this you could try to:\n",
      "1. loosen the range of package versions you've specified\n",
      "2. remove package versions to allow pip attempt to solve the dependency conflict\n",
      "\n",
      "\u001b[31mERROR: ResolutionImpossible: for help visit https://pip.pypa.io/en/latest/topics/dependency-resolution/#dealing-with-dependency-conflicts\u001b[0m\u001b[31m\n",
      "\u001b[0m"
     ]
    }
   ],
   "source": [
    "!pip install \"quri-parts[braket,cirq,qiskit,qulacs,tket]\"\n"
   ]
  },
  {
   "cell_type": "code",
   "execution_count": 13,
   "id": "73303b1c-9c40-438b-ac40-487ed1f465f5",
   "metadata": {},
   "outputs": [
    {
     "name": "stdout",
     "output_type": "stream",
     "text": [
      "Pythonのバージョン: 3.12.4 | packaged by Anaconda, Inc. | (main, Jun 18 2024, 10:14:12) [Clang 14.0.6 ]\n"
     ]
    }
   ],
   "source": [
    "import sys\n",
    "print(\"Pythonのバージョン:\", sys.version)\n"
   ]
  },
  {
   "cell_type": "code",
   "execution_count": 83,
   "id": "3d36c7c4-13f7-4a34-a1d3-49df26676280",
   "metadata": {},
   "outputs": [],
   "source": [
    "import numpy as np\n",
    "from quri_parts.circuit.gates import PauliRotation\n",
    "from collections.abc import Sequence\n",
    "from typing import Optional, Sequence, List, Tuple\n",
    "\n",
    "from quri_parts.circuit import (\n",
    "    ImmutableLinearMappedParametricQuantumCircuit,\n",
    "    LinearMappedParametricQuantumCircuit,\n",
    ")\n",
    "\n",
    "from quri_parts.algo.ansatz.two_local import (\n",
    "    EntanglementPatternType,\n",
    "    EntLayerMakerArg,\n",
    "    RotLayerMakerArg,\n",
    "    TwoLocal,\n",
    "    build_entangler_map,\n",
    ")\n",
    "\n",
    "def Rxx_gate(index, theta):\n",
    "    gate = PauliRotation(index, (1, 1), theta) #X gate: pauli_ids=1\n",
    "    return gate\n",
    "\n",
    "def _add_rz_gates(circuit, arg):\n",
    "    layer_index, qubit_index = arg\n",
    "    theta = circuit.add_parameter(f\"theta_{layer_index}_{qubit_index}\")\n",
    "    circuit.add_ParametricRZ_gate(qubit_index, theta)\n",
    "    \n",
    "\n",
    "def _add_rxx_rz_gates(circuit, arg):\n",
    "    layer_index, (i, j) = arg\n",
    "    circuit.add_gate(Rxx_gate((i, j), np.pi / 2))  \n",
    "    circuit.add_ParametricRZ_gate(i, circuit.add_parameter(f\"theta_{layer_index}_{i}\"))  \n",
    "    circuit.add_ParametricRZ_gate(j, circuit.add_parameter(f\"theta_{layer_index}_{j}\"))  \n",
    "    circuit.add_gate(Rxx_gate((i, j), -np.pi / 2))  "
   ]
  },
  {
   "cell_type": "code",
   "execution_count": 118,
   "id": "e35d8371-77cf-477e-98fa-82ff58671849",
   "metadata": {},
   "outputs": [],
   "source": [
    "class Ansatz(ImmutableLinearMappedParametricQuantumCircuit):\n",
    "    _add_rotation_gates = _add_rz_gates\n",
    "    _add_entanglement_gates = _add_rxx_rz_gates\n",
    "\n",
    "    def __init__(\n",
    "        self,\n",
    "        qubit_count: int,\n",
    "        depth: int,\n",
    "        rotation_indices: Optional[Sequence[int]] = None,\n",
    "        entangler_map_seq: Optional[Sequence[Sequence[Tuple[int, int]]]] = None,\n",
    "    ):\n",
    "        if rotation_indices is None:\n",
    "            rotation_indices = list(range(qubit_count))\n",
    "\n",
    "        if entangler_map_seq is None:\n",
    "            entangler_map_seq = self._build_entangler_map_seq(qubit_count, depth)\n",
    "\n",
    "        circuit = TwoLocal(\n",
    "            qubit_count,\n",
    "            layer_pattern=\"e\" * 2 * depth,\n",
    "            rot_layer_maker=self.__class__._add_rotation_gates,\n",
    "            ent_layer_maker=self.__class__._add_entanglement_gates,\n",
    "            rotation_indices=rotation_indices,\n",
    "            entangler_map_seq=entangler_map_seq,\n",
    "        )\n",
    "        super().__init__(circuit)\n",
    "        #self.depth = depth\n",
    "\n",
    "    def _build_entangler_map_seq(self, qubit_count, depth):\n",
    "        entangler_map_seq =[]\n",
    "\n",
    "        for i in range(2 * depth):\n",
    "            if i % 2 == 0:\n",
    "                layer = [(j, j + 1) for j in range(0, qubit_count - 1, 2)]\n",
    "            elif i % 2 == 1:\n",
    "                layer = [(j, j + 1) for j in range(1, qubit_count - 1, 2)]\n",
    "        \n",
    "            entangler_map_seq.append(layer)\n",
    "            \n",
    "        \n",
    "        return entangler_map_seq   \n"
   ]
  },
  {
   "cell_type": "code",
   "execution_count": 122,
   "id": "d95ba8da-7260-450e-b554-5153ea1ed20c",
   "metadata": {},
   "outputs": [
    {
     "name": "stdout",
     "output_type": "stream",
     "text": [
      "   ___     ___     ___                          \n",
      "  |PR |   |PRZ|   |PR |                         \n",
      "--|0  |---|1  |---|3  |-------------------------\n",
      "  |   |   |___|   |   |                         \n",
      "  |   |    ___    |   |    ___     ___     ___  \n",
      "  |   |   |PRZ|   |   |   |PR |   |PRZ|   |PR | \n",
      "--|   |---|2  |---|   |---|12 |---|13 |---|15 |-\n",
      "  |___|   |___|   |___|   |   |   |___|   |   | \n",
      "   ___     ___     ___    |   |    ___    |   | \n",
      "  |PR |   |PRZ|   |PR |   |   |   |PRZ|   |   | \n",
      "--|4  |---|5  |---|7  |---|   |---|14 |---|   |-\n",
      "  |   |   |___|   |   |   |___|   |___|   |___| \n",
      "  |   |    ___    |   |    ___     ___     ___  \n",
      "  |   |   |PRZ|   |   |   |PR |   |PRZ|   |PR | \n",
      "--|   |---|6  |---|   |---|16 |---|17 |---|19 |-\n",
      "  |___|   |___|   |___|   |   |   |___|   |   | \n",
      "   ___     ___     ___    |   |    ___    |   | \n",
      "  |PR |   |PRZ|   |PR |   |   |   |PRZ|   |   | \n",
      "--|8  |---|9  |---|11 |---|   |---|18 |---|   |-\n",
      "  |   |   |___|   |   |   |___|   |___|   |___| \n",
      "  |   |    ___    |   |                         \n",
      "  |   |   |PRZ|   |   |                         \n",
      "--|   |---|10 |---|   |-------------------------\n",
      "  |___|   |___|   |___|                         \n"
     ]
    }
   ],
   "source": [
    "from quri_parts.circuit.utils.circuit_drawer import draw_circuit\n",
    "ansatz = Ansatz(qubit_count=6, depth=1)\n",
    "draw_circuit(ansatz)"
   ]
  }
 ],
 "metadata": {
  "kernelspec": {
   "display_name": "quri_env",
   "language": "python",
   "name": "python3"
  },
  "language_info": {
   "codemirror_mode": {
    "name": "ipython",
    "version": 3
   },
   "file_extension": ".py",
   "mimetype": "text/x-python",
   "name": "python",
   "nbconvert_exporter": "python",
   "pygments_lexer": "ipython3",
   "version": "3.11.5"
  }
 },
 "nbformat": 4,
 "nbformat_minor": 5
}
