{
  "cells": [
    {
      "cell_type": "markdown",
      "metadata": {},
      "source": [
        "# Quantum Fourier Transform"
      ]
    },
    {
      "cell_type": "markdown",
      "metadata": {},
      "source": [
        "Starting from this section, we demonstrate how to use QURI Parts to implement several algorithms containing quantum Fourier transform. We will cover:\n",
        "\n",
        "- Period finding\n",
        "- Phase estimation algorithm\n",
        "- The Shor's algorithm\n",
        "\n",
        "So, in this section, we first illustrate how to use QURI Parts to build the circuit for performing quantum Fourier transform.\n",
        "\n",
        "The purpose of this section is two fold:\n",
        "\n",
        "1. Introduce how multi-controlled gate feature is used in practice.\n",
        "2. Fix the convention of quantum Fourier transform."
      ]
    },
    {
      "cell_type": "markdown",
      "metadata": {},
      "source": [
        "## Quick review of the quantum Fourier transform"
      ]
    },
    {
      "cell_type": "markdown",
      "metadata": {},
      "source": [
        "The quantum Fourier transform is defined by the following operation:\n",
        "\n",
        "$$\n",
        "\\begin{equation}\n",
        "    |j \\rangle \\xrightarrow{\\text{QFT}} \\frac{1}{\\sqrt{2^n}}\\sum_{a=0}^{2^n - 1} \\exp \\left(i\\frac{2\\pi a j }{2^n}\\right)  |a \\rangle,\n",
        "\\end{equation}\n",
        "$$\n",
        "\n",
        "where $n$ is the number of qubits. Written in terms of binary number notation, the above equation becomes:\n",
        "$$\n",
        "\\begin{equation}\n",
        "\\begin{split}\n",
        "    \\text{QFT} |j_{n-1} \\cdots j_0\\rangle\n",
        "    &= \\frac{1}{\\sqrt{2^n}} \\sum_{\\{a\\}} \\exp\\left(2\\pi i j \\times [0.a_{n-1}\\cdots a_0]  \\right) | a_{n-1} \\cdots a_0 \\rangle\\\\\n",
        "    &= \\frac{1}{\\sqrt{2^n}}\\left( |0\\rangle + e^{2\\pi i 0.j_0}|1\\rangle \\right) \\otimes \\left( |0\\rangle + e^{2\\pi i 0.j_1 j_0}|1\\rangle \\right) \\otimes \\cdots \\otimes \\left( |0\\rangle + e^{2\\pi i 0.j_{n-1}\\cdots j_0}|1\\rangle \\right),\n",
        "\\end{split}\n",
        "\\end{equation}\n",
        "$$\n",
        "where $j = j_{n-1}\\cdots j_0= \\sum_{i=0}^{n-1} j_i 2^i$ and $\\dfrac{a}{2^n} = 0.a_{n-1}\\cdots a_0 = \\sum_{i=0}^{n-1} a_i 2^{i-n}$.\n",
        "\n",
        "The last line of eq.(2) gives a convenient form where the circuit representation of the operation can be read out straightforwardly.\n",
        "In our convention where the 0th qubit is positioned at the most right hand side, we need to first apply multiple SWAP gates to invert the order of the qubits:\n",
        "\n",
        "$$\n",
        "\\begin{equation}\n",
        "    |j_{n-1} j_{n-2} \\cdots j_1 j_0 \\rangle \\xrightarrow{\\text{SWAPs}} |j_{0} j_{1} \\cdots j_{n-2} j_{n-1} \\rangle.\n",
        "\\end{equation}\n",
        "$$\n",
        "Then, we go through the standard textbook procedure of applying multiple controlled U1 gates to translate the above equation into the one in the second line of eq(2). For example, for the 0th qubit,\n",
        "\n",
        "$$\n",
        "\\begin{equation}\n",
        "    \\begin{split}\n",
        "        &CU_{n-1, 0}(n) \\cdots CU_{1, 0}(2) H_0|j_{0} j_{1} \\cdots j_{n-2} j_{n-1} \\rangle \\\\\n",
        "    =& \\frac{1}{\\sqrt{2}}CU_{n-1,0}(n) \\cdots CU_{1, 0}(2) \\sum_{k=0}^1 e^{2\\pi i k\\frac{ j_{n-1}}{2}}|j_{0} j_{1} \\cdots j_{n-2} k \\rangle \\\\\n",
        "    =& \\frac{1}{\\sqrt{2}}CU_{n-1,0}(n) \\cdots CU_{2,0}(3) \\sum_{k=0}^1 e^{2\\pi i k (\\frac{ j_{n-1}}{2} + \\frac{ j_{n-2}}{2^2})}|j_{0} j_{1} \\cdots j_{n-2} k \\rangle \\\\\n",
        "    =& |j_{0} j_{1} \\cdots j_{n-2}\\rangle \\otimes \\frac{\n",
        "        |0\\rangle + e^{2\\pi i (0.j_{n-1} \\cdots j_{0})}|1\\rangle\n",
        "    }{\\sqrt{2}}\n",
        "    \\end{split}\n",
        "\\end{equation}\n",
        "$$\n",
        "where the notation $CU_{i,j}(k)$ denotes a controlled U1 gate with the i-th qubit as the controlled qubit and j-th qubit as the target index. The explicit matrix acting on the target qubit is \n",
        "\n",
        "$$\n",
        "\\begin{equation}\n",
        "U_j(k) = \\begin{pmatrix} 1 & 0 \\\\ 0 & e^{\\frac{2\\pi i}{2^k}}\\end{pmatrix}.\n",
        "\\end{equation}\n",
        "$$\n",
        "\n",
        "Repeating the procedure for the rest of the qubits will lead us to eq.(2)."
      ]
    },
    {
      "cell_type": "markdown",
      "metadata": {},
      "source": [
        "## Implement the quantum Fourier transform"
      ]
    },
    {
      "cell_type": "markdown",
      "metadata": {},
      "source": [
        "Now, we start to implement the circuit for quantum Fourier transform. As discussed in the last section, we first add sequence of SWAP gates to revert the qubit order. Then Hadamard gates and controlled U1 gates are added to perform the transformation. Here we show a diagram of a 4-qubit quantum Fourier transform circuit."
      ]
    },
    {
      "cell_type": "markdown",
      "metadata": {},
      "source": [
        "![png](qft_circuit.png)"
      ]
    },
    {
      "cell_type": "markdown",
      "metadata": {},
      "source": [
        "The controlled U1 gates are created from U1 gates with the decomposition formula:\n",
        "$$CU_{c, t}(\\theta) = U_c(\\theta/2) CX_{c,t} U_{1,t}(-\\theta/2) CX_{c,t} U_{1,t}(\\theta/2)$$"
      ]
    },
    {
      "cell_type": "code",
      "execution_count": null,
      "metadata": {},
      "outputs": [],
      "source": [
        "from quri_parts.circuit import QuantumCircuit, NonParametricQuantumCircuit, ImmutableBoundParametricQuantumCircuit\n",
        "import numpy as np\n",
        "\n",
        "def add_controlled_U1_gate(\n",
        "    circuit: QuantumCircuit, control: int, target: int, angle: float\n",
        ") -> None:\n",
        "    circuit.add_U1_gate(control, angle/2)\n",
        "    circuit.add_CNOT_gate(control, target)\n",
        "    circuit.add_U1_gate(target, -angle/2)\n",
        "    circuit.add_CNOT_gate(control, target)\n",
        "    circuit.add_U1_gate(target, angle/2)"
      ]
    },
    {
      "cell_type": "markdown",
      "metadata": {},
      "source": [
        "Now, we can put everything together and construct the circuit for quantum Fourier transform. The circuit for inverse Fourier tranform is also implemented by inverting the QFT circuit with `quri_parts.circuit.inverse_circuit`."
      ]
    },
    {
      "cell_type": "code",
      "execution_count": null,
      "metadata": {},
      "outputs": [],
      "source": [
        "from quri_parts.circuit import QuantumCircuit, ImmutableQuantumCircuit, inverse_circuit\n",
        "import numpy as np\n",
        "\n",
        "def create_qft_circuit(qubit_count: int, inverse: bool = False) -> ImmutableQuantumCircuit:\n",
        "    circuit = QuantumCircuit(qubit_count)\n",
        "        \n",
        "    for i in range(qubit_count//2):\n",
        "        circuit.add_SWAP_gate(i, qubit_count-i-1)\n",
        "\n",
        "    for target in range(qubit_count):\n",
        "        circuit.add_H_gate(target)\n",
        "        for l, control in enumerate(range(target+1, qubit_count)):\n",
        "            angle = 2 * np.pi/2**(l+2)\n",
        "            add_controlled_U1_gate(circuit, control, target, angle)\n",
        "    \n",
        "    if inverse:\n",
        "        return inverse_circuit(circuit).freeze()\n",
        "    \n",
        "    return circuit.freeze()"
      ]
    },
    {
      "cell_type": "markdown",
      "metadata": {},
      "source": [
        "Let's check if the circuit we implemented is correct by looking at the circuit diagram of a 3-qubit quantum Fourier transform."
      ]
    },
    {
      "cell_type": "code",
      "execution_count": null,
      "metadata": {},
      "outputs": [
        {
          "name": "stdout",
          "output_type": "stream",
          "text": [
            "Quantum Fourier transform on 3 qubits:\n",
            "                   ___     ___     ___     ___     ___     ___     ___     ___  \n",
            "   0              | H |   |CX |   |U1 |   |CX |   |U1 |   |CX |   |U1 |   |CX | \n",
            "----x-------------|1  |---|3  |---|4  |---|5  |---|6  |---|8  |---|9  |---|10 |-\n",
            "    |             |___|   |___|   |___|   |___|   |___|   |___|   |___|   |___| \n",
            "    |     ___               |               |      ___      |               |   \n",
            "    |    |U1 |              |               |     | H |     |               |   \n",
            "----|----|2  |--------------●---------------●-----|12 |-----|---------------|---\n",
            "    |    |___|                                    |___|     |               |   \n",
            "    |              ___                                      |               |   \n",
            "    |             |U1 |                                     |               |   \n",
            "----x-------------|7  |-------------------------------------●---------------●---\n",
            "                  |___|                                                         \n",
            "\n",
            "\n",
            "================================================================================\n",
            "\n",
            "   ___                                  \n",
            "  |U1 |                                 \n",
            "--|11 |---------------------------------\n",
            "  |___|                                 \n",
            "           ___     ___     ___     ___  \n",
            "          |CX |   |U1 |   |CX |   |U1 | \n",
            "----------|14 |---|15 |---|16 |---|17 |-\n",
            "          |___|   |___|   |___|   |___| \n",
            "   ___      |               |      ___  \n",
            "  |U1 |     |               |     | H | \n",
            "--|13 |-----●---------------●-----|18 |-\n",
            "  |___|                           |___| \n",
            "Inverse quantum Fourier transform on 3 qubits:\n",
            "   ___                                     ___     ___     ___     ___     ___  \n",
            "  |U1 |                                   |CX |   |U1 |   |CX |   |U1 |   |CX | \n",
            "--|7  |-----------------------------------|8  |---|9  |---|10 |---|12 |---|13 |-\n",
            "  |___|                                   |___|   |___|   |___|   |___|   |___| \n",
            "   ___     ___     ___     ___     ___      |               |               |   \n",
            "  |U1 |   |CX |   |U1 |   |CX |   | H |     |               |               |   \n",
            "--|1  |---|2  |---|3  |---|4  |---|6  |-----|---------------|---------------●---\n",
            "  |___|   |___|   |___|   |___|   |___|     |               |                   \n",
            "   ___      |               |      ___      |               |      ___          \n",
            "  | H |     |               |     |U1 |     |               |     |U1 |         \n",
            "--|0  |-----●---------------●-----|5  |-----●---------------●-----|11 |---------\n",
            "  |___|                           |___|                           |___|         \n",
            "\n",
            "\n",
            "================================================================================\n",
            "\n",
            "   ___     ___     ___          \n",
            "  |U1 |   |CX |   | H |    18   \n",
            "--|14 |---|15 |---|17 |-----x---\n",
            "  |___|   |___|   |___|     |   \n",
            "            |      ___      |   \n",
            "            |     |U1 |     |   \n",
            "------------●-----|16 |-----|---\n",
            "                  |___|     |   \n",
            "                            |   \n",
            "                            |   \n",
            "----------------------------x---\n",
            "                                \n"
          ]
        }
      ],
      "source": [
        "from quri_parts.circuit.utils.circuit_drawer import draw_circuit\n",
        "print(\"Quantum Fourier transform on 3 qubits:\")\n",
        "draw_circuit(create_qft_circuit(3))\n",
        "\n",
        "print(\"Inverse quantum Fourier transform on 3 qubits:\")\n",
        "draw_circuit(create_qft_circuit(3, inverse=True))"
      ]
    },
    {
      "cell_type": "markdown",
      "metadata": {},
      "source": [
        "Finally, let's confirm the circuit we implemented satisfies eq.(1)."
      ]
    },
    {
      "cell_type": "code",
      "execution_count": null,
      "metadata": {},
      "outputs": [],
      "source": [
        "from quri_parts.core.state import quantum_state, apply_circuit\n",
        "from quri_parts.qulacs.simulator import evaluate_state_to_vector\n",
        "import numpy as np\n",
        "from numpy import pi, exp\n",
        "\n",
        "n_qubits = 10\n",
        "qft = create_qft_circuit(n_qubits)\n",
        "\n",
        "for j in range(2**n_qubits):\n",
        "\n",
        "    transformed = evaluate_state_to_vector(\n",
        "        apply_circuit(qft, quantum_state(n_qubits, bits=j))\n",
        "    ).vector\n",
        "\n",
        "    expected = np.array(\n",
        "        [exp(2j*pi*a*j / 2**n_qubits) for a in range(2**n_qubits)]\n",
        "    ) / np.sqrt(2**n_qubits)\n",
        "\n",
        "    assert np.allclose(transformed, expected)"
      ]
    },
    {
      "cell_type": "markdown",
      "metadata": {},
      "source": [
        "The test passes successfully!"
      ]
    },
    {
      "cell_type": "markdown",
      "metadata": {},
      "source": [
        "In the comming sections, we will embed the `create_qft_circuit` function above into various algorithms and show how QURI Parts can be used in the FTQC era."
      ]
    }
  ],
  "metadata": {
    "language_info": {
      "name": "python",
      "pygments_lexer": "ipython3"
    }
  },
  "nbformat": 4,
  "nbformat_minor": 2
}
