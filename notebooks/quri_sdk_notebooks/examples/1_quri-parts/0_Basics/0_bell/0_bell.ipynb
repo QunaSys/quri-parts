{
  "cells": [
    {
      "cell_type": "markdown",
      "metadata": {},
      "source": [
        "# Generate a bell state and visualize sampling results"
      ]
    },
    {
      "cell_type": "markdown",
      "metadata": {},
      "source": [
        "## Generate a bell state "
      ]
    },
    {
      "cell_type": "code",
      "execution_count": null,
      "metadata": {},
      "outputs": [],
      "source": [
        "# %pip install \"quri-parts[braket,cirq,qiskit,qulacs,tket]\""
      ]
    },
    {
      "cell_type": "code",
      "execution_count": null,
      "metadata": {},
      "outputs": [
        {
          "name": "stdout",
          "output_type": "stream",
          "text": [
            "   ___          \n",
            "  | H |         \n",
            "--|0  |-----●---\n",
            "  |___|     |   \n",
            "           _|_  \n",
            "          |CX | \n",
            "----------|1  |-\n",
            "          |___| \n"
          ]
        }
      ],
      "source": [
        "from quri_parts.circuit import QuantumCircuit\n",
        "from quri_parts.qulacs.sampler import create_qulacs_vector_sampler\n",
        "from quri_parts.circuit.utils.circuit_drawer import draw_circuit\n",
        "import matplotlib.pyplot as plt\n",
        "from collections import Counter\n",
        "\n",
        "# A circuit with 2 qubits\n",
        "n_qubits = 2\n",
        "circuit = QuantumCircuit(n_qubits)  \n",
        "circuit.add_H_gate(0)\n",
        "circuit.add_CNOT_gate(0, 1)\n",
        "draw_circuit(circuit)"
      ]
    },
    {
      "cell_type": "code",
      "execution_count": null,
      "metadata": {},
      "outputs": [
        {
          "name": "stdout",
          "output_type": "stream",
          "text": [
            "Counter({3: 519, 0: 481})\n"
          ]
        }
      ],
      "source": [
        "# Create a sampler and perform sampling\n",
        "shots = 1000\n",
        "sampler = create_qulacs_vector_sampler()\n",
        "sampling_result = sampler(circuit, shots=shots)\n",
        "print(sampling_result)"
      ]
    },
    {
      "cell_type": "markdown",
      "metadata": {},
      "source": [
        "## Visualization of sampling results"
      ]
    },
    {
      "cell_type": "code",
      "execution_count": null,
      "metadata": {},
      "outputs": [],
      "source": [
        "def visualize_sampling_result(sampling_results, total_shots=1000, options=\"partial\"):\n",
        "    \"\"\"\n",
        "    Visualizes the sampling results by plotting a bar graph of the probabilities.\n",
        "\n",
        "    Args:\n",
        "        sampling_results (dict): A dictionary containing the sampling results, where the keys are the states and the values are the counts.\n",
        "        total_shots (int, optional): The total number of shots. Defaults to 1000.\n",
        "        options (str, optional): The options for processing the sampling results. Defaults to \"partial\".\n",
        "            - \"partial\": Only consider the states present in the sampling results.\n",
        "            - \"complete\": Consider all possible states and set the count to 0 if not present.\n",
        "    \"\"\"\n",
        "    if options == \"complete\":\n",
        "        # All possible states (0 to 2^n_qubits) with counts from sampling_results or 0 if not present\n",
        "        all_states = set(range(2**n_qubits))\n",
        "        fixed_results = {state: sampling_results.get(state, 0) for state in all_states}\n",
        "\n",
        "        # Convert to Counter object for easier processing\n",
        "        sampling_results = Counter(fixed_results)\n",
        "\n",
        "    # Convert keys to binary representation for visualization\n",
        "    binary_keys = [f'{key:0{n_qubits}b}' for key in sampling_results.keys()]\n",
        "\n",
        "    # Calculate probabilities by dividing counts by the total shots\n",
        "    probabilities = [count / total_shots for count in sampling_results.values()]\n",
        "\n",
        "    # Plot the bar graph\n",
        "    plt.bar(binary_keys, probabilities, color='crimson')\n",
        "\n",
        "    # Add labels and title\n",
        "    plt.xlabel('State (Binary Representation)')\n",
        "    plt.ylabel('Probability')\n",
        "    plt.title('Sampling Result')\n",
        "\n",
        "    # Display the graph\n",
        "    plt.show()\n"
      ]
    },
    {
      "cell_type": "code",
      "execution_count": null,
      "metadata": {},
      "outputs": [
        {
          "data": {
            "image/png": "[encoded data removed]",
            "text/plain": [
              "<Figure size 640x480 with 1 Axes>"
            ]
          },
          "metadata": {},
          "output_type": "display_data"
        }
      ],
      "source": [
        "visualize_sampling_result(sampling_result, total_shots=shots, options=\"complete\")"
      ]
    }
  ],
  "metadata": {
    "language_info": {
      "name": "python",
      "pygments_lexer": "ipython3"
    }
  },
  "nbformat": 4,
  "nbformat_minor": 2
}
