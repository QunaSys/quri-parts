{
  "cells": [
    {
      "cell_type": "markdown",
      "metadata": {},
      "source": [
        "# Bernstein-Vazirani Algorithm"
      ]
    },
    {
      "cell_type": "markdown",
      "metadata": {},
      "source": [
        "The Bernstein-Vazirani algorithm is an algorithm that deterministically solves the following problem:\n",
        "\n",
        "Suppose there is a secret bit string $s = s_{n-1}\\cdots s_1 s_0$ and an [oracle](https://dojo.qulacs.org/en/latest/notebooks/8.1_oracle.html) that implements the function\n",
        "\n",
        "$$\n",
        "    \\begin{equation}\n",
        "        f(x) = s_0 x_0 \\oplus s_1 x_1 \\oplus \\cdots \\oplus s_{n-1} x_{n-1}\n",
        "    \\end{equation}\n",
        "$$\n",
        "\n",
        "Find the secret bit string $s$.\n",
        "\n",
        "We demonstrate how to use QURI Parts to implement the algorithm."
      ]
    },
    {
      "cell_type": "markdown",
      "metadata": {},
      "source": [
        "## Building the problem oracle"
      ]
    },
    {
      "cell_type": "markdown",
      "metadata": {},
      "source": [
        "Now, let's build the quantum circuit that implements the oracle."
      ]
    },
    {
      "cell_type": "code",
      "execution_count": null,
      "metadata": {},
      "outputs": [],
      "source": [
        "from quri_parts.circuit import QuantumCircuit\n",
        "from quri_parts.circuit.utils.circuit_drawer import draw_circuit\n",
        "\n",
        "def get_bv_oracle(s: int, bit_length: int) -> QuantumCircuit:\n",
        "    circuit = QuantumCircuit(bit_length + 1)\n",
        "    for i in range(bit_length):\n",
        "        this_s = (s >> i) & 1\n",
        "        if this_s:\n",
        "            circuit.add_CNOT_gate(i, bit_length)\n",
        "    return circuit"
      ]
    },
    {
      "cell_type": "markdown",
      "metadata": {},
      "source": [
        "As an example, let's assume the secret bit string is $1101$ and see what the oracle circuit looks like:"
      ]
    },
    {
      "cell_type": "code",
      "execution_count": null,
      "metadata": {},
      "outputs": [
        {
          "name": "stdout",
          "output_type": "stream",
          "text": [
            "                        \n",
            "                        \n",
            "----●-------------------\n",
            "    |                   \n",
            "    |                   \n",
            "    |                   \n",
            "----|-------------------\n",
            "    |                   \n",
            "    |                   \n",
            "    |                   \n",
            "----|-------●-----------\n",
            "    |       |           \n",
            "    |       |           \n",
            "    |       |           \n",
            "----|-------|-------●---\n",
            "    |       |       |   \n",
            "   _|_     _|_     _|_  \n",
            "  |CX |   |CX |   |CX | \n",
            "--|0  |---|1  |---|2  |-\n",
            "  |___|   |___|   |___| \n"
          ]
        }
      ],
      "source": [
        "draw_circuit(get_bv_oracle(0b1101, 4))"
      ]
    },
    {
      "cell_type": "markdown",
      "metadata": {},
      "source": [
        "We may confirm that the oracle we implemented is indeed correct. Let's assume that the secret string is $1101$"
      ]
    },
    {
      "cell_type": "code",
      "execution_count": null,
      "metadata": {},
      "outputs": [
        {
          "name": "stdout",
          "output_type": "stream",
          "text": [
            "|          |   0 |   1 |   2 |   3 |   4 |   5 |   6 |   7 |   8 |   9 |   10 |   11 |   12 |   13 |   14 |   15 |\n",
            "|:---------|----:|----:|----:|----:|----:|----:|----:|----:|----:|----:|-----:|-----:|-----:|-----:|-----:|-----:|\n",
            "| oracle   |   0 |   1 |   0 |   1 |   1 |   0 |   1 |   0 |   1 |   0 |    1 |    0 |    0 |    1 |    0 |    1 |\n",
            "| expected |   0 |   1 |   0 |   1 |   1 |   0 |   1 |   0 |   1 |   0 |    1 |    0 |    0 |    1 |    0 |    1 |\n"
          ]
        }
      ],
      "source": [
        "import numpy as np\n",
        "from functools import reduce\n",
        "import pandas as pd\n",
        "from quri_parts.core.state import ComputationalBasisState\n",
        "from quri_parts.qulacs.simulator import evaluate_state_to_vector \n",
        "\n",
        "n_bit_length = 4\n",
        "n_qubits = n_bit_length + 1\n",
        "s = 0b1101\n",
        "oracle = get_bv_oracle(s, 4)\n",
        "\n",
        "recorder = {}\n",
        "for i in range(2**n_bit_length):\n",
        "    out_vector = evaluate_state_to_vector(\n",
        "        ComputationalBasisState(n_qubits, bits=i).with_gates_applied(oracle)\n",
        "    ).vector\n",
        "\n",
        "    oracle_evaluted = np.where(out_vector)[0][0] >> n_bit_length\n",
        "    expected = reduce(lambda x, y: x^y, [((i & s) >> j) & 1 for j in range(n_bit_length)])\n",
        "\n",
        "    recorder[i] = {\"oracle\": oracle_evaluted, \"expected\": expected}\n",
        "\n",
        "print(pd.DataFrame.from_dict(recorder).to_markdown())"
      ]
    },
    {
      "cell_type": "markdown",
      "metadata": {},
      "source": [
        "Given the table above, we have confirmed that the oracle implemention is indeed correct."
      ]
    },
    {
      "cell_type": "markdown",
      "metadata": {},
      "source": [
        "## Building the Bernstein-Vazirani algorithm circuit"
      ]
    },
    {
      "cell_type": "markdown",
      "metadata": {},
      "source": [
        "Now, let's build the circuit that implements the Bernstein-Vazirani algorithm. The circuit looks like:\n",
        "\n",
        "![png](bv_algo_circuit.png)"
      ]
    },
    {
      "cell_type": "code",
      "execution_count": null,
      "metadata": {},
      "outputs": [],
      "source": [
        "import numpy as np\n",
        "\n",
        "def get_bv_algorithm_circuit(oracle: QuantumCircuit) -> QuantumCircuit:\n",
        "\n",
        "    bit_length = oracle.qubit_count - 1\n",
        "    circuit = QuantumCircuit(oracle.qubit_count)\n",
        "    \n",
        "    circuit.add_X_gate(bit_length)\n",
        "\n",
        "    for i in range(bit_length + 1):\n",
        "        circuit.add_H_gate(i)\n",
        "\n",
        "    circuit.extend(oracle)\n",
        "    \n",
        "    for i in range(bit_length + 1):\n",
        "        circuit.add_H_gate(i)\n",
        "\n",
        "    return circuit"
      ]
    },
    {
      "cell_type": "markdown",
      "metadata": {},
      "source": [
        "Now, let's look at the what the circuit implementing the algorithm looks like."
      ]
    },
    {
      "cell_type": "code",
      "execution_count": null,
      "metadata": {},
      "outputs": [
        {
          "name": "stdout",
          "output_type": "stream",
          "text": [
            "   ___                     ___                          \n",
            "  | H |                   | H |                         \n",
            "--|1  |-------------●-----|12 |-------------------------\n",
            "  |___|             |     |___|                         \n",
            "   ___     ___      |                                   \n",
            "  | H |   | H |     |                                   \n",
            "--|2  |---|13 |-----|-----------------------------------\n",
            "  |___|   |___|     |                                   \n",
            "   ___              |              ___                  \n",
            "  | H |             |             | H |                 \n",
            "--|3  |-------------|-------●-----|14 |-----------------\n",
            "  |___|             |       |     |___|                 \n",
            "   ___     ___      |       |                           \n",
            "  | H |   | H |     |       |                           \n",
            "--|4  |---|15 |-----|-------|---------------------------\n",
            "  |___|   |___|     |       |                           \n",
            "   ___              |       |              ___          \n",
            "  | H |             |       |             | H |         \n",
            "--|5  |-------------|-------|-------●-----|16 |---------\n",
            "  |___|             |       |       |     |___|         \n",
            "   ___              |       |       |              ___  \n",
            "  | H |             |       |       |             | H | \n",
            "--|6  |-------------|-------|-------|-------●-----|17 |-\n",
            "  |___|             |       |       |       |     |___| \n",
            "   ___     ___     _|_     _|_     _|_     _|_     ___  \n",
            "  | X |   | H |   |CX |   |CX |   |CX |   |CX |   | H | \n",
            "--|0  |---|7  |---|8  |---|9  |---|10 |---|11 |---|18 |-\n",
            "  |___|   |___|   |___|   |___|   |___|   |___|   |___| \n"
          ]
        }
      ],
      "source": [
        "oracle = get_bv_oracle(0b110101, 6)\n",
        "draw_circuit(get_bv_algorithm_circuit(oracle))"
      ]
    },
    {
      "cell_type": "markdown",
      "metadata": {},
      "source": [
        "Finally, let's construct a function that executes the algorithm. As the algorithm is deterministic, it can be executed using a sampler with only 1 shot."
      ]
    },
    {
      "cell_type": "code",
      "execution_count": null,
      "metadata": {},
      "outputs": [],
      "source": [
        "from quri_parts.qulacs.sampler import create_qulacs_vector_sampler\n",
        "\n",
        "def get_secret_string(oracle: QuantumCircuit, n_shot: int = 1) -> dict[str, int]:\n",
        "    algorithm = get_bv_algorithm_circuit(oracle)\n",
        "    n_qubits = algorithm.qubit_count\n",
        "    \n",
        "    sampler = create_qulacs_vector_sampler()\n",
        "    sampling_cnt = sampler(algorithm, n_shot)\n",
        "\n",
        "    get_secret_string_from_int = lambda s: bin(s)[2:].zfill(n_qubits)[1:]\n",
        "\n",
        "    return {get_secret_string_from_int(s): v for s, v in sampling_cnt.items()}"
      ]
    },
    {
      "cell_type": "markdown",
      "metadata": {},
      "source": [
        "Now, let's execute the algorithm with the secret string fed to the oracle being $s = 011101$."
      ]
    },
    {
      "cell_type": "code",
      "execution_count": null,
      "metadata": {},
      "outputs": [
        {
          "data": {
            "text/plain": [
              "'011101'"
            ]
          },
          "execution_count": 7,
          "metadata": {},
          "output_type": "execute_result"
        }
      ],
      "source": [
        "bit_length = 6\n",
        "s = 0b011101\n",
        "oracle = get_bv_oracle(s, bit_length)\n",
        "next(iter(get_secret_string(oracle)))"
      ]
    },
    {
      "cell_type": "markdown",
      "metadata": {},
      "source": [
        "The algorithm indeed gives us the desiresd result as expected."
      ]
    },
    {
      "cell_type": "markdown",
      "metadata": {},
      "source": [
        "### Showing that the algorithm is deterministic\n",
        "\n",
        "To ensure the algorithm is indeed deterministic, let's run the circuit 1000 times and see if it gives the exact same result every time."
      ]
    },
    {
      "cell_type": "code",
      "execution_count": null,
      "metadata": {},
      "outputs": [
        {
          "data": {
            "image/png": "[encoded data removed]",
            "text/plain": [
              "<Figure size 640x480 with 1 Axes>"
            ]
          },
          "metadata": {},
          "output_type": "display_data"
        }
      ],
      "source": [
        "import seaborn as sns\n",
        "import matplotlib.pyplot as plt\n",
        "\n",
        "counts = get_secret_string(oracle, n_shot=1000)\n",
        "sns.barplot(counts, x=counts.keys(), y=counts.values())\n",
        "plt.show()"
      ]
    },
    {
      "cell_type": "markdown",
      "metadata": {},
      "source": [
        "Given that every execution gives the exact same result, we have confirmed that the algorithm is deterministic"
      ]
    }
  ],
  "metadata": {
    "language_info": {
      "name": "python",
      "pygments_lexer": "ipython3"
    }
  },
  "nbformat": 4,
  "nbformat_minor": 2
}
