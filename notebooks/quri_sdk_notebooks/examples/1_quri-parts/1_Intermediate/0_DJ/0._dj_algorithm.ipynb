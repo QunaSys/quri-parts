{
  "cells": [
    {
      "cell_type": "markdown",
      "metadata": {},
      "source": [
        "# The Deutsch–Jozsa algorithm"
      ]
    },
    {
      "cell_type": "markdown",
      "metadata": {},
      "source": [
        "<div class=\"alert alert-info\">\n",
        "    This notebook is no longer being maintained and we cannot guarantee that it will run\n",
        "</div>"
      ]
    },
    {
      "cell_type": "markdown",
      "metadata": {},
      "source": [
        "The Deutsch-Josza algorithm is an algorithm that deterministically solves the following problem:\n",
        "\n",
        "Given an [oracle](https://dojo.qulacs.org/en/latest/notebooks/8.1_oracle.html) that implements the function\n",
        "\n",
        "$$\n",
        "    \\begin{equation}\n",
        "        f: \\{0, 1\\}^n \\rightarrow \\{0, 1\\}\n",
        "    \\end{equation}\n",
        "$$\n",
        "\n",
        "where $\\{0, 1\\}^n$ is a bit string of length $n$ and the function is guaranteed to be either constant (maps all possible bit strings to either 0 or 1<a name=\"cite_ref-1\"></a>[<sup>[1]</sup>](#cite_note-1)) or balanced (map half of the bit strings to 0 and the other half to 1.) \n",
        "\n",
        "In this example, we demostrate how to use QURI Parts to:\n",
        "\n",
        "- Build the problem oracle\n",
        "- Embed the oracle into the solution circuit\n",
        "- Execute the solution circuit\n",
        "\n",
        "<a name=\"cite_note-1\"></a>[1] [^](#cite_ref-1) In the case of constant function, the algorithm works for oracle that implements $f(x) = 0$ and $f(x) = 1$. However, without loss of generality, we only build the oracle such that it implements $f(x) = 0$ in the case of constant function."
      ]
    },
    {
      "cell_type": "markdown",
      "metadata": {},
      "source": [
        "## The problem oracle"
      ]
    },
    {
      "cell_type": "markdown",
      "metadata": {},
      "source": [
        "In this section, we build the oracle circuit with QURI Parts. If the oracle implements a constant function, we simply return a function with no gates. If the oracle implements a balanced function, we randomly pick $2^{n-1}$ bit strings out of $2^n$ possible input bit strings that satisfies $f(x) = 1$.\n",
        "\n",
        "For bit strings of lenth $n$, the oracle is implemented as a circuit with $n+1$ qubits. The first $n$ qubits represent the input bit string and the last qubit represents the output. Thus, the oracles are implemented as several multi-controlled X gates where the first $n$ qubits are control qubits controlled on those bit strings that makes the function $f$ output 1. For example, if $f(0010) = 1$, we add a multi-controlled X gate to the circuit where the first 4 qubits are control indices with control values 0, 1, 0, 0."
      ]
    },
    {
      "cell_type": "code",
      "execution_count": null,
      "metadata": {},
      "outputs": [],
      "source": [
        "from numpy.random import choice\n",
        "from quri_parts.circuit import QuantumCircuit\n",
        "\n",
        "\n",
        "def get_dj_oracle(n_bit_length: int, balanced: bool) -> QuantumCircuit:\n",
        "    n_qubits = n_bit_length + 1\n",
        "    if not balanced:\n",
        "        return QuantumCircuit(n_qubits)\n",
        "    \n",
        "    flipped = choice(2**n_bit_length, size=2**(n_bit_length-1), replace=False)\n",
        "    circuit = QuantumCircuit(n_qubits)\n",
        "    \n",
        "    for f in flipped:\n",
        "        controlled_on = {i: (f >> i) & 1 for i in range(n_bit_length)}\n",
        "        circuit.add_X_gate(n_qubits-1, controlled_on)\n",
        "    \n",
        "    return circuit\n"
      ]
    },
    {
      "cell_type": "markdown",
      "metadata": {},
      "source": [
        "Here, we show the circuit"
      ]
    },
    {
      "cell_type": "code",
      "execution_count": null,
      "metadata": {},
      "outputs": [
        {
          "name": "stdout",
          "output_type": "stream",
          "text": [
            "                                                                  \n",
            "                                                                  \n",
            "0 ----●-------○-------○-------○-------●-------○-------○-------●---\n",
            "      |       |       |       |       |       |       |       |   \n",
            "      |       |       |       |       |       |       |       |   \n",
            "      |       |       |       |       |       |       |       |   \n",
            "1 ----●-------○-------●-------●-------●-------●-------●-------○---\n",
            "      |       |       |       |       |       |       |       |   \n",
            "      |       |       |       |       |       |       |       |   \n",
            "      |       |       |       |       |       |       |       |   \n",
            "2 ----○-------○-------○-------●-------●-------○-------●-------●---\n",
            "      |       |       |       |       |       |       |       |   \n",
            "      |       |       |       |       |       |       |       |   \n",
            "      |       |       |       |       |       |       |       |   \n",
            "3 ----○-------●-------●-------○-------●-------○-------●-------●---\n",
            "      |       |       |       |       |       |       |       |   \n",
            "     _|_     _|_     _|_     _|_     _|_     _|_     _|_     _|_  \n",
            "    | X |   | X |   | X |   | X |   | X |   | X |   | X |   | X | \n",
            "4 --|0  |---|1  |---|2  |---|3  |---|4  |---|5  |---|6  |---|7  |-\n",
            "    |___|   |___|   |___|   |___|   |___|   |___|   |___|   |___| \n"
          ]
        }
      ],
      "source": [
        "from quri_parts.circuit.utils.circuit_drawer import draw_circuit\n",
        "draw_circuit(get_dj_oracle(n_bit_length=4, balanced=True))"
      ]
    },
    {
      "cell_type": "markdown",
      "metadata": {},
      "source": [
        "Let's confirm that the circuit does implement the correct oracle"
      ]
    },
    {
      "cell_type": "code",
      "execution_count": null,
      "metadata": {},
      "outputs": [
        {
          "name": "stdout",
          "output_type": "stream",
          "text": [
            "|                 |    0 |    1 |    2 |    3 |    4 |    5 |    6 |    7 |    8 |    9 |   10 |   11 |   12 |   13 |   14 |   15 |\n",
            "|:----------------|-----:|-----:|-----:|-----:|-----:|-----:|-----:|-----:|-----:|-----:|-----:|-----:|-----:|-----:|-----:|-----:|\n",
            "| function input  | 0000 | 0100 | 0101 | 0110 | 0111 | 1000 | 1011 | 1111 | 0001 | 0010 | 0011 | 1001 | 1010 | 1100 | 1101 | 1110 |\n",
            "| function output |    0 |    0 |    0 |    0 |    0 |    0 |    0 |    0 |    1 |    1 |    1 |    1 |    1 |    1 |    1 |    1 |\n"
          ]
        }
      ],
      "source": [
        "from quri_parts.core.state import ComputationalBasisState\n",
        "from quri_parts.qulacs.simulator import evaluate_state_to_vector\n",
        "import numpy as np\n",
        "import pandas as pd\n",
        "\n",
        "bit_length = 4\n",
        "n_qubit = bit_length + 1\n",
        "oracle = get_dj_oracle(bit_length, True)\n",
        "function_output_dict = {}\n",
        "\n",
        "for i in range(2**bit_length):\n",
        "    out_vector = evaluate_state_to_vector(\n",
        "        ComputationalBasisState(n_qubit, bits=i).with_gates_applied(oracle)\n",
        "        ).vector\n",
        "    res = np.where(out_vector == 1)[0][0] >> bit_length\n",
        "    function_output_dict[bin(i)[2:].zfill(bit_length)] = res\n",
        "\n",
        "\n",
        "print(\n",
        "    pd.DataFrame.from_dict(\n",
        "        function_output_dict, orient=\"index\", columns=[\"function output\"]\n",
        "    ).reset_index().rename(columns={\"index\": \"function input\"}).sort_values(\n",
        "        \"function output\"\n",
        "    ).reset_index(drop=True).T.to_markdown()\n",
        ")"
      ]
    },
    {
      "cell_type": "markdown",
      "metadata": {},
      "source": [
        "We can see here that the oracle indeed implements a balanced function."
      ]
    },
    {
      "cell_type": "markdown",
      "metadata": {},
      "source": [
        "## The algorithm\n",
        "\n",
        "Now, we implement the Deutsch-Jozsa algorithm that determines whether the function is balanced or not. The circuit is given by the below figure."
      ]
    },
    {
      "cell_type": "markdown",
      "metadata": {},
      "source": [
        "![png](dj_algorithm_circuit.png)"
      ]
    },
    {
      "cell_type": "code",
      "execution_count": null,
      "metadata": {},
      "outputs": [],
      "source": [
        "def get_algorithm_circuit(oracle: QuantumCircuit) -> QuantumCircuit:\n",
        "    n_qubits = oracle.qubit_count\n",
        "    n_func_arg = oracle.qubit_count - 1\n",
        "    circuit = QuantumCircuit(n_qubits, n_func_arg)\n",
        "    \n",
        "    circuit.add_X_gate(n_qubits-1)\n",
        "    for i in range(n_qubits):\n",
        "        circuit.add_H_gate(i)\n",
        "    circuit.extend(oracle)\n",
        "    for i in range(n_func_arg):\n",
        "        circuit.add_H_gate(i)\n",
        "\n",
        "    return circuit"
      ]
    },
    {
      "cell_type": "markdown",
      "metadata": {},
      "source": [
        "As an example, we demonstrate an oracle of 4 qubits embedded inside the solution algorithm"
      ]
    },
    {
      "cell_type": "code",
      "execution_count": null,
      "metadata": {},
      "outputs": [
        {
          "name": "stdout",
          "output_type": "stream",
          "text": [
            "     ___                                             ___  \n",
            "    | H |                                           | H | \n",
            "0 --|1  |-------------○-------●-------●-------●-----|9  |-\n",
            "    |___|             |       |       |       |     |___| \n",
            "     ___              |       |       |       |      ___  \n",
            "    | H |             |       |       |       |     | H | \n",
            "1 --|2  |-------------●-------●-------○-------●-----|10 |-\n",
            "    |___|             |       |       |       |     |___| \n",
            "     ___              |       |       |       |      ___  \n",
            "    | H |             |       |       |       |     | H | \n",
            "2 --|3  |-------------●-------○-------●-------●-----|11 |-\n",
            "    |___|             |       |       |       |     |___| \n",
            "     ___     ___     _|_     _|_     _|_     _|_          \n",
            "    | X |   | H |   | X |   | X |   | X |   | X |         \n",
            "3 --|0  |---|4  |---|5  |---|6  |---|7  |---|8  |---------\n",
            "    |___|   |___|   |___|   |___|   |___|   |___|         \n"
          ]
        }
      ],
      "source": [
        "oracle = get_dj_oracle(3, True)\n",
        "algorithm = get_algorithm_circuit(oracle)\n",
        "draw_circuit(algorithm)"
      ]
    },
    {
      "cell_type": "markdown",
      "metadata": {},
      "source": [
        "Finally, we run the algorithm with a sampler. The algorithm is deterministic, so one shot is enough to determine if the function is balanced or not."
      ]
    },
    {
      "cell_type": "code",
      "execution_count": null,
      "metadata": {},
      "outputs": [],
      "source": [
        "from quri_parts.qulacs.sampler import create_qulacs_vector_sampler\n",
        "from quri_parts.core.utils.recording import Recorder, recordable\n",
        "from collections import Counter\n",
        "\n",
        "@recordable\n",
        "def run_algorithm(recorder: Recorder, oracle: QuantumCircuit, n_shots: int=1) -> bool:\n",
        "    \"\"\"If function is balanced return 1. Otherwise return 0\n",
        "    \"\"\"\n",
        "    algorithm = get_algorithm_circuit(oracle)\n",
        "    sampler = create_qulacs_vector_sampler()\n",
        "    sampling_count = sampler(algorithm, n_shots)\n",
        "    \n",
        "    # pick out the measurement result from the first n qubits.\n",
        "    fnc_arg_cnt = Counter()\n",
        "    filter_str = 2**(oracle.qubit_count-1) - 1\n",
        "    for qubit, cnt in sampling_count.items():\n",
        "        fnc_arg_cnt += Counter({qubit & filter_str: cnt})\n",
        "\n",
        "    recorder.info(\"sampling count\", fnc_arg_cnt)\n",
        "\n",
        "    is_balanced = 0 not in fnc_arg_cnt\n",
        "    return is_balanced"
      ]
    },
    {
      "cell_type": "markdown",
      "metadata": {},
      "source": [
        "We first run the algorithm with an oracle that implements a constant function.\n",
        "\n",
        "In the Deutsch-Jozsa algorithm, the measured outcome of the first $n$ qubits should all be zero."
      ]
    },
    {
      "cell_type": "code",
      "execution_count": null,
      "metadata": {},
      "outputs": [
        {
          "name": "stdout",
          "output_type": "stream",
          "text": [
            "is balanced: False\n"
          ]
        },
        {
          "data": {
            "image/png": "[encoded data removed]",
            "text/plain": [
              "<Figure size 640x480 with 1 Axes>"
            ]
          },
          "metadata": {},
          "output_type": "display_data"
        }
      ],
      "source": [
        "from quri_parts.core.utils.recording import INFO, RecordSession\n",
        "import matplotlib.pyplot as plt\n",
        "import seaborn as sns\n",
        "import pandas as pd\n",
        "\n",
        "session_constant = RecordSession()\n",
        "session_constant.set_level(INFO, run_algorithm)\n",
        "\n",
        "with session_constant.start():\n",
        "    oracle = get_dj_oracle(4, balanced=False)\n",
        "    print(\"is balanced:\", run_algorithm(oracle, 1000))\n",
        "\n",
        "constant_group, = session_constant.get_records().get_history(run_algorithm)\n",
        "\n",
        "ax = sns.barplot(\n",
        "    pd.DataFrame.from_dict(\n",
        "        constant_group.entries[0].data[1], orient='index', columns=[\"count\"]\n",
        "    ).T\n",
        ")\n",
        "ax.set(\n",
        "    xlabel = \"Measurement result of the first 4 qubits\",\n",
        "    ylabel = \"Count\",\n",
        "    title = \"Statistics\"\n",
        ")\n",
        "plt.show()"
      ]
    },
    {
      "cell_type": "markdown",
      "metadata": {},
      "source": [
        "Finally, we run the algorithm with an oracle that implements a balanced function."
      ]
    },
    {
      "cell_type": "code",
      "execution_count": null,
      "metadata": {},
      "outputs": [
        {
          "name": "stdout",
          "output_type": "stream",
          "text": [
            "is balanced: True\n"
          ]
        },
        {
          "data": {
            "image/png": "[encoded data removed]",
            "text/plain": [
              "<Figure size 640x480 with 1 Axes>"
            ]
          },
          "metadata": {},
          "output_type": "display_data"
        }
      ],
      "source": [
        "session_balanced = RecordSession()\n",
        "session_balanced.set_level(INFO, run_algorithm)\n",
        "\n",
        "with session_balanced.start():\n",
        "    oracle = get_dj_oracle(4, balanced=True)\n",
        "    print(\"is balanced:\", run_algorithm(oracle, 1000))\n",
        "\n",
        "balanced_group, = session_balanced.get_records().get_history(run_algorithm)\n",
        "\n",
        "table = pd.DataFrame.from_dict(\n",
        "    balanced_group.entries[0].data[1], orient='index', columns=[\"count\"]\n",
        ").T\n",
        "table.columns = list(map(lambda x: bin(x)[2:].zfill(4), table.columns))\n",
        "ax = sns.barplot(table)\n",
        "ax.set(\n",
        "    xlabel = \"Measurement result of the first 4 qubits\",\n",
        "    ylabel = \"Count\",\n",
        "    title = \"Statistics\"\n",
        ")\n",
        "plt.show()"
      ]
    }
  ],
  "metadata": {
    "language_info": {
      "name": "python",
      "pygments_lexer": "ipython3"
    }
  },
  "nbformat": 4,
  "nbformat_minor": 2
}
