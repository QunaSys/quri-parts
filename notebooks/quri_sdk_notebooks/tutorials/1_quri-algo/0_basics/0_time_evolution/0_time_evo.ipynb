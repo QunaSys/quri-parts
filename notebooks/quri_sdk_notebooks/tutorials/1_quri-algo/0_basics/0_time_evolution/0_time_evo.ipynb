{
  "cells": [
    {
      "cell_type": "markdown",
      "metadata": {},
      "source": [
        "# Circuit Factory: Time evolution"
      ]
    },
    {
      "cell_type": "markdown",
      "metadata": {},
      "source": [
        "In this tutorial, you will learn how to use QURI Algo to obtain time evolution circuits and their controlled conterpart. This includes:\n",
        "\n",
        "- Understanding the `HamiltonianInput` object and how to create one\n",
        "- Understanding the `(Controlled)TimeEvolutionCircuitFactory` object\n",
        "- Evaluate the (controlled) time evolution circuit with QURI VM"
      ]
    },
    {
      "cell_type": "markdown",
      "metadata": {},
      "source": [
        "## Hamiltonian\n",
        "\n",
        "In QURI Algo, we provide the `HamiltionianInput` interface representing any problen that involves a Hamiltonian. Here, we first set up a molecular Hamiltonian as the example of this tutorial."
      ]
    },
    {
      "cell_type": "code",
      "execution_count": null,
      "metadata": {},
      "outputs": [
        {
          "name": "stdout",
          "output_type": "stream",
          "text": [
            "converged SCF energy = -1.06610864931794\n"
          ]
        }
      ],
      "source": [
        "import numpy as np\n",
        "from pyscf import gto, scf\n",
        "from quri_parts.pyscf.mol import get_spin_mo_integrals_from_mole\n",
        "from quri_parts.openfermion.mol import get_qubit_mapped_hamiltonian\n",
        "from quri_parts.core.operator import Operator, PAULI_IDENTITY\n",
        "\n",
        "mole = gto.M(atom=\"H 0 0 0; H 0 0 1\")\n",
        "mf = scf.RHF(mole).run()\n",
        "hamiltonian, mapping = get_qubit_mapped_hamiltonian(\n",
        "    *get_spin_mo_integrals_from_mole(mole, mf.mo_coeff)\n",
        ")\n",
        "\n",
        "eff_hamiltonian = hamiltonian - Operator({PAULI_IDENTITY: hamiltonian.constant})"
      ]
    },
    {
      "cell_type": "markdown",
      "metadata": {},
      "source": [
        "The Hamiltonian generated above is a qubit Hamiltonian represented by a QURI Parts `Operator`. We create a `QubitHamiltonian` object, which is a variant of `HamiltonianInput` that represents a Hamiltonian in its qubit mapped form."
      ]
    },
    {
      "cell_type": "code",
      "execution_count": null,
      "metadata": {},
      "outputs": [],
      "source": [
        "from quri_algo.problem import QubitHamiltonian\n",
        "\n",
        "hamiltonian_input = QubitHamiltonian(mapping.n_qubits, eff_hamiltonian)"
      ]
    },
    {
      "cell_type": "markdown",
      "metadata": {},
      "source": [
        "## Time evolution circuit\n",
        "\n",
        "Having constructed the Hamiltonian, we can construct a time evolution circuit that performs the time evolution with the Hamiltonian. In QURI Algo, we provide `TimeEvolutionCircuitFactory`, which allows you to create a time evolution circuit at time step $t$. We provide a variant of the `TimeEvolutionCircuitFactory`, the`TrotterTimeEvolutionCircuitFactory`, that generates a time evolution circuit based on Trotterization. To create one, you need to pass in the `hamiltonian_input` we created above as well as the Trotter steps."
      ]
    },
    {
      "cell_type": "code",
      "execution_count": null,
      "metadata": {},
      "outputs": [],
      "source": [
        "from quri_algo.circuit.time_evolution.trotter_time_evo import TrotterTimeEvolutionCircuitFactory\n",
        "\n",
        "trotter_10_circuit_factory = TrotterTimeEvolutionCircuitFactory(hamiltonian_input, n_trotter=10)"
      ]
    },
    {
      "cell_type": "markdown",
      "metadata": {},
      "source": [
        "With the factory, you can generate a time evolution circuit by passing an evolution time to it."
      ]
    },
    {
      "cell_type": "code",
      "execution_count": null,
      "metadata": {},
      "outputs": [
        {
          "name": "stdout",
          "output_type": "stream",
          "text": [
            "<quri_parts.rust.circuit.circuit_parametric.ImmutableBoundParametricQuantumCircuit object at 0x7f8fef5425e0>\n"
          ]
        }
      ],
      "source": [
        "# Evolution circuit at t = 5.0\n",
        "\n",
        "circuit = trotter_10_circuit_factory(5.0)\n",
        "print(circuit)"
      ]
    },
    {
      "cell_type": "markdown",
      "metadata": {},
      "source": [
        "## Controlled time evolution circuits\n",
        "\n",
        "In phase-estimation-like algorithms, controlled time evolution circuits are used ubiquitously. To facilitate them, we also provide `ControlledTimeEvolutionCircuitFactory` for generating controlled time evolution circuits at time step $t$. We provide 2 variants of the `ControlledTimeEvolutionCircuitFactory`:\n",
        "\n",
        "- `ControlledTrotterTimeEvolutionCircuitFactory`: generates a time evolution circuit based on Trotterization\n",
        "- `ControlledExactUnitaryTimeEvolutionCircuitFactory`: generates a time evolution circuit based on the exact unitary matrix generated by the `QubitHamiltonian`.\n"
      ]
    },
    {
      "cell_type": "code",
      "execution_count": null,
      "metadata": {},
      "outputs": [],
      "source": [
        "from quri_algo.circuit.time_evolution.trotter_time_evo import TrotterControlledTimeEvolutionCircuitFactory\n",
        "from quri_algo.circuit.time_evolution.exact_unitary import ExactUnitaryControlledTimeEvolutionCircuitFactory\n",
        "\n",
        "trotter_controlled_factory = TrotterControlledTimeEvolutionCircuitFactory(hamiltonian_input, n_trotter=10)\n",
        "exact_controlled_factory = ExactUnitaryControlledTimeEvolutionCircuitFactory(hamiltonian_input)"
      ]
    },
    {
      "cell_type": "markdown",
      "metadata": {},
      "source": [
        "They can be used in the same way as `TimeEvolutionCircuitFactory`s."
      ]
    },
    {
      "cell_type": "code",
      "execution_count": null,
      "metadata": {},
      "outputs": [],
      "source": [
        "evolution_time = 10\n",
        "\n",
        "trotter_controlled_circuit = trotter_controlled_factory(evolution_time)\n",
        "exact_controlled_circuit = exact_controlled_factory(evolution_time)"
      ]
    },
    {
      "cell_type": "markdown",
      "metadata": {},
      "source": [
        "## Evolution circuit on error corrected devices\n",
        "\n",
        "On an error corrected device, we need to transpile the circuit according to the native gates of the device or architecture."
      ]
    },
    {
      "cell_type": "code",
      "execution_count": null,
      "metadata": {},
      "outputs": [],
      "source": [
        "from quri_parts.backend.devices import nisq_spcond_lattice, star_device\n",
        "from quri_parts.circuit.topology import SquareLattice\n",
        "from quri_parts.backend.units import TimeValue, TimeUnit\n",
        "from quri_vm import VM\n",
        "\n",
        "nisq_vm = VM.from_device_prop(\n",
        "    nisq_spcond_lattice.generate_device_property(\n",
        "        lattice=SquareLattice(4, 4),\n",
        "        native_gates_1q=(\"RZ\", \"SqrtX\", \"X\"),\n",
        "        native_gates_2q=(\"CNOT\",),\n",
        "        gate_error_1q=1e-3,\n",
        "        gate_error_2q=1e-2,\n",
        "        gate_error_meas=1e-2,\n",
        "        gate_time_1q=TimeValue(60, TimeUnit.NANOSECOND),\n",
        "        gate_time_2q=TimeValue(660, TimeUnit.NANOSECOND),\n",
        "        gate_time_meas=TimeValue(1.4, TimeUnit.MICROSECOND),\n",
        "    )\n",
        ")\n",
        "\n",
        "star_vm = VM.from_device_prop(\n",
        "    star_device.generate_device_property(\n",
        "        qubit_count=16,\n",
        "        code_distance=9,\n",
        "        qec_cycle=TimeValue(1, TimeUnit.MICROSECOND),\n",
        "        physical_error_rate=1e-4\n",
        "    )\n",
        ")"
      ]
    },
    {
      "cell_type": "markdown",
      "metadata": {},
      "source": [
        "Each VM has its own transpiler, which ensures that any time a logical circuit is simulated, it first is transpiled to a gate-set that is supported by the device in question. Below we first define the logical circuit factory that we will use for time-evolution."
      ]
    },
    {
      "cell_type": "code",
      "execution_count": null,
      "metadata": {},
      "outputs": [],
      "source": [
        "trotter_factory = TrotterTimeEvolutionCircuitFactory(\n",
        "    hamiltonian_input, n_trotter=10\n",
        ")"
      ]
    },
    {
      "cell_type": "code",
      "execution_count": null,
      "metadata": {},
      "outputs": [],
      "source": [
        "from quri_parts.circuit import NonParametricQuantumCircuit\n",
        "\n",
        "def get_gate_names(circuit: NonParametricQuantumCircuit) -> set[str]:\n",
        "    return set([g.name for g in circuit.gates])"
      ]
    },
    {
      "cell_type": "code",
      "execution_count": null,
      "metadata": {},
      "outputs": [
        {
          "name": "stdout",
          "output_type": "stream",
          "text": [
            "Gates that compose the time evolution circuit on superconducting NISQ device:\n",
            "{'CNOT', 'SqrtX', 'X', 'RZ'}\n",
            "Gates that compose the time evolution circuit on STAR device:\n"
          ]
        },
        {
          "name": "stdout",
          "output_type": "stream",
          "text": [
            "{'CNOT', 'S', 'H', 'RZ'}\n"
          ]
        }
      ],
      "source": [
        "print(\"Gates that compose the time evolution circuit on superconducting NISQ device:\")\n",
        "print(get_gate_names(nisq_vm.transpile(trotter_factory(evolution_time))))\n",
        "print(\"Gates that compose the time evolution circuit on STAR device:\")\n",
        "print(get_gate_names(star_vm.transpile(trotter_factory(evolution_time))))"
      ]
    },
    {
      "cell_type": "markdown",
      "metadata": {},
      "source": [
        "We can also perform an analysis of the circuit based on each architecture:"
      ]
    },
    {
      "cell_type": "code",
      "execution_count": null,
      "metadata": {},
      "outputs": [
        {
          "name": "stdout",
          "output_type": "stream",
          "text": [
            "Evaluation result on NISQ device:\n"
          ]
        },
        {
          "name": "stdout",
          "output_type": "stream",
          "text": [
            "AnalyzeResult(lowering_level=<LoweringLevel.ArchLogicalCircuit: 1>,\n",
            "              qubit_count=4,\n",
            "              gate_count=3540,\n",
            "              depth=2386,\n",
            "              latency=TimeValue(value=1317960.0, unit=<TimeUnit.NANOSECOND>),\n",
            "              fidelity=2.7799009245661343e-10)\n",
            "\n",
            "\n",
            "Evaluation result on STAR device:\n",
            "AnalyzeResult(lowering_level=<LoweringLevel.ArchLogicalCircuit: 1>,\n",
            "              qubit_count=4,\n",
            "              gate_count=1460,\n",
            "              depth=770,\n",
            "              latency=TimeValue(value=16380000.0, unit=<TimeUnit.NANOSECOND>),\n",
            "              fidelity=0.9958925186936065)\n"
          ]
        }
      ],
      "source": [
        "import pprint\n",
        "\n",
        "print(\"Evaluation result on NISQ device:\")\n",
        "pprint.pprint(nisq_vm.analyze(trotter_factory(evolution_time)))\n",
        "print(\"\\n\")\n",
        "print(\"Evaluation result on STAR device:\")\n",
        "pprint.pprint(star_vm.analyze(trotter_factory(evolution_time)))"
      ]
    },
    {
      "cell_type": "markdown",
      "metadata": {},
      "source": [
        "We can see that the fidelity of the time evolution citcuit improves from $0.5%$ to 99.5% at the cost of about 68 times execution time on the error corrected STAR architecture."
      ]
    }
  ],
  "metadata": {
    "language_info": {
      "name": "python",
      "pygments_lexer": "ipython3"
    }
  },
  "nbformat": 4,
  "nbformat_minor": 2
}
