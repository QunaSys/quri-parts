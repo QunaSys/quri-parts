{
  "cells": [
    {
      "cell_type": "markdown",
      "metadata": {},
      "source": [
        "# QURI SDK Introduction"
      ]
    },
    {
      "cell_type": "markdown",
      "metadata": {},
      "source": [
        "In this tutorial, we explain how to use the QURI VM to evaluate an algorithm. The workflow in this tutorial is illustrated in the following flow chart\n",
        "\n",
        "![flow](flow.png)\n",
        "\n",
        "The steps in the flow chart are:\n",
        "\n",
        "- Define problem: Define the problem you want to solve. Here for example, we want to evaluate the expectation value $\\langle e^{-iHt} \\rangle$, where $H$ is the Hamiltonian of a hydrogen molecule.\n",
        "- Specify VM: Define the virtual machine (VM) that encapsulates device information and executors.\n",
        "- Assemble algorithm: A function that defines the algorithm. In this case, we use the Hadamard test to evaluate the desired expectation value $\\langle e^{-iHt} \\rangle$. The validity of our evaluation depends on the device, so a VM should be passed in as part of the algorithm.\n",
        "- Algorithm output: The value of $\\langle e^{-iHt} \\rangle$ from the algorithm.\n",
        "- Evaluate algorithm: The cost we need to run the algorithm, e.g. number of gates, circuit depth, execution time and circuit fidelity\n",
        "\n",
        "We pick estimating the $\\langle e^{-iHt}\\rangle$ as the problem because it is an important building block of the statistical phase estimation, which is one of the major components in the QURI Algo library. We use this simplified example to demonstrate how different components of the QURI SDK work with each other to help you on your algorithm research journey."
      ]
    },
    {
      "cell_type": "markdown",
      "metadata": {},
      "source": [
        "## Set up the problem\n",
        "\n",
        "Following the flow chart, we first define our problem. Here, the hydrogen molecule's Hamiltonian is used as an example. We build the Hamiltonian with QURI Parts and wrap it inside a `HamiltonianInput` that defines a problem in QURI Algo. Please refer to the QURI Parts [Hamiltonian generation tutorial](https://quri-parts.qunasys.com/docs/tutorials/quantum-chemistry/hamiltonian/hamiltonian/) and the QURI Algo [time evolution tutorial](../1_quri-algo/0_basics/0_time_evolution/index.md) for detailed explanations."
      ]
    },
    {
      "cell_type": "code",
      "execution_count": null,
      "metadata": {},
      "outputs": [
        {
          "name": "stdout",
          "output_type": "stream",
          "text": [
            "converged SCF energy = -1.06610864931794\n"
          ]
        }
      ],
      "source": [
        "from pyscf import gto, scf\n",
        "from quri_parts.pyscf.mol import get_spin_mo_integrals_from_mole\n",
        "from quri_parts.openfermion.mol import get_qubit_mapped_hamiltonian\n",
        "from quri_parts.core.operator import Operator, PAULI_IDENTITY\n",
        "from quri_algo.problem import QubitHamiltonian\n",
        "\n",
        "mole = gto.M(atom=\"H 0 0 0; H 0 0 1\")\n",
        "mf = scf.RHF(mole).run()\n",
        "hamiltonian, mapping = get_qubit_mapped_hamiltonian(\n",
        "    *get_spin_mo_integrals_from_mole(mole, mf.mo_coeff)\n",
        ")\n",
        "\n",
        "# To avoid redundancy, we remove the identity part of the Hamiltonian,\n",
        "# keeping only the part with non-trivial interactions.\n",
        "eff_hamiltonian = hamiltonian - Operator({PAULI_IDENTITY: hamiltonian.constant})\n",
        "hamiltonian_input = QubitHamiltonian(mapping.n_qubits, eff_hamiltonian)"
      ]
    },
    {
      "cell_type": "code",
      "execution_count": null,
      "metadata": {},
      "outputs": [
        {
          "name": "stdout",
          "output_type": "stream",
          "text": [
            "(-0.3276081896748092+0j)*I + (0.13716572937099503+0j)*Z0 + (0.13716572937099503+0j)*Z1 + (-0.13036292057109103+0j)*Z2 + (-0.13036292057109103+0j)*Z3 + (0.15660062488237947+0j)*Z0 Z1 + (0.10622904490856078+0j)*Z0 Z2 + (0.15542669077992832+0j)*Z0 Z3 + (0.15542669077992832+0j)*Z1 Z2 + (0.10622904490856078+0j)*Z1 Z3 + (0.16326768673564343+0j)*Z2 Z3 + -0.049197645871367546*X0 X1 Y2 Y3 + 0.049197645871367546*X0 Y1 Y2 X3 + 0.049197645871367546*Y0 X1 X2 Y3 + -0.049197645871367546*Y0 Y1 X2 X3\n"
          ]
        }
      ],
      "source": [
        "print(hamiltonian)"
      ]
    },
    {
      "cell_type": "markdown",
      "metadata": {},
      "source": [
        "## Specify VM\n",
        "\n",
        "Now, we specify the VM that drives our algorithm execution. Various types of devices and architectures are provided in QURI VM for you to customize the details of the device you want to simulate on."
      ]
    },
    {
      "cell_type": "markdown",
      "metadata": {},
      "source": [
        "### Device properties\n",
        "\n",
        "We build 2 VMs here corresponding to \n",
        "- A NISQ superconducting device \n",
        "- A device that runs on the STAR architecture \n",
        "\n",
        "#### Generate NISQ Device properties\n",
        "\n",
        "First, generate a set of NISQ device properties."
      ]
    },
    {
      "cell_type": "code",
      "execution_count": null,
      "metadata": {},
      "outputs": [],
      "source": [
        "from quri_parts.backend.devices import nisq_spcond_lattice\n",
        "from quri_parts.circuit.topology import SquareLattice\n",
        "from quri_parts.backend.units import TimeValue, TimeUnit\n",
        "\n",
        "nisq_property = nisq_spcond_lattice.generate_device_property(\n",
        "    lattice=SquareLattice(5, 5),\n",
        "    native_gates_1q=(\"RZ\", \"SqrtX\", \"X\"),\n",
        "    native_gates_2q=(\"CNOT\",),\n",
        "    gate_error_1q=1e-3,\n",
        "    gate_error_2q=1e-2,\n",
        "    gate_error_meas=1e-2,\n",
        "    gate_time_1q=TimeValue(60, TimeUnit.NANOSECOND),\n",
        "    gate_time_2q=TimeValue(660, TimeUnit.NANOSECOND),\n",
        "    gate_time_meas=TimeValue(1.4, TimeUnit.MICROSECOND),\n",
        ")"
      ]
    },
    {
      "cell_type": "markdown",
      "metadata": {},
      "source": [
        "You can print out the properties for to inspect the details"
      ]
    },
    {
      "cell_type": "code",
      "execution_count": null,
      "metadata": {},
      "outputs": [
        {
          "name": "stdout",
          "output_type": "stream",
          "text": [
            "NISQ device:\n",
            "----------------------------\n",
            "Logical qubit count: 25\n",
            "Physical qubit count: 25\n",
            "native_gates: ('SqrtX', 'X', 'RZ', 'CNOT')\n",
            "\n",
            "\n",
            "NISQ Gate properties:\n",
            "----------------------------\n",
            "X gate property: GateProperty(gate='X', qubits=(), gate_error=0.001, gate_time=TimeValue(value=60, unit=<TimeUnit.NANOSECOND>), name=None)\n",
            "SqrtX gate property: GateProperty(gate='SqrtX', qubits=(), gate_error=0.001, gate_time=TimeValue(value=60, unit=<TimeUnit.NANOSECOND>), name=None)\n",
            "CNOT gate property: GateProperty(gate='CNOT', qubits=(), gate_error=0.01, gate_time=TimeValue(value=660, unit=<TimeUnit.NANOSECOND>), name=None)\n",
            "RZ gate property: GateProperty(gate='RZ', qubits=(), gate_error=0.001, gate_time=TimeValue(value=60, unit=<TimeUnit.NANOSECOND>), name=None)\n",
            "background error: None\n"
          ]
        }
      ],
      "source": [
        "from quri_parts.circuit import RZ, SqrtX, X, CNOT\n",
        "\n",
        "print(\"NISQ device:\")\n",
        "print(\"----------------------------\")\n",
        "print(\"Logical qubit count:\", nisq_property.qubit_count)\n",
        "print(\"Physical qubit count:\", nisq_property.physical_qubit_count)\n",
        "print(\"native_gates:\", nisq_property.native_gates)\n",
        "print(\"\\n\")\n",
        "\n",
        "print(\"NISQ Gate properties:\")\n",
        "print(\"----------------------------\")\n",
        "print(\"X gate property:\", nisq_property.gate_property(X(0)))\n",
        "print(\"SqrtX gate property:\", nisq_property.gate_property(SqrtX(0)))\n",
        "print(\"CNOT gate property:\", nisq_property.gate_property(CNOT(0, 1)))\n",
        "print(\"RZ gate property:\", nisq_property.gate_property(RZ(0, 0.0)))\n",
        "print(\"background error:\", nisq_property.background_error)"
      ]
    },
    {
      "cell_type": "markdown",
      "metadata": {},
      "source": [
        "#### Error corrected device properties\n",
        "\n",
        "First, generate a set of error correction properties."
      ]
    },
    {
      "cell_type": "code",
      "execution_count": null,
      "metadata": {},
      "outputs": [],
      "source": [
        "from quri_parts.backend.devices import star_device\n",
        "from quri_parts.backend.units import TimeValue, TimeUnit\n",
        "\n",
        "n_device_logical_qubit = mapping.n_qubits\n",
        "p_phys = 1e-4\n",
        "qec_cycle = TimeValue(1, TimeUnit.MICROSECOND)\n",
        "code_distance = 9\n",
        "\n",
        "star_property = star_device.generate_device_property(\n",
        "    n_device_logical_qubit, code_distance, qec_cycle, p_phys,\n",
        ")"
      ]
    },
    {
      "cell_type": "markdown",
      "metadata": {},
      "source": [
        "We can view various properties of the device like we did for the NISQ device"
      ]
    },
    {
      "cell_type": "code",
      "execution_count": null,
      "metadata": {},
      "outputs": [
        {
          "name": "stdout",
          "output_type": "stream",
          "text": [
            "STAR device:\n",
            "----------------------------\n",
            "Logical qubit count: 4\n",
            "Physical qubit count: 2592\n",
            "native_gates: ('H', 'S', 'CNOT', 'RZ')\n",
            "\n",
            "\n",
            "STAR Gate properties:\n",
            "----------------------------\n",
            "H gate property: GateProperty(gate='H', qubits=(), gate_error=0.0, gate_time=TimeValue(value=27.0, unit=<TimeUnit.MICROSECOND>), name=None)\n",
            "S gate property: GateProperty(gate='S', qubits=[], gate_error=0.0, gate_time=TimeValue(value=18.0, unit=<TimeUnit.MICROSECOND>), name=None)\n",
            "CNOT gate property: GateProperty(gate='CNOT', qubits=(), gate_error=0.0, gate_time=TimeValue(value=18.0, unit=<TimeUnit.MICROSECOND>), name=None)\n",
            "RZ gate property: GateProperty(gate='RZ', qubits=(), gate_error=2.6666488888826834e-05, gate_time=TimeValue(value=36.0, unit=<TimeUnit.MICROSECOND>), name=None)\n",
            "background error: (5.8391629309539894e-09, TimeValue(value=1, unit=<TimeUnit.MICROSECOND>))\n"
          ]
        }
      ],
      "source": [
        "from quri_parts.circuit import H, S, CNOT, RZ\n",
        "\n",
        "print(\"STAR device:\")\n",
        "print(\"----------------------------\")\n",
        "print(\"Logical qubit count:\", star_property.qubit_count)\n",
        "print(\"Physical qubit count:\", star_property.physical_qubit_count)\n",
        "print(\"native_gates:\", star_property.native_gates)\n",
        "print(\"\\n\")\n",
        "\n",
        "print(\"STAR Gate properties:\")\n",
        "print(\"----------------------------\")\n",
        "print(\"H gate property:\", star_property.gate_property(H(0)))\n",
        "print(\"S gate property:\", star_property.gate_property(S(0)))\n",
        "print(\"CNOT gate property:\", star_property.gate_property(CNOT(0, 1)))\n",
        "print(\"RZ gate property:\", star_property.gate_property(RZ(0, 1)))\n",
        "print(\"background error:\", star_property.background_error)"
      ]
    },
    {
      "cell_type": "markdown",
      "metadata": {},
      "source": [
        "These are the basic properties that determine the outcome of simulating your circuits. Note that in the STAR architecture, the Clifford gates H, S and CNOT are fully error corrected so that the error rate is 0. However, the $R_Z$ gate cannot be fully error corrected and the logical error rate $P_L$ relates to the physical error rate $p_{\\rm{phys}}$ via:\n",
        "\n",
        "$$\n",
        "\\begin{equation}\n",
        "P_L = 1-\\left(1 - \\frac{2p_{\\mathrm{phys}}}{15} \\right)^2\n",
        "\\end{equation}\n",
        "$$"
      ]
    },
    {
      "cell_type": "markdown",
      "metadata": {},
      "source": [
        "### Build the VMs\n",
        "With the device properties, we build VM instances that encapsulates all the information about the transpiler, sampler and cost estimators."
      ]
    },
    {
      "cell_type": "code",
      "execution_count": null,
      "metadata": {},
      "outputs": [],
      "source": [
        "from quri_vm import VM\n",
        "\n",
        "ideal_vm = VM()\n",
        "nisq_vm = VM.from_device_prop(nisq_property)\n",
        "star_vm = VM.from_device_prop(star_property)"
      ]
    },
    {
      "cell_type": "markdown",
      "metadata": {},
      "source": [
        "## Assemble Hadamard test algorithm\n",
        "\n",
        "Now, build the algorithm function that executes the algorithm and analyze the two Hadamard test circuit. The estimated expectation value as well as the cost estimations will be returned in the `AlgoResult` defined below. The algorithm function is built from the `TrotterTimeEvolutionHadamardTest` object from QURI Algo. Please refer to the estimator tutorial in QURI Algo."
      ]
    },
    {
      "cell_type": "code",
      "execution_count": null,
      "metadata": {},
      "outputs": [],
      "source": [
        "from dataclasses import dataclass\n",
        "from quri_algo.core.estimator.time_evolution.trotter import TrotterTimeEvolutionHadamardTest\n",
        "from quri_parts.core.state import quantum_state\n",
        "from quri_parts.core.estimator import Estimate\n",
        "from quri_vm.vm import AnalyzeResult\n",
        "\n",
        "@dataclass\n",
        "class AlgoResult:\n",
        "    exp_val: Estimate\n",
        "    real_circuit_analysis: AnalyzeResult\n",
        "    imag_circuit_analysis: AnalyzeResult\n",
        "\n",
        "\n",
        "def run_hadamard_test(vm: VM) -> AlgoResult:\n",
        "    n_trotter = 5\n",
        "    evolution_time = 5.0\n",
        "    n_shots = 10000\n",
        "    state = quantum_state(n_qubits=mapping.n_qubits, bits=0b11)\n",
        "\n",
        "    hadamard_test = TrotterTimeEvolutionHadamardTest(\n",
        "        hamiltonian_input, vm.sample, n_trotter=n_trotter\n",
        "    )\n",
        "\n",
        "    estimate = hadamard_test(state, evolution_time, n_shots=n_shots)\n",
        "    real_circuit = hadamard_test.real_circuit_factory(evolution_time)\n",
        "    imag_circuit = hadamard_test.imag_circuit_factory(evolution_time)\n",
        "\n",
        "    return AlgoResult(estimate, vm.analyze(real_circuit), vm.analyze(imag_circuit))"
      ]
    },
    {
      "cell_type": "markdown",
      "metadata": {},
      "source": [
        "## Execute with different VMs and evaluate\n",
        "\n",
        "Finally, we reach the most right hand side of the flow chart above. We pass in the VM instances we created above to the algorithm function `run_hadamard_test`."
      ]
    },
    {
      "cell_type": "code",
      "execution_count": null,
      "metadata": {},
      "outputs": [],
      "source": [
        "import pprint\n",
        "\n",
        "ideal_result = run_hadamard_test(ideal_vm)\n",
        "nisq_result = run_hadamard_test(nisq_vm)\n",
        "star_result = run_hadamard_test(star_vm)"
      ]
    },
    {
      "cell_type": "markdown",
      "metadata": {},
      "source": [
        "We first look at the evaluation result of using an error free backend. Since it is running on a simulator, there is no transpilation involved. The gate count and depth are that of the input logical circuit. The corresponding circuit fidelity is 1.0, and there is not latency estimation."
      ]
    },
    {
      "cell_type": "code",
      "execution_count": null,
      "metadata": {},
      "outputs": [
        {
          "name": "stdout",
          "output_type": "stream",
          "text": [
            "AlgoResult(exp_val=_Estimate(value=(-0.7386-0.6554j), error=nan),\n",
            "           real_circuit_analysis=AnalyzeResult(lowering_level=<LoweringLevel.LogicalCircuit: 0>,\n",
            "                                               qubit_count=5,\n",
            "                                               gate_count=142,\n",
            "                                               depth=116,\n",
            "                                               latency=None,\n",
            "                                               fidelity=1.0),\n",
            "           imag_circuit_analysis=AnalyzeResult(lowering_level=<LoweringLevel.LogicalCircuit: 0>,\n",
            "                                               qubit_count=5,\n",
            "                                               gate_count=143,\n",
            "                                               depth=117,\n",
            "                                               latency=None,\n",
            "                                               fidelity=1.0))\n"
          ]
        }
      ],
      "source": [
        "pprint.pprint(ideal_result)"
      ]
    },
    {
      "cell_type": "markdown",
      "metadata": {},
      "source": [
        "Next, we try to evaluate the circuit on a superconducting NISQ device, the device architecture only supports $RZ$, $SqrtX$, $X$, $CNOT$ gates, so transpilation is required. In the analysis summary below, you can see that the gate count and circuit depth are different from those in our last evaluation using the simulator backend due to the transpilation. Also, the VM contains the device noise characteristic. It is used to compute the latency and circuit fidelity of each circuit execution. The latency is in the unit of nanoseconds."
      ]
    },
    {
      "cell_type": "code",
      "execution_count": null,
      "metadata": {},
      "outputs": [
        {
          "name": "stdout",
          "output_type": "stream",
          "text": [
            "AlgoResult(exp_val=_Estimate(value=(-0.7522-0.6566j), error=nan),\n",
            "           real_circuit_analysis=AnalyzeResult(lowering_level=<LoweringLevel.ArchLogicalCircuit: 1>,\n",
            "                                               qubit_count=5,\n",
            "                                               gate_count=4654,\n",
            "                                               depth=3327,\n",
            "                                               latency=TimeValue(value=1885320.0,\n",
            "                                                                 unit=<TimeUnit.NANOSECOND>),\n",
            "                                               fidelity=4.331718345687236e-15),\n",
            "           imag_circuit_analysis=AnalyzeResult(lowering_level=<LoweringLevel.ArchLogicalCircuit: 1>,\n",
            "                                               qubit_count=5,\n",
            "                                               gate_count=4655,\n",
            "                                               depth=3327,\n",
            "                                               latency=TimeValue(value=1885320.0,\n",
            "                                                                 unit=<TimeUnit.NANOSECOND>),\n",
            "                                               fidelity=4.327386627341549e-15))\n",
            "Hadamard test done in  37.706 seconds on a NISQ device.\n"
          ]
        }
      ],
      "source": [
        "pprint.pprint(nisq_result)\n",
        "n_shots = 10000\n",
        "print(\n",
        "    \"Hadamard test done in \"\n",
        "    f\"{(nisq_result.real_circuit_analysis.latency.in_ns() + nisq_result.imag_circuit_analysis.latency.in_ns()) * n_shots * 1e-9: .3f} \"\n",
        "    \"seconds on a NISQ device.\"\n",
        ")"
      ]
    },
    {
      "cell_type": "markdown",
      "metadata": {},
      "source": [
        "Then, we switch to the STAR architecture. From the analysis result, we can see that the fidelity improves from approximately 0 to 99.5%. However, the execution time is more than 10 times longer."
      ]
    },
    {
      "cell_type": "code",
      "execution_count": null,
      "metadata": {},
      "outputs": [
        {
          "name": "stdout",
          "output_type": "stream",
          "text": [
            "AlgoResult(exp_val=_Estimate(value=(-0.7452-0.662j), error=nan),\n",
            "           real_circuit_analysis=AnalyzeResult(lowering_level=<LoweringLevel.ArchLogicalCircuit: 1>,\n",
            "                                               qubit_count=5,\n",
            "                                               gate_count=1602,\n",
            "                                               depth=940,\n",
            "                                               latency=TimeValue(value=19710000.0,\n",
            "                                                                 unit=<TimeUnit.NANOSECOND>),\n",
            "                                               fidelity=0.99570046186266),\n",
            "           imag_circuit_analysis=AnalyzeResult(lowering_level=<LoweringLevel.ArchLogicalCircuit: 1>,\n",
            "                                               qubit_count=5,\n",
            "                                               gate_count=1605,\n",
            "                                               depth=940,\n",
            "                                               latency=TimeValue(value=19710000.0,\n",
            "                                                                 unit=<TimeUnit.NANOSECOND>),\n",
            "                                               fidelity=0.99570046186266))\n",
            "Hadamard test done in  394.200 seconds on STAR architecture.\n"
          ]
        }
      ],
      "source": [
        "pprint.pprint(star_result)\n",
        "n_shots = 10000\n",
        "print(\n",
        "    \"Hadamard test done in \"\n",
        "    f\"{(star_result.real_circuit_analysis.latency.in_ns() + star_result.imag_circuit_analysis.latency.in_ns()) * n_shots * 1e-9: .3f} \"\n",
        "    \"seconds on STAR architecture.\"\n",
        ")"
      ]
    },
    {
      "cell_type": "markdown",
      "metadata": {},
      "source": [
        "## Summary\n",
        "\n",
        "We summarize the flow of working with QURI VM and QURI Algo. Referring back to different sections of this tutorial, we started by defining a problem Hamiltonian on which we want to evaluate the physical observable $\\langle e^{-iHt}\\rangle$. Then, we proceed to define the VMs for NISQ device and STAR device. The VM is supposed to be part of the input of the algorithm function `run_hadamard_test`.  Finally, we run and evaluate the algorithms with different VMs. The output of the algorithm contains the estimated value of $\\langle e^{-iHt} \\rangle$ as well as the cost and fidelity of running the Hadamard test circuit.\n",
        "\n",
        "By going through this notebook you will have learned\n",
        "- The basic workflow of using QURI SDK\n",
        "- How to run the Hadamard test to get estimates of time-evolution operators\n",
        "- How to emulate real devices with QURI VM and use it to run the estimation of the Hadamard test\n",
        "\n",
        "### Take-aways from this tutorial\n",
        "\n",
        "Using what you have learned here, try running the Hadamard test with the STAR architecture VM, but using a series of different error rates. Using matplotlib plot the resulting circuit fidelity as a function of physical error rate."
      ]
    }
  ],
  "metadata": {
    "language_info": {
      "name": "python",
      "pygments_lexer": "ipython3"
    }
  },
  "nbformat": 4,
  "nbformat_minor": 4
}
