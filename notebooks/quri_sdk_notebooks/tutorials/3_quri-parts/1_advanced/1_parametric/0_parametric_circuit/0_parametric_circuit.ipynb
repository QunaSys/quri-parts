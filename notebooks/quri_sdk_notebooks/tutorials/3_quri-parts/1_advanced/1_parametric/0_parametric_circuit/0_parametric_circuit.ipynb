{
  "cells": [
    {
      "cell_type": "markdown",
      "metadata": {},
      "source": [
        "# Parametric circuit\n",
        "\n",
        "Quantum circuits with variable parameters play an important role in some quantum algorithms, especially variational algorithms. QURI Parts treats such circuits in a special way so that such algorithms can be efficiently performed. In QURI Parts, we provide 2 types of parametric ciricuits. For either type of circuits, the parametric gates are all Pauli rotation gates, but they hold the parameters in different ways. They are\n",
        "\n",
        "- `UnboundParametricQuantumCircuit`\n",
        "- `LinearMappedUnboundParametricQuantumCircuit`\n",
        "\n",
        "In this tutorial, we clearly distinguish two types of parameters: circuit parameter and gate parameter. Circuit parameters refer to independent parameters the circuit holds. Gate parameters refer to the parameter each parametric gate in the circuit hold. Depending on type of the circuit, the gate parameters have different relations with the circuit parameters. In the case of `UnboundParametricQuantumCircuit`, gate parameters are trivial mapped as circuit parameters, i.e. they are the same. In the case of `LinearMappedUnboundParametricQuantumCircuit`, circuit parameters are linearly mapped to gate parameters, so it is generally possible that the number of gate parameters are different from the number of circuit parameters. We will make this clearer with concrete formulae and examples in later sections."
      ]
    },
    {
      "cell_type": "markdown",
      "metadata": {},
      "source": [
        "## Prerequisite\n",
        "\n",
        "QURI Parts modules used in this tutorial: `quri-parts-circuit`, `quri-parts-core` and `quri-parts-qulacs`. You can install them as follows:"
      ]
    },
    {
      "cell_type": "code",
      "execution_count": null,
      "metadata": {},
      "outputs": [],
      "source": [
        "# !pip install \"quri-parts[qulacs]\""
      ]
    },
    {
      "cell_type": "markdown",
      "metadata": {},
      "source": [
        "## `Parameter` objects\n",
        "\n",
        "An unbound parameter in a parametric circuit is represented by a `quri_parts.circuit.Parameter` class. A `Parameter` object works as a placeholder for the parameter and does not hold any specific value. Identity of a `Parameter` object is determined by identity of it as a Python object. Even if two `Parameter` objects have the same name, they are treated as different parameters:"
      ]
    },
    {
      "cell_type": "code",
      "execution_count": null,
      "metadata": {},
      "outputs": [
        {
          "name": "stdout",
          "output_type": "stream",
          "text": [
            "Parameter(name=phi) Parameter(name=psi) Parameter(name=psi2) Parameter(name=)\n",
            "phi == psi1: False\n",
            "psi1 == psi2: False\n",
            "phi == CONST: False\n",
            "\n",
            "Parameters are treated as different even if they have the same name\n",
            " Parameter('phi') == Parameter('phi'): False\n"
          ]
        }
      ],
      "source": [
        "from quri_parts.circuit import Parameter, CONST\n",
        "\n",
        "phi = Parameter(\"phi\")\n",
        "psi1 = Parameter(\"psi\")\n",
        "psi2 = Parameter(\"psi2\")\n",
        "\n",
        "# CONST is a pre-defined parameter that represents a constant.\n",
        "print(phi, psi1, psi2, CONST)\n",
        "print(\"phi == psi1:\", phi == psi1)\n",
        "print(\"psi1 == psi2:\", psi1 == psi2)\n",
        "print(\"phi == CONST:\", phi == CONST)\n",
        "\n",
        "print(\"\")\n",
        "print(\"Parameters are treated as different even if they have the same name\")\n",
        "print(\" Parameter('phi') == Parameter('phi'):\", Parameter(\"phi\") == Parameter(\"phi\"))"
      ]
    },
    {
      "cell_type": "markdown",
      "metadata": {},
      "source": [
        "## Parametric gates\n",
        "\n",
        "The parametric gates are represented by the `ParametricQuantumGate` object. It is an object containing only the attributes:\n",
        "\n",
        "- `name`: name of the parametric gate.\n",
        "- `target_indices`: the qubit it acts on.\n",
        "- `control_indices`: the qubit that controls the gate on the target qubit.\n",
        "- `pauli_ids`: The sequence of Pauli matrix labels that represents the label of the Pauli rotation gates.\n",
        "\n",
        "Like the `QuantumGate` object, it is not to be constructed directly. In QURI Parts, we provide 4 factory functions for creating `ParametricQuantumGates`. They are Pauli rotation gates with no concrete value of rotation angle bound to it."
      ]
    },
    {
      "cell_type": "code",
      "execution_count": null,
      "metadata": {},
      "outputs": [
        {
          "name": "stdout",
          "output_type": "stream",
          "text": [
            "ParametricQuantumGate(name='ParametricRX', target_indices=(0,), control_indices=(), pauli_ids=())\n",
            "ParametricQuantumGate(name='ParametricRY', target_indices=(0,), control_indices=(), pauli_ids=())\n",
            "ParametricQuantumGate(name='ParametricRZ', target_indices=(0,), control_indices=(), pauli_ids=())\n",
            "ParametricQuantumGate(name='ParametricPauliRotation', target_indices=(0, 1, 2, 3), control_indices=(), pauli_ids=(3, 2, 1, 2))\n"
          ]
        }
      ],
      "source": [
        "from quri_parts.circuit import ParametricRX, ParametricRY, ParametricRZ, ParametricPauliRotation\n",
        "\n",
        "print(ParametricRX(target_index=0))\n",
        "print(ParametricRY(target_index=0))\n",
        "print(ParametricRZ(target_index=0))\n",
        "print(ParametricPauliRotation(target_indices=(0, 1, 2, 3), pauli_ids=(3, 2, 1, 2)))"
      ]
    },
    {
      "cell_type": "markdown",
      "metadata": {},
      "source": [
        "## `UnboundParametricQuantumCircuit`\n",
        "\n",
        "An unbound parametric circuit where each parametric gate in it has its own parameter independent from other parameters. The gates can only depend on a parameter $\\theta$ via:\n",
        "    $$\n",
        "    \\begin{equation}\n",
        "        \\exp\\left(- i \\frac{\\theta}{2} P\\right)\n",
        "    \\end{equation}\n",
        "    $$\n",
        "where $P$ is any Pauli string. In addition to parametric gates, you can also add all the non-parametric gates supported by the usual `QuantumCircuit` object to a parametric circuit. As an example, let's create a circuit with gates: $[\\text{H}_0, \\text{CNOT}_{0,1}, \\text{RX}(\\theta)_0, \\text{RY}(\\phi)_0, \\text{RZ}(\\psi)_1]$. Here, $\\text{RX}(\\theta)$, $\\text{RY}(\\phi)$ and $\\text{RZ}(\\psi)$ are rotation gates with parameters independent of each other."
      ]
    },
    {
      "cell_type": "code",
      "execution_count": null,
      "metadata": {},
      "outputs": [
        {
          "name": "stdout",
          "output_type": "stream",
          "text": [
            "   ___             ___     ___  \n",
            "  | H |           |PRX|   |PRY| \n",
            "--|0  |-----●-----|2  |---|3  |-\n",
            "  |___|     |     |___|   |___| \n",
            "           _|_     ___          \n",
            "          |CX |   |PRZ|         \n",
            "----------|1  |---|4  |---------\n",
            "          |___|   |___|         \n"
          ]
        }
      ],
      "source": [
        "from quri_parts.circuit import UnboundParametricQuantumCircuit\n",
        "from quri_parts.circuit.utils.circuit_drawer import draw_circuit\n",
        "\n",
        "parametric_circuit = UnboundParametricQuantumCircuit(2)\n",
        "parametric_circuit.add_H_gate(0)\n",
        "parametric_circuit.add_CNOT_gate(0, 1)\n",
        "p_theta = parametric_circuit.add_ParametricRX_gate(0)\n",
        "p_phi = parametric_circuit.add_ParametricRY_gate(0)\n",
        "p_psi = parametric_circuit.add_ParametricRZ_gate(1)\n",
        "\n",
        "draw_circuit(parametric_circuit)"
      ]
    },
    {
      "cell_type": "markdown",
      "metadata": {},
      "source": [
        "We may check whether or not we have 3 independent parameters added to to circuit and assign values to them. As an example, we assign $\\theta = 0.1$, $\\phi = 0.2$, $\\psi = 0.3$ to the parameters."
      ]
    },
    {
      "cell_type": "code",
      "execution_count": null,
      "metadata": {},
      "outputs": [
        {
          "name": "stdout",
          "output_type": "stream",
          "text": [
            "Number of parameters in the circuit: 3\n",
            "\n",
            "Bind parameters:\n"
          ]
        },
        {
          "data": {
            "text/plain": [
              "(QuantumGate(name='H', target_indices=(0,), control_indices=(), classical_indices=(), params=(), pauli_ids=(), unitary_matrix=()),\n",
              " QuantumGate(name='CNOT', target_indices=(1,), control_indices=(0,), classical_indices=(), params=(), pauli_ids=(), unitary_matrix=()),\n",
              " QuantumGate(name='RX', target_indices=(0,), control_indices=(), classical_indices=(), params=(0.1,), pauli_ids=(), unitary_matrix=()),\n",
              " QuantumGate(name='RY', target_indices=(0,), control_indices=(), classical_indices=(), params=(0.2,), pauli_ids=(), unitary_matrix=()),\n",
              " QuantumGate(name='RZ', target_indices=(1,), control_indices=(), classical_indices=(), params=(0.3,), pauli_ids=(), unitary_matrix=()))"
            ]
          },
          "execution_count": 5,
          "metadata": {},
          "output_type": "execute_result"
        }
      ],
      "source": [
        "print(\"Number of parameters in the circuit:\", parametric_circuit.parameter_count)\n",
        "\n",
        "# bind parameters:\n",
        "print(\"\")\n",
        "print(\"Bind parameters:\")\n",
        "parametric_circuit.bind_parameters([0.1, 0.2, 0.3]).gates"
      ]
    },
    {
      "cell_type": "markdown",
      "metadata": {},
      "source": [
        "Looking at the gates, we indeed get the desired circuit with the rotation gates being $\\text{RX}(\\theta=0.1)_0,\\; \\text{RY}(\\phi=0.2)_0,\\; \\text{RZ}(\\psi=0.3)_1.$"
      ]
    },
    {
      "cell_type": "code",
      "execution_count": null,
      "metadata": {},
      "outputs": [
        {
          "data": {
            "text/plain": [
              "[QuantumGate(name='H', target_indices=(0,), control_indices=(), classical_indices=(), params=(), pauli_ids=(), unitary_matrix=()),\n",
              " QuantumGate(name='CNOT', target_indices=(1,), control_indices=(0,), classical_indices=(), params=(), pauli_ids=(), unitary_matrix=()),\n",
              " ParametricQuantumGate(name='ParametricRX', target_indices=(0,), control_indices=(), pauli_ids=()),\n",
              " ParametricQuantumGate(name='ParametricRY', target_indices=(0,), control_indices=(), pauli_ids=()),\n",
              " ParametricQuantumGate(name='ParametricRZ', target_indices=(1,), control_indices=(), pauli_ids=())]"
            ]
          },
          "execution_count": 6,
          "metadata": {},
          "output_type": "execute_result"
        }
      ],
      "source": [
        "parametric_circuit.gates"
      ]
    },
    {
      "cell_type": "markdown",
      "metadata": {},
      "source": [
        "### Properties\n",
        "\n",
        "We provide various properties for `UnboundParametricQuantumCircuit`."
      ]
    },
    {
      "cell_type": "markdown",
      "metadata": {},
      "source": [
        "#### `qubit_count`:\n",
        "Number of qubits of the circuit"
      ]
    },
    {
      "cell_type": "code",
      "execution_count": null,
      "metadata": {},
      "outputs": [
        {
          "name": "stdout",
          "output_type": "stream",
          "text": [
            "qubit_count: 2\n"
          ]
        }
      ],
      "source": [
        "print(\"qubit_count:\", parametric_circuit.qubit_count)"
      ]
    },
    {
      "cell_type": "markdown",
      "metadata": {},
      "source": [
        "#### `depth`:\n",
        "Depth of the parametric circuit"
      ]
    },
    {
      "cell_type": "code",
      "execution_count": null,
      "metadata": {},
      "outputs": [
        {
          "name": "stdout",
          "output_type": "stream",
          "text": [
            "Circuit depth: 4\n"
          ]
        }
      ],
      "source": [
        "print(\"Circuit depth:\", parametric_circuit.depth)"
      ]
    },
    {
      "cell_type": "markdown",
      "metadata": {},
      "source": [
        "#### `parameter_count`:\n",
        "Number of circuit parameters."
      ]
    },
    {
      "cell_type": "code",
      "execution_count": null,
      "metadata": {},
      "outputs": [
        {
          "name": "stdout",
          "output_type": "stream",
          "text": [
            "Parameter count: 3\n"
          ]
        }
      ],
      "source": [
        "print(\"Parameter count:\", parametric_circuit.parameter_count)"
      ]
    },
    {
      "cell_type": "markdown",
      "metadata": {},
      "source": [
        "#### `gates`:\n",
        "All the non-parametric and parametric gates."
      ]
    },
    {
      "cell_type": "code",
      "execution_count": null,
      "metadata": {},
      "outputs": [
        {
          "name": "stdout",
          "output_type": "stream",
          "text": [
            "Gates:\n"
          ]
        },
        {
          "data": {
            "text/plain": [
              "[QuantumGate(name='H', target_indices=(0,), control_indices=(), classical_indices=(), params=(), pauli_ids=(), unitary_matrix=()),\n",
              " QuantumGate(name='CNOT', target_indices=(1,), control_indices=(0,), classical_indices=(), params=(), pauli_ids=(), unitary_matrix=()),\n",
              " ParametricQuantumGate(name='ParametricRX', target_indices=(0,), control_indices=(), pauli_ids=()),\n",
              " ParametricQuantumGate(name='ParametricRY', target_indices=(0,), control_indices=(), pauli_ids=()),\n",
              " ParametricQuantumGate(name='ParametricRZ', target_indices=(1,), control_indices=(), pauli_ids=())]"
            ]
          },
          "execution_count": 10,
          "metadata": {},
          "output_type": "execute_result"
        }
      ],
      "source": [
        "print(\"Gates:\")\n",
        "parametric_circuit.gates"
      ]
    },
    {
      "cell_type": "markdown",
      "metadata": {},
      "source": [
        "#### `gates_and_params`:\n",
        "All the non-parametric and parametric gates and the associated circuit parameters. If the gate is non-parametric, the associated parameter would be `None`."
      ]
    },
    {
      "cell_type": "code",
      "execution_count": null,
      "metadata": {},
      "outputs": [
        {
          "name": "stdout",
          "output_type": "stream",
          "text": [
            "Gates and parameters:\n"
          ]
        },
        {
          "data": {
            "text/plain": [
              "[(QuantumGate(name='H', target_indices=(0,), control_indices=(), classical_indices=(), params=(), pauli_ids=(), unitary_matrix=()),\n",
              "  None),\n",
              " (QuantumGate(name='CNOT', target_indices=(1,), control_indices=(0,), classical_indices=(), params=(), pauli_ids=(), unitary_matrix=()),\n",
              "  None),\n",
              " (ParametricQuantumGate(name='ParametricRX', target_indices=(0,), control_indices=(), pauli_ids=()),\n",
              "  Parameter(name=)),\n",
              " (ParametricQuantumGate(name='ParametricRY', target_indices=(0,), control_indices=(), pauli_ids=()),\n",
              "  Parameter(name=)),\n",
              " (ParametricQuantumGate(name='ParametricRZ', target_indices=(1,), control_indices=(), pauli_ids=()),\n",
              "  Parameter(name=))]"
            ]
          },
          "execution_count": 11,
          "metadata": {},
          "output_type": "execute_result"
        }
      ],
      "source": [
        "print(\"Gates and parameters:\")\n",
        "parametric_circuit.gates_and_params"
      ]
    },
    {
      "cell_type": "markdown",
      "metadata": {},
      "source": [
        "### Mutability\n",
        "\n",
        "An `UnboundParametricQuantumCircuit` is a mutable object where we may freely add gates to. In the case where you want to freeze the parametric circuit like you freeze a `QuantumCircuit`, you may use the `freeze` method to create a new `ImmutableUnboundParametricQuantumCircuit` where in-place gate additions are disabled."
      ]
    },
    {
      "cell_type": "code",
      "execution_count": null,
      "metadata": {},
      "outputs": [],
      "source": [
        "frozen_parametric_circuit = parametric_circuit.freeze()"
      ]
    },
    {
      "cell_type": "markdown",
      "metadata": {},
      "source": [
        "Note that if you freeze the frozen circuit again, you get the same frozen circuit back."
      ]
    },
    {
      "cell_type": "code",
      "execution_count": null,
      "metadata": {},
      "outputs": [
        {
          "data": {
            "text/plain": [
              "(<quri_parts.rust.circuit.circuit_parametric.ImmutableParametricQuantumCircuit at 0x7f7428534870>,\n",
              " <quri_parts.rust.circuit.circuit_parametric.ImmutableParametricQuantumCircuit at 0x7f7428534870>)"
            ]
          },
          "execution_count": 13,
          "metadata": {},
          "output_type": "execute_result"
        }
      ],
      "source": [
        "(frozen_parametric_circuit, frozen_parametric_circuit.freeze())"
      ]
    },
    {
      "cell_type": "markdown",
      "metadata": {},
      "source": [
        "In the case where you want to unfreeze the circuit, you may use the `get_mutable_copy` method."
      ]
    },
    {
      "cell_type": "code",
      "execution_count": null,
      "metadata": {},
      "outputs": [
        {
          "data": {
            "text/plain": [
              "<quri_parts.rust.circuit.circuit_parametric.ParametricQuantumCircuit at 0x7f74285344b0>"
            ]
          },
          "execution_count": 14,
          "metadata": {},
          "output_type": "execute_result"
        }
      ],
      "source": [
        "frozen_parametric_circuit.get_mutable_copy()"
      ]
    },
    {
      "cell_type": "markdown",
      "metadata": {},
      "source": [
        "#### Mutibality of bound circuit\n",
        "\n",
        "When we bind the parametric circuit with concrete values, we obtain an `ImmutableBoundParametricQuantumCircuit`. It is an immutable circuit that holds the original parametric circuit and the bound parameters. The parametric circuit held inside it is immutable."
      ]
    },
    {
      "cell_type": "code",
      "execution_count": null,
      "metadata": {},
      "outputs": [
        {
          "name": "stdout",
          "output_type": "stream",
          "text": [
            "parameter map:\n",
            "{Parameter(name=): 0.1, Parameter(name=): 0.2, Parameter(name=): 0.3}\n",
            "\n",
            "unbound circuit:\n",
            "<quri_parts.rust.circuit.circuit_parametric.ParametricQuantumCircuit object at 0x7f7428534270>\n"
          ]
        }
      ],
      "source": [
        "bound_circuit = parametric_circuit.bind_parameters([0.1, 0.2, 0.3])\n",
        "\n",
        "print(\"parameter map:\")\n",
        "print(bound_circuit.parameter_map)\n",
        "\n",
        "print(\"\")\n",
        "print(\"unbound circuit:\")\n",
        "print(bound_circuit.unbound_param_circuit)"
      ]
    },
    {
      "cell_type": "markdown",
      "metadata": {},
      "source": [
        "### Parameter mapping\n",
        "\n",
        "Parametric circuits carry `LinearParameterMapping` objects, which denotes how circuit parameters are mapped to gate parameters. In the case of `UnboundParametricQuantumCircuit`, there is no difference between circuit and gate parameters. We may show this with the `has_trivial_parameter_mapping` property."
      ]
    },
    {
      "cell_type": "code",
      "execution_count": null,
      "metadata": {},
      "outputs": [
        {
          "data": {
            "text/plain": [
              "True"
            ]
          },
          "execution_count": 16,
          "metadata": {},
          "output_type": "execute_result"
        }
      ],
      "source": [
        "parametric_circuit.has_trivial_parameter_mapping"
      ]
    },
    {
      "cell_type": "markdown",
      "metadata": {},
      "source": [
        "Then, let's introduce the `LinearParameterMapping` object stored inside an `UnboundParametricQuantumCircuit`. It can be retrieved by the `.param_mapping` property."
      ]
    },
    {
      "cell_type": "code",
      "execution_count": null,
      "metadata": {},
      "outputs": [],
      "source": [
        "trivial_mapping = parametric_circuit.param_mapping"
      ]
    },
    {
      "cell_type": "markdown",
      "metadata": {},
      "source": [
        "We may retrieve the circuit parameters with the `in_params` property of the `LinearParameterMapping` object. Note that when we use the `.add_Parametric{}_gate()` method while constructing the circuit, we obtain a `Parameter` object. In our example circuit above, they are stored inside the `p_theta`, `p_phi`, `p_psi` variable. We may show that they are the same as the ones retrieved from `.in_params`."
      ]
    },
    {
      "cell_type": "code",
      "execution_count": null,
      "metadata": {},
      "outputs": [
        {
          "data": {
            "text/plain": [
              "(True, True, True)"
            ]
          },
          "execution_count": 18,
          "metadata": {},
          "output_type": "execute_result"
        }
      ],
      "source": [
        "(\n",
        "    p_theta == parametric_circuit.param_mapping.in_params[0],\n",
        "    p_phi == parametric_circuit.param_mapping.in_params[1],\n",
        "    p_psi == parametric_circuit.param_mapping.in_params[2],\n",
        ")"
      ]
    },
    {
      "cell_type": "markdown",
      "metadata": {},
      "source": [
        "The gate parameters are represented by `LinearParameterMapping.out_params`. As there is no distinction between the circuit and gate parameters for `UnboundParametricQuantumCircuit`s, we may check that the `p_theta`, `p_phi`, `p_psi` are the same as `.out_params`."
      ]
    },
    {
      "cell_type": "code",
      "execution_count": null,
      "metadata": {},
      "outputs": [
        {
          "data": {
            "text/plain": [
              "(True, True, True)"
            ]
          },
          "execution_count": 19,
          "metadata": {},
          "output_type": "execute_result"
        }
      ],
      "source": [
        "(\n",
        "    p_theta == parametric_circuit.param_mapping.out_params[0],\n",
        "    p_phi == parametric_circuit.param_mapping.out_params[1],\n",
        "    p_psi == parametric_circuit.param_mapping.out_params[2]\n",
        ")"
      ]
    },
    {
      "cell_type": "markdown",
      "metadata": {},
      "source": [
        "## `LinearMappedUnboundParametricQuantumCircuit`\n",
        "\n",
        "An unbound parametric circuit holding a set of independent circuit parameters $\\{\\theta_i\\}$. Different parametric gates generally hold these circuit parameters in the form of different linear functions in the exponent. To be more explicit, a linear mapped parametric gate can look like:\n",
        "    $$\n",
        "    \\begin{equation}\n",
        "        \\exp\\left[- \\frac{i}{2} \\left(\\sum_i a_i \\theta_i + b\\right) P\\right]\n",
        "    \\end{equation}\n",
        "    $$\n",
        "where $a_i$ and $b$ are coefficients set by the user. Let's have a quick look at how to construct these circuits. Now, let's create a `LinearMappedUnboundParametricQuantumCircuit` with 2 circuit parameters. $\\theta$ and $\\phi$. Now, we implement a circuit that depends on the circuit parameters via $[\\text{H}_0, \\text{CNOT}_{0, 1}, \\text{RX}(\\theta/2 + \\phi/3 + \\pi/2)_0, \\text{RY}(-\\theta/2 + \\phi/3)_0, \\text{RZ}(\\theta/3 - \\phi/2 - \\pi/2)_1]$. "
      ]
    },
    {
      "cell_type": "code",
      "execution_count": null,
      "metadata": {},
      "outputs": [
        {
          "name": "stdout",
          "output_type": "stream",
          "text": [
            "   ___             ___     ___  \n",
            "  | H |           |PRX|   |PRY| \n",
            "--|0  |-----●-----|2  |---|3  |-\n",
            "  |___|     |     |___|   |___| \n",
            "           _|_     ___          \n",
            "          |CX |   |PRZ|         \n",
            "----------|1  |---|4  |---------\n",
            "          |___|   |___|         \n"
          ]
        }
      ],
      "source": [
        "import numpy as np\n",
        "from quri_parts.circuit import LinearMappedUnboundParametricQuantumCircuit, CONST\n",
        "\n",
        "linear_param_circuit = LinearMappedUnboundParametricQuantumCircuit(2)\n",
        "theta, phi = linear_param_circuit.add_parameters(\"theta\", \"phi\")\n",
        "\n",
        "linear_param_circuit.add_H_gate(0)\n",
        "linear_param_circuit.add_CNOT_gate(0, 1)\n",
        "linear_param_circuit.add_ParametricRX_gate(0, {theta: 1/2, phi: 1/3, CONST: np.pi/2})\n",
        "linear_param_circuit.add_ParametricRY_gate(0, {theta: -1/2, phi: 1/3})\n",
        "linear_param_circuit.add_ParametricRZ_gate(1, {theta: 1/3, phi: -1/2, CONST: -np.pi/2})\n",
        "\n",
        "draw_circuit(linear_param_circuit)"
      ]
    },
    {
      "cell_type": "markdown",
      "metadata": {},
      "source": [
        "In the case of `LinearMappedUnboundParametricQuantumCircuit`, we need to use the `add_parameter` or `add_parameters` methods to assign single or multiple parameters to the circuit. Then, we pass the linear function of the parameters to the `.add_Parametric{}_gate` in the form of a dictionary, whose key is the parameter and value is the corresponding coefficient. Here `quri_parts.circuit.CONST` represents the constant term of a linear function"
      ]
    },
    {
      "cell_type": "code",
      "execution_count": null,
      "metadata": {},
      "outputs": [
        {
          "name": "stdout",
          "output_type": "stream",
          "text": [
            "Number of parameters in the circuit: 2\n",
            "\n",
            "Bind parameters:\n"
          ]
        },
        {
          "data": {
            "text/plain": [
              "(QuantumGate(name='H', target_indices=(0,), control_indices=(), classical_indices=(), params=(), pauli_ids=(), unitary_matrix=()),\n",
              " QuantumGate(name='CNOT', target_indices=(1,), control_indices=(0,), classical_indices=(), params=(), pauli_ids=(), unitary_matrix=()),\n",
              " QuantumGate(name='RX', target_indices=(0,), control_indices=(), classical_indices=(), params=(1.6874629934615633,), pauli_ids=(), unitary_matrix=()),\n",
              " QuantumGate(name='RY', target_indices=(0,), control_indices=(), classical_indices=(), params=(0.016666666666666663,), pauli_ids=(), unitary_matrix=()),\n",
              " QuantumGate(name='RZ', target_indices=(1,), control_indices=(), classical_indices=(), params=(-1.6374629934615632,), pauli_ids=(), unitary_matrix=()))"
            ]
          },
          "execution_count": 21,
          "metadata": {},
          "output_type": "execute_result"
        }
      ],
      "source": [
        "print(\"Number of parameters in the circuit:\", linear_param_circuit.parameter_count)\n",
        "\n",
        "# bind parameters:\n",
        "print(\"\")\n",
        "print(\"Bind parameters:\")\n",
        "linear_param_circuit.bind_parameters([0.1, 0.2]).gates"
      ]
    },
    {
      "cell_type": "markdown",
      "metadata": {},
      "source": [
        "Finally, it is worth mentioning that we can make the gate parameters become independent of each other, i.e. converting a `LinearMappedUnboundParametricQuantumCircuit` to an `ImmutableUnboundParametricQuantumCircuit`. This is done by the `.primitive_circuit` method."
      ]
    },
    {
      "cell_type": "code",
      "execution_count": null,
      "metadata": {},
      "outputs": [
        {
          "name": "stdout",
          "output_type": "stream",
          "text": [
            "<quri_parts.rust.circuit.circuit_parametric.ImmutableParametricQuantumCircuit object at 0x7f7428536130>\n",
            "primitive_circuit is trivially mapped: True\n"
          ]
        }
      ],
      "source": [
        "primitive_circuit = linear_param_circuit.primitive_circuit()\n",
        "print(primitive_circuit)\n",
        "print(\"primitive_circuit is trivially mapped:\", primitive_circuit.has_trivial_parameter_mapping)"
      ]
    },
    {
      "cell_type": "markdown",
      "metadata": {},
      "source": [
        "### Properties\n",
        "\n",
        "We provide various properties for `LinearMappedUnboundParametricQuantumCircuit`. They are basically the same as those provided by an `UnboundParametricQuantumCircuit`, except that `gates_and_params` is not provided for `LinearMappedUnboundParametricQuantumCircuit`."
      ]
    },
    {
      "cell_type": "markdown",
      "metadata": {},
      "source": [
        "#### `qubit_count`:\n",
        "Number of qubits of the circuit"
      ]
    },
    {
      "cell_type": "code",
      "execution_count": null,
      "metadata": {},
      "outputs": [
        {
          "name": "stdout",
          "output_type": "stream",
          "text": [
            "qubit_count: 2\n"
          ]
        }
      ],
      "source": [
        "print(\"qubit_count:\", linear_param_circuit.qubit_count)"
      ]
    },
    {
      "cell_type": "markdown",
      "metadata": {},
      "source": [
        "#### `depth`:\n",
        "Depth of the parametric circuit"
      ]
    },
    {
      "cell_type": "code",
      "execution_count": null,
      "metadata": {},
      "outputs": [
        {
          "name": "stdout",
          "output_type": "stream",
          "text": [
            "Circuit depth: 4\n"
          ]
        }
      ],
      "source": [
        "print(\"Circuit depth:\", linear_param_circuit.depth)"
      ]
    },
    {
      "cell_type": "markdown",
      "metadata": {},
      "source": [
        "#### `parameter_count`:\n",
        "Number of circuit parameters."
      ]
    },
    {
      "cell_type": "code",
      "execution_count": null,
      "metadata": {},
      "outputs": [
        {
          "name": "stdout",
          "output_type": "stream",
          "text": [
            "Parameter count: 2\n"
          ]
        }
      ],
      "source": [
        "print(\"Parameter count:\", linear_param_circuit.parameter_count)"
      ]
    },
    {
      "cell_type": "markdown",
      "metadata": {},
      "source": [
        "#### `gates`:\n",
        "All the non-parametric and parametric gates."
      ]
    },
    {
      "cell_type": "code",
      "execution_count": null,
      "metadata": {},
      "outputs": [
        {
          "name": "stdout",
          "output_type": "stream",
          "text": [
            "Gates:\n"
          ]
        },
        {
          "data": {
            "text/plain": [
              "[QuantumGate(name='H', target_indices=(0,), control_indices=(), classical_indices=(), params=(), pauli_ids=(), unitary_matrix=()),\n",
              " QuantumGate(name='CNOT', target_indices=(1,), control_indices=(0,), classical_indices=(), params=(), pauli_ids=(), unitary_matrix=()),\n",
              " ParametricQuantumGate(name='ParametricRX', target_indices=(0,), control_indices=(), pauli_ids=()),\n",
              " ParametricQuantumGate(name='ParametricRY', target_indices=(0,), control_indices=(), pauli_ids=()),\n",
              " ParametricQuantumGate(name='ParametricRZ', target_indices=(1,), control_indices=(), pauli_ids=())]"
            ]
          },
          "execution_count": 26,
          "metadata": {},
          "output_type": "execute_result"
        }
      ],
      "source": [
        "print(\"Gates:\")\n",
        "linear_param_circuit.gates"
      ]
    },
    {
      "cell_type": "markdown",
      "metadata": {},
      "source": [
        "### Mutability\n",
        "\n",
        "An `LinearMappedUnboundParametricQuantumCircuit` is a mutable object where we may freely add gates to. In the case where you want to freeze the parametric circuit like you freeze a `QuantumCircuit`, you may use the `freeze` method to create a new `ImmutableLinearMappedUnboundParametricQuantumCircuit` where in-place gate additions are disabled."
      ]
    },
    {
      "cell_type": "code",
      "execution_count": null,
      "metadata": {},
      "outputs": [],
      "source": [
        "frozen_linear_circuit = linear_param_circuit.freeze()"
      ]
    },
    {
      "cell_type": "markdown",
      "metadata": {},
      "source": [
        "Note that if you freeze the frozen circuit again, you get the same frozen circuit back."
      ]
    },
    {
      "cell_type": "code",
      "execution_count": null,
      "metadata": {},
      "outputs": [
        {
          "data": {
            "text/plain": [
              "(<quri_parts.circuit.circuit_linear_mapped.ImmutableLinearMappedParametricQuantumCircuit at 0x7f742854e4d0>,\n",
              " <quri_parts.circuit.circuit_linear_mapped.ImmutableLinearMappedParametricQuantumCircuit at 0x7f742854e4d0>)"
            ]
          },
          "execution_count": 28,
          "metadata": {},
          "output_type": "execute_result"
        }
      ],
      "source": [
        "(frozen_linear_circuit, frozen_linear_circuit.freeze())"
      ]
    },
    {
      "cell_type": "markdown",
      "metadata": {},
      "source": [
        "In the case where you want to unfreeze the circuit, you may use the `get_mutable_copy` method."
      ]
    },
    {
      "cell_type": "code",
      "execution_count": null,
      "metadata": {},
      "outputs": [
        {
          "data": {
            "text/plain": [
              "<quri_parts.circuit.circuit_linear_mapped.LinearMappedParametricQuantumCircuit at 0x7f743e450e90>"
            ]
          },
          "execution_count": 29,
          "metadata": {},
          "output_type": "execute_result"
        }
      ],
      "source": [
        "frozen_linear_circuit.get_mutable_copy()"
      ]
    },
    {
      "cell_type": "markdown",
      "metadata": {},
      "source": [
        "#### Mutability of bound circuit\n",
        "\n",
        "When we bind the parametric circuit with concrete values, we obtain an `ImmutableBoundParametricQuantumCircuit`. It is an immutable circuit that holds the original parametric circuit and the bound parameters. The parametric circuit held inside it is immutable. In the case of binding parameters to a linear mapped circuit, the unbound circuit held inside the returned `ImmutableBoundParametricQuantumCircuit` is an `ImmutableUnboundParametricQuantumCircuit` where the parameter mapping is trivial."
      ]
    },
    {
      "cell_type": "code",
      "execution_count": null,
      "metadata": {},
      "outputs": [
        {
          "name": "stdout",
          "output_type": "stream",
          "text": [
            "Parameter map:\n",
            "{Parameter(name=): 0.016666666666666663, Parameter(name=): 1.6874629934615633, Parameter(name=): -1.6374629934615632}\n",
            "\n",
            "Unbound circuit:\n",
            "<quri_parts.rust.circuit.circuit_parametric.ParametricQuantumCircuit object at 0x7f743e5e3030>\n",
            "Mapping is trivial: True\n"
          ]
        }
      ],
      "source": [
        "bound_linear_circuit = linear_param_circuit.bind_parameters([0.1, 0.2])\n",
        "\n",
        "print(\"Parameter map:\")\n",
        "print(bound_linear_circuit.parameter_map)\n",
        "\n",
        "print(\"\")\n",
        "print(\"Unbound circuit:\")\n",
        "print(bound_linear_circuit.unbound_param_circuit)\n",
        "print(\"Mapping is trivial:\", bound_linear_circuit.unbound_param_circuit.has_trivial_parameter_mapping)"
      ]
    },
    {
      "cell_type": "markdown",
      "metadata": {},
      "source": [
        "### Parameter mapping\n",
        "\n",
        "Now, let's look at the parameter mapping of a `LinearMappedUnboundParametricQuantumCircuit`. As the circuit parameters are mapped to the gate parameters linearly, the `has_trivial_parameter_mapping` property should be `False`."
      ]
    },
    {
      "cell_type": "code",
      "execution_count": null,
      "metadata": {},
      "outputs": [
        {
          "name": "stdout",
          "output_type": "stream",
          "text": [
            "Parameter mapping of LinearMappedUnboundParametricQuantumCircuit is trivial: False\n"
          ]
        }
      ],
      "source": [
        "print(\n",
        "    \"Parameter mapping of LinearMappedUnboundParametricQuantumCircuit is trivial:\",\n",
        "    linear_param_circuit.has_trivial_parameter_mapping\n",
        ")"
      ]
    },
    {
      "cell_type": "markdown",
      "metadata": {},
      "source": [
        "The parameter mapping can be retrieved by the `param_mapping` property. It returns a `LinearParameterMapping` object. Starting from here, we introduce `LinearParameterMapping` in detail."
      ]
    },
    {
      "cell_type": "code",
      "execution_count": null,
      "metadata": {},
      "outputs": [],
      "source": [
        "linear_param_mapping = linear_param_circuit.param_mapping"
      ]
    },
    {
      "cell_type": "markdown",
      "metadata": {},
      "source": [
        "In the `LinearMappedUnboundParametricQuantumCircuit` we created above, there are 2 independent circuit parameters $\\theta$ and $\\phi$. They can be accessed by the `in_params` property."
      ]
    },
    {
      "cell_type": "code",
      "execution_count": null,
      "metadata": {},
      "outputs": [
        {
          "data": {
            "text/plain": [
              "(Parameter(name=theta), Parameter(name=phi))"
            ]
          },
          "execution_count": 33,
          "metadata": {},
          "output_type": "execute_result"
        }
      ],
      "source": [
        "linear_param_mapping.in_params"
      ]
    },
    {
      "cell_type": "markdown",
      "metadata": {},
      "source": [
        "As there are 3 parameteric gates that depends on $(\\theta, \\phi)$, there are 3 gate parameters $\\Phi_0$, $\\Phi_1$ and $\\Phi_2$. They can be accessed by the `out_params` property. They are represented by 3 distinct `Parameter`s with no names assigned to them."
      ]
    },
    {
      "cell_type": "code",
      "execution_count": null,
      "metadata": {},
      "outputs": [
        {
          "data": {
            "text/plain": [
              "(Parameter(name=), Parameter(name=), Parameter(name=))"
            ]
          },
          "execution_count": 34,
          "metadata": {},
          "output_type": "execute_result"
        }
      ],
      "source": [
        "linear_param_mapping.out_params"
      ]
    },
    {
      "cell_type": "markdown",
      "metadata": {},
      "source": [
        "The circuit parameters are mapped to the gate parameters via:\n",
        "\n",
        "$$\n",
        "    \\begin{align}\n",
        "        \\Phi_0 &= \\frac{\\theta}{2} + \\frac{\\phi}{3} + \\frac{\\pi}{2}, \\nonumber \\\\\n",
        "        \\Phi_1 &= -\\frac{\\theta}{2} + \\frac{\\phi}{3}, \\\\\n",
        "        \\Phi_2 &= \\frac{\\theta}{3} - \\frac{\\phi}{2} - \\frac{\\pi}{2}, \\nonumber\\\\\n",
        "    \\end{align}\n",
        "$$\n",
        "\n",
        "where the linear function can be accessed with the `mapping` property."
      ]
    },
    {
      "cell_type": "code",
      "execution_count": null,
      "metadata": {},
      "outputs": [
        {
          "data": {
            "text/plain": [
              "{Parameter(name=): mappingproxy({Parameter(name=theta): 0.5,\n",
              "               Parameter(name=phi): 0.3333333333333333,\n",
              "               Parameter(name=): 1.5707963267948966}),\n",
              " Parameter(name=): mappingproxy({Parameter(name=theta): -0.5,\n",
              "               Parameter(name=phi): 0.3333333333333333}),\n",
              " Parameter(name=): mappingproxy({Parameter(name=theta): 0.3333333333333333,\n",
              "               Parameter(name=phi): -0.5,\n",
              "               Parameter(name=): -1.5707963267948966})}"
            ]
          },
          "execution_count": 35,
          "metadata": {},
          "output_type": "execute_result"
        }
      ],
      "source": [
        "linear_param_mapping.mapping"
      ]
    },
    {
      "cell_type": "markdown",
      "metadata": {},
      "source": [
        "We also provide `mapper`s that helps you compute the value of the gate parameters for specified values of circuit parameters. For example, suppose we want to compute gate parameters: \n",
        "\n",
        "$$\n",
        "\\begin{equation}\n",
        "    \\{\\Phi_0(\\theta=0.8, \\phi=0.7), \\Phi_1(\\theta=0.8, \\phi=0.7), \\Phi_2(\\theta=0.8, \\phi=0.7)\\} \\nonumber\n",
        "\\end{equation}\n",
        "$$\n",
        "\n",
        "we may write:"
      ]
    },
    {
      "cell_type": "code",
      "execution_count": null,
      "metadata": {},
      "outputs": [
        {
          "data": {
            "text/plain": [
              "{Parameter(name=): 2.20412966012823,\n",
              " Parameter(name=): -0.1666666666666667,\n",
              " Parameter(name=): -1.6541296601282298}"
            ]
          },
          "execution_count": 36,
          "metadata": {},
          "output_type": "execute_result"
        }
      ],
      "source": [
        "linear_param_mapping.mapper({theta: 0.8, phi: 0.7})"
      ]
    },
    {
      "cell_type": "markdown",
      "metadata": {},
      "source": [
        "Finally, we introduce how to compute the derivatives of the gate parameters with respect to the circuit paramters, i.e.\n",
        "\n",
        "$$\n",
        "    \\begin{equation}\n",
        "        \\begin{split}\n",
        "            \\left\\lbrace\\frac{\\partial \\Phi_0}{\\partial \\theta}, \\frac{\\partial \\Phi_1}{\\partial \\theta}, \\frac{\\partial \\Phi_2}{\\partial \\theta}\\right\\rbrace \\\\\n",
        "            \\left\\lbrace\\frac{\\partial \\Phi_0}{\\partial \\phi}, \\frac{\\partial \\Phi_1}{\\partial \\phi}, \\frac{\\partial \\Phi_2}{\\partial \\phi}\\right\\rbrace\n",
        "        \\end{split}\n",
        "    \\end{equation}\n",
        "$$\n",
        "\n",
        "This can be done with the `get_derivatives` method."
      ]
    },
    {
      "cell_type": "code",
      "execution_count": null,
      "metadata": {},
      "outputs": [
        {
          "name": "stdout",
          "output_type": "stream",
          "text": [
            "Gate parameters' derivatives with respect to θ: (0.5, -0.5, 0.3333333333333333)\n",
            "Gate parameters' derivatives with respect to φ: (0.3333333333333333, 0.3333333333333333, -0.5)\n"
          ]
        }
      ],
      "source": [
        "for p, d in zip((\"θ\", \"φ\"), linear_param_mapping.get_derivatives()):\n",
        "    print(f\"Gate parameters' derivatives with respect to {p}: {d.seq_mapper([0.8, 0.7])}\")"
      ]
    }
  ],
  "metadata": {
    "language_info": {
      "name": "python",
      "pygments_lexer": "ipython3"
    }
  },
  "nbformat": 4,
  "nbformat_minor": 2
}
