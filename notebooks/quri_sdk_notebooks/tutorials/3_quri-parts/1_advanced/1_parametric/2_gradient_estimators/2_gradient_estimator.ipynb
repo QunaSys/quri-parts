{
  "cells": [
    {
      "cell_type": "markdown",
      "metadata": {},
      "source": [
        "# Gradient estimators\n",
        "\n",
        "One of the most important element of performing optimization algorithms is computing the gradient of a physical observable's gradient with respect to a set of circuit parameters:\n",
        "$$\n",
        "    \\begin{equation}\n",
        "        \\frac{\\partial \\langle O\\rangle (\\vec{\\theta})}{\\partial \\theta_i}\n",
        "    \\end{equation}\n",
        "$$\n",
        "In this tutorial, we introduce the gradient estimators provided by QURI Parts. They are:\n",
        "\n",
        "- Numerical gradient estimator: A gradient estimator that estimates the gradient based on finite difference method.\n",
        "- Parameter shift gradient estimator: A gradient estimator that estimates the gradient based on the parameter shift method."
      ]
    },
    {
      "cell_type": "markdown",
      "metadata": {},
      "source": [
        "# Prerequisite\n",
        "QURI Parts modules used in this tutorial: `quri-parts-circuit`, `quri-parts-core`, and `quri-parts-qulacs`. You can install them as follows:\n"
      ]
    },
    {
      "cell_type": "code",
      "execution_count": null,
      "metadata": {},
      "outputs": [],
      "source": [
        "!pip install \"quri-parts[qulacs]\""
      ]
    },
    {
      "cell_type": "markdown",
      "metadata": {},
      "source": [
        "## Interface"
      ]
    },
    {
      "cell_type": "markdown",
      "metadata": {},
      "source": [
        "A gradient estimator is represented by the `GradientEstimator` interface. It represents a function that estimates gradient values of an expectation value of a given `Operator` for a given parametric state with given parameter values (the third argument). It's function signature is"
      ]
    },
    {
      "cell_type": "code",
      "execution_count": null,
      "metadata": {},
      "outputs": [],
      "source": [
        "from typing import Callable, Sequence, Union\n",
        "from typing_extensions import TypeAlias, TypeVar\n",
        "from quri_parts.core.estimator import Estimatable, Estimates\n",
        "from quri_parts.core.state import ParametricCircuitQuantumState, ParametricQuantumStateVector\n",
        "\n",
        "# Generic type of parametric states\n",
        "_ParametricStateT = TypeVar(\n",
        "    \"_ParametricStateT\",\n",
        "    bound=Union[ParametricCircuitQuantumState, ParametricQuantumStateVector],\n",
        ")\n",
        "\n",
        "# Function signature of a `GradientEstimator` defined in QURI Parts.\n",
        "GradientEstimator: TypeAlias = Callable[\n",
        "    [Estimatable, _ParametricStateT, Sequence[float]],\n",
        "    Estimates[complex],\n",
        "]"
      ]
    },
    {
      "cell_type": "markdown",
      "metadata": {},
      "source": [
        "You may create a `GradientEstimator` from a generating function. They are often named as `create_..._gradient_estimator`. To create a `GradientEstimator`, you need to pass in a `ConcurrentParametricQuantumEstimator` to the generating function. Here, we use the one provided by `quri_parts.qulacs`"
      ]
    },
    {
      "cell_type": "code",
      "execution_count": null,
      "metadata": {},
      "outputs": [],
      "source": [
        "from quri_parts.qulacs.estimator import create_qulacs_vector_concurrent_parametric_estimator\n",
        "concurrent_parametric_estimator = create_qulacs_vector_concurrent_parametric_estimator()"
      ]
    },
    {
      "cell_type": "markdown",
      "metadata": {},
      "source": [
        "## Preparation\n",
        "\n",
        "Let's prepare the operator and the parametric state we use through out this tutorial."
      ]
    },
    {
      "cell_type": "code",
      "execution_count": null,
      "metadata": {},
      "outputs": [],
      "source": [
        "from quri_parts.core.operator import Operator, pauli_label\n",
        "\n",
        "operator = Operator({\n",
        "    pauli_label(\"X0 Y1\"): 0.5,\n",
        "    pauli_label(\"Z0 X1\"): 0.2,\n",
        "})"
      ]
    },
    {
      "cell_type": "markdown",
      "metadata": {},
      "source": [
        "The linear mapping of the parametric circuit is slightly different from previous sections. Here, the circuit parameter and gate parameters are related via:\n",
        "\n",
        "$$\n",
        "\\begin{equation}\n",
        "    \\begin{split}\n",
        "        \\Theta_1 &= \\left(\\frac{\\theta}{2} + \\frac{\\phi}{2} + \\frac{1}{2}\\right)\\pi \\\\\n",
        "        \\Theta_2 &= \\left(-\\frac{\\theta}{2} + \\frac{\\phi}{3}\\right)\\pi \\\\\n",
        "        \\Theta_3 &= \\left(\\frac{\\theta}{3} - \\frac{\\phi}{2} -  \\frac{1}{2}\\right)\\pi\n",
        "    \\end{split}\n",
        "\\end{equation}\n",
        "$$\n",
        "\n",
        "for aesthetical reason when we discuss the details of the parameter shift rule later."
      ]
    },
    {
      "cell_type": "code",
      "execution_count": null,
      "metadata": {},
      "outputs": [],
      "source": [
        "import numpy as np\n",
        "from quri_parts.circuit import LinearMappedUnboundParametricQuantumCircuit, CONST\n",
        "from quri_parts.core.state import quantum_state\n",
        "\n",
        "n_qubits = 2\n",
        "linear_param_circuit = LinearMappedUnboundParametricQuantumCircuit(n_qubits)\n",
        "theta, phi = linear_param_circuit.add_parameters(\"theta\", \"phi\")\n",
        "\n",
        "linear_param_circuit.add_H_gate(0)\n",
        "linear_param_circuit.add_CNOT_gate(0, 1)\n",
        "linear_param_circuit.add_ParametricRX_gate(0, {theta: np.pi/2, phi: np.pi/3, CONST: np.pi/2})\n",
        "linear_param_circuit.add_ParametricRY_gate(0, {theta: -np.pi/2, phi: np.pi/3})\n",
        "linear_param_circuit.add_ParametricRZ_gate(1, {theta: np.pi/3, phi: -np.pi/2, CONST: -np.pi/2})\n",
        "\n",
        "param_state = quantum_state(n_qubits, circuit=linear_param_circuit)"
      ]
    },
    {
      "cell_type": "markdown",
      "metadata": {},
      "source": [
        "## Numerical gradient estimator\n",
        "\n",
        "The numerical gradient estimator computes the gradient according to the [finite difference method](https://en.wikipedia.org/wiki/Finite_difference_method), i.e.\n",
        "\n",
        "$$\n",
        "\\begin{equation}\n",
        "    \\frac{\\partial f}{\\partial \\theta_i} = \\frac{f(\\theta_i + \\delta) - f(\\theta_i - \\delta)}{2\\delta}\n",
        "\\end{equation}\n",
        "$$\n",
        "with $\\delta$ being a small number we can freely set. Thus, to create a numerical gradient estimator, we need to pass in $\\delta$ along with the concurrent parametric estimator."
      ]
    },
    {
      "cell_type": "code",
      "execution_count": null,
      "metadata": {},
      "outputs": [],
      "source": [
        "from quri_parts.core.estimator.gradient import create_numerical_gradient_estimator\n",
        "\n",
        "numerical_gradient_estimator = create_numerical_gradient_estimator(\n",
        "    concurrent_parametric_estimator,\n",
        "    delta=1e-10\n",
        ")"
      ]
    },
    {
      "cell_type": "markdown",
      "metadata": {},
      "source": [
        "Now, we may estimate the gradient of the parametric state on $\\theta = 0.1,\\; \\phi = 0.2$."
      ]
    },
    {
      "cell_type": "code",
      "execution_count": null,
      "metadata": {},
      "outputs": [
        {
          "data": {
            "text/plain": [
              "[(-0.3508326962275987+0j), (0.5306499684110122+0j)]"
            ]
          },
          "execution_count": 7,
          "metadata": {},
          "output_type": "execute_result"
        }
      ],
      "source": [
        "numerical_gradient_estimator(operator, param_state, [0.1, 0.2]).values"
      ]
    },
    {
      "cell_type": "markdown",
      "metadata": {},
      "source": [
        "## Parameter shift gradient estimator\n",
        "\n",
        "The parameter shift rule was introduced in the cited paper below [^Mitarai2018]. As a very quick review, we may write the parameter shift rule as:\n",
        "\n",
        "\n",
        "$$\n",
        "\\begin{equation}\n",
        "    \\frac{\\partial f}{ \\partial \\theta_i} = \\sum_{a} \\frac{\\partial f}{\\partial \\Theta_a} \\frac{\\partial \\Theta_a}{\\partial \\theta_i} = \\frac{1}{2}\\sum_{a} \\left[ f(\\Theta_a + \\frac{\\pi}{2}) - f(\\Theta_a - \\frac{\\pi}{2}) \\right]\\frac{\\partial \\Theta_a}{\\partial \\theta_i}\n",
        "\\end{equation}\n",
        "$$\n",
        "\n",
        "where $f$ is the expectation value of any operator estimated on a circuit state, $\\Theta_a$ are independent gate parameters and $\\theta_i$ are the independent circuit parameters. \n",
        "\n",
        "\n",
        "To create a parameter shift gradient estimator, we only need to pass in the concurremt parametric estimator to the generating function: `create_parameter_shift_gradient_estimator`."
      ]
    },
    {
      "cell_type": "code",
      "execution_count": null,
      "metadata": {},
      "outputs": [],
      "source": [
        "from quri_parts.core.estimator.gradient import create_parameter_shift_gradient_estimator\n",
        "\n",
        "param_shift_gradient_estimator = create_parameter_shift_gradient_estimator(\n",
        "    concurrent_parametric_estimator,\n",
        ")"
      ]
    },
    {
      "cell_type": "markdown",
      "metadata": {},
      "source": [
        "Now, we may estimate the gradient of the parametric state on $\\theta = 0.1,\\; \\phi = 0.2$."
      ]
    },
    {
      "cell_type": "code",
      "execution_count": null,
      "metadata": {},
      "outputs": [
        {
          "data": {
            "text/plain": [
              "[(-0.3508320725634084+0j), (0.5306488303307602+0j)]"
            ]
          },
          "execution_count": 9,
          "metadata": {},
          "output_type": "execute_result"
        }
      ],
      "source": [
        "param_shift_gradient_estimator(operator, param_state, [0.1, 0.2]).values"
      ]
    },
    {
      "cell_type": "markdown",
      "metadata": {},
      "source": [
        "We can see that the result is very close to the one estimated by the numerical gradient estimator."
      ]
    },
    {
      "cell_type": "markdown",
      "metadata": {},
      "source": [
        "### Explanation of how gradient evaluation by parameter shift rule works\n",
        "\n",
        "When evaluating the gradient with parameter shift rule, parameters of each parametric gates need to be shifted independently, even if they depend on the same circuit parameters. It is also necessary to compute derivative of each gate parameter with respect to the circuit parameters so that we can use chain rule of differentiation. Therefore we need the followings:\n",
        "\n",
        "- The parametric circuit where each gate parameters are treated as independent (`UnboundParametricQuantumCircuit` in QURI Parts).\n",
        "- Parameter shifts for each gate parameters for each circuit parameters.\n",
        "- Differential coefficients corresponding to each parameter shifts."
      ]
    },
    {
      "cell_type": "code",
      "execution_count": null,
      "metadata": {},
      "outputs": [],
      "source": [
        "from quri_parts.circuit.parameter_shift import ShiftedParameters\n",
        "from quri_parts.core.state import ParametricCircuitQuantumState\n",
        "from typing import Sequence, Collection\n",
        "\n",
        "def get_raw_param_state_and_shifted_parameters(\n",
        "    state: ParametricCircuitQuantumState,\n",
        "    params: Sequence[float]\n",
        ") -> tuple[ParametricCircuitQuantumState, Collection[tuple[Sequence[float], float]]]:\n",
        "    \n",
        "    param_mapping = state.parametric_circuit.param_mapping\n",
        "    raw_circuit = state.parametric_circuit.primitive_circuit()\n",
        "    parameter_shift = ShiftedParameters(param_mapping)\n",
        "    derivatives = parameter_shift.get_derivatives()\n",
        "    shifted_parameters = [\n",
        "        d.get_shifted_parameters_and_coef(params) for d in derivatives\n",
        "    ]\n",
        "\n",
        "    raw_param_state = ParametricCircuitQuantumState(state.qubit_count, raw_circuit)\n",
        "\n",
        "    return raw_param_state, shifted_parameters"
      ]
    },
    {
      "cell_type": "markdown",
      "metadata": {},
      "source": [
        "Here, the returned `raw_param_state` is the parametric circuit quantum state holding a parametric circuit with all of its parameters independent of each other. `shifted_parameters` holds:\n",
        "\n",
        "$$\n",
        "\\begin{equation}\n",
        "\\left\\lbrace\n",
        "\\left(\\Theta_0, \\cdots ,\\Theta_a \\pm \\frac{\\pi}{2}, \\cdots ,\\Theta_{N_\\text{gates}-1}\\right), \\pm\\frac{1}{2}\\frac{\\partial \\Theta_a}{\\partial \\theta_i}\n",
        "\\right\\rbrace\n",
        "\\end{equation}\n",
        "$$\n",
        "\n",
        "For example, let's look at the shifted parameters and coefficients with circuit parameters $\\theta = 0.1,\\; \\phi = 0.2$. In the linear mapped circuit we constructed above, the circuit parameter and gate parameters are related via:\n",
        "\n",
        "$$\n",
        "\\begin{equation}\n",
        "    \\begin{split}\n",
        "        \\Theta_1 &= \\left(\\frac{\\theta}{2} + \\frac{\\phi}{2} + \\frac{1}{2}\\right)\\pi \\\\\n",
        "        \\Theta_2 &= \\left(-\\frac{\\theta}{2} + \\frac{\\phi}{3}\\right)\\pi \\\\\n",
        "        \\Theta_3 &= \\left(\\frac{\\theta}{3} - \\frac{\\phi}{2} -  \\frac{1}{2}\\right)\\pi\n",
        "    \\end{split}\n",
        "\\end{equation}\n",
        "$$"
      ]
    },
    {
      "cell_type": "code",
      "execution_count": null,
      "metadata": {},
      "outputs": [
        {
          "name": "stdout",
          "output_type": "stream",
          "text": [
            "Gate parameters: (-0.567π, 0.017π, 0.617π)\n",
            "\n",
            "Parameter shifts for circuit parameter 0:\n",
            "  gate params:  (-0.567π, 0.017π, 0.617π) + (1.683π, 0.0π, -1.183π), coefficient:  0.250π\n",
            "  gate params:  (-0.567π, 0.017π, 0.617π) + (1.183π, 0.0π, -1.683π), coefficient: -0.167π\n",
            "  gate params:  (-0.567π, 0.017π, 0.617π) + (1.183π, 0.5π, -1.183π), coefficient: -0.250π\n",
            "  gate params:  (-0.567π, 0.017π, 0.617π) + (1.183π, 0.0π, -0.683π), coefficient:  0.167π\n",
            "  gate params:  (-0.567π, 0.017π, 0.617π) + (1.183π, -0.5π, -1.183π), coefficient:  0.250π\n",
            "  gate params:  (-0.567π, 0.017π, 0.617π) + (0.683π, 0.0π, -1.183π), coefficient: -0.250π\n",
            "\n",
            "Parameter shifts for circuit parameter 1:\n",
            "  gate params:  (-0.567π, 0.017π, 0.617π) + (1.183π, 0.0π, -0.683π), coefficient: -0.250π\n",
            "  gate params:  (-0.567π, 0.017π, 0.617π) + (0.683π, 0.0π, -1.183π), coefficient: -0.167π\n",
            "  gate params:  (-0.567π, 0.017π, 0.617π) + (1.183π, -0.5π, -1.183π), coefficient: -0.167π\n",
            "  gate params:  (-0.567π, 0.017π, 0.617π) + (1.683π, 0.0π, -1.183π), coefficient:  0.167π\n",
            "  gate params:  (-0.567π, 0.017π, 0.617π) + (1.183π, 0.0π, -1.683π), coefficient:  0.250π\n",
            "  gate params:  (-0.567π, 0.017π, 0.617π) + (1.183π, 0.5π, -1.183π), coefficient:  0.167π\n"
          ]
        }
      ],
      "source": [
        "raw_state, shifted_params_and_coefs = get_raw_param_state_and_shifted_parameters(\n",
        "    param_state, [0.1, 0.2]\n",
        ")\n",
        "bound_circuit = param_state.parametric_circuit.bind_parameters([0.1, 0.2]).parameter_map\n",
        "gate_parameters = np.array(list(bound_circuit.values()))\n",
        "gate_param_str = \", \".join(map(lambda f: str(np.round(f/np.pi, 3)) + \"π\", gate_parameters)) \n",
        "print(f\"Gate parameters: ({gate_param_str})\")\n",
        "\n",
        "for i, params_and_coefs in enumerate(shifted_params_and_coefs):\n",
        "    print(\"\")\n",
        "    print(f\"Parameter shifts for circuit parameter {i}:\")\n",
        "    for p, c in params_and_coefs:\n",
        "        p_str = \", \".join(map(lambda f: str(np.round(f/np.pi, 3)) + \"π\", p))\n",
        "        diff = np.array(p) - gate_parameters\n",
        "        p_str = \", \".join(map(lambda f: str(np.round(f/np.pi, 3)) + \"π\", diff))\n",
        "        print(f\"  gate params:  ({gate_param_str}) + ({p_str}), coefficient: {c/np.pi: .3f}π\")"
      ]
    },
    {
      "cell_type": "markdown",
      "metadata": {},
      "source": [
        "We then obtain the gradient by \n",
        "1. estimating the expectation value of the operator for each shifted gate parameters\n",
        "2. sum them up with the corresponding coefficients multiplied.\n",
        "\n",
        "This can be done as follows:"
      ]
    },
    {
      "cell_type": "code",
      "execution_count": null,
      "metadata": {},
      "outputs": [
        {
          "name": "stdout",
          "output_type": "stream",
          "text": [
            "Estimated gradient: [(-0.3508320725634084+0j), (0.5306488303307602+0j)]\n"
          ]
        }
      ],
      "source": [
        "from quri_parts.core.estimator import Estimatable\n",
        "\n",
        "def get_parameter_shift_gradient(\n",
        "    op: Estimatable,\n",
        "    raw_state: ParametricCircuitQuantumState,\n",
        "    shifted_params_and_coefs\n",
        ") -> list[complex]:\n",
        "    # Collect gate parameters to be evaluated\n",
        "    gate_params = set()\n",
        "    for params_and_coefs in shifted_params_and_coefs:\n",
        "        for p, _ in params_and_coefs:\n",
        "            gate_params.add(p)\n",
        "    gate_params_list = list(gate_params)\n",
        "\n",
        "    # Prepare a parametric estimator\n",
        "    estimator = create_qulacs_vector_concurrent_parametric_estimator()\n",
        "    \n",
        "    # Estimate the expectation values\n",
        "    estimates = estimator(op, raw_state, gate_params_list)\n",
        "    estimates_dict = dict(zip(gate_params_list, estimates))\n",
        "    \n",
        "    # Sum up the expectation values with the coefficients multiplied\n",
        "    gradient = []\n",
        "    for params_and_coefs in shifted_params_and_coefs:\n",
        "        g = 0.0\n",
        "        for p, c in params_and_coefs:\n",
        "            g += estimates_dict[p].value * c\n",
        "        gradient.append(g)\n",
        "    \n",
        "    return gradient\n",
        "\n",
        "# Example\n",
        "gradient = get_parameter_shift_gradient(operator, raw_state, shifted_params_and_coefs)\n",
        "print(\"Estimated gradient:\", gradient)"
      ]
    },
    {
      "cell_type": "markdown",
      "metadata": {},
      "source": [
        "[^Mitarai2018]: Mitarai, K. and Negoro, M. and Kitagawa, M. and Fujii, K., [Phys. Rev. A **98**, 032309 (2018)](https://doi.org/10.1103/PhysRevA.98.032309). [arXiv:1803.00745](https://arxiv.org/abs/1803.00745)."
      ]
    }
  ],
  "metadata": {
    "language_info": {
      "name": "python",
      "pygments_lexer": "ipython3"
    }
  },
  "nbformat": 4,
  "nbformat_minor": 2
}
