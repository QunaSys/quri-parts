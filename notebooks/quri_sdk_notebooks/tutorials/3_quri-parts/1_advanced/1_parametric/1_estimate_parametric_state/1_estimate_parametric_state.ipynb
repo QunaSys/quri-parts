{
  "cells": [
    {
      "cell_type": "markdown",
      "metadata": {},
      "source": [
        "# Parametric states and parametric estimators\n",
        "\n",
        "This tutorial aims to introduce parametric states and parametric estimators, which are also important building blocks of variational algorithms."
      ]
    },
    {
      "cell_type": "markdown",
      "metadata": {},
      "source": [
        "## Parametric state\n",
        "\n",
        "In QURI Parts, there are 2 types of parametric states:\n",
        "\n",
        "- `ParametricCircuitQuantumState`: A state with parametric circuit acting on a zero state.\n",
        "- `ParametricQuantumStateVector`: A state with parametric circuit acting on a fixed state vector.\n",
        "\n",
        "Here, parametric circuit can be either an `UnboundParametricQuantumCircuit` or a `LinearMappedUnboundParametricQuantumCircuit`. The parametric state can be created with the `quantum_state` function. Let's first create a parametric circuit."
      ]
    },
    {
      "cell_type": "code",
      "execution_count": null,
      "metadata": {},
      "outputs": [],
      "source": [
        "import numpy as np\n",
        "from quri_parts.circuit import LinearMappedUnboundParametricQuantumCircuit, CONST\n",
        "\n",
        "linear_param_circuit = LinearMappedUnboundParametricQuantumCircuit(2)\n",
        "theta, phi = linear_param_circuit.add_parameters(\"theta\", \"phi\")\n",
        "\n",
        "linear_param_circuit.add_H_gate(0)\n",
        "linear_param_circuit.add_CNOT_gate(0, 1)\n",
        "linear_param_circuit.add_ParametricRX_gate(0, {theta: 1/2, phi: 1/3, CONST: np.pi/2})\n",
        "linear_param_circuit.add_ParametricRY_gate(0, {theta: -1/2, phi: 1/3})\n",
        "linear_param_circuit.add_ParametricRZ_gate(1, {theta: 1/3, phi: -1/2, CONST: -np.pi/2})"
      ]
    },
    {
      "cell_type": "markdown",
      "metadata": {},
      "source": [
        "Now, we create parametric state with it."
      ]
    },
    {
      "cell_type": "code",
      "execution_count": null,
      "metadata": {},
      "outputs": [
        {
          "name": "stdout",
          "output_type": "stream",
          "text": [
            "ParametricCircuitQuantumState(n_qubits=2, circuit=<quri_parts.circuit.circuit_linear_mapped.ImmutableLinearMappedParametricQuantumCircuit object at 0x7f3e0137b6d0>)\n",
            "ParametricQuantumStateVector(n_qubits=2, circuit=<quri_parts.circuit.circuit_linear_mapped.ImmutableLinearMappedParametricQuantumCircuit object at 0x7f3e50044a50>, vector=[ 0.5+0.j  -0.5+0.j   0. +0.5j -0. -0.5j])\n"
          ]
        }
      ],
      "source": [
        "from quri_parts.core.state import quantum_state\n",
        "\n",
        "# ParametricCircuitQuantumState\n",
        "param_circuit_state = quantum_state(n_qubits=2, circuit=linear_param_circuit)\n",
        "print(param_circuit_state)\n",
        "\n",
        "# ParametricQuantumStateVector\n",
        "param_state_vector = quantum_state(n_qubits=2, circuit=linear_param_circuit, vector=np.array([0.5, -0.5, 0.5j, -0.5j]))\n",
        "print(param_state_vector)"
      ]
    },
    {
      "cell_type": "markdown",
      "metadata": {},
      "source": [
        "We can assign concrete values to the circuit inside the parametric states with the `.bind_parameters` state. After binding the parameters, `ParametricCircuitQuantumState` becomes a `GeneralCircuitQuantumState` and `ParametricQuantumStateVector` becomes a `QuantumStateVector`."
      ]
    },
    {
      "cell_type": "code",
      "execution_count": null,
      "metadata": {},
      "outputs": [],
      "source": [
        "params = [0.1, 0.2]\n",
        "\n",
        "# ParametricCircuitQuantumState -> GeneralCircuitQuantumState\n",
        "circuit_state = param_circuit_state.bind_parameters(params)\n",
        "\n",
        "# ParametricQuantumStateVector -> QuantumStateVector\n",
        "vector_state = param_state_vector.bind_parameters(params)"
      ]
    },
    {
      "cell_type": "markdown",
      "metadata": {},
      "source": [
        "## Parametric estimators\n",
        "\n",
        "In addition to the `QuantumEstimator`s and `ConcurrentQuantumEstimator`s introduced in the [estimator tutorial](../../../0_basics/4_estimators/index.md), QURI Parts also provide estimators for parametric states. They are:\n",
        "\n",
        "- `ParametricQuantumEstimator`: Estimate an operator's expectation value for a parametric state with a set of parameters.\n",
        "- `ConcurrentParametricQuantumEstimator`: Estimate an operator's expectation value for a parametric state with multiple sets of parameters.\n",
        "\n",
        "Note that different from `ConcurrentQuantumEstimator`, a `ConcurrentParametricQuantumEstimator` only performs estimation for a parametric state at a time. The concurrent estimation is done across multiple sets of parameters."
      ]
    },
    {
      "cell_type": "markdown",
      "metadata": {},
      "source": [
        "### Parametric estimate with a `QuantumEstimator`\n",
        "\n",
        "A `GeneralCircuitQuantumState` can be created from a circuit obtained by binding values to a parametric circuit and a `QuantumEstimator` can be used to estimate an expectation value of an operator for the state:"
      ]
    },
    {
      "cell_type": "code",
      "execution_count": null,
      "metadata": {},
      "outputs": [
        {
          "name": "stdout",
          "output_type": "stream",
          "text": [
            "Estimated expectation value: (-0.6935980009039755-0.49826489335027957j)\n"
          ]
        }
      ],
      "source": [
        "from quri_parts.core.state import quantum_state\n",
        "from quri_parts.qulacs.estimator import create_qulacs_vector_estimator\n",
        "\n",
        "circuit = linear_param_circuit.bind_parameters([0.2, 0.3])\n",
        "circuit_state = quantum_state(2, circuit=circuit)\n",
        "\n",
        "from quri_parts.core.operator import Operator, pauli_label\n",
        "op = Operator({\n",
        "    pauli_label(\"X0 Y1\"): 0.5 + 0.5j,\n",
        "    pauli_label(\"Z0 X1\"): 0.2,\n",
        "})\n",
        "\n",
        "\n",
        "estimator = create_qulacs_vector_estimator()\n",
        "\n",
        "estimate = estimator(op, circuit_state)\n",
        "print(f\"Estimated expectation value: {estimate.value}\")"
      ]
    },
    {
      "cell_type": "markdown",
      "metadata": {},
      "source": [
        "However, it is more straightforward to use `ParametricCircuitQuantumState`. It has a few benefits:\n",
        "\n",
        "- It makes it clear that the state is parametric and possible to treat parameter-related problems in terms of quantum state (e.g. gradient of an expectation value for the state with respect to its parameters).\n",
        "\n",
        "- It may improve performance for some circuit simulators (e.g. Qulacs).\n",
        "\n",
        "With this in mind, we introduce solid implementations of these parametric estimators provided by the `quri_parts.qulacs` package."
      ]
    },
    {
      "cell_type": "markdown",
      "metadata": {},
      "source": [
        "### The Qulacs parametric estimators\n",
        "\n",
        "The `quri_parts.qulacs` package provides both vector parametric estimators and density matrix parametric estimators. Here we demonstrate the Qulacs vector parametric estimators for performing noiseless estimation for parametric states. They are generated by the \n",
        "\n",
        "- `create_qulacs_vector_parametric_estimator`\n",
        "- `create_qulacs_vector_concurrent_parametric_estimator`\n",
        "\n",
        "functions."
      ]
    },
    {
      "cell_type": "code",
      "execution_count": null,
      "metadata": {},
      "outputs": [],
      "source": [
        "from quri_parts.qulacs.estimator import (\n",
        "    create_qulacs_vector_parametric_estimator,\n",
        "    create_qulacs_vector_concurrent_parametric_estimator,\n",
        ")\n",
        "\n",
        "parametric_estimator = create_qulacs_vector_parametric_estimator()\n",
        "concurrent_parametric_estimator = create_qulacs_vector_concurrent_parametric_estimator()"
      ]
    },
    {
      "cell_type": "markdown",
      "metadata": {},
      "source": [
        "Next, let's create an operator for us to estimate."
      ]
    },
    {
      "cell_type": "code",
      "execution_count": null,
      "metadata": {},
      "outputs": [],
      "source": [
        "from quri_parts.core.operator import Operator, pauli_label\n",
        "\n",
        "operator = Operator(\n",
        "    {\n",
        "        pauli_label(\"X0 Y1\"): 0.5 + 0.5j,\n",
        "        pauli_label(\"Z0 X1\"): 0.2,\n",
        "    }\n",
        ")"
      ]
    },
    {
      "cell_type": "markdown",
      "metadata": {},
      "source": [
        "### Estimate for parametric circuit state\n",
        "\n",
        "The Qulacs parametric estimator can be used to estimate the expectation values for parametric circuit state."
      ]
    },
    {
      "cell_type": "code",
      "execution_count": null,
      "metadata": {},
      "outputs": [
        {
          "name": "stdout",
          "output_type": "stream",
          "text": [
            "Estimate with a set of circuit parameter:\n",
            "_Estimate(value=(-0.6962182648863564-0.4982686669563893j), error=0.0)\n",
            "\n",
            "Concurrent Estimate with two sets of circuit parameters:\n",
            "[_Estimate(value=(-0.6962182648863564-0.4982686669563893j), error=0.0), _Estimate(value=(-0.6896044045783039-0.49823172433086493j), error=0.0)]\n"
          ]
        }
      ],
      "source": [
        "# Estimate for parametric circuit state\n",
        "print(\"Estimate with a set of circuit parameter:\")\n",
        "print(parametric_estimator(operator, param_circuit_state, [0.1, 0.2]))\n",
        "\n",
        "# Concurrent estimate for parametric circuit state\n",
        "print(\"\")\n",
        "print(\"Concurrent Estimate with two sets of circuit parameters:\")\n",
        "print(concurrent_parametric_estimator(operator, param_circuit_state, [[0.1, 0.2], [0.3, 0.4]]))"
      ]
    },
    {
      "cell_type": "markdown",
      "metadata": {},
      "source": [
        "### Estimate for parametric vector state\n",
        "\n",
        "The Qulacs parametric estimator can also be used to estimate the expectation values for parametric state vectors."
      ]
    },
    {
      "cell_type": "code",
      "execution_count": null,
      "metadata": {},
      "outputs": [
        {
          "name": "stdout",
          "output_type": "stream",
          "text": [
            "Estimate with a set of circuit parameter:\n",
            "_Estimate(value=(-0.02316087896430696+6.461699812418398e-05j), error=0.0)\n",
            "\n",
            "Concurrent Estimate with two sets of circuit parameters:\n",
            "[_Estimate(value=(-0.02316087896430696+6.461699812418398e-05j), error=0.0), _Estimate(value=(-0.055857039676488814-0.00023256584020162063j), error=0.0)]\n"
          ]
        }
      ],
      "source": [
        "# Estimate for parametric state vector\n",
        "print(\"Estimate with a set of circuit parameter:\")\n",
        "print(parametric_estimator(operator, param_state_vector, [0.1, 0.2]))\n",
        "\n",
        "# Concurrent estimate for parametric state vector\n",
        "print(\"\")\n",
        "print(\"Concurrent Estimate with two sets of circuit parameters:\")\n",
        "print(concurrent_parametric_estimator(operator, param_state_vector, [[0.1, 0.2], [0.3, 0.4]]))"
      ]
    }
  ],
  "metadata": {
    "language_info": {
      "name": "python",
      "pygments_lexer": "ipython3"
    }
  },
  "nbformat": 4,
  "nbformat_minor": 2
}
