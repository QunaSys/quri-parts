{
  "cells": [
    {
      "cell_type": "markdown",
      "id": "d7a8695c",
      "metadata": {},
      "source": [
        "# Variational algorithms\n",
        "\n",
        "Recently, *variational quantum algorithms* are actively studied, where optimal values of parameters in parametric quantum circuits are searched. In this section, we see how to construct one of the variational algorithms, *variational quantum eigensolver* (VQE), using the gradient.\n",
        "\n",
        "*Variational quantum eigensolver* (VQE) is a method to optimize an expectation value of an operator (e.g. energy of a molecule) over parametrized quantum states. There are two major components in VQE:\n",
        "\n",
        "- *Ansatz*: A parametric quantum circuit which generates the parametrized quantum states subject to optimization\n",
        "- *Optimizer*: A method to numerically optimize the expectation value of the operator"
      ]
    },
    {
      "cell_type": "markdown",
      "id": "51af6625",
      "metadata": {},
      "source": [
        "## Ansatz\n",
        "\n",
        "In context of VQE, ansatz refers to a parametric quantum circuit used for generating parametrized quantum states for which expectation values of the target operator is evaluated. You can define a `(LinearMapped)UnboundParametricQuantumCircuit` on your own, or use a well-known ansatz defined in `quri_parts.algo.ansatz` package. In this example we use a hardware-efficient ansatz[^Kandala2017]:\n",
        "\n",
        "[^Kandala2017]: Kandala, A., Mezzacapo, A., Temme, K. et al. Hardware-efficient variational quantum eigensolver for small molecules and quantum magnets. [Nature **549**, 242–246 (2017)](https://doi.org/10.1038/nature23879)."
      ]
    },
    {
      "cell_type": "code",
      "execution_count": null,
      "id": "0a1b8c61",
      "metadata": {},
      "outputs": [],
      "source": [
        "from quri_parts.algo.ansatz import HardwareEfficient\n",
        "\n",
        "hw_ansatz = HardwareEfficient(qubit_count=4, reps=3)"
      ]
    },
    {
      "cell_type": "markdown",
      "id": "2834af43",
      "metadata": {},
      "source": [
        "In order to evaluate the expectation value, the parametrized quantum state is necessary, which is obtained by applying the ansatz to a specific initial state. Here we use a computational basis state $|0011\\rangle$."
      ]
    },
    {
      "cell_type": "code",
      "execution_count": null,
      "id": "95377808",
      "metadata": {},
      "outputs": [],
      "source": [
        "from quri_parts.core.state import quantum_state, apply_circuit\n",
        "\n",
        "cb_state = quantum_state(4, bits=0b0011)\n",
        "parametric_state = apply_circuit(hw_ansatz, cb_state)"
      ]
    },
    {
      "cell_type": "markdown",
      "id": "d480640b",
      "metadata": {},
      "source": [
        "### List of available ansatz\n",
        "\n",
        "Here we list out all the available ansatz provided by `quri_parts.algo.ansatz`. There are more chemistry-related ansatz provided in `quri_parts.chem.ansatz` and `quri_parts.openfermion.ansatz`, which are introduced in the quantum chemistry tutorial.\n",
        "\n",
        "| Ansatz                                                                                                                                     | Reference                                                                                                                                                      |\n",
        "| ------------------------------------------------------------------------------------------------------------------------------------------ | -------------------------------------------------------------------------------------------------------------------------------------------------------------- |\n",
        "| [HardwareEfficient](https://github.com/QunaSys/quri-parts/blob/main/packages/algo/quri_parts/algo/ansatz/hardware_efficient.py#L46)        | [Hardware-efficient variational quantum eigensolver for small molecules and quantum magnets](https://www.nature.com/articles/nature23879)                      |\n",
        "| [HardwareEfficientReal](https://github.com/QunaSys/quri-parts/blob/main/packages/algo/quri_parts/algo/ansatz/hardware_efficient.py#L128)   | [Hardware-efficient variational quantum eigensolver for small molecules and quantum magnets](https://www.nature.com/articles/nature23879)                      |\n",
        "| [SymmetryPreserving](https://github.com/QunaSys/quri-parts/blob/main/packages/algo/quri_parts/algo/ansatz/symmetry_preserving.py#L62)      | [Efficient Symmetry-Peserving State Preparation Circuits for the Variational Quantum Eigensolver Algorithm](https://www.nature.com/articles/s41534-019-0240-1) |\n",
        "| [SymmetryPreservingReal](https://github.com/QunaSys/quri-parts/blob/main/packages/algo/quri_parts/algo/ansatz/symmetry_preserving.py#L113) | [Calculating transition amplitudes by variational quantum deflation](https://journals.aps.org/prresearch/abstract/10.1103/PhysRevResearch.4.013173)            |\n",
        "| [TwoLocal](https://github.com/QunaSys/quri-parts/blob/main/packages/algo/quri_parts/algo/ansatz/two_local.py#L63)                          |                                                                                                                                                                |"
      ]
    },
    {
      "cell_type": "markdown",
      "id": "bc2250cd",
      "metadata": {},
      "source": [
        "## Optimizer\n",
        "\n",
        "An optimizer searches optimal parameters that minimize a given cost function. In context of VQE, the cost function is the expectation value of the target operator. Some optimizers use only the cost function itself, while others use gradient of the cost function for efficient optimization. You can use optimizers provided by libraries such as `scipy.optimize`, or ones provided in `quri_parts.algo.optimizer` package. In this example we use Adam[^Kingma2014], which uses the gradient.\n",
        "\n",
        "[^Kingma2014]: Diederik P. Kingma, Jimmy Ba, Adam: A Method for Stochastic Optimization. [arXiv:1412.6980 (2014)](https://doi.org/10.48550/arXiv.1412.6980)"
      ]
    },
    {
      "cell_type": "code",
      "execution_count": null,
      "id": "38a84da1",
      "metadata": {},
      "outputs": [],
      "source": [
        "from quri_parts.algo.optimizer import Adam\n",
        "\n",
        "# You can pass optional parameters. See the reference for details\n",
        "adam_optimizer = Adam()"
      ]
    },
    {
      "cell_type": "markdown",
      "id": "a185abbd",
      "metadata": {},
      "source": [
        "### List of available optimizers\n",
        "\n",
        "Here, we list out all the optimizers available in QURI Parts.\n",
        "\n",
        "| Optimizer Name                                                                                                    | Reference                                                                                                                                                |\n",
        "| ----------------------------------------------------------------------------------------------------------------- | -------------------------------------------------------------------------------------------------------------------------------------------------------- |\n",
        "| [AdaBelief](https://github.com/QunaSys/quri-parts/blob/main/packages/algo/quri_parts/algo/optimizer/adam.py#L170) | [AdaBelief Optimizer: Adapting Stepsizes by the Belief in Observed Gradients](https://arxiv.org/abs/2010.07468)                                          |\n",
        "| [Adam](https://github.com/QunaSys/quri-parts/blob/main/packages/algo/quri_parts/algo/optimizer/adam.py#L48)       | [Adam: A Method for Stochastic Optimization](https://arxiv.org/abs/1412.6980)                                                                           |\n",
        "| [NFT](https://github.com/QunaSys/quri-parts/blob/main/packages/algo/quri_parts/algo/optimizer/nft.py#L118)        | [Sequential minimal optimization for quantum-classical hybrid algorithms](https://journals.aps.org/prresearch/abstract/10.1103/PhysRevResearch.2.043158) |\n",
        "| [NFTfit](https://github.com/QunaSys/quri-parts/blob/main/packages/algo/quri_parts/algo/optimizer/nft.py#L201)     | [Sequential minimal optimization for quantum-classical hybrid algorithms](https://journals.aps.org/prresearch/abstract/10.1103/PhysRevResearch.2.043158) |\n",
        "| [LBFGS](https://github.com/QunaSys/quri-parts/blob/main/packages/algo/quri_parts/algo/optimizer/lbfgs.py#L59)     | [Numerical Optimization](https://link.springer.com/book/10.1007/978-0-387-40065-5)                                                                       |\n",
        "| [SPSA](https://github.com/QunaSys/quri-parts/blob/main/packages/algo/quri_parts/algo/optimizer/spsa.py#L34)       | [Implementation of the simultaneous perturbation algorithm for stochastic optimization](https://ieeexplore.ieee.org/document/705889)                     |"
      ]
    },
    {
      "cell_type": "markdown",
      "id": "4ecf1e89",
      "metadata": {},
      "source": [
        "## Running VQE\n",
        "\n",
        "We first define a target operator, whose expectation value is subject to the optimization:"
      ]
    },
    {
      "cell_type": "code",
      "execution_count": null,
      "id": "baac7c7f",
      "metadata": {},
      "outputs": [],
      "source": [
        "from quri_parts.core.operator import Operator, pauli_label, PAULI_IDENTITY\n",
        "\n",
        "# This is Jordan-Wigner transformed Hamiltonian of a hydrogen molecule\n",
        "hamiltonian = Operator({\n",
        "    PAULI_IDENTITY: 0.03775110394645542,\n",
        "    pauli_label(\"Z0\"): 0.18601648886230593,\n",
        "    pauli_label(\"Z1\"): 0.18601648886230593,\n",
        "    pauli_label(\"Z2\"): -0.2694169314163197,\n",
        "    pauli_label(\"Z3\"): -0.2694169314163197,\n",
        "    pauli_label(\"Z0 Z1\"): 0.172976101307451,\n",
        "    pauli_label(\"Z0 Z2\"): 0.12584136558006326,\n",
        "    pauli_label(\"Z0 Z3\"): 0.16992097848261506,\n",
        "    pauli_label(\"Z1 Z2\"): 0.16992097848261506,\n",
        "    pauli_label(\"Z1 Z3\"): 0.12584136558006326,\n",
        "    pauli_label(\"Z2 Z3\"): 0.17866777775953396,\n",
        "    pauli_label(\"X0 X1 Y2 Y3\"): -0.044079612902551774,\n",
        "    pauli_label(\"X0 Y1 Y2 X3\"): 0.044079612902551774,\n",
        "    pauli_label(\"Y0 X1 X2 Y3\"): 0.044079612902551774,\n",
        "    pauli_label(\"Y0 Y1 X2 X3\"): -0.044079612902551774,\n",
        "})"
      ]
    },
    {
      "cell_type": "markdown",
      "id": "06702693",
      "metadata": {},
      "source": [
        "Using this operator and the parametric state prepared above, we can define the cost function as a function of the circuit parameters:"
      ]
    },
    {
      "cell_type": "code",
      "execution_count": null,
      "id": "eb6b4853",
      "metadata": {},
      "outputs": [],
      "source": [
        "from typing import Sequence\n",
        "from quri_parts.qulacs.estimator import create_qulacs_vector_parametric_estimator\n",
        "\n",
        "estimator = create_qulacs_vector_parametric_estimator()\n",
        "\n",
        "def cost_fn(param_values: Sequence[float]) -> float:\n",
        "    estimate = estimator(hamiltonian, parametric_state, param_values)\n",
        "    return estimate.value.real"
      ]
    },
    {
      "cell_type": "markdown",
      "id": "d3c18418",
      "metadata": {},
      "source": [
        "We also define gradient of the cost function using numerical gradient:"
      ]
    },
    {
      "cell_type": "code",
      "execution_count": null,
      "id": "aa3d861b",
      "metadata": {},
      "outputs": [],
      "source": [
        "import numpy as np\n",
        "from quri_parts.core.estimator.gradient import create_numerical_gradient_estimator\n",
        "from quri_parts.qulacs.estimator import create_qulacs_vector_concurrent_parametric_estimator\n",
        "\n",
        "qulacs_concurrent_parametric_estimator = create_qulacs_vector_concurrent_parametric_estimator()\n",
        "gradient_estimator = create_numerical_gradient_estimator(\n",
        "    qulacs_concurrent_parametric_estimator,\n",
        "    delta=1e-4,\n",
        ")\n",
        "\n",
        "def grad_fn(param_values: Sequence[float]) -> Sequence[float]:\n",
        "    estimate = gradient_estimator(hamiltonian, parametric_state, param_values)\n",
        "    return np.asarray([g.real for g in estimate.values])"
      ]
    },
    {
      "cell_type": "markdown",
      "id": "83e531df",
      "metadata": {},
      "source": [
        "Then we can run VQE with a QURI Parts optimizer:"
      ]
    },
    {
      "cell_type": "code",
      "execution_count": null,
      "id": "e292b17d",
      "metadata": {},
      "outputs": [
        {
          "name": "stdout",
          "output_type": "stream",
          "text": [
            "Optimizer converged\n",
            "Optimized value: -1.1119813406104204\n",
            "Optimized parameter: [ 5.47178290e-02  8.40762190e-02  5.12253347e-02  8.19750366e-02\n",
            " -9.72099704e-03 -1.16141832e-01 -3.06727507e-03  9.66792840e-01\n",
            "  1.27323903e-01  1.04790837e-01  1.27097746e-01  9.40512719e-02\n",
            " -1.60419268e-02  9.92326531e-01 -3.35897820e-02  9.91027219e-01\n",
            "  6.44048149e-02  2.49942838e-04  6.43611654e-02 -5.72089598e-03\n",
            " -1.48640069e-02 -1.16555427e-01 -3.59503991e-02  9.79005522e-01\n",
            "  1.67652639e-02 -2.35033759e-01  1.34115103e-02 -2.24492856e-01\n",
            " -2.91851967e-02  4.35033714e-01 -3.52284761e-03  4.24493014e-01]\n",
            "Iterations: 24\n",
            "Cost function calls: 25\n",
            "Gradient function calls: 24\n"
          ]
        }
      ],
      "source": [
        "from quri_parts.algo.optimizer import (\n",
        "    OptimizerStatus, Optimizer, OptimizerState, CostFunction, GradientFunction\n",
        ")\n",
        "\n",
        "def vqe(\n",
        "    init_params: Sequence[float],\n",
        "    cost_fn: CostFunction,\n",
        "    grad_fn: GradientFunction,\n",
        "    optimizer: Optimizer\n",
        ") -> OptimizerState:\n",
        "    opt_state = optimizer.get_init_state(init_params)\n",
        "    while True:\n",
        "        opt_state = optimizer.step(opt_state, cost_fn, grad_fn)\n",
        "        if opt_state.status == OptimizerStatus.FAILED:\n",
        "            print(\"Optimizer failed\")\n",
        "            break\n",
        "        if opt_state.status == OptimizerStatus.CONVERGED:\n",
        "            print(\"Optimizer converged\")\n",
        "            break\n",
        "    return opt_state\n",
        "\n",
        "init_params = [0.1] * hw_ansatz.parameter_count\n",
        "result = vqe(init_params, cost_fn, grad_fn, adam_optimizer)\n",
        "print(\"Optimized value:\", result.cost)\n",
        "print(\"Optimized parameter:\", result.params)\n",
        "print(\"Iterations:\", result.niter)\n",
        "print(\"Cost function calls:\", result.funcalls)\n",
        "print(\"Gradient function calls:\", result.gradcalls)"
      ]
    },
    {
      "cell_type": "markdown",
      "id": "5640878b",
      "metadata": {},
      "source": [
        "You can also run VQE with a SciPy optimizer:"
      ]
    },
    {
      "cell_type": "code",
      "execution_count": null,
      "id": "0e4e604a",
      "metadata": {},
      "outputs": [
        {
          "name": "stdout",
          "output_type": "stream",
          "text": [
            "Optimization terminated successfully.\n",
            "Optimized value: -1.1299047840976442\n",
            "Optimized parameter: [ 2.05593646e-03  3.87341918e-02  6.61727563e-01  2.42278307e-03\n",
            "  3.12738525e-01 -4.21253119e-02 -1.39600146e+00 -2.85039706e-03\n",
            "  3.35892634e-01  2.15408237e-04  6.57480272e-01 -2.74163479e-01\n",
            "  6.78252570e-01  1.19267986e-01  2.20687940e+00 -5.74165023e-03\n",
            "  1.56985600e+00  6.69304284e-06 -1.14405759e-03  1.69116946e-01\n",
            "  1.79284277e-01 -1.46789991e-01 -2.27287648e-01  1.55406107e-02\n",
            "  1.23560233e+00  1.09112774e-01 -1.55674962e-03  1.09133237e-01\n",
            " -5.23284705e-01  9.08872954e-02 -6.40333420e-01  9.08667616e-02]\n",
            "Iterations: 175\n",
            "Cost function calls: 182\n",
            "Gradient function calls: 182\n"
          ]
        }
      ],
      "source": [
        "from scipy.optimize import minimize, OptimizeResult\n",
        "from typing import Any\n",
        "\n",
        "def vqe_scipy(\n",
        "    init_params: Sequence[float],\n",
        "    cost_fn: CostFunction,\n",
        "    grad_fn: GradientFunction, \n",
        "    method: str,\n",
        "    options: dict[str, Any]\n",
        ") -> OptimizeResult:\n",
        "    return minimize(cost_fn, init_params, jac=grad_fn, method=method, options=options)\n",
        "\n",
        "init_params = [0.1] * hw_ansatz.parameter_count\n",
        "bfgs_options = {\n",
        "    \"gtol\": 1e-6,\n",
        "}\n",
        "result = vqe_scipy(init_params, cost_fn, grad_fn, \"BFGS\", bfgs_options)\n",
        "print(result.message)\n",
        "print(\"Optimized value:\", result.fun)\n",
        "print(\"Optimized parameter:\", result.x)\n",
        "print(\"Iterations:\", result.nit)\n",
        "print(\"Cost function calls:\", result.nfev)\n",
        "print(\"Gradient function calls:\", result.njev)"
      ]
    }
  ],
  "metadata": {
    "language_info": {
      "name": "python",
      "pygments_lexer": "ipython3"
    }
  },
  "nbformat": 4,
  "nbformat_minor": 5
}
