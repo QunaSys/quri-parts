{
  "cells": [
    {
      "cell_type": "markdown",
      "metadata": {},
      "source": [
        "# Molecular Hamiltonian generation\n",
        "\n",
        "This tutorial is for demonstrating how to obtain the molecular orbital (MO) electron integrals ($h_{ij}$ and $h_{ijkl}$) as well as the molecular Hamiltonian ($H$).\n",
        "\n",
        "Here, we adopt the physicists' convention for the electron integrals, so that they are related to the Hamiltonian by the equation:\n",
        "\n",
        "$$\n",
        "\\begin{equation}\n",
        "H = E_{\\text{nuc}} + \\sum_{i, j = 1}^{N} h_{ij} c_i^{\\dagger} c_j + \\frac{1}{2} \\sum_{i, j, k, l = 1}^{N} h_{ijkl} c_i^{\\dagger} c_j^{\\dagger} c_k c_l\n",
        "\\end{equation}\n",
        "$$\n",
        "\n",
        "where \n",
        "\n",
        "- $E_{\\text{nuc}}$ is the nuclear repulsion energy.\n",
        "- $h_{ij}$ is the 1-electron MO integral (physicist's convention).\n",
        "- $h_{ijkl}$ is the 2-electron MO integral (physicist's convention).\n",
        "- $c_i^{\\dagger}$, $c_i$ are the fermionic creation and annihilation operators on the i-th _spin_ orbtial.\n",
        "- $N$ is the number of spin oribtals."
      ]
    },
    {
      "cell_type": "markdown",
      "metadata": {},
      "source": [
        "## Overview\n",
        "\n",
        "We give a brief overview on how to easily generate the Hamiltonian for a water molecule with QURI Parts. The parameters we use are:\n",
        "\n",
        "- charge: 0\n",
        "- spin: 0\n",
        "- [basis](https://en.wikipedia.org/wiki/Basis_set_(chemistry)): sto-3g\n",
        "- fermion-qubit mapping: Jordan-Wigner\n",
        "\n",
        "We first generate the hamiltonian where all spatial orbitals are active. This configuration is referred to as the \"full space\" through out this tutorial."
      ]
    },
    {
      "cell_type": "code",
      "execution_count": null,
      "metadata": {},
      "outputs": [],
      "source": [
        "from pyscf import gto, scf\n",
        "from quri_parts.pyscf.mol import get_spin_mo_integrals_from_mole\n",
        "from quri_parts.openfermion.mol import get_qubit_mapped_hamiltonian\n",
        "\n",
        "mole = gto.M(atom=\"O 0 0 0; H 0.2774 0.8929 0.2544; H 0.6068, -0.2383, -0.7169\")\n",
        "mf = scf.RHF(mole).run(verbose=0)\n",
        "\n",
        "hamiltonian, jw_mapping = get_qubit_mapped_hamiltonian(\n",
        "    *get_spin_mo_integrals_from_mole(mole, mf.mo_coeff)\n",
        ")"
      ]
    },
    {
      "cell_type": "markdown",
      "metadata": {},
      "source": [
        "We can also compute the active space hamiltonian with active space configuration\n",
        "\n",
        "- number of active electrons: 6\n",
        "- number of active orbitals: 4"
      ]
    },
    {
      "cell_type": "code",
      "execution_count": null,
      "metadata": {},
      "outputs": [],
      "source": [
        "from quri_parts.chem.mol import cas\n",
        "\n",
        "cas_hamiltonian, cas_jw_mapping = get_qubit_mapped_hamiltonian(\n",
        "    *get_spin_mo_integrals_from_mole(mole, mf.mo_coeff, cas(6, 4))\n",
        ")"
      ]
    },
    {
      "cell_type": "markdown",
      "metadata": {},
      "source": [
        "Note that a mapping object is returned along with the qubit hamiltonian."
      ]
    },
    {
      "cell_type": "markdown",
      "metadata": {},
      "source": [
        "## Generate spin MO electron integrals\n",
        "\n",
        "The molecular hamiltonian is computed based on spin MO electron integrals. They are the $h_{ij}$ and $h_{ijkl}$ coefficients in eq.(1). We will have detailed tutorials explaining how they are computed in QURI Parts and the objects that hold them. For now, we can generate them with the `get_spin_mo_integrals_from_mole` function, which only requires a `pyscf.gto.Mole` object and the corresponding mo coefficients.\n",
        "\n",
        "Here we show how we can generate the full space and active space electron integrals"
      ]
    },
    {
      "cell_type": "code",
      "execution_count": null,
      "metadata": {},
      "outputs": [],
      "source": [
        "full_space, mo_eint_set = get_spin_mo_integrals_from_mole(mole, mf.mo_coeff)\n",
        "active_space, cas_mo_eint_set = get_spin_mo_integrals_from_mole(mole, mf.mo_coeff, cas(6, 4))"
      ]
    },
    {
      "cell_type": "markdown",
      "metadata": {},
      "source": [
        "`get_spin_mo_integrals_from_mole` returns the active space along with the electron integral The `full_space` variable here is an `ActiveSpace` object with `n_active_electron` being the total number of electrons in the molecule, and `n_active_orbitals` being the total number of spatial orbitals in the molecule."
      ]
    },
    {
      "cell_type": "markdown",
      "metadata": {},
      "source": [
        "## Obtaining the fermionic hamiltonian\n",
        "\n",
        "As the fermionic hamiltonian is directly related to the electron integrals via eq.(1), we can compute the fermionic hamiltonian with them with the `get_fermionic_hamiltonian` function."
      ]
    },
    {
      "cell_type": "code",
      "execution_count": null,
      "metadata": {},
      "outputs": [],
      "source": [
        "from quri_parts.openfermion.mol import get_fermionic_hamiltonian\n",
        "\n",
        "fermionic_hamiltonian = get_fermionic_hamiltonian(mo_eint_set)\n",
        "cas_fermionic_hamiltonian = get_fermionic_hamiltonian(cas_mo_eint_set)"
      ]
    },
    {
      "cell_type": "markdown",
      "metadata": {},
      "source": [
        "## Mapping the fermionic Hamiltonian to qubit hamiltonian\n",
        "\n",
        "The fermionic hamiltonian is represented by a `openfermion.InteractionOperator`, where we can use an operator mapper to map it to QURI Parts `Operator`. There are 2 ways this can be done:\n",
        "\n",
        "1. Construct a mapping object by hand and use it to convert the `FermionicOperator` to `Operator`.\n",
        "2. Use the `operator_from_of_fermionic_op` function.\n",
        "\n",
        "We first show method 1."
      ]
    },
    {
      "cell_type": "code",
      "execution_count": null,
      "metadata": {},
      "outputs": [],
      "source": [
        "from quri_parts.openfermion.transforms import jordan_wigner\n",
        "\n",
        "jw_mapping = jordan_wigner(2 * full_space.n_active_orb, full_space.n_active_ele)\n",
        "qubit_hamiltonian = jw_mapping.of_operator_mapper(fermionic_hamiltonian)\n",
        "\n",
        "cas_jw_mapping = jordan_wigner(2 * active_space.n_active_orb, active_space.n_active_ele)\n",
        "cas_qubit_hamiltonian = cas_jw_mapping.of_operator_mapper(cas_fermionic_hamiltonian)"
      ]
    },
    {
      "cell_type": "markdown",
      "metadata": {},
      "source": [
        "This computes the correct qubit Hamiltonian, but is a bit cumbersome because the mapping object is computed by hand. The `operator_from_of_fermionic_op` function bypasses this shortcoming by taking in the active space and generates the mapping object automatically."
      ]
    },
    {
      "cell_type": "code",
      "execution_count": null,
      "metadata": {},
      "outputs": [],
      "source": [
        "from quri_parts.openfermion.mol import operator_from_of_fermionic_op\n",
        "\n",
        "qubit_hamiltonian, jw_mapping = operator_from_of_fermionic_op(\n",
        "    fermionic_hamiltonian,\n",
        "    full_space,\n",
        "    sz = None,  # default to None\n",
        "    fermion_qubit_mapping=jordan_wigner  # default to jordan_wigner\n",
        ")\n",
        "cas_qubit_hamiltonian, cas_jw_mapping = operator_from_of_fermionic_op(\n",
        "    cas_fermionic_hamiltonian,\n",
        "    active_space,\n",
        "    sz = None,  # default to None\n",
        "    fermion_qubit_mapping=jordan_wigner  # default to jordan_wigner\n",
        ")"
      ]
    },
    {
      "cell_type": "markdown",
      "metadata": {},
      "source": [
        "## Qubit hamiltonian from MO integral\n",
        "\n",
        "Finally, we introduce the `get_qubit_mapped_hamiltonian` function demonstrated in the overview section. It serves as a shortcut that completely bypasses the fermionic hamiltonian"
      ]
    },
    {
      "cell_type": "code",
      "execution_count": null,
      "metadata": {},
      "outputs": [],
      "source": [
        "qubit_hamiltonian, jw_mapping = get_qubit_mapped_hamiltonian(\n",
        "    full_space,\n",
        "    mo_eint_set,\n",
        "    sz = None,  # default to None\n",
        "    fermion_qubit_mapping=jordan_wigner  # default to jordan_wigner\n",
        ")\n",
        "\n",
        "cas_qubit_hamiltonian, cas_jw_mapping = get_qubit_mapped_hamiltonian(\n",
        "    active_space,\n",
        "    cas_mo_eint_set,\n",
        "    sz = None,  # default to None\n",
        "    fermion_qubit_mapping=jordan_wigner  # default to jordan_wigner\n",
        ")"
      ]
    }
  ],
  "metadata": {
    "language_info": {
      "name": "python",
      "pygments_lexer": "ipython3"
    }
  },
  "nbformat": 4,
  "nbformat_minor": 2
}
