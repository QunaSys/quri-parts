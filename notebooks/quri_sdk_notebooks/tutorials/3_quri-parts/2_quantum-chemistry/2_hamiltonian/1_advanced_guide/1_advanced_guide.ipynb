{
  "cells": [
    {
      "cell_type": "markdown",
      "metadata": {},
      "source": [
        "# Advanced guides on electron integral \n",
        "\n",
        "\n",
        "Computing the electron integrals is a crucial part of quantum chemistry, especially for the generation of molecular Hamiltonians. In previous tutorials, we explained how to obtain electron integrals (eInts) as well as the molecular Hamiltonian. In this tutorial, we give more detailed introductions on objects that QURI Parts provides for computing eInts, so that you may customize your algorithms for efficient eInt computations.\n",
        "\n",
        "\n",
        "The standard steps of computing the electron integrals (eInts) involve:\n",
        "\n",
        "1. Obtain AO eInts from the molecule.\n",
        "2. Run self-consistent computation.\n",
        "3. Obtain spatial MO eInts from AO eInts and RHF.\n",
        "4. Convert spatial MO eInts to spin MO eInts.\n",
        "\n",
        "As there are multiple types of electron integrals involved in the computation, and it is usually the case that we only need the spin MO eInt, QURI Parts provide 2 ways of obtaining the spin MO eInt.\n",
        "\n",
        "- Save all the intermediate eInts on memory.\n",
        "- Release the eInt array to the memory on demand.\n",
        "\n",
        "We will present how to do the two versions of computations in this tutorial."
      ]
    },
    {
      "cell_type": "markdown",
      "metadata": {},
      "source": [
        "## Overview\n",
        "\n",
        "Here we give a brief introduction of how to perform the two versions of computation."
      ]
    },
    {
      "cell_type": "markdown",
      "metadata": {},
      "source": [
        "### **Quick summary: Compute with storing the electron integral arrays on memory**"
      ]
    },
    {
      "cell_type": "markdown",
      "metadata": {},
      "source": [
        "#### 1. Define the molecule"
      ]
    },
    {
      "cell_type": "code",
      "execution_count": null,
      "metadata": {},
      "outputs": [],
      "source": [
        "from pyscf import gto, scf\n",
        "from quri_parts.pyscf.mol import PySCFMolecularOrbitals, get_ao_eint_set\n",
        "\n",
        "mole = gto.M(atom=\"O 0 0 0; H 0.2774 0.8929 0.2544; H 0.6068, -0.2383, -0.7169\")\n",
        "mf = scf.RHF(mole).run(verbose=0)\n",
        "mo = PySCFMolecularOrbitals(mole, mf.mo_coeff)"
      ]
    },
    {
      "cell_type": "markdown",
      "metadata": {},
      "source": [
        "#### 2. Compute the AO eInts"
      ]
    },
    {
      "cell_type": "code",
      "execution_count": null,
      "metadata": {},
      "outputs": [],
      "source": [
        "ao_eint_set = get_ao_eint_set(mo, store_array_on_memory=True)"
      ]
    },
    {
      "cell_type": "markdown",
      "metadata": {},
      "source": [
        "#### 3. Compute the spin MO eInts "
      ]
    },
    {
      "cell_type": "code",
      "execution_count": null,
      "metadata": {},
      "outputs": [],
      "source": [
        "spin_mo_eint_set = ao_eint_set.to_full_space_mo_int(mo)\n",
        "\n",
        "h2o_const = spin_mo_eint_set.const\n",
        "h2o_1e_int = spin_mo_eint_set.mo_1e_int.array\n",
        "h2o_2e_int = spin_mo_eint_set.mo_2e_int.array"
      ]
    },
    {
      "cell_type": "markdown",
      "metadata": {},
      "source": [
        "#### 4. Compute the active space spin MO eInts"
      ]
    },
    {
      "cell_type": "code",
      "execution_count": null,
      "metadata": {},
      "outputs": [],
      "source": [
        "from quri_parts.chem.mol import ActiveSpaceMolecularOrbitals, cas\n",
        "\n",
        "# Define the active space\n",
        "active_space = cas(n_active_ele=6, n_active_orb=4)\n",
        "asmo = ActiveSpaceMolecularOrbitals(mo, active_space)\n",
        "\n",
        "# Compute the active space MO integrals\n",
        "cas_spin_mo_eint_set = ao_eint_set.to_active_space_mo_int(asmo)\n",
        "\n",
        "h2o_cas_const = cas_spin_mo_eint_set.const\n",
        "h2o_cas_1e_int = cas_spin_mo_eint_set.mo_1e_int.array\n",
        "h2o_cas_2e_int = cas_spin_mo_eint_set.mo_2e_int.array"
      ]
    },
    {
      "cell_type": "markdown",
      "metadata": {},
      "source": [
        "### **Quick summary: Compute without storing the electron integral arrays on memory**"
      ]
    },
    {
      "cell_type": "markdown",
      "metadata": {},
      "source": [
        "#### 1. Define the molecule"
      ]
    },
    {
      "cell_type": "code",
      "execution_count": null,
      "metadata": {},
      "outputs": [],
      "source": [
        "from pyscf import gto, scf\n",
        "from quri_parts.pyscf.mol import PySCFMolecularOrbitals, get_ao_eint_set\n",
        "\n",
        "mole = gto.M(atom=\"O 0 0 0; H 0.2774 0.8929 0.2544; H 0.6068, -0.2383, -0.7169\")\n",
        "mf = scf.RHF(mole).run(verbose=0)\n",
        "mo = PySCFMolecularOrbitals(mole, mf.mo_coeff)"
      ]
    },
    {
      "cell_type": "markdown",
      "metadata": {},
      "source": [
        "#### 2. Compute the AO eInts"
      ]
    },
    {
      "cell_type": "code",
      "execution_count": null,
      "metadata": {},
      "outputs": [],
      "source": [
        "ao_eint_set = get_ao_eint_set(mo)"
      ]
    },
    {
      "cell_type": "markdown",
      "metadata": {},
      "source": [
        "#### 3. Compute the spin MO eInts "
      ]
    },
    {
      "cell_type": "code",
      "execution_count": null,
      "metadata": {},
      "outputs": [],
      "source": [
        "spin_mo_eint_set = ao_eint_set.to_full_space_mo_int(mo)\n",
        "\n",
        "# nuclear repulsion\n",
        "h2o_const = spin_mo_eint_set.const\n",
        "# 1-electron eInt array\n",
        "h2o_1e_int = spin_mo_eint_set.mo_1e_int.array\n",
        "# 2-electron eInt array\n",
        "h2o_2e_int = spin_mo_eint_set.mo_2e_int.array"
      ]
    },
    {
      "cell_type": "markdown",
      "metadata": {},
      "source": [
        "#### 4. Compute the active space spin MO eInts"
      ]
    },
    {
      "cell_type": "code",
      "execution_count": null,
      "metadata": {},
      "outputs": [],
      "source": [
        "# Define the active space\n",
        "active_space = cas(n_active_ele=6, n_active_orb=4)\n",
        "asmo = ActiveSpaceMolecularOrbitals(mo, active_space)\n",
        "\n",
        "# Compute the active space MO integrals\n",
        "cas_spin_mo_eint_set = ao_eint_set.to_active_space_mo_int(asmo)\n",
        "\n",
        "# active space nuclear repulsion\n",
        "h2o_cas_const = cas_spin_mo_eint_set.const\n",
        "# active space 1-electron eInt array\n",
        "h2o_cas_1e_int = cas_spin_mo_eint_set.mo_1e_int.array\n",
        "# active space21-electron eInt array\n",
        "h2o_cas_2e_int = cas_spin_mo_eint_set.mo_2e_int.array"
      ]
    },
    {
      "cell_type": "markdown",
      "metadata": {},
      "source": [
        "### Quick comment\n",
        "\n",
        "The two computations above looks almost the same. The only difference is in `get_ao_eint_set`, where one sets the `store_array_on_memory` argument to True. However, they behave very differently under the hood. \n",
        "\n",
        "In the first version where the `store_array_on_memory = True`, the AO electron integrals are released to the memory right after `get_ao_eint_set`, `ao_eint_set.to_full_space_mo_int` and `ao_eint_set.to_active_space_mo_int` are executed. This takes up more memory but can provide potential speed advantage. We will discuss how to compute electron integrals in the shortest amount of time in later sections.\n",
        "\n",
        "For the second version where we use the default `store_array_on_memory = False`, the explicit eInt array are released to memory only when the `.array` property is called. This saves up a lot of memory during actual computations and has more advantages when we are considering larger molecules. In the Hamiltonian generation tutorial, the `get_spin_mo_integrals_from_mole` runs this version of computation."
      ]
    },
    {
      "cell_type": "markdown",
      "metadata": {},
      "source": [
        "## The electron integral interface\n",
        "\n",
        "As there are multiple kinds of electron integrals, this section is devoted to explain how they are represented in QURI Parts.\n",
        "\n",
        "There are 3 types of electron integrals, and each of them can be divided into constant part, 1-electron integral and 2-electron integrals.\n",
        "\n",
        "- Atomic orbital (AO) electron integrals (`AOeIntSet`):\n",
        "    - constant: nuclear repulsion\n",
        "    - `AO1eInt`: 1-electron AO integral.\n",
        "    - `AO2eInt`: 2-electron AO integral.\n",
        "- Spatial molecular orbital (MO) electron integrals (`SpatialMOeIntSet`):\n",
        "    - constant: nuclear repulsion\n",
        "    - `SpatialMO1eInt`: 1-electron spatial MO integral\n",
        "    - `SpatialMO2eInt`: 2-electron spatial MO integral\n",
        "- Spin molecular orbital (MO) electron integrals (`SpinMOeIntSet`):\n",
        "    - constant: nuclear repulsion\n",
        "    - `SpinMO1eInt`: 1-electron spatial MO integral\n",
        "    - `SpinMO2eInt`: 2-electron spatial MO integral\n",
        "\n",
        "All the `...1eInt` and `...2eInt` objects provide `.array` property that allows us to retrieve the explicit electron integral represented by a Numpy array.\n",
        "\n",
        "In QURI Parts, the relations between the electron integral sets are represented by the following diagram."
      ]
    },
    {
      "cell_type": "markdown",
      "metadata": {},
      "source": [
        "![png](interface.png)"
      ]
    },
    {
      "cell_type": "markdown",
      "metadata": {},
      "source": [
        "## Compute the Electron Integrals\n",
        "\n",
        "Here, we introduce the first way of computing the electron integrals, where we release all the electron integrals of each intermediate step onto the memory. We first list out all the objects that represents an electron integral:\n",
        "\n",
        "- AO electron integral: `AOeIntArraySet`, which contains:\n",
        "    - constant: The nuclear repulsion energy.\n",
        "    - `AO1eIntArray`: The AO 1-electron integral array on memory\n",
        "    - `AO2eIntArray`: The AO 2-electron integral array on memory\n",
        "- Spatial electron integral: `SpatialMOeIntSet`, which contains:\n",
        "    - constant: The nuclear repulsion energy.\n",
        "    - `SpatialMO1eIntArray`: The spatial MO 1-electron integral array on memory\n",
        "    - `SpatialMO2eIntArray`: The spatial MO 2-electron integral array on memory\n",
        "- Spin electron integral: `SpinMOeIntSet`, which contains:\n",
        "    - constant: The nuclear repulsion energy.\n",
        "    - `SpinMO1eIntArray`: The spin MO 1-electron integral array on memory\n",
        "    - `SpinMO2eIntArray`: The spin MO 2-electron integral array on memory"
      ]
    },
    {
      "cell_type": "markdown",
      "metadata": {},
      "source": [
        "### Computing the AO electron integrals\n",
        "\n",
        "One can construct the `AOeIntArraySet` using the `get_ao_eint_set` function. When the `store_array_on_memory` argument is set to True, it returns an `AOeIntArraySet` object that stores the AO electron integrals on memory."
      ]
    },
    {
      "cell_type": "code",
      "execution_count": null,
      "metadata": {},
      "outputs": [],
      "source": [
        "from quri_parts.pyscf.mol import get_ao_eint_set\n",
        "\n",
        "ao_eint_set= get_ao_eint_set(mo, store_array_on_memory=True)\n",
        "\n",
        "# the nuclear repulsion energy\n",
        "nuc_energy= ao_eint_set.constant\n",
        "\n",
        "# the AO one-electron integrals: an AO1eIntArray object\n",
        "ao_1e_int= ao_eint_set.ao_1e_int\n",
        "\n",
        "# the AO two-electron integrals: an AO2eIntArray object\n",
        "ao_2e_int= ao_eint_set.ao_2e_int "
      ]
    },
    {
      "cell_type": "markdown",
      "metadata": {},
      "source": [
        "One can access the explicit array of the electron atomic orbital integrals with the array attribute:"
      ]
    },
    {
      "cell_type": "code",
      "execution_count": null,
      "metadata": {},
      "outputs": [],
      "source": [
        "# ao_1e_int.array\n",
        "# ao_2e_int.array"
      ]
    },
    {
      "cell_type": "markdown",
      "metadata": {},
      "source": [
        "### Computing the spatial and spin MO electron integrals\n",
        "\n",
        "With the AO electron integrals and the `MolecularOrbitals` at hand, we may compute the:\n",
        "\n",
        "- spatial MO electron integrals with the `to_full_space_spatial_mo_int` method\n",
        "- spin MO electron integrals with the `to_full_space_mo_int` methods\n",
        "\n",
        "in `ao_eint_set`. Note that the explicit array of the integrals are computed and released to the memory once these methods are called."
      ]
    },
    {
      "cell_type": "code",
      "execution_count": null,
      "metadata": {},
      "outputs": [],
      "source": [
        "# Computes the full space spatial mo electron integrals\n",
        "spatial_mo_e_int_set = ao_eint_set.to_full_space_spatial_mo_int(mo)\n",
        "\n",
        "# Computes the full space spin mo electron integrals\n",
        "spin_mo_e_int_set = ao_eint_set.to_full_space_mo_int(mo)"
      ]
    },
    {
      "cell_type": "markdown",
      "metadata": {},
      "source": [
        "To access the explicit array of the integrals, you may run:"
      ]
    },
    {
      "cell_type": "code",
      "execution_count": null,
      "metadata": {},
      "outputs": [],
      "source": [
        "# For the spatial MO electron integrals\n",
        "nuclear_repulsion_energy = spatial_mo_e_int_set.const\n",
        "spatial_1e_int = spatial_mo_e_int_set.mo_1e_int.array\n",
        "spatial_2e_int = spatial_mo_e_int_set.mo_2e_int.array\n",
        "\n",
        "# For the spin MO electron integrals\n",
        "nuclear_repulsion_energy = spin_mo_e_int_set.const\n",
        "spin_1e_int = spin_mo_e_int_set.mo_1e_int.array\n",
        "spin_2e_int = spin_mo_e_int_set.mo_2e_int.array"
      ]
    },
    {
      "cell_type": "markdown",
      "metadata": {},
      "source": [
        "### Computing the active space electron integrals\n",
        "\n",
        "The active space spin and spatial MO eInts can also be computed in a similar way. Instead of using the full space `MolecularOrbitals`, we compute the:\n",
        "\n",
        "- active space spatial MO eInt with the `to_active_space_spatial_mo_int` method\n",
        "- active space spin MO eInt with the `to_active_space_mo_int` method\n",
        "\n",
        "by passing in the `ActiveSpaceMolecularOrbitals`. Note that the explicit eInt arrays are released onto the memory once these methods are called."
      ]
    },
    {
      "cell_type": "code",
      "execution_count": null,
      "metadata": {},
      "outputs": [],
      "source": [
        "# Computing the active space spatial mo electron integrals\n",
        "active_space_spatial_integrals = ao_eint_set.to_active_space_spatial_mo_int(active_space_mo=asmo)\n",
        "\n",
        "# Computing the active space spin mo electron integrals\n",
        "active_space_spin_integrals = ao_eint_set.to_active_space_mo_int(active_space_mo=asmo)"
      ]
    },
    {
      "cell_type": "markdown",
      "metadata": {},
      "source": [
        "To obtain the explicit active space MO eInts"
      ]
    },
    {
      "cell_type": "code",
      "execution_count": null,
      "metadata": {},
      "outputs": [],
      "source": [
        "# For the spatial MO electron integrals\n",
        "active_space_nuclear_repulsion_energy = active_space_spatial_integrals.const\n",
        "active_space_spatial_1e_int = active_space_spatial_integrals.mo_1e_int.array\n",
        "active_space_spatial_2e_int = active_space_spatial_integrals.mo_2e_int.array\n",
        "\n",
        "# For the spin MO electron integrals\n",
        "active_space_nuclear_repulsion_energy = active_space_spin_integrals.const\n",
        "active_space_spin_1e_int = active_space_spin_integrals.mo_1e_int.array\n",
        "active_space_spin_2e_int = active_space_spin_integrals.mo_2e_int.array"
      ]
    },
    {
      "cell_type": "markdown",
      "metadata": {},
      "source": [
        "### Computing active space eInt with optimal efficiency\n",
        "\n",
        "To achieve optimal efficiency when computing active space eInts, we recommend using the\n",
        "\n",
        "- `get_active_space_spatial_integrals_from_mo_eint`\n",
        "- `get_active_space_spin_integrals_from_mo_eint`\n",
        "\n",
        "functions as the `to_active_space_spatial_mo_int` and `to_active_space_mo_int` methods computes the full space MO eInt first before projecting them onto the selected active space. This does not matter if one wants to compute eInts for only one active space configuration. However, the MO eInts are calculated repeatedly if *multiple active space eInts* are required and can cause performance penalty. Thus, it is more efficient if we compute the MO eInt *once and store it on memory* and then project the eInts to the desired active spaces with the aforementioned functions:"
      ]
    },
    {
      "cell_type": "code",
      "execution_count": null,
      "metadata": {},
      "outputs": [],
      "source": [
        "from quri_parts.chem.mol import (\n",
        "    get_active_space_spatial_integrals_from_mo_eint,\n",
        "    get_active_space_spin_integrals_from_mo_eint\n",
        ")\n",
        "\n",
        "# Computing the active space spatial mo electron integrals\n",
        "active_space_spatial_integrals = get_active_space_spatial_integrals_from_mo_eint(\n",
        "    active_space_mo=asmo, electron_mo_ints=spatial_mo_e_int_set\n",
        ")\n",
        "\n",
        "# Computing the active space spin mo electron integrals\n",
        "active_space_spin_integrals = get_active_space_spin_integrals_from_mo_eint(\n",
        "    active_space_mo=asmo, electron_mo_ints=spatial_mo_e_int_set\n",
        ")"
      ]
    },
    {
      "cell_type": "markdown",
      "metadata": {},
      "source": [
        "## Compute the electron integrals in a memory efficient manner\n",
        "\n",
        "When the molecule gets larger, it is unrealistic to store the full space mo electron integrals on memory, most especially when we just want to get the eInts of a small active space from a big molecule. In QURI Parts, we provide a memory efficient way of computing the active space integrals while bypassing the full space electron integrals. The idea is to store only the PySCF Mole object and the mo coefficients on memory. The explicit eInts are only released onto the memory on demand.\n",
        "\n",
        "We first introduce the objects used to perform memory efficient eInt evaluation\n",
        "\n",
        "- AO electron integral: `PySCFAOeIntSet`, which contains:\n",
        "    - constant: The nuclear repulsion energy.\n",
        "    - `PySCFAO1eInt`: The AO 1-electron integral.\n",
        "    - `PySCFAO2eInt`: The AO 2-electron integral.\n",
        "- Full space spatial electron integral: `SpatialMOeIntSet`, which contains:\n",
        "    - constant: The nuclear repulsion energy.\n",
        "    - `PySCFSpatialMO1eInt`: The spatial MO 1-electron integral.\n",
        "    - `PySCFSpatialMO2eInt`: The spatial MO 2-electron integral.\n",
        "- Full space spin electron integral: `SpinMOeIntSet`, which contains:\n",
        "    - constant: The nuclear repulsion energy.\n",
        "    - `PySCFSpinMO1eInt`: The spin MO 1-electron integral.\n",
        "    - `PySCFSpinMO2eInt`: The spin MO 2-electron integral.\n",
        "\n",
        "The above objects only holds the Molecule objects and the mo coefficients. The actual eInt array are only computed when the `.array` property is accessed. For the active space MO eInts, they are stored by:\n",
        "\n",
        "- Active space spatial electron integral: `SpatialMOeIntSet`, which contains:\n",
        "    - constant: The nuclear repulsion energy.\n",
        "    - `SpatialMO1eIntArray`: The spatial MO 1-electron integral.\n",
        "    - `SpatialMO2eIntArray`: The spatial MO 2-electron integral.\n",
        "- Active space spin electron integral: `SpinMOeIntSet`, which contains:\n",
        "    - constant: The nuclear repulsion energy.\n",
        "    - `SpinMO1eIntArray`: The spin MO 1-electron integral.\n",
        "    - `SpinMO2eIntArray`: The spin MO 2-electron integral.\n",
        "\n",
        "where the explicit array are released to the memory once the `PySCFAOeIntSet.to_active_space_mo_int` or `PySCFAOeIntSet.to_active_space_spatial_mo_int` is called."
      ]
    },
    {
      "cell_type": "markdown",
      "metadata": {},
      "source": [
        "### Computing the AO spatial electron integrals\n",
        "\n",
        "We may obtain the `PySCFAOeIntSet` using the `get_ao_eint_set` function with the `store_array_on_memory` option to False"
      ]
    },
    {
      "cell_type": "code",
      "execution_count": null,
      "metadata": {},
      "outputs": [],
      "source": [
        "# This constructs a PySCFAOeIntSet object, which only holds pyscf mol object on memory\n",
        "\n",
        "pyscf_ao_eint_set = get_ao_eint_set(\n",
        "    mo,\n",
        "    store_array_on_memory=False  # default to False\n",
        ")"
      ]
    },
    {
      "cell_type": "markdown",
      "metadata": {},
      "source": [
        "### Computing the spatial and spin MO electron integrals\n",
        "\n",
        "As in the `AOeIntArraySet`, the full space spatial and spin MO eInts can be calculated by the `to_full_space_spatial_mo_int` and `to_full_space_mo_int` respectively."
      ]
    },
    {
      "cell_type": "code",
      "execution_count": null,
      "metadata": {},
      "outputs": [],
      "source": [
        "# Returns a SpatialMOeIntSet object, which only holds the molecule and the mo coefficients on memory\n",
        "pyscf_spatial_mo_eint_set = pyscf_ao_eint_set.to_full_space_spatial_mo_int(mo)\n",
        "\n",
        "# Returns a SpinMOeIntSet object, which only holds the molecule and the mo coefficients on memory\n",
        "pyscf_spin_mo_eint_set = pyscf_ao_eint_set.to_full_space_mo_int(mo)"
      ]
    },
    {
      "cell_type": "markdown",
      "metadata": {},
      "source": [
        "The explicit electron integrals are only computed on demand when the `array` property is accessed"
      ]
    },
    {
      "cell_type": "code",
      "execution_count": null,
      "metadata": {},
      "outputs": [],
      "source": [
        "# For the spatial MO electron integrals\n",
        "pyscf_nuclear_repulsion_energy = pyscf_spatial_mo_eint_set.const\n",
        "pyscf_spatial_1e_int = pyscf_spatial_mo_eint_set.mo_1e_int.array  # computation happens here\n",
        "pyscf_spatial_2e_int = pyscf_spatial_mo_eint_set.mo_2e_int.array  # computation happens here\n",
        "\n",
        "# For the spin MO electron integrals\n",
        "pyscf_nuclear_repulsion_energy = pyscf_spin_mo_eint_set.const\n",
        "pyscf_spin_1e_int = pyscf_spin_mo_eint_set.mo_1e_int.array  # computation happens here\n",
        "pyscf_spin_2e_int = pyscf_spin_mo_eint_set.mo_2e_int.array  # computation happens here"
      ]
    },
    {
      "cell_type": "markdown",
      "metadata": {},
      "source": [
        "### Getting the active space spin electron integrals\n",
        "\n",
        "We may also compute the:\n",
        "\n",
        "- active space spatial MO eInt with the `PySCFAOeIntSet.to_active_space_spatial_mo_int` method\n",
        "- active space spin MO eInt with the `PySCFAOeIntSet.to_active_space_mo_int` method\n",
        "\n",
        "just like how we computed them with the `AOeIntArraySet`. Note that the computation is performed with `pyscf`’s `CASCI` once these methods are called."
      ]
    },
    {
      "cell_type": "code",
      "execution_count": null,
      "metadata": {},
      "outputs": [],
      "source": [
        "# Computing the active space spatial mo electron integrals\n",
        "pyscf_active_space_spatial_integrals = pyscf_ao_eint_set.to_active_space_spatial_mo_int(asmo)\n",
        "\n",
        "# Computing the active space spin mo electron integrals\n",
        "pyscf_active_space_spin_integrals = pyscf_ao_eint_set.to_active_space_mo_int(asmo)"
      ]
    }
  ],
  "metadata": {
    "language_info": {
      "name": "python",
      "pygments_lexer": "ipython3"
    }
  },
  "nbformat": 4,
  "nbformat_minor": 2
}
