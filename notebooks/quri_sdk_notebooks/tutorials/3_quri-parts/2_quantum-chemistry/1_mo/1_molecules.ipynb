{
  "cells": [
    {
      "cell_type": "markdown",
      "metadata": {},
      "source": [
        "# Representing quantum chemical systems\n",
        "\n",
        "In this section, we introduce the `MolecularOrbitals` object, which is what represents a quantum chemical system such as a molecule in QURI Parts.\n",
        "\n",
        "The `MolecularOrbitals` is a protocol class that is defined to hold:\n",
        "\n",
        "- number of electrons in the system.\n",
        "- number of spatial orbitals in the system.\n",
        "- $s_z$ of the system.\n",
        "- molecular orbital coefficient (mo coefficient).\n",
        "\n",
        "In this tutorial, we specifically focus on `PySCFMolecularOrbitals`, which is what represents a molecule in QURI Parts with [PySCF](https://pyscf.org/) input. We will also introduce the `ActiveSpaceMolecularOrbitals` object, which holds the active space information of the molecule."
      ]
    },
    {
      "cell_type": "markdown",
      "metadata": {},
      "source": [
        "## Defining the Molecules and Molecular Orbitals"
      ]
    },
    {
      "cell_type": "markdown",
      "metadata": {},
      "source": [
        "Now, let's first build a water molecule with PySCF and create a `PySCFMolecularOrbitals`."
      ]
    },
    {
      "cell_type": "code",
      "execution_count": null,
      "metadata": {},
      "outputs": [],
      "source": [
        "from pyscf import gto, scf\n",
        "\n",
        "mole = gto.M(atom=\"O 0 0 0; H 0.2774 0.8929 0.2544; H 0.6068, -0.2383, -0.7169\")\n",
        "mf = scf.RHF(mole).run(verbose=0)"
      ]
    },
    {
      "cell_type": "markdown",
      "metadata": {},
      "source": [
        "The `PySCFMolecularOrbitals` is created with a `pyscf.gto.Mole` object and an array that represents the mo coefficient."
      ]
    },
    {
      "cell_type": "code",
      "execution_count": null,
      "metadata": {},
      "outputs": [
        {
          "name": "stdout",
          "output_type": "stream",
          "text": [
            "Number of electrons: 10\n",
            "Number of spatial orbitals: 7\n",
            "Spin of the molecule: 0\n",
            "MO coefficients:\n",
            " [[ 0.994 -0.233 -0.     0.103  0.    -0.13   0.   ]\n",
            " [ 0.026  0.838  0.    -0.535 -0.     0.863 -0.   ]\n",
            " [ 0.003  0.093 -0.131  0.572  0.636  0.552 -0.212]\n",
            " [ 0.002  0.069  0.45   0.424 -0.388  0.408  0.728]\n",
            " [-0.002 -0.049  0.386 -0.299  0.667 -0.289  0.625]\n",
            " [-0.006  0.158  0.446  0.283  0.    -0.788 -0.828]\n",
            " [-0.006  0.158 -0.446  0.283  0.    -0.788  0.828]]\n"
          ]
        }
      ],
      "source": [
        "from quri_parts.pyscf.mol import PySCFMolecularOrbitals\n",
        "\n",
        "h2o_mo = PySCFMolecularOrbitals(mole, mf.mo_coeff)\n",
        "print(f'Number of electrons: {h2o_mo.n_electron}')\n",
        "print(f'Number of spatial orbitals: {h2o_mo.n_spatial_orb}')\n",
        "print(f'Spin of the molecule: {h2o_mo.spin}')\n",
        "print(f'MO coefficients:\\n {h2o_mo.mo_coeff.round(3)}')"
      ]
    },
    {
      "cell_type": "markdown",
      "metadata": {},
      "source": [
        "## Specifying active space configuration\n",
        "\n",
        "Sometimes, it is enough to consider the transition between a subset of the spatial orbitals. This is equivalent to assigning an [active space configuration](https://en.wikipedia.org/wiki/Complete_active_space) to the system. In this case, the spatial orbitals are partitioned into 3 classes.\n",
        "\n",
        "- core orbitals: Spatial orbitals with 2 electrons.\n",
        "- active orbitals: Orbitals where the electrons are allowed to freely transit from and to.\n",
        "- virtual orbitals: Spatial orbitals with no electrons.\n",
        "\n",
        "The electrons are also partitioned into 2 sets:\n",
        "\n",
        "- core electrons: electrons that live in the core orbitals.\n",
        "- active electrons: electrons that live in the active orbitals.\n",
        "\n",
        "In QURI Parts, an active space configuration is specified by the `ActiveSpace` object."
      ]
    },
    {
      "cell_type": "code",
      "execution_count": null,
      "metadata": {},
      "outputs": [
        {
          "name": "stdout",
          "output_type": "stream",
          "text": [
            "ActiveSpace(n_active_ele=6, n_active_orb=4, active_orbs_indices=None)\n"
          ]
        }
      ],
      "source": [
        "from quri_parts.chem.mol import ActiveSpace, cas\n",
        "\n",
        "active_space = ActiveSpace(n_active_ele = 6, n_active_orb = 4)\n",
        "# or equivalently:\n",
        "active_space = cas(n_active_ele = 6, n_active_orb = 4)\n",
        "print(active_space)"
      ]
    },
    {
      "cell_type": "markdown",
      "metadata": {},
      "source": [
        "We can then assign the active space to a molecule by creating an `ActiveSpaceMolecularOrbitals`. It will provide detailed information about the molecule after the active space is assigned to it:\n",
        "\n",
        "![png](cas.png)"
      ]
    },
    {
      "cell_type": "code",
      "execution_count": null,
      "metadata": {},
      "outputs": [
        {
          "name": "stdout",
          "output_type": "stream",
          "text": [
            "The molecule configuration with active space assigned to it:\n",
            "\n",
            "n_electron: 10\n",
            "n_active_ele: 6\n",
            "n_core_ele: 4\n",
            "n_ele_alpha: 3\n",
            "n_ele_beta: 3\n",
            "n_spatial_orb: 7\n",
            "n_active_orb: 4\n",
            "n_core_orb: 2\n",
            "n_vir_orb: 1\n"
          ]
        }
      ],
      "source": [
        "from quri_parts.chem.mol import ActiveSpaceMolecularOrbitals\n",
        "\n",
        "asmo = ActiveSpaceMolecularOrbitals(h2o_mo, active_space)\n",
        "print(\"The molecule configuration with active space assigned to it:\\n\")\n",
        "print(asmo)"
      ]
    },
    {
      "cell_type": "markdown",
      "metadata": {},
      "source": [
        "To obtain the list of core and active orbitals, we can use the `get_core_and_active_orb` method."
      ]
    },
    {
      "cell_type": "code",
      "execution_count": null,
      "metadata": {},
      "outputs": [
        {
          "name": "stdout",
          "output_type": "stream",
          "text": [
            "core spatial orbitals: [0, 1]\n",
            "active spatial orbitals: [2, 3, 4, 5]\n"
          ]
        }
      ],
      "source": [
        "core_orbital_list, active_orbital_list = asmo.get_core_and_active_orb()\n",
        "print(\"core spatial orbitals:\", core_orbital_list)\n",
        "print(\"active spatial orbitals:\", active_orbital_list)"
      ]
    },
    {
      "cell_type": "markdown",
      "metadata": {},
      "source": [
        "We can also obtain the spatial orbital's type with the `orb_type` method."
      ]
    },
    {
      "cell_type": "code",
      "execution_count": null,
      "metadata": {},
      "outputs": [
        {
          "name": "stdout",
          "output_type": "stream",
          "text": [
            "Type of sptial orbital 0: OrbitalType.CORE\n",
            "Type of sptial orbital 2: OrbitalType.ACTIVE\n",
            "Type of sptial orbital 6: OrbitalType.VIRTUAL\n"
          ]
        }
      ],
      "source": [
        "print(\"Type of sptial orbital 0:\", asmo.orb_type(0))\n",
        "print(\"Type of sptial orbital 2:\", asmo.orb_type(2))\n",
        "print(\"Type of sptial orbital 6:\", asmo.orb_type(6))"
      ]
    }
  ],
  "metadata": {
    "language_info": {
      "name": "python",
      "pygments_lexer": "ipython3"
    }
  },
  "nbformat": 4,
  "nbformat_minor": 2
}
