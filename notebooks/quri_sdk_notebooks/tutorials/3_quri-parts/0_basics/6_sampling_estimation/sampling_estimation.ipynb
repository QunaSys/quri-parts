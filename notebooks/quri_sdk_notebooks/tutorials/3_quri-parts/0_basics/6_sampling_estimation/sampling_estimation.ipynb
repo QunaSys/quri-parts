{
  "cells": [
    {
      "cell_type": "markdown",
      "id": "c5a8438a",
      "metadata": {},
      "source": [
        "# Sampling estimation\n",
        "\n",
        "In order to estimate expectation value of operators on a quantum computer, *sampling measurements* are necessary. In sampling measurements, execution of a quantum circuit and a subsequent measurement of qubits are repeated multiple times. Estimation of expectation value of operators is then performed using statistics of the repeated measurements.\n",
        "\n",
        "Before performing sampling estimation on real quantum computers, let's see how such procedures can be simulated with a quantum circuit simulator. In this tutorial, we will introduce how to\n",
        "\n",
        "- Perform grouping for `Operator`s.\n",
        "- Construct measurement circuit from grouping result.\n",
        "- Allocate shots for measurement circuits and perform sampling.\n",
        "- Reconstruct expectation value from sampling result."
      ]
    },
    {
      "cell_type": "markdown",
      "id": "f0ff7af6",
      "metadata": {},
      "source": [
        "## Prerequisite\n",
        "\n",
        "QURI Parts modules used in this tutorial: `quri-parts-circuit`, `quri-parts-core` and `quri-parts-qulacs`. You can install them as follows:"
      ]
    },
    {
      "cell_type": "code",
      "execution_count": null,
      "id": "cdf46a7a",
      "metadata": {},
      "outputs": [],
      "source": [
        "!pip install \"quri-parts[qulacs]\""
      ]
    },
    {
      "cell_type": "markdown",
      "id": "8aaa543b",
      "metadata": {},
      "source": [
        "## Overview\n",
        "\n",
        "The major purpose of this tutorial is to introduce how to perform sampling estimation with a sampling estimator. A sampling estimator is a `QuantumEstimator` where the expectation value is computed via a sampling experiment. As a preparation, we create an operator and a state we want to estimate the expectation value with."
      ]
    },
    {
      "cell_type": "code",
      "execution_count": null,
      "id": "796e4714",
      "metadata": {},
      "outputs": [
        {
          "name": "stdout",
          "output_type": "stream",
          "text": [
            "Operator:\n",
            "0.25*Z0 + 2.0*Z1 Z2 + (0.5+0.25j)*X1 X2 + 1j*Z1 Y3 + (1.5+0.5j)*Z2 Y3 + 2j*X1 Y3 + 3.0*I\n",
            "\n",
            "State:\n",
            "ComputationalBasisState(qubit_count=4, bits=0b101, phase=0π/2)\n"
          ]
        }
      ],
      "source": [
        "from quri_parts.core.operator import Operator, pauli_label, PAULI_IDENTITY\n",
        "from quri_parts.core.state import quantum_state\n",
        "\n",
        "op = Operator({\n",
        "    pauli_label(\"Z0\"): 0.25,\n",
        "    pauli_label(\"Z1 Z2\"): 2.0,\n",
        "    pauli_label(\"X1 X2\"): 0.5 + 0.25j,\n",
        "    pauli_label(\"Z1 Y3\"): 1.0j,\n",
        "    pauli_label(\"Z2 Y3\"): 1.5 + 0.5j,\n",
        "    pauli_label(\"X1 Y3\"): 2.0j,\n",
        "    PAULI_IDENTITY: 3.0,\n",
        "})\n",
        "\n",
        "print(\"Operator:\")\n",
        "print(op)\n",
        "\n",
        "\n",
        "state = quantum_state(4, bits=0b0101)\n",
        "print(\"\")\n",
        "print(\"State:\")\n",
        "print(state)"
      ]
    },
    {
      "cell_type": "markdown",
      "id": "3dae82f0",
      "metadata": {},
      "source": [
        "Here, we provide a sample code for creating and using a sampling estimator. We create a sampling estimator with the following specification:\n",
        "\n",
        "- Total shots: 5000\n",
        "- measurement factory: Bitwise commuting Pauli grouping\n",
        "- Shot allocator: proportional shots allocator\n",
        "\n",
        "We will explain what \"measurement factory\" and \"Shot allocator\" mean in later sections. For now, let's temporarily take them for granted and create a sampling estimator with them:"
      ]
    },
    {
      "cell_type": "code",
      "execution_count": null,
      "id": "82fd22b2",
      "metadata": {},
      "outputs": [],
      "source": [
        "from quri_parts.core.estimator.sampling import create_sampling_estimator\n",
        "from quri_parts.core.measurement import bitwise_commuting_pauli_measurement\n",
        "from quri_parts.core.sampling.shots_allocator import create_proportional_shots_allocator\n",
        "from quri_parts.qulacs.sampler import create_qulacs_vector_concurrent_sampler\n",
        "\n",
        "total_shots = 5000\n",
        "concurrent_sampler = create_qulacs_vector_concurrent_sampler()\n",
        "measurement_factory = bitwise_commuting_pauli_measurement\n",
        "shots_allocator = create_proportional_shots_allocator()\n",
        "\n",
        "sampling_estimator = create_sampling_estimator(\n",
        "    total_shots,\n",
        "    concurrent_sampler,\n",
        "    measurement_factory,\n",
        "    shots_allocator\n",
        ")"
      ]
    },
    {
      "cell_type": "markdown",
      "id": "8c77563d",
      "metadata": {},
      "source": [
        "Let's look at the result of the sampling estimate:"
      ]
    },
    {
      "cell_type": "code",
      "execution_count": null,
      "id": "d0641369",
      "metadata": {},
      "outputs": [
        {
          "name": "stdout",
          "output_type": "stream",
          "text": [
            "Estimated expectation value: (0.7753054753988251-0.032550197113769073j)\n",
            "Standard error of this sampling estimation: 0.07086365723057407\n"
          ]
        }
      ],
      "source": [
        "estimate = sampling_estimator(op, state)\n",
        "print(\"Estimated expectation value:\", estimate.value)\n",
        "print(\"Standard error of this sampling estimation:\", estimate.error)"
      ]
    },
    {
      "cell_type": "markdown",
      "id": "fb40bc1d",
      "metadata": {},
      "source": [
        "We may compare the sampling estimate's result with the exact result by a vector estimator."
      ]
    },
    {
      "cell_type": "code",
      "execution_count": null,
      "id": "89465f10",
      "metadata": {},
      "outputs": [
        {
          "data": {
            "text/plain": [
              "_Estimate(value=(0.75+0j), error=0.0)"
            ]
          },
          "execution_count": 5,
          "metadata": {},
          "output_type": "execute_result"
        }
      ],
      "source": [
        "from quri_parts.qulacs.estimator import create_qulacs_vector_estimator\n",
        "\n",
        "vector_estimator = create_qulacs_vector_estimator()\n",
        "vector_estimator(op, state)"
      ]
    },
    {
      "cell_type": "markdown",
      "id": "89ad7428",
      "metadata": {},
      "source": [
        "## Grouping operators into commutable Pauli strings\n",
        "\n",
        "In sampling experiments, one of the ways to estimate expectation value of such an operator is to estimate the expectation value of each Pauli string and then sum them up. However, it is more efficient to measure multiple Pauli strings at once if they are commutable. The first step is thus to group the Pauli strings into several sets of commutable Pauli strings. This Pauli grouping is an important research subject in context of operator estimation.\n",
        "\n",
        "Then, from the grouping results, we need to construct a circuit for each commutable group for measurement and sampling, which we call a measurement circuit. The explicit gates involved in a measurement circuit will depend on the content of the commutable group of Pauli strings.\n",
        "\n",
        "Follow this structure, we use the operator and state constructed above:"
      ]
    },
    {
      "cell_type": "code",
      "execution_count": null,
      "id": "f026f8e0",
      "metadata": {},
      "outputs": [
        {
          "name": "stdout",
          "output_type": "stream",
          "text": [
            "Operator:\n",
            "   + 0.25 * Z0\n",
            "   + 2.0 * Z1 Z2\n",
            "   + (0.5+0.25j) * X1 X2\n",
            "   + 1j * Z1 Y3\n",
            "   + (1.5+0.5j) * Z2 Y3\n",
            "   + 2j * X1 Y3\n",
            "   + 3.0 * I\n",
            "\n",
            "State: ComputationalBasisState(qubit_count=4, bits=0b101, phase=0π/2)\n"
          ]
        }
      ],
      "source": [
        "print(\"Operator:\")\n",
        "for pl, coeff in op.items():\n",
        "    print(f\"   + {coeff} * {pl}\")\n",
        "\n",
        "print(\"\")\n",
        "print(\"State:\", state)"
      ]
    },
    {
      "cell_type": "markdown",
      "id": "44099601",
      "metadata": {},
      "source": [
        "to illustrate how to\n",
        "\n",
        "- perform operator grouping\n",
        "- construct measurement circuit\n",
        "- reconstruct expectation of Pauli strings from measurement results\n",
        "\n",
        "in QURI Parts. Finally, we will wrap this section up by introducing a convenient object: `CommutablePauliSetMeasurement`, that encapsulates all the steps above."
      ]
    },
    {
      "cell_type": "markdown",
      "id": "4dccd5ae",
      "metadata": {},
      "source": [
        "### Pauli grouping\n",
        "\n",
        "In QURI Parts, a grouping function is represented by `PauliGrouping`. They are functions that take an `Operator` or a collection of `PauliLabel` into sets of `CommutablePauliSet`, where `CommutablePauliSet` is a set of Pauli strings that commute with each other. The function signature is given by:"
      ]
    },
    {
      "cell_type": "code",
      "execution_count": null,
      "id": "73e45abd",
      "metadata": {},
      "outputs": [],
      "source": [
        "from typing import Callable, Set, Union, Iterable\n",
        "from typing_extensions import TypeAlias\n",
        "from quri_parts.core.operator import PauliLabel\n",
        "\n",
        "CommutablePauliSet: TypeAlias = Set[PauliLabel]\n",
        "\n",
        "#: Represents a grouping function\n",
        "PauliGrouping = Callable[\n",
        "    [Union[Operator, Iterable[PauliLabel]]], Iterable[CommutablePauliSet]\n",
        "]"
      ]
    },
    {
      "cell_type": "markdown",
      "id": "38a1ad98",
      "metadata": {},
      "source": [
        "As an example, we use one of the simplest Pauli grouping: *bitwise grouping*, where the groups are determined based on bitwise commutability of the Pauli strings. We can test the grouping as follows:"
      ]
    },
    {
      "cell_type": "code",
      "execution_count": null,
      "id": "c11fc8c2",
      "metadata": {},
      "outputs": [
        {
          "name": "stdout",
          "output_type": "stream",
          "text": [
            "frozenset({frozenset({PauliLabel({(1, <SinglePauli.X: 1>), (3, <SinglePauli.Y: 2>)})}), frozenset({PauliLabel()}), frozenset({PauliLabel({(1, <SinglePauli.X: 1>), (2, <SinglePauli.X: 1>)})}), frozenset({PauliLabel({(0, <SinglePauli.Z: 3>)}), PauliLabel({(2, <SinglePauli.Z: 3>), (1, <SinglePauli.Z: 3>)})}), frozenset({PauliLabel({(2, <SinglePauli.Z: 3>), (3, <SinglePauli.Y: 2>)}), PauliLabel({(3, <SinglePauli.Y: 2>), (1, <SinglePauli.Z: 3>)})})})\n"
          ]
        }
      ],
      "source": [
        "from quri_parts.core.operator.grouping import bitwise_pauli_grouping\n",
        "pauli_sets = bitwise_pauli_grouping(op)\n",
        "print(pauli_sets)"
      ]
    },
    {
      "cell_type": "markdown",
      "id": "8190020f",
      "metadata": {},
      "source": [
        "The above looks a bit complicated since the grouping method returns a frozenset of frozensets of Pauli labels."
      ]
    },
    {
      "cell_type": "code",
      "execution_count": null,
      "id": "77c405ec",
      "metadata": {},
      "outputs": [
        {
          "name": "stdout",
          "output_type": "stream",
          "text": [
            "Number of groups: 5\n",
            "Group 0 contains: X1 Y3\n",
            "Group 1 contains: I\n",
            "Group 2 contains: X1 X2\n",
            "Group 3 contains: Z0, Z1 Z2\n",
            "Group 4 contains: Z2 Y3, Z1 Y3\n"
          ]
        }
      ],
      "source": [
        "print(f\"Number of groups: {len(pauli_sets)}\")\n",
        "for i, pauli_set in enumerate(pauli_sets):\n",
        "    labels = \", \".join([str(pauli) for pauli in pauli_set])\n",
        "    print(f\"Group {i} contains: {labels}\")"
      ]
    },
    {
      "cell_type": "markdown",
      "id": "bf9a9495",
      "metadata": {},
      "source": [
        "Here, we provide a list of available grouping functions in QURI Parts:\n",
        "\n",
        "| Grouping function                                                                                                                                   | Explanation                                                           |\n",
        "| --------------------------------------------------------------------------------------------------------------------------------------------------- | --------------------------------------------------------------------- |\n",
        "| [individual_pauli_grouping](https://github.com/QunaSys/quri-parts/blob/main/packages/core/quri_parts/core/operator/grouping/pauli_grouping.py#L27)  | No grouping                                                           |\n",
        "| [bitwise_pauli_grouping](https://github.com/QunaSys/quri-parts/blob/main/packages/core/quri_parts/core/operator/grouping/pauli_grouping.py#L43)     | Check Pauli string commutability based on bitwise commutability       |\n",
        "| [sorted_injection_grouping](https://github.com/QunaSys/quri-parts/blob/main/packages/core/quri_parts/core/operator/grouping/pauli_grouping.py#L107) | Explained in [arXiv:1908.06942](https://arxiv.org/abs/1908.06942) |"
      ]
    },
    {
      "cell_type": "markdown",
      "id": "c2542499",
      "metadata": {},
      "source": [
        "### Measurement circuit\n",
        "\n",
        "To perform a measurement for a commutable Pauli set, it is necessary to construct a circuit to be applied before measurement. In the case of bitwise Pauli grouping, the corresponding circuit can be constructed with the `bitwise_commuting_pauli_measurement_circuit` function, which we show as follows:"
      ]
    },
    {
      "cell_type": "code",
      "execution_count": null,
      "id": "332897ec",
      "metadata": {},
      "outputs": [
        {
          "name": "stdout",
          "output_type": "stream",
          "text": [
            "   ___          \n",
            "  | H |         \n",
            "--|0  |---------\n",
            "  |___|         \n",
            "                \n",
            "                \n",
            "----------------\n",
            "                \n",
            "                \n",
            "                \n",
            "----------------\n",
            "                \n",
            "   ___     ___  \n",
            "  |Sdg|   | H | \n",
            "--|1  |---|2  |-\n",
            "  |___|   |___| \n"
          ]
        }
      ],
      "source": [
        "from quri_parts.core.measurement import bitwise_commuting_pauli_measurement_circuit\n",
        "from quri_parts.circuit import QuantumCircuit\n",
        "from quri_parts.circuit.utils.circuit_drawer import draw_circuit\n",
        "\n",
        "pauli_set = {pauli_label(\"X0 Z2 Y3\"), pauli_label(\"X0 Z1 Y3\")}\n",
        "measurement_circuit = bitwise_commuting_pauli_measurement_circuit(pauli_set)\n",
        "draw_circuit(QuantumCircuit(4, gates=measurement_circuit))"
      ]
    },
    {
      "cell_type": "markdown",
      "id": "fa69cd10",
      "metadata": {},
      "source": [
        "### Sampling on a state\n",
        "\n",
        "In order to measure a commutable Pauli set for a quantum state, the following steps are necessary:\n",
        "\n",
        "* Construct a circuit that prepares the state\n",
        "* Concatenate the measurement circuit for the Pauli set after the state preparation circuit\n",
        "* Perform sampling on the concatenated circuit\n",
        "\n",
        "Here we use a `ComputationalBasisState` as the initial state for simplicity, though you can use any `CircuitQuantumState`."
      ]
    },
    {
      "cell_type": "code",
      "execution_count": null,
      "id": "be74dd18",
      "metadata": {},
      "outputs": [
        {
          "name": "stdout",
          "output_type": "stream",
          "text": [
            "State preparation circuit concatenated with measurement circuit:\n",
            "   ___          \n",
            "  | X |         \n",
            "--|0  |---------\n",
            "  |___|         \n",
            "                \n",
            "                \n",
            "----------------\n",
            "                \n",
            "   ___          \n",
            "  | X |         \n",
            "--|1  |---------\n",
            "  |___|         \n",
            "   ___     ___  \n",
            "  |Sdg|   | H | \n",
            "--|2  |---|3  |-\n",
            "  |___|   |___| \n",
            "\n",
            "\n",
            "Sampling result:\n",
            "{'0b1101': 516, '0b101': 484}\n"
          ]
        }
      ],
      "source": [
        "from quri_parts.core.state import quantum_state\n",
        "from quri_parts.qulacs.sampler import create_qulacs_vector_sampler\n",
        "\n",
        "sampler = create_qulacs_vector_sampler()\n",
        "\n",
        "initial_state = quantum_state(4, bits=0b0101)\n",
        "\n",
        "# Circuit for state preparation\n",
        "state_prep_circuit = initial_state.circuit\n",
        "\n",
        "# Measurement circuit\n",
        "pauli_set = {pauli_label(\"Z2 Y3\"), pauli_label(\"Z1 Y3\")}\n",
        "measurement_circuit = bitwise_commuting_pauli_measurement_circuit(pauli_set)\n",
        "\n",
        "# Concatenate measurement circuit\n",
        "sampled_circuit = state_prep_circuit + measurement_circuit\n",
        "print(\"State preparation circuit concatenated with measurement circuit:\")\n",
        "draw_circuit(sampled_circuit)\n",
        "\n",
        "# Sampling\n",
        "sampling_result = sampler(sampled_circuit, shots=1000)\n",
        "print(\"\\n\")\n",
        "print(\"Sampling result:\")\n",
        "print({bin(bits): count for bits, count in sampling_result.items()})"
      ]
    },
    {
      "cell_type": "markdown",
      "id": "c2ad9654",
      "metadata": {},
      "source": [
        "### Reconstructing Pauli string expectation values from sampled values\n",
        "\n",
        "It is then necessary to read off the measured eigenvalue of a Pauli string from the measurement result. In QURI Parts, this is done with a `PauliReconstructorFactory` and a `PauliReconstructor`. A `PauliReconstructor` is a function that returns the eigenvalue of a Pauli string that corresponds to the measurement result, and a `PauliReconstructorFactory` is a function that creates a `PauliReconstructor` from a `PauliLabel`. Here is their function signatures defined in QURI Parts.\n"
      ]
    },
    {
      "cell_type": "code",
      "execution_count": null,
      "id": "0c6b3eec",
      "metadata": {},
      "outputs": [],
      "source": [
        "#: PauliReconstructor represents a function that reconstructs a value of a Pauli\n",
        "#: operator from a measurement result of its measurement circuit.\n",
        "PauliReconstructor: TypeAlias = Callable[[int], int]\n",
        "\n",
        "#: PauliReconstructorFactory represents a factory function that returns\n",
        "#: a :class:`~PauliReconstructor` for a given Pauli operator.\n",
        "PauliReconstructorFactory: TypeAlias = Callable[[PauliLabel], PauliReconstructor]"
      ]
    },
    {
      "cell_type": "markdown",
      "id": "40b4f4ec",
      "metadata": {},
      "source": [
        "In the example of the above section, we performed a sampling measurement for $Z_2 Y_3$ and $Z_1 Y_3$, and obtained two bit patterns `0b1101` and `0b0101`. In the case of bitwise Pauli grouping, a value of a Pauli operator can be reconstructed from a sampled bit pattern as follows:"
      ]
    },
    {
      "cell_type": "code",
      "execution_count": null,
      "id": "685e7abd",
      "metadata": {},
      "outputs": [
        {
          "name": "stdout",
          "output_type": "stream",
          "text": [
            "Measurement result: 0b1101. Corresponding eigenvalue: 1\n",
            "Measurement result: 0b0101. Corresponding eigenvalue: -1\n"
          ]
        }
      ],
      "source": [
        "from quri_parts.core.measurement import bitwise_pauli_reconstructor_factory\n",
        "\n",
        "# Obtain a reconstructor for Z2 Y3\n",
        "reconstructor = bitwise_pauli_reconstructor_factory(pauli_label(\"Z2 Y3\"))\n",
        "\n",
        "# Reconstruct a value of Z2 Y3 from a sampled bit pattern 0b1101\n",
        "pauli_value = reconstructor(0b1101)\n",
        "print(\"Measurement result: 0b1101.\", f\"Corresponding eigenvalue: {pauli_value}\")\n",
        "\n",
        "# Reconstruct from 0b0101\n",
        "pauli_value = reconstructor(0b0101)\n",
        "print(\"Measurement result: 0b0101.\", f\"Corresponding eigenvalue: {pauli_value}\")"
      ]
    },
    {
      "cell_type": "markdown",
      "id": "d1d4bc7e",
      "metadata": {},
      "source": [
        "The expectation value of $Z_2 Y_3$ can then be calculated as:"
      ]
    },
    {
      "cell_type": "code",
      "execution_count": null,
      "id": "ce05ba0f",
      "metadata": {},
      "outputs": [
        {
          "name": "stdout",
          "output_type": "stream",
          "text": [
            "0.032\n",
            "0.032\n"
          ]
        }
      ],
      "source": [
        "pauli_exp = (\n",
        "    reconstructor(0b1101) * sampling_result[0b1101] +\n",
        "    reconstructor(0b0101) * sampling_result[0b0101]\n",
        ") / 1000\n",
        "print(pauli_exp)\n",
        "\n",
        "# Equivalent to above\n",
        "pauli_exp = sum(\n",
        "    reconstructor(bits) * count for bits, count in sampling_result.items()\n",
        ") / sum(sampling_result.values())\n",
        "print(pauli_exp)"
      ]
    },
    {
      "cell_type": "markdown",
      "id": "0ff88cca",
      "metadata": {},
      "source": [
        "QURI Parts also provide the `trivial_pauli_expectation_estimator` function as a convenient way of obtaining expection value of `PauliLabel` from sampling results."
      ]
    },
    {
      "cell_type": "code",
      "execution_count": null,
      "id": "59c93dba",
      "metadata": {},
      "outputs": [
        {
          "name": "stdout",
          "output_type": "stream",
          "text": [
            "0.032\n"
          ]
        }
      ],
      "source": [
        "from quri_parts.core.estimator.sampling import trivial_pauli_expectation_estimator\n",
        "\n",
        "pauli_exp = trivial_pauli_expectation_estimator(sampling_result, pauli_label(\"Z2 Y3\"))\n",
        "print(pauli_exp)"
      ]
    },
    {
      "cell_type": "markdown",
      "id": "c416e481",
      "metadata": {},
      "source": [
        "Here `trivial_pauli_expectation_estimator` can be used because we used bitwise Pauli grouping. In a more general case, `general_pauli_expectation_estimator` should be used with a `PauliReconstructorFactory`:"
      ]
    },
    {
      "cell_type": "code",
      "execution_count": null,
      "id": "8597f0f5",
      "metadata": {},
      "outputs": [
        {
          "name": "stdout",
          "output_type": "stream",
          "text": [
            "0.032\n"
          ]
        }
      ],
      "source": [
        "from quri_parts.core.estimator.sampling import general_pauli_expectation_estimator\n",
        "pauli_exp = general_pauli_expectation_estimator(\n",
        "    sampling_result, pauli_label(\"Z2 Y3\"), bitwise_pauli_reconstructor_factory\n",
        ")\n",
        "print(pauli_exp)"
      ]
    },
    {
      "cell_type": "markdown",
      "id": "60b9d2c3",
      "metadata": {},
      "source": [
        "Finally, expectation value of the original operator can be estimated by summing up contributions of each Pauli term. To calculate contribution of $Z_2 Y_3$:"
      ]
    },
    {
      "cell_type": "code",
      "execution_count": null,
      "id": "66eddfb2",
      "metadata": {},
      "outputs": [
        {
          "name": "stdout",
          "output_type": "stream",
          "text": [
            "(0.048+0.016j)\n"
          ]
        }
      ],
      "source": [
        "# Coefficient of Z2 Y3 in op\n",
        "coef = op[pauli_label(\"Z2 Y3\")]\n",
        "pauli_contrib = coef * pauli_exp\n",
        "print(pauli_contrib)"
      ]
    },
    {
      "cell_type": "markdown",
      "id": "5543acc3",
      "metadata": {},
      "source": [
        "Repeating this procedure for all Pauli strings, expectation value of the original operator can be estimated."
      ]
    },
    {
      "cell_type": "markdown",
      "id": "6d9b048e",
      "metadata": {},
      "source": [
        "### The `CommutablePauliSetMeasurement` object\n",
        "\n",
        "The above procedure is a bit complicated, so a shortcut method is provided. To use them we first introduce `CommutablePauliSetMeasurement`: it is a data structure containing the following elements:\n",
        "\n",
        "* `pauli_set`: A set of commutable Pauli operators that are measured together.\n",
        "* `measurement_circuit`: A circuit required to measure the given `pauli_set`.\n",
        "* `pauli_reconstructor_factory`: A factory of functions that reconstruct Pauli operator values from sampling result\n",
        "\n",
        "A set of `CommutablePauliSetMeasurement` needs to be constructed depending on a specific measurement scheme. They are usually obtained by a `CommutablePauliSetMeasurementFactory`, which returns a sequence of `CommutablePauliSetMeasurement` by taking in an `Operator` or a sequence of `PauliLabel`s.\n",
        "\n",
        "\n",
        "For example, for bitwise Pauli grouping, you can do as follows:"
      ]
    },
    {
      "cell_type": "code",
      "execution_count": null,
      "id": "835371a3",
      "metadata": {},
      "outputs": [
        {
          "name": "stdout",
          "output_type": "stream",
          "text": [
            "Number of CommutablePauliSetMeasurement: 5\n"
          ]
        }
      ],
      "source": [
        "from quri_parts.core.measurement import bitwise_commuting_pauli_measurement\n",
        "\n",
        "measurements = bitwise_commuting_pauli_measurement(op)\n",
        "print(f\"Number of CommutablePauliSetMeasurement: {len(measurements)}\")\n",
        "measurement = measurements[-1]"
      ]
    },
    {
      "cell_type": "markdown",
      "id": "9f8c5adb",
      "metadata": {},
      "source": [
        "- Commutable Pauli Set"
      ]
    },
    {
      "cell_type": "code",
      "execution_count": null,
      "id": "dd5519fc",
      "metadata": {},
      "outputs": [
        {
          "name": "stdout",
          "output_type": "stream",
          "text": [
            "Z2 Y3, Z1 Y3\n"
          ]
        }
      ],
      "source": [
        "print(\", \".join(map(lambda s: str(s), measurement.pauli_set)))"
      ]
    },
    {
      "cell_type": "markdown",
      "id": "7b2366e2",
      "metadata": {},
      "source": [
        "- State preparation circuit + Measurement circuit\n",
        "\n",
        "    We show the circuit for estimating $\\langle Z_2 Y_3 \\rangle$ and $\\langle Z_1 Y_3 \\rangle$, and then sample with 1000 shots from it."
      ]
    },
    {
      "cell_type": "code",
      "execution_count": null,
      "id": "1581b091",
      "metadata": {},
      "outputs": [
        {
          "name": "stdout",
          "output_type": "stream",
          "text": [
            "   ___          \n",
            "  | X |         \n",
            "--|0  |---------\n",
            "  |___|         \n",
            "                \n",
            "                \n",
            "----------------\n",
            "                \n",
            "   ___          \n",
            "  | X |         \n",
            "--|1  |---------\n",
            "  |___|         \n",
            "   ___     ___  \n",
            "  |Sdg|   | H | \n",
            "--|2  |---|3  |-\n",
            "  |___|   |___| \n",
            "\n",
            "\n",
            "Measurement Result: Counter({5: 512, 13: 488})\n"
          ]
        }
      ],
      "source": [
        "full_circuit = state.circuit + measurement.measurement_circuit\n",
        "draw_circuit(full_circuit)\n",
        "\n",
        "samling_result = sampler(full_circuit, 1000)\n",
        "print(\"\\n\")\n",
        "print(f\"Measurement Result: {samling_result}\")"
      ]
    },
    {
      "cell_type": "markdown",
      "id": "b0563b33",
      "metadata": {},
      "source": [
        "- Reconstructor factory\n",
        "\n",
        "    We retrieve the `PauliReconstructorFactory` from `measurement` and then compute $\\langle Z_2 Y_3 \\rangle$ and $\\langle Z_1 Y_3 \\rangle$"
      ]
    },
    {
      "cell_type": "code",
      "execution_count": null,
      "id": "783f326e",
      "metadata": {},
      "outputs": [
        {
          "name": "stdout",
          "output_type": "stream",
          "text": [
            "Reconstructor factory: <function bitwise_pauli_reconstructor_factory at 0x7fee00ae3a60>\n",
            " <Z2 Y3> = 0.032\n",
            " <Z1 Y3> = -0.032\n"
          ]
        }
      ],
      "source": [
        "print(f\"Reconstructor factory: {measurement.pauli_reconstructor_factory}\")\n",
        "\n",
        "for pl in measurement.pauli_set:\n",
        "    estimate = general_pauli_expectation_estimator(\n",
        "        sampling_result, pl, measurement.pauli_reconstructor_factory\n",
        "    )\n",
        "    print(f\" <{pl}> = {estimate}\")\n",
        "    "
      ]
    },
    {
      "cell_type": "markdown",
      "id": "573b28f3",
      "metadata": {},
      "source": [
        "We now list out all the `PauliReconstructorFactory`s provided in QURI Parts:\n",
        "\n",
        "\n",
        "- `bitwise_commuting_pauli_measurement`: Grouping based on bitwise commutation.\n",
        "- `individual_pauli_measurement`: No grouping."
      ]
    },
    {
      "cell_type": "markdown",
      "id": "7bf8293d",
      "metadata": {},
      "source": [
        "## Shot Allocators\n",
        "\n",
        "Up until this point, we have learned how to group an `Operator` into several `CommutablePauliSet`s. We also learned how to evaluate expectation values of _individual_ `PauliLabel` by reading off sampling result from a measurement circuit. The final step necessary for estimation is `PauliSamplingShotsAllocator`: it specifies how total sampling shots should be allocated to measurement of each Pauli sets.\n"
      ]
    },
    {
      "cell_type": "markdown",
      "id": "67201188",
      "metadata": {},
      "source": [
        "### Interface\n",
        "\n",
        "In QURI Parts, shot allocators used in sampling estimation are represented by `PauliSamplingShotsAllocator` <a name=\"cite_ref-1\"></a>[<sup>[1]</sup>](#cite_note-1). They distribute speficied total shot number to `CommutablePauliSet` according to the `Operator` under consideration or the set of `CommutablePauliSet`. The function signature is given by"
      ]
    },
    {
      "cell_type": "code",
      "execution_count": null,
      "id": "79c0158e",
      "metadata": {},
      "outputs": [],
      "source": [
        "from typing import Collection\n",
        "from quri_parts.core.sampling import PauliSamplingSetting\n",
        "\n",
        "CommutablePauliSetMeasurement: TypeAlias = Callable[\n",
        "    [Operator, Collection[CommutablePauliSet], int], Collection[PauliSamplingSetting]\n",
        "]"
      ]
    },
    {
      "cell_type": "markdown",
      "id": "5aa43b32",
      "metadata": {},
      "source": [
        "where the returned `PauliSamplingSetting` is a named tuple holding a `CommutablePauliSet` and the number of shots assigned to it."
      ]
    },
    {
      "cell_type": "markdown",
      "id": "bc3c23fc",
      "metadata": {},
      "source": [
        "<a name=\"cite_note-1\"></a>[1] [^](#cite_note-1) There is another type of shot allocator `WeightedSamplingShotsAllocator` provided by QURI Parts. However, they are not used for sampling estimation. So, we will not introduce them in this tutorial."
      ]
    },
    {
      "cell_type": "markdown",
      "id": "1dece689",
      "metadata": {},
      "source": [
        "### Available shot allocators\n",
        "\n",
        "Finally, we introduce the shots allocator available in QURI Parts:"
      ]
    },
    {
      "cell_type": "code",
      "execution_count": null,
      "id": "0015f73c",
      "metadata": {},
      "outputs": [],
      "source": [
        "from quri_parts.core.sampling.shots_allocator import (\n",
        "    create_equipartition_shots_allocator,\n",
        "    create_proportional_shots_allocator,\n",
        "    create_weighted_random_shots_allocator,\n",
        ")\n",
        "# Allocates shots equally among the Pauli sets\n",
        "allocator = create_equipartition_shots_allocator()\n",
        "# Allocates shots proportional to Pauli coefficients in the operator\n",
        "allocator = create_proportional_shots_allocator()\n",
        "# Allocates shots using random weights\n",
        "allocator = create_weighted_random_shots_allocator(seed=777)"
      ]
    },
    {
      "cell_type": "markdown",
      "id": "22b030e0",
      "metadata": {},
      "source": [
        "We also summarize the allocators below:\n",
        "\n",
        "| Allocator                       | Generating function                                                                                                                                      | Explanation                                                        | Reference                                                                                       |\n",
        "| ------------------------------- | -------------------------------------------------------------------------------------------------------------------------------------------------------- | ------------------------------------------------------------------ | ----------------------------------------------------------------------------------------------- |\n",
        "| equipartition shots allocator   | [create_equipartition_shots_allocator](https://github.com/QunaSys/quri-parts/blob/main/packages/core/quri_parts/core/sampling/shots_allocator.py#L39)    | Allocates shots equally among the Pauli sets                       | -                                                                                               |\n",
        "| proportional shots allocator    | [create_proportional_shots_allocator](https://github.com/QunaSys/quri-parts/blob/main/packages/core/quri_parts/core/sampling/shots_allocator.py#L73)     | Allocates shots proportional to Pauli coefficients in the operator | - [arXiv:2112.07416 (2021)](https://arxiv.org/pdf/2112.07416.pdf). See Appendix D.<br />- [Phys. Rev. A 92, 042303](https://journals.aps.org/pra/abstract/10.1103/PhysRevA.92.042303)          |\n",
        "| weighted random shots allocator | [create_weighted_random_shots_allocator](https://github.com/QunaSys/quri-parts/blob/main/packages/core/quri_parts/core/sampling/shots_allocator.py#L122) | Allocates shots using random weights                               | [arXiv:2004.06252 (2020)](https://arxiv.org/abs/2004.06252)                                 |"
      ]
    },
    {
      "cell_type": "markdown",
      "id": "c1ffdc66",
      "metadata": {},
      "source": [
        "## Sampling estimation\n",
        "\n",
        "It has been a long way introducing all the necessary components required to perform sampling estimation. In QURI Parts, we provide a `sampling_estimate` function for you to customize the sampling estimation computation. The required elements for estimating the expectation value of an operator for a `CircuitQuantumState` are:\n",
        "\n",
        "- Total shots: The total number of shots you use to estimate the expectation value\n",
        "- Concurrent sampler: A `ConcurrentSampler` that performs the sampling for all (state preparation circuit + measurement circuit).\n",
        "- Measurement factory: A `CommutablePauliSetMeasurementFactory` that performs grouping for the input operator and evaluates all the expectation values of Pauli strings involved.\n",
        "- Shots allocator: A `PauliSamplingShotsAllocator` that distributes the total shots among `CommutablePauliSet` generated by the measurement factory.\n",
        "\n",
        "We now show how to use it."
      ]
    },
    {
      "cell_type": "code",
      "execution_count": null,
      "id": "215d9a8c",
      "metadata": {},
      "outputs": [
        {
          "name": "stdout",
          "output_type": "stream",
          "text": [
            "Estimated expectation value: (0.7778256058066302+0.05988215689349809j)\n",
            "Standard error of estimation: 0.07112662842561389\n"
          ]
        }
      ],
      "source": [
        "from quri_parts.qulacs.sampler import create_qulacs_vector_concurrent_sampler\n",
        "from quri_parts.core.estimator.sampling import sampling_estimate\n",
        "\n",
        "concurrent_sampler = create_qulacs_vector_concurrent_sampler()\n",
        "\n",
        "estimate = sampling_estimate(\n",
        "    op,            # Operator to estimate\n",
        "    state,         # A circuit state\n",
        "    5000,          # Total sampling shots\n",
        "    concurrent_sampler, # ConcurrentSampler\n",
        "    bitwise_commuting_pauli_measurement, # Factory function for CommutablePauliSetMeasurement\n",
        "    allocator,     # PauliSamplingShotsAllocator\n",
        ")\n",
        "print(f\"Estimated expectation value: {estimate.value}\")\n",
        "print(f\"Standard error of estimation: {estimate.error}\")"
      ]
    },
    {
      "cell_type": "markdown",
      "id": "e5fb91e6",
      "metadata": {},
      "source": [
        "Most of the time, you might want to embed an estimator or a concurrent estimator into an algorithm. QURI Parts provide `create_sampling_estimator` and `create_sampling_concurrent_estimator` to create `(Concurrent)QuantumEstimator` that can be used like a vector estimator introduced in the [estimator tutorial](../estimators)."
      ]
    },
    {
      "cell_type": "code",
      "execution_count": null,
      "id": "70759ad0",
      "metadata": {},
      "outputs": [
        {
          "name": "stdout",
          "output_type": "stream",
          "text": [
            "Estimated expectation value: (0.8045248402391257+0.05988113278846385j)\n",
            "Standard error of estimation: 0.07079687286344456\n"
          ]
        }
      ],
      "source": [
        "from quri_parts.core.estimator.sampling import create_sampling_estimator\n",
        "estimator = create_sampling_estimator(\n",
        "    5000,          # Total sampling shots\n",
        "    concurrent_sampler, # ConcurrentSampler\n",
        "    bitwise_commuting_pauli_measurement, # Factory function for CommutablePauliSetMeasurement\n",
        "    allocator,     # PauliSamplingShotsAllocator\n",
        ")\n",
        "estimate = estimator(op, state)\n",
        "print(f\"Estimated expectation value: {estimate.value}\")\n",
        "print(f\"Standard error of estimation: {estimate.error}\")"
      ]
    },
    {
      "cell_type": "markdown",
      "id": "4933e1eb",
      "metadata": {},
      "source": [
        "For concurrent sampling estimators, we create another set of operator and state:"
      ]
    },
    {
      "cell_type": "code",
      "execution_count": null,
      "id": "3496a1be",
      "metadata": {},
      "outputs": [],
      "source": [
        "from quri_parts.core.state import GeneralCircuitQuantumState\n",
        "from quri_parts.circuit import H, QuantumCircuit\n",
        "\n",
        "op_1 = op\n",
        "op_2 = Operator({\n",
        "    PAULI_IDENTITY: 8,\n",
        "    pauli_label(\"X0 Y1 Z2 X3\"): 9 + 8j\n",
        "})\n",
        "\n",
        "state_1 = state\n",
        "state_2 = GeneralCircuitQuantumState(4, QuantumCircuit(4, gates=[H(i) for i in range(4)]))"
      ]
    },
    {
      "cell_type": "code",
      "execution_count": null,
      "id": "a7856cb9",
      "metadata": {},
      "outputs": [
        {
          "name": "stdout",
          "output_type": "stream",
          "text": [
            "Estimated expectation value 1: (0.7543098538067212+0.049562397120005305j)\n",
            "Standard error of estimation 1: 0.07131818403260497\n",
            "\n",
            "Estimated expectation value 2: (8.1332+0.1184j)\n",
            "Standard error of estimation 2: 0.1702752120538982\n"
          ]
        }
      ],
      "source": [
        "from quri_parts.core.estimator.sampling import create_sampling_concurrent_estimator\n",
        "\n",
        "concurrent_estimator = create_sampling_concurrent_estimator(\n",
        "    5000,          # Total sampling shots\n",
        "    concurrent_sampler, # ConcurrentSampler\n",
        "    bitwise_commuting_pauli_measurement, # Factory function for CommutablePauliSetMeasurement\n",
        "    allocator,     # PauliSamplingShotsAllocator\n",
        ")\n",
        "estimates = concurrent_estimator([op_1, op_2], [state_1, state_2])\n",
        "\n",
        "print(f\"Estimated expectation value 1: {estimates[0].value}\")\n",
        "print(f\"Standard error of estimation 1: {estimates[0].error}\")\n",
        "print(\"\")\n",
        "print(f\"Estimated expectation value 2: {estimates[1].value}\")\n",
        "print(f\"Standard error of estimation 2: {estimates[1].error}\")"
      ]
    }
  ],
  "metadata": {
    "language_info": {
      "name": "python",
      "pygments_lexer": "ipython3"
    }
  },
  "nbformat": 4,
  "nbformat_minor": 5
}
