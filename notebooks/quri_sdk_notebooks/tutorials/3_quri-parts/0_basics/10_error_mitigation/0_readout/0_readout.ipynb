{
  "cells": [
    {
      "cell_type": "markdown",
      "metadata": {},
      "source": [
        "# Readout error mitigation\n",
        "\n",
        "Due to the imperfection of real devices, errors occur in state preparation and measurement. Readout error mitigation reduces the effect of those errors by applying inverse of such noisy operations. The inverse of the noisy operation, here we call filter matrix, plays an important role in readout error mitigation. Noisy counts $C_{\\text{noisy}}$ can be considered as a product of ideal counts $C_{\\text{ideal}}$ which we could get in noiseless world and the error matrix $E$.\n",
        "\n",
        "$$\n",
        "C_{\\text{noisy}} = EC_{\\text{ideal}}\n",
        "$$\n",
        "\n",
        "The $(i, j)$ components of $E$ represent the probability that the true state is $|j\\rangle$ when the measurement reports $|i\\rangle$ as the outcome, which is represented as $P(i|j)$. That is, summing vertically over the matrix $E$ yields 1. \n",
        "For exsample, $E$ of 2 qubits device is\n",
        "\n",
        "$$\n",
        "E = \\left(\n",
        "\\begin{matrix} \n",
        "P(00|00) & P(00|01) & P(00|10) & P(00|11) \\\\ \n",
        "P(01|00) & P(01|01) & P(01|10) & P(01|11) \\\\ \n",
        "P(10|00) & P(10|01) & P(10|10) & P(10|11) \\\\ \n",
        "P(11|00) & P(11|01) & P(11|10) & P(11|11) \n",
        "\\end{matrix} \n",
        "\\right)\n",
        "$$\n",
        "\n",
        "$E$ is estimated by repeating state preparation and measurement in each basis and obtaining probability distributions from histograms of actual measurement results.\n",
        "\n",
        "Filter matrix is defined as the inverse of error matrix. With filter matrix we can estimate the error-free counts\n",
        "\n",
        "$$\n",
        "C_{\\text{ideal}} = E^{-1}C_{\\text{noisy}}.\n",
        "$$\n",
        "\n",
        "In this tutorial, we demonstrate how to build the filter matrix and predict the noise-free sampling count."
      ]
    },
    {
      "cell_type": "markdown",
      "metadata": {},
      "source": [
        "## Prerequisite\n",
        "\n",
        "QURI Parts modules used in this tutorial: `quri-parts-algo`, `quri-parts-circuit`, `quri-parts-core` and `quri-parts-qulacs`. You can install them as follows:"
      ]
    },
    {
      "cell_type": "code",
      "execution_count": null,
      "metadata": {},
      "outputs": [],
      "source": [
        "# !pip install \"quri-parts[qulacs]\""
      ]
    },
    {
      "cell_type": "markdown",
      "metadata": {},
      "source": [
        "## Preparation and overview\n",
        "\n",
        "Here, we prepare the circuit and the noise model we use throughout this tutorial. The circuit we use in this tutorial consists of an identity part and a non-trivial part. The non-trivial part is responsible for converting the state $|000\\rangle$ into  $\\frac{1}{\\sqrt{2}}\\left(|000\\rangle + |111\\rangle\\right)$, while we decompose the identity circuit into multiple gates to amplify the effect of the noises."
      ]
    },
    {
      "cell_type": "code",
      "execution_count": null,
      "metadata": {},
      "outputs": [
        {
          "name": "stdout",
          "output_type": "stream",
          "text": [
            "The circuit:\n",
            "   ___     ___     ___     ___     ___     ___     ___     ___     ___                  \n",
            "  |RX |   |RZ |   | T |   |RY |   |RY |   |Tdg|   |RZ |   |RX |   | H |                 \n",
            "--|0  |---|2  |---|4  |---|6  |---|8  |---|10 |---|12 |---|14 |---|16 |-----●-------●---\n",
            "  |___|   |___|   |___|   |___|   |___|   |___|   |___|   |___|   |___|     |       |   \n",
            "   ___     ___     ___     ___     ___     ___     ___     ___             _|_      |   \n",
            "  |RY |   |sXd|   |RX |   |Tdg|   | T |   |RX |   |sqX|   |RY |           |CX |     |   \n",
            "--|1  |---|3  |---|5  |---|7  |---|9  |---|11 |---|13 |---|15 |-----------|17 |-----|---\n",
            "  |___|   |___|   |___|   |___|   |___|   |___|   |___|   |___|           |___|     |   \n",
            "                                                                                   _|_  \n",
            "                                                                                  |CX | \n",
            "----------------------------------------------------------------------------------|18 |-\n",
            "                                                                                  |___| \n"
          ]
        }
      ],
      "source": [
        "from quri_parts.circuit import QuantumCircuit\n",
        "from quri_parts.circuit.utils.circuit_drawer import draw_circuit\n",
        "\n",
        "qubit_count = 3\n",
        "\n",
        "identity_circuit = QuantumCircuit(3)\n",
        "identity_circuit.add_RX_gate(0, 1.3)\n",
        "identity_circuit.add_RY_gate(1, 0.2)\n",
        "identity_circuit.add_RZ_gate(0, -2.3)\n",
        "identity_circuit.add_SqrtXdag_gate(1)\n",
        "identity_circuit.add_T_gate(0)\n",
        "identity_circuit.add_RX_gate(1, 0.4)\n",
        "identity_circuit.add_RY_gate(0, 2.7)\n",
        "identity_circuit.add_Tdag_gate(1)\n",
        "identity_circuit.add_RY_gate(0, -2.7)\n",
        "identity_circuit.add_T_gate(1)\n",
        "identity_circuit.add_Tdag_gate(0)\n",
        "identity_circuit.add_RX_gate(1, -0.4)\n",
        "identity_circuit.add_RZ_gate(0, 2.3)\n",
        "identity_circuit.add_SqrtX_gate(1)\n",
        "identity_circuit.add_RX_gate(0, -1.3)\n",
        "identity_circuit.add_RY_gate(1, -0.2)\n",
        "\n",
        "circuit = QuantumCircuit(3)\n",
        "circuit += identity_circuit\n",
        "circuit.add_H_gate(0)\n",
        "circuit.add_CNOT_gate(0, 1)\n",
        "circuit.add_CNOT_gate(0, 2)\n",
        "\n",
        "\n",
        "print(\"The circuit:\")\n",
        "draw_circuit(circuit, line_length=200)"
      ]
    },
    {
      "cell_type": "markdown",
      "metadata": {},
      "source": [
        "Next, we create a noise model with some `NoiseInstruction`s. Here we only consider `MeasurementNoise`."
      ]
    },
    {
      "cell_type": "code",
      "execution_count": null,
      "metadata": {},
      "outputs": [],
      "source": [
        "from quri_parts.circuit.noise import BitFlipNoise, MeasurementNoise, NoiseModel\n",
        "\n",
        "noise_model = NoiseModel([\n",
        "    MeasurementNoise([BitFlipNoise(0.01)])\n",
        "])"
      ]
    },
    {
      "cell_type": "markdown",
      "metadata": {},
      "source": [
        "This noise model introduces bit flip error during the measurement."
      ]
    },
    {
      "cell_type": "markdown",
      "metadata": {},
      "source": [
        "### Readout error mitigation and peformance\n",
        "\n",
        "Here, we explicitly show how to build an estimator that performs readout error mitigation. In this simple example, we will compare the performance of a [sampling estimator](../../6_sampling_estimation/index.md) that runs readout error mitigation with that of noiseless and noisy esimators. We first prepare an operator for this purpose."
      ]
    },
    {
      "cell_type": "code",
      "execution_count": null,
      "metadata": {},
      "outputs": [],
      "source": [
        "from quri_parts.core.operator import Operator, pauli_label, PAULI_IDENTITY\n",
        "op = Operator({\n",
        "    pauli_label(\"Z0\"): 0.25,\n",
        "    pauli_label(\"Z1 Z2\"): 2.0,\n",
        "    pauli_label(\"X1 X2\"): 0.5,\n",
        "    pauli_label(\"Z1 Y2\"): 1.0,\n",
        "    pauli_label(\"X1 Y2\"): 2.0,\n",
        "    PAULI_IDENTITY: 3.0,\n",
        "})"
      ]
    },
    {
      "cell_type": "markdown",
      "metadata": {},
      "source": [
        "Now, we demonstrate how to construct a readout error mitigation sampling estimator. As we shown in the [sampling estimator tutorial](../../6_sampling_estimation/index.md), the creation of a sampling estimator would require a concurrent sampler. In the case of a readout error mitigation sampling estimator, we will build a sampler that constructs a filter matrix and performs the mitigation scheme internally. This sampler is created with the `create_readout_mitigation_concurrent_sampler` function provided in `quri_parts.algo`, which we show below."
      ]
    },
    {
      "cell_type": "code",
      "execution_count": null,
      "metadata": {},
      "outputs": [],
      "source": [
        "from quri_parts.qulacs.estimator import create_qulacs_vector_estimator, create_qulacs_density_matrix_estimator\n",
        "from quri_parts.qulacs.sampler import create_qulacs_density_matrix_concurrent_sampler\n",
        "from quri_parts.core.estimator.sampling import create_sampling_estimator\n",
        "from quri_parts.core.estimator import QuantumEstimator\n",
        "from quri_parts.core.sampling.shots_allocator import create_equipartition_shots_allocator\n",
        "from quri_parts.core.measurement import bitwise_commuting_pauli_measurement\n",
        "from quri_parts.core.state import CircuitQuantumState, quantum_state\n",
        "from quri_parts.algo.mitigation.readout_mitigation import create_readout_mitigation_concurrent_sampler\n",
        "\n",
        "def get_readout_mit_estimator(qubit_count: int, shots: int=int(1e6)) -> QuantumEstimator[CircuitQuantumState]:\n",
        "    noisy_concurrent_sampler = create_qulacs_density_matrix_concurrent_sampler(noise_model)\n",
        "    allocator = create_equipartition_shots_allocator()\n",
        "\n",
        "    readout_mit_concurrent_sampler = create_readout_mitigation_concurrent_sampler(\n",
        "        qubit_count,\n",
        "        noisy_concurrent_sampler,  # takes in a noisy concurrent sampler\n",
        "        shots\n",
        "    )\n",
        "    return create_sampling_estimator(\n",
        "        shots,\n",
        "        readout_mit_concurrent_sampler,\n",
        "        bitwise_commuting_pauli_measurement,\n",
        "        allocator\n",
        "    )\n",
        "\n",
        "# Returns the estimator\n",
        "readout_mit_estimator = get_readout_mit_estimator(qubit_count=3)"
      ]
    },
    {
      "cell_type": "markdown",
      "metadata": {},
      "source": [
        "Now, we have a sampling estimator that performs readout error mitigation, which we compare its estimation result with that of a noiseless estimator and a noisy estimator."
      ]
    },
    {
      "cell_type": "code",
      "execution_count": null,
      "metadata": {},
      "outputs": [
        {
          "name": "stdout",
          "output_type": "stream",
          "text": [
            "Noiseless estimate: (4.999999999999998+0j)\n",
            "Noisy estimate: (4.920800000000014+0j)\n",
            "Readout mitigation estimate: 5.000453637035886\n"
          ]
        }
      ],
      "source": [
        "exact_estimator = create_qulacs_vector_estimator()\n",
        "noisy_estimator = create_qulacs_density_matrix_estimator(noise_model)\n",
        "\n",
        "state = quantum_state(3, circuit=circuit)\n",
        "\n",
        "print(\"Noiseless estimate:\", exact_estimator(op, state).value)\n",
        "print(\"Noisy estimate:\", noisy_estimator(op, state).value)\n",
        "print(\"Readout mitigation estimate:\", readout_mit_estimator(op, state).value)"
      ]
    },
    {
      "cell_type": "markdown",
      "metadata": {},
      "source": [
        "We can see that the noise is indeed tamed and we obtain a better estimation of the expectation value compared to noisy estimation."
      ]
    },
    {
      "cell_type": "markdown",
      "metadata": {},
      "source": [
        "## Building the readout error mitigation sampler step by step\n",
        "\n",
        "Now, we start to explain all the steps necessary to construct a readout error mitigation (concurrent) sampler. This envolves:\n",
        "\n",
        "- Create a filter matrix from a noisy sampler.\n",
        "- Apply the filter matrix to sampling counts produced by a noisy sampler.\n"
      ]
    },
    {
      "cell_type": "markdown",
      "metadata": {},
      "source": [
        "### Sampling simulation with Qulacs\n",
        "\n",
        "First, we create a noisy `Sampler` and execute the sampling without error mitigation."
      ]
    },
    {
      "cell_type": "code",
      "execution_count": null,
      "metadata": {},
      "outputs": [
        {
          "data": {
            "text/plain": [
              "Counter({7: 4863, 0: 4834, 2: 65, 5: 51, 4: 50, 6: 47, 3: 46, 1: 44})"
            ]
          },
          "execution_count": 7,
          "metadata": {},
          "output_type": "execute_result"
        }
      ],
      "source": [
        "from quri_parts.qulacs.sampler import create_qulacs_density_matrix_sampler\n",
        "\n",
        "sampler = create_qulacs_density_matrix_sampler(noise_model)\n",
        "counts = sampler(circuit, shots=10000)\n",
        "counts"
      ]
    },
    {
      "cell_type": "markdown",
      "metadata": {},
      "source": [
        "### Create filter matrix\n",
        "\n",
        "We can use `create_filter_matrix` to create filter matrix."
      ]
    },
    {
      "cell_type": "code",
      "execution_count": null,
      "metadata": {},
      "outputs": [
        {
          "data": {
            "text/plain": [
              "array([[ 1.03103e+00, -1.04100e-02, -1.04900e-02,  1.10000e-04,\n",
              "        -1.04900e-02,  1.10000e-04,  1.20000e-04, -0.00000e+00],\n",
              "       [-1.05900e-02,  1.03113e+00,  1.10000e-04, -1.03100e-02,\n",
              "         1.10000e-04, -1.04200e-02, -0.00000e+00,  1.10000e-04],\n",
              "       [-1.04000e-02,  1.10000e-04,  1.03085e+00, -1.03400e-02,\n",
              "         1.30000e-04, -0.00000e+00, -1.03600e-02,  1.00000e-04],\n",
              "       [ 1.00000e-04, -1.05300e-02, -1.03200e-02,  1.03066e+00,\n",
              "        -0.00000e+00,  1.10000e-04,  9.00000e-05, -1.03900e-02],\n",
              "       [-1.03300e-02,  1.00000e-04,  1.10000e-04, -0.00000e+00,\n",
              "         1.03079e+00, -1.04600e-02, -1.04400e-02,  1.00000e-04],\n",
              "       [ 9.00000e-05, -1.05000e-02, -0.00000e+00,  1.10000e-04,\n",
              "        -1.02300e-02,  1.03085e+00,  1.10000e-04, -1.05700e-02],\n",
              "       [ 1.00000e-04, -0.00000e+00, -1.03600e-02,  1.10000e-04,\n",
              "        -1.04100e-02,  1.10000e-04,  1.03075e+00, -1.04000e-02],\n",
              "       [ 0.00000e+00,  1.10000e-04,  9.00000e-05, -1.03300e-02,\n",
              "         1.10000e-04, -1.03000e-02, -1.02700e-02,  1.03106e+00]])"
            ]
          },
          "execution_count": 8,
          "metadata": {},
          "output_type": "execute_result"
        }
      ],
      "source": [
        "from quri_parts.algo.mitigation.readout_mitigation import create_filter_matrix\n",
        "from quri_parts.qulacs.sampler import create_qulacs_density_matrix_concurrent_sampler\n",
        "\n",
        "concurernt_sampler = create_qulacs_density_matrix_concurrent_sampler(noise_model)\n",
        "\n",
        "filter_matrix = create_filter_matrix(qubit_count, concurernt_sampler, shots=1000000)\n",
        "filter_matrix.round(5)"
      ]
    },
    {
      "cell_type": "markdown",
      "metadata": {},
      "source": [
        "### Execute readout error mitigation\n",
        "\n",
        "Now we can get error-mitigated counts by calling `readout_mitigation`."
      ]
    },
    {
      "cell_type": "code",
      "execution_count": null,
      "metadata": {},
      "outputs": [
        {
          "data": {
            "text/plain": [
              "{0: 4982.354874161398,\n",
              " 2: 16.273889374795427,\n",
              " 4: 1.078239298564391,\n",
              " 5: 0.643375217896129,\n",
              " 7: 5012.556330314117}"
            ]
          },
          "execution_count": 9,
          "metadata": {},
          "output_type": "execute_result"
        }
      ],
      "source": [
        "from quri_parts.algo.mitigation.readout_mitigation import readout_mitigation\n",
        "\n",
        "mitigated_counts = readout_mitigation([counts], filter_matrix)\n",
        "next(mitigated_counts)"
      ]
    },
    {
      "cell_type": "markdown",
      "metadata": {},
      "source": [
        "### Create readout error mitigation sampler\n",
        "\n",
        "We can also create a `ConcurrentSampler` that samples from noisy circuit and performs readout error mitigation behind the scenes."
      ]
    },
    {
      "cell_type": "code",
      "execution_count": null,
      "metadata": {},
      "outputs": [
        {
          "data": {
            "text/plain": [
              "{0: 4896.207916523141,\n",
              " 1: 4.067266119004306,\n",
              " 2: 3.9667263068103784,\n",
              " 4: 3.201441039441285,\n",
              " 5: 9.28954616971044,\n",
              " 6: 0.8907393987065273,\n",
              " 7: 5091.235819215903}"
            ]
          },
          "execution_count": 10,
          "metadata": {},
          "output_type": "execute_result"
        }
      ],
      "source": [
        "from quri_parts.algo.mitigation.readout_mitigation import (\n",
        "    create_readout_mitigation_concurrent_sampler,\n",
        "    create_readout_mitigation_sampler,\n",
        ")\n",
        "from quri_parts.qulacs.sampler import create_qulacs_density_matrix_sampler\n",
        "\n",
        "# Create a ConcurrentSampler\n",
        "rem_concurrent_sampler = create_readout_mitigation_concurrent_sampler(\n",
        "    qubit_count, concurernt_sampler, shots=1000000\n",
        ")\n",
        "\n",
        "# You can also create a Sampler\n",
        "# rem_sampler = create_readout_mitigation_sampler(\n",
        "#     qubit_count, concurernt_sampler, shots=1000000\n",
        "# )\n",
        "# mitigated_counts = rem_sampler(circuit, 10000)\n",
        "# print(mitigated_counts)\n",
        "\n",
        "mitigated_counts_concurrent = rem_concurrent_sampler([(circuit, 10000)])\n",
        "next(mitigated_counts_concurrent)\n"
      ]
    }
  ],
  "metadata": {
    "language_info": {
      "name": "python",
      "pygments_lexer": "ipython3"
    }
  },
  "nbformat": 4,
  "nbformat_minor": 4
}
