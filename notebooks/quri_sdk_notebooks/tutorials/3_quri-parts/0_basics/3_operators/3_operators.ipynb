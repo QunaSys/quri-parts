{
  "cells": [
    {
      "cell_type": "markdown",
      "metadata": {},
      "source": [
        "# Operators"
      ]
    },
    {
      "cell_type": "markdown",
      "metadata": {},
      "source": [
        "In this tutorial, we introduce 2 objects, `Operator` and `PauliLabel`, that represents operators in quantum mechanics. You may construct various physical observables with them. In QURI Parts, we mainly work with operators consists of Pauli strings."
      ]
    },
    {
      "cell_type": "markdown",
      "metadata": {},
      "source": [
        "## PauliLabel"
      ]
    },
    {
      "cell_type": "markdown",
      "metadata": {},
      "source": [
        "Pauli strings are ubiquitous in quantum computation. In QURI Parts, they are represented by `PauliLabel`. This section is devoted to explain what `PauliLabel` is made of and how to create them. We first start with their basic building block: Pauli matrices."
      ]
    },
    {
      "cell_type": "markdown",
      "metadata": {},
      "source": [
        "### Pauli matrices"
      ]
    },
    {
      "cell_type": "markdown",
      "metadata": {},
      "source": [
        "In QURI Parts, Pauli matrices are represented by an `Enum`: `SinglePauli`. They are not objects to be used for any computations directly, they are simply labels of what Pauli matrices a `PauliLabel` hold."
      ]
    },
    {
      "cell_type": "code",
      "execution_count": null,
      "metadata": {},
      "outputs": [],
      "source": [
        "from quri_parts.core.operator import SinglePauli\n",
        "\n",
        "assert SinglePauli.X == 1\n",
        "assert SinglePauli.Y == 2\n",
        "assert SinglePauli.Z == 3"
      ]
    },
    {
      "cell_type": "markdown",
      "metadata": {},
      "source": [
        "### Pauli strings"
      ]
    },
    {
      "cell_type": "markdown",
      "metadata": {},
      "source": [
        "As mentioned previously, Pauli strings are represented by `PauliLabel`. We introduce the interface and how to create one."
      ]
    },
    {
      "cell_type": "markdown",
      "metadata": {},
      "source": [
        "#### Interface"
      ]
    },
    {
      "cell_type": "markdown",
      "metadata": {},
      "source": [
        "In QURI Parts, a `PauliLabel` represents a Pauli string. It is a `frozenset` of `tuple[qubit_index, SinglePauli]`.\n",
        "\n",
        "```python\n",
        "class PauliLabel(frozenset(tuple[int, int])):\n",
        "    \"\"\"First int represents the qubit index and\n",
        "    the second represents a `SinglePauli`\n",
        "    \"\"\"\n",
        "    ...\n",
        "```"
      ]
    },
    {
      "cell_type": "markdown",
      "metadata": {},
      "source": [
        "#### Creating a `PauliLabel`\n",
        "\n",
        "There are various ways of creating a `PauliLabel`. Here, we introduce the simplest one, which is using the `pauli_label` function. For basic usage, the `pauli_label` function accepts 2 types of inputs:\n",
        "1. A `str` that looks like a Pauli string.\n",
        "2. Sequence of (qubit index, `SinglePauli`) pairs."
      ]
    },
    {
      "cell_type": "markdown",
      "metadata": {},
      "source": [
        "##### Create with a `str`"
      ]
    },
    {
      "cell_type": "markdown",
      "metadata": {},
      "source": [
        "We can create a `PauliLabel` by passing in a `str` that looks like a human-readable Pauli string"
      ]
    },
    {
      "cell_type": "code",
      "execution_count": null,
      "metadata": {},
      "outputs": [
        {
          "name": "stdout",
          "output_type": "stream",
          "text": [
            "Create without spacing: X0 Y1 Z2 Z3 X4 Y5\n",
            "Create with spacing:    X0 Y1 Z2 Z3 X4 Y5\n"
          ]
        }
      ],
      "source": [
        "from quri_parts.core.operator import PauliLabel, pauli_label\n",
        "\n",
        "print(\"Create without spacing:\", pauli_label(\"X0 Y1 Z2 Z3 X4 Y5\"))\n",
        "print(\"Create with spacing:   \", pauli_label(\"X 0  Y 1  Z 2  Z 3  X 4  Y 5\"))"
      ]
    },
    {
      "cell_type": "markdown",
      "metadata": {},
      "source": [
        "Note that the order of Pauli matrices does not matter."
      ]
    },
    {
      "cell_type": "code",
      "execution_count": null,
      "metadata": {},
      "outputs": [
        {
          "name": "stdout",
          "output_type": "stream",
          "text": [
            "Create with X0 Y1 Z2: X0 Y1 Z2\n",
            "Create with X0 Z2 Y1: X0 Y1 Z2\n",
            "True\n"
          ]
        }
      ],
      "source": [
        "print(\"Create with X0 Y1 Z2:\", pauli_label(\"X0 Y1 Z2\"))\n",
        "print(\"Create with X0 Z2 Y1:\", pauli_label(\"X0 Z2 Y1\"))\n",
        "print(pauli_label(\"X0 Y1 Z2\") == pauli_label(\"X0 Z2 Y1\"))"
      ]
    },
    {
      "cell_type": "markdown",
      "metadata": {},
      "source": [
        "##### Create with a sequence of `(qubit_index, SinglePauli)`"
      ]
    },
    {
      "cell_type": "markdown",
      "metadata": {},
      "source": [
        "We can also create a `PauliLabel` by passing a sequence of `(qubit_index, SinglePauli)` into the `pauli_label` function."
      ]
    },
    {
      "cell_type": "code",
      "execution_count": null,
      "metadata": {},
      "outputs": [
        {
          "name": "stdout",
          "output_type": "stream",
          "text": [
            "X0 Z1\n",
            "X0 Z1\n"
          ]
        }
      ],
      "source": [
        "print(pauli_label([(0, SinglePauli.X), (1, SinglePauli.Z)]))\n",
        "print(pauli_label(zip((0, 1), (SinglePauli.X, SinglePauli.Z))))"
      ]
    },
    {
      "cell_type": "markdown",
      "metadata": {},
      "source": [
        "There is a special `PauliLabel`: `PAULI_IDENTITY`. It represents the identity operator and is a `PauliLabel` with no entry."
      ]
    },
    {
      "cell_type": "code",
      "execution_count": null,
      "metadata": {},
      "outputs": [
        {
          "name": "stdout",
          "output_type": "stream",
          "text": [
            "True\n"
          ]
        }
      ],
      "source": [
        "from quri_parts.core.operator import PAULI_IDENTITY\n",
        "\n",
        "# PauliLabel() represents an empty `frozenset`.\n",
        "print(PauliLabel() == PAULI_IDENTITY)"
      ]
    },
    {
      "cell_type": "markdown",
      "metadata": {},
      "source": [
        "#### Methods `PauliLabel` provides"
      ]
    },
    {
      "cell_type": "markdown",
      "metadata": {},
      "source": [
        "The `PauliLabel` provides several methods that provides information about itself."
      ]
    },
    {
      "cell_type": "markdown",
      "metadata": {},
      "source": [
        "- `index_and_pauli_id_list`: A property that returns a tuple of (list[qubit index], list[`SinglePauli`])"
      ]
    },
    {
      "cell_type": "code",
      "execution_count": null,
      "metadata": {},
      "outputs": [
        {
          "data": {
            "text/plain": [
              "([0, 1, 2], [<SinglePauli.X: 1>, <SinglePauli.Y: 2>, <SinglePauli.Z: 3>])"
            ]
          },
          "execution_count": 6,
          "metadata": {},
          "output_type": "execute_result"
        }
      ],
      "source": [
        "pauli_label(\"X0 Y1 Z2\").index_and_pauli_id_list"
      ]
    },
    {
      "cell_type": "markdown",
      "metadata": {},
      "source": [
        "- `qubit_indices`: The list of qubits this `PauliLabel` acts on."
      ]
    },
    {
      "cell_type": "code",
      "execution_count": null,
      "metadata": {},
      "outputs": [
        {
          "data": {
            "text/plain": [
              "[0, 1, 2]"
            ]
          },
          "execution_count": 7,
          "metadata": {},
          "output_type": "execute_result"
        }
      ],
      "source": [
        "pauli_label(\"X0 Y1 Z2\").qubit_indices()"
      ]
    },
    {
      "cell_type": "markdown",
      "metadata": {},
      "source": [
        "- `pauli_at`: The Pauli matrix at the specified qubit. If the operator at the specified qubit index is identity, it returns `None`."
      ]
    },
    {
      "cell_type": "code",
      "execution_count": null,
      "metadata": {},
      "outputs": [
        {
          "name": "stdout",
          "output_type": "stream",
          "text": [
            "1\n",
            "2\n",
            "3\n",
            "None\n"
          ]
        }
      ],
      "source": [
        "print(pauli_label(\"X0 Y1 Z2\").pauli_at(0))\n",
        "print(pauli_label(\"X0 Y1 Z2\").pauli_at(1))\n",
        "print(pauli_label(\"X0 Y1 Z2\").pauli_at(2))\n",
        "print(pauli_label(\"X0 Y1 Z2\").pauli_at(3))"
      ]
    },
    {
      "cell_type": "markdown",
      "metadata": {},
      "source": [
        "## Operator"
      ]
    },
    {
      "cell_type": "markdown",
      "metadata": {},
      "source": [
        "Here, we introduce the `Operator` object. The `Operator` object represents a complex linear combination of `PauliLabel`s."
      ]
    },
    {
      "cell_type": "markdown",
      "metadata": {},
      "source": [
        "### Interface\n",
        "In QURI Parts, it is implmented as a dictionary with `PauliLabel` as key and complex number as value. So, you can create an `Operator` with a dictionary."
      ]
    },
    {
      "cell_type": "code",
      "execution_count": null,
      "metadata": {},
      "outputs": [
        {
          "name": "stdout",
          "output_type": "stream",
          "text": [
            "(8+1j)*I + -3*X0 Y2\n"
          ]
        }
      ],
      "source": [
        "from quri_parts.core.operator import Operator\n",
        "\n",
        "op = Operator(\n",
        "    {\n",
        "        PAULI_IDENTITY: 8 + 1j,\n",
        "        pauli_label(\"X0 Y2\"): -3\n",
        "    }\n",
        ")\n",
        "\n",
        "print(op)"
      ]
    },
    {
      "cell_type": "markdown",
      "metadata": {},
      "source": [
        "### Arithmetics with `Operator`"
      ]
    },
    {
      "cell_type": "markdown",
      "metadata": {},
      "source": [
        "You can add terms to an `Operator` with the `add_term` method, which updates the `Operator` in place. If a `PauliLabel` already exists in the `Operator`, it updates the coeffcient. Suppose the new coefficient is 0, the `PauliLabel` will be dropped from the `Operator`."
      ]
    },
    {
      "cell_type": "code",
      "execution_count": null,
      "metadata": {},
      "outputs": [
        {
          "name": "stdout",
          "output_type": "stream",
          "text": [
            "(8+1j)*I + -3*X0 Y2 \n",
            "\n",
            "Add (10+1j) * Y0 Z3:\n",
            "(8+1j)*I + -3*X0 Y2 + (10+1j)*Y0 Z3 \n",
            "\n",
            "Add -6 * I:\n",
            "(2+1j)*I + -3*X0 Y2 + (10+1j)*Y0 Z3 \n",
            "\n",
            "Add 3 * X0 Y2:\n",
            "(2+1j)*I + (10+1j)*Y0 Z3\n"
          ]
        }
      ],
      "source": [
        "op = Operator(\n",
        "    {\n",
        "        PAULI_IDENTITY: 8 + 1j,\n",
        "        pauli_label(\"X0 Y2\"): -3\n",
        "    }\n",
        ")\n",
        "\n",
        "print(op, \"\\n\")\n",
        "\n",
        "# Add a new term to the Operator\n",
        "pl, coeff = pauli_label(\"Y0 Z3\"), 10+1j\n",
        "print(f\"Add {coeff} * {pl}:\")\n",
        "op.add_term(pl, coeff)\n",
        "print(op, \"\\n\")\n",
        "\n",
        "# Add a `PauliLabel` that already exists in `Operator` to update the coefficient\n",
        "pl, coeff = PAULI_IDENTITY, -6\n",
        "print(f\"Add {coeff} * {pl}:\")\n",
        "op.add_term(pl, coeff)\n",
        "print(op, \"\\n\")\n",
        "\n",
        "# Add a `PauliLabel` that already exists in `Operator` to cancel the term\n",
        "pl, coeff = pauli_label(\"X0 Y2\"), 3\n",
        "print(f\"Add {coeff} * {pl}:\")\n",
        "op.add_term(pl, coeff)\n",
        "print(op)"
      ]
    },
    {
      "cell_type": "markdown",
      "metadata": {},
      "source": [
        "There are also 2 properties provided:\n",
        "- n_terms: The number of terms in the `Operator`.\n",
        "- constant: Returns the coefficient of `PAULI_IDENTITY` in the `Operator`. It gives 0 if `PAULI_IDENTITY` is not present."
      ]
    },
    {
      "cell_type": "code",
      "execution_count": null,
      "metadata": {},
      "outputs": [
        {
          "name": "stdout",
          "output_type": "stream",
          "text": [
            "n_terms: 2\n",
            "constant: (8+1j)\n"
          ]
        }
      ],
      "source": [
        "op = Operator(\n",
        "    {\n",
        "        PAULI_IDENTITY: 8 + 1j,\n",
        "        pauli_label(\"X0 Y2\"): -3\n",
        "    }\n",
        ")\n",
        "\n",
        "\n",
        "print(\"n_terms:\", op.n_terms)\n",
        "print(\"constant:\", op.constant)"
      ]
    },
    {
      "cell_type": "markdown",
      "metadata": {},
      "source": [
        "The `Operator` object also provides several methods for basic arithmetics:"
      ]
    },
    {
      "cell_type": "code",
      "execution_count": null,
      "metadata": {},
      "outputs": [
        {
          "name": "stdout",
          "output_type": "stream",
          "text": [
            "op1 =  8j*X0 Z1\n",
            "op2 =  -4*Y1\n",
            "\n",
            "Addition:\n",
            "op1 + op2 = 8j*X0 Z1 + -4*Y1\n",
            "\n",
            "Subtraction:\n",
            "op1 - op2 = 8j*X0 Z1 + 4*Y1\n",
            "\n",
            "Scalar Multiplication:\n",
            "op1 * 3j = (-24+0j)*X0 Z1\n",
            "\n",
            "Scalar Division:\n",
            "op1 / 2j = (4+0j)*X0 Z1\n",
            "\n",
            "Operator Multiplication:\n",
            "op1 * op2 = (-32+0j)*X0 X1\n",
            "op2 * op1 = (32+0j)*X0 X1\n",
            "\n",
            "Hermition Conjgation:\n",
            "op1^† = -8j*X0 Z1\n",
            "op2^† = -4*Y1\n"
          ]
        }
      ],
      "source": [
        "op1 =  Operator({pauli_label(\"X0 Z1\"): 8j})\n",
        "op2 =  Operator({pauli_label(\"Y1\"): -4})\n",
        "\n",
        "print(\"op1 = \", op1)\n",
        "print(\"op2 = \", op2)\n",
        "\n",
        "# Addition\n",
        "print(\"\")\n",
        "print(\"Addition:\")\n",
        "print(\"op1 + op2\", \"=\", op1 + op2)\n",
        "\n",
        "# Subtraction\n",
        "print(\"\")\n",
        "print(\"Subtraction:\")\n",
        "print(\"op1 - op2\", \"=\", op1 - op2)\n",
        "\n",
        "# Scalar Multiplication\n",
        "print(\"\")\n",
        "print(\"Scalar Multiplication:\")\n",
        "print(\"op1 * 3j\", \"=\", op1 * 3j)\n",
        "\n",
        "# Scalar Division\n",
        "print(\"\")\n",
        "print(\"Scalar Division:\")\n",
        "print(\"op1 / 2j\", \"=\", op1 / 2j)\n",
        "\n",
        "# Operator Multiplication\n",
        "print(\"\")\n",
        "print(\"Operator Multiplication:\")\n",
        "print(\"op1 * op2\", \"=\", op1 * op2)\n",
        "print(\"op2 * op1\", \"=\", op2 * op1)\n",
        "\n",
        "# Hermitian conjugation\n",
        "print(\"\")\n",
        "print(\"Hermition Conjgation:\")\n",
        "print(\"op1^†\", \"=\", op1.hermitian_conjugated())\n",
        "print(\"op2^†\", \"=\", op2.hermitian_conjugated())"
      ]
    },
    {
      "cell_type": "markdown",
      "metadata": {},
      "source": [
        "There is also a special `Operator`: `zero()` that represents a zero operator. It is an `Operator` created with an empty dictionary."
      ]
    },
    {
      "cell_type": "code",
      "execution_count": null,
      "metadata": {},
      "outputs": [
        {
          "name": "stdout",
          "output_type": "stream",
          "text": [
            "True\n"
          ]
        }
      ],
      "source": [
        "from quri_parts.core.operator import zero\n",
        "\n",
        "zero_operator = zero()\n",
        "print(zero_operator == Operator())"
      ]
    },
    {
      "cell_type": "markdown",
      "metadata": {},
      "source": [
        "## Helper functions"
      ]
    },
    {
      "cell_type": "markdown",
      "metadata": {},
      "source": [
        "There are also various other helper functions that provides several arithmetical functionalities for `Operator`. Here we introduce:\n",
        "- `is_hermitian`\n",
        "- `commutator`\n",
        "- `truncate`\n",
        "- `is_ops_close`\n",
        "- `get_sparse_matrix`\n",
        "\n",
        "We provide examples for them below:"
      ]
    },
    {
      "cell_type": "markdown",
      "metadata": {},
      "source": [
        "### `is_hermitian`"
      ]
    },
    {
      "cell_type": "markdown",
      "metadata": {},
      "source": [
        "`is_hermitian` checks if an `Operator` is hermitian or not."
      ]
    },
    {
      "cell_type": "code",
      "execution_count": null,
      "metadata": {},
      "outputs": [
        {
          "name": "stdout",
          "output_type": "stream",
          "text": [
            "1*X0 is hermitian: True\n",
            "1j*X0 is hermitian: False\n"
          ]
        }
      ],
      "source": [
        "from quri_parts.core.operator import is_hermitian\n",
        "\n",
        "op = Operator({pauli_label(\"X0\"): 1})\n",
        "print(f\"{op} is hermitian:\", is_hermitian(op))\n",
        "\n",
        "op = Operator({pauli_label(\"X0\"): 1j})\n",
        "print(f\"{op} is hermitian:\", is_hermitian(op))"
      ]
    },
    {
      "cell_type": "markdown",
      "metadata": {},
      "source": [
        "### `commutator`"
      ]
    },
    {
      "cell_type": "markdown",
      "metadata": {},
      "source": [
        "`commutator` computes the commutator of two operators."
      ]
    },
    {
      "cell_type": "code",
      "execution_count": null,
      "metadata": {},
      "outputs": [
        {
          "name": "stdout",
          "output_type": "stream",
          "text": [
            "[1*X0, 1*Y0] = 2j*Z0\n"
          ]
        }
      ],
      "source": [
        "from quri_parts.core.operator import commutator\n",
        "\n",
        "op1 = Operator({pauli_label(\"X0\"): 1})\n",
        "op2 = Operator({pauli_label(\"Y0\"): 1})\n",
        "print(f\"[{op1}, {op2}]\", \"=\", commutator(op1, op2))"
      ]
    },
    {
      "cell_type": "markdown",
      "metadata": {},
      "source": [
        "### `truncate`"
      ]
    },
    {
      "cell_type": "markdown",
      "metadata": {},
      "source": [
        "`truncate` removes `PauliLabel` from `Operator`s if the corresponding coefficient is too small. (Default tolerance is 1e-8.)"
      ]
    },
    {
      "cell_type": "code",
      "execution_count": null,
      "metadata": {},
      "outputs": [
        {
          "name": "stdout",
          "output_type": "stream",
          "text": [
            "original operator:\n",
            " 1e-06*Z0 Y1 + 1e-10*X0 Y1 + 1*X0 Y2\n",
            "truncated operator:\n",
            " 1e-06*Z0 Y1 + 1*X0 Y2\n",
            "truncated operator with tolerance = 1e-5:\n",
            " 1*X0 Y2\n"
          ]
        }
      ],
      "source": [
        "from quri_parts.core.operator import truncate\n",
        "op = Operator(\n",
        "    {\n",
        "        pauli_label(\"Z0 Y1\"): 1e-6,\n",
        "        pauli_label(\"X0 Y1\"): 1e-10,\n",
        "        pauli_label(\"X0 Y2\"): 1,\n",
        "    }\n",
        ")\n",
        "\n",
        "print(\"original operator:\\n\", op)\n",
        "print(\"truncated operator:\\n\", truncate(op))\n",
        "print(\"truncated operator with tolerance = 1e-5:\\n\", truncate(op, 1e-5))"
      ]
    },
    {
      "cell_type": "markdown",
      "metadata": {},
      "source": [
        "### `is_ops_close`"
      ]
    },
    {
      "cell_type": "markdown",
      "metadata": {},
      "source": [
        "`is_ops_close` checks if two operators are close up to some tolerance. For the `Operator`s entered in the first and second arguments, this returns whether they are equal within an acceptable margin of error."
      ]
    },
    {
      "cell_type": "code",
      "execution_count": null,
      "metadata": {},
      "outputs": [
        {
          "name": "stdout",
          "output_type": "stream",
          "text": [
            "op1 = 1*X0 Y2\n",
            "op2 = 1e-06*Z0 Y1 + 1e-10*X0 Y1 + 1*X0 Y2\n",
            "op1 is close to op2 (atol=0): False\n",
            "op1 is close to op2 (atol=1e-5): True\n",
            "op1 is close to op2 (atol=1e-8): False\n"
          ]
        }
      ],
      "source": [
        "from quri_parts.core.operator import is_ops_close\n",
        "op1 = Operator({pauli_label(\"X0 Y2\"): 1})\n",
        "op2 = Operator(\n",
        "    {\n",
        "        pauli_label(\"Z0 Y1\"): 1e-6,\n",
        "        pauli_label(\"X0 Y1\"): 1e-10,\n",
        "        pauli_label(\"X0 Y2\"): 1,\n",
        "    }\n",
        ")\n",
        "\n",
        "print(\"op1\", \"=\", op1)\n",
        "print(\"op2\", \"=\", op2)\n",
        "print(f\"op1 is close to op2 (atol=0):\", is_ops_close(op1, op2))\n",
        "print(f\"op1 is close to op2 (atol=1e-5):\", is_ops_close(op1, op2, atol=1e-5))\n",
        "print(f\"op1 is close to op2 (atol=1e-8):\", is_ops_close(op1, op2, atol=1e-8))"
      ]
    },
    {
      "cell_type": "markdown",
      "metadata": {},
      "source": [
        "### `get_sparse_matrix`"
      ]
    },
    {
      "cell_type": "markdown",
      "metadata": {},
      "source": [
        "`get_sparse_matrix` converts `Operator`s and `PauliLabel`s to a`scipy.sparse.spmatrix`."
      ]
    },
    {
      "cell_type": "code",
      "execution_count": null,
      "metadata": {},
      "outputs": [
        {
          "name": "stdout",
          "output_type": "stream",
          "text": [
            "<Compressed Sparse Column sparse matrix of dtype 'complex128'\n",
            "\twith 8 stored elements and shape (4, 4)>\n",
            "  Coords\tValues\n",
            "  (0, 0)\t-8j\n",
            "  (3, 0)\t1j\n",
            "  (1, 1)\t-8j\n",
            "  (2, 1)\t1j\n",
            "  (1, 2)\t-1j\n",
            "  (2, 2)\t-8j\n",
            "  (0, 3)\t-1j\n",
            "  (3, 3)\t-8j\n"
          ]
        }
      ],
      "source": [
        "from quri_parts.core.operator import get_sparse_matrix\n",
        "op = Operator({\n",
        "    PAULI_IDENTITY: -8j,\n",
        "    pauli_label(\"X0 Y1\"): 1\n",
        "})\n",
        "\n",
        "print(get_sparse_matrix(op))"
      ]
    },
    {
      "cell_type": "markdown",
      "metadata": {},
      "source": [
        "We can also get the explicit matrix representation"
      ]
    },
    {
      "cell_type": "code",
      "execution_count": null,
      "metadata": {},
      "outputs": [
        {
          "data": {
            "text/plain": [
              "array([[0.-8.j, 0.+0.j, 0.+0.j, 0.-1.j],\n",
              "       [0.+0.j, 0.-8.j, 0.-1.j, 0.+0.j],\n",
              "       [0.+0.j, 0.+1.j, 0.-8.j, 0.+0.j],\n",
              "       [0.+1.j, 0.+0.j, 0.+0.j, 0.-8.j]])"
            ]
          },
          "execution_count": 19,
          "metadata": {},
          "output_type": "execute_result"
        }
      ],
      "source": [
        "get_sparse_matrix(op).toarray()"
      ]
    },
    {
      "cell_type": "markdown",
      "metadata": {},
      "source": [
        "It is often the case that the largest qubit containing a non-trivial Pauli matrix in an `Operator` or a `PauliLabel` is smaller than the number of qubits of the state it acts on. In this case, we can set the qubit count of the state the operator acts on with the `n_qubit` option."
      ]
    },
    {
      "cell_type": "code",
      "execution_count": null,
      "metadata": {},
      "outputs": [
        {
          "data": {
            "text/plain": [
              "array([[0.-8.j, 0.+0.j, 0.+0.j, 0.-1.j, 0.+0.j, 0.+0.j, 0.+0.j, 0.+0.j],\n",
              "       [0.+0.j, 0.-8.j, 0.-1.j, 0.+0.j, 0.+0.j, 0.+0.j, 0.+0.j, 0.+0.j],\n",
              "       [0.+0.j, 0.+1.j, 0.-8.j, 0.+0.j, 0.+0.j, 0.+0.j, 0.+0.j, 0.+0.j],\n",
              "       [0.+1.j, 0.+0.j, 0.+0.j, 0.-8.j, 0.+0.j, 0.+0.j, 0.+0.j, 0.+0.j],\n",
              "       [0.+0.j, 0.+0.j, 0.+0.j, 0.+0.j, 0.-8.j, 0.+0.j, 0.+0.j, 0.-1.j],\n",
              "       [0.+0.j, 0.+0.j, 0.+0.j, 0.+0.j, 0.+0.j, 0.-8.j, 0.-1.j, 0.+0.j],\n",
              "       [0.+0.j, 0.+0.j, 0.+0.j, 0.+0.j, 0.+0.j, 0.+1.j, 0.-8.j, 0.+0.j],\n",
              "       [0.+0.j, 0.+0.j, 0.+0.j, 0.+0.j, 0.+1.j, 0.+0.j, 0.+0.j, 0.-8.j]])"
            ]
          },
          "execution_count": 20,
          "metadata": {},
          "output_type": "execute_result"
        }
      ],
      "source": [
        "get_sparse_matrix(op, n_qubits=3).toarray()"
      ]
    }
  ],
  "metadata": {
    "language_info": {
      "name": "python",
      "pygments_lexer": "ipython3"
    }
  },
  "nbformat": 4,
  "nbformat_minor": 4
}
