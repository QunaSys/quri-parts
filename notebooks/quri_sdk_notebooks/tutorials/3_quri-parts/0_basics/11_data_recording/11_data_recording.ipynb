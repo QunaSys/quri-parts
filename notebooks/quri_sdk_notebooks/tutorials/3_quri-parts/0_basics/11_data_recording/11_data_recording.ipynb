{
  "cells": [
    {
      "cell_type": "markdown",
      "metadata": {},
      "source": [
        "# Data recording\n",
        "\n",
        "\n",
        "Sometimes it is useful to store the snapshots of data during the calculation for some tasks such as debugging. QURI Parts provides the smart way to do it with `@recordable` decorator.\n",
        "\n",
        "Here we create a function that calculates the expectation value of given operators with given quantum state and returns the highest value. Using recorder feature you can store all estimates and retrieve the data outside of the function."
      ]
    },
    {
      "cell_type": "markdown",
      "metadata": {},
      "source": [
        "## Setup \n",
        "As an example for demonstration, we first create 10 random operators and a random quantum state. Then we implement a recordable function whose purpose is to estimate the expectation value of the 10 operators on the random state and return the maximal estimate."
      ]
    },
    {
      "cell_type": "code",
      "execution_count": null,
      "metadata": {},
      "outputs": [],
      "source": [
        "import random\n",
        "import numpy as np\n",
        "\n",
        "from quri_parts.circuit import QuantumCircuit\n",
        "from quri_parts.core.operator import Operator, PauliLabel\n",
        "from quri_parts.core.state.state_helper import quantum_state\n",
        "\n",
        "\n",
        "qubit_count = 5\n",
        "\n",
        "# create random state\n",
        "circuit = QuantumCircuit(qubit_count)\n",
        "for i in range(qubit_count):\n",
        "    circuit.add_RX_gate(i, random.random() * 2 * np.pi)\n",
        "    circuit.add_RY_gate(i, random.random() * 2 * np.pi)\n",
        "state = quantum_state(qubit_count, circuit=circuit)\n",
        "\n",
        "# create 10 random operators\n",
        "ops = []\n",
        "for _ in range(10):\n",
        "    coef = random.random()\n",
        "    p_ids = []\n",
        "    p_indices = []\n",
        "    for i in range(qubit_count):\n",
        "        id = random.randint(0, 3)\n",
        "        if id != 0:\n",
        "            p_ids.append(id)\n",
        "            p_indices.append(i)\n",
        "    ops.append(Operator({PauliLabel.from_index_and_pauli_list(p_indices, p_ids): coef}))"
      ]
    },
    {
      "cell_type": "markdown",
      "metadata": {},
      "source": [
        "## Implement and run the recordable function\n",
        "\n",
        "Here, we implement the `return_highest_estimate` function that iterates over a list of random `Operator`s and a quantum state for estimation."
      ]
    },
    {
      "cell_type": "code",
      "execution_count": null,
      "metadata": {},
      "outputs": [],
      "source": [
        "from quri_parts.core.utils.recording import Recorder, recordable\n",
        "from quri_parts.qulacs.estimator import create_qulacs_vector_estimator\n",
        "from quri_parts.core.state import CircuitQuantumState\n",
        "\n",
        "# This function returns the highest expectation value of the given operators\n",
        "# Add @recordable decorator to the function to make it recordable\n",
        "@recordable\n",
        "def return_highest_estimate(\n",
        "    recorder: Recorder, ops: list[Operator], state: CircuitQuantumState\n",
        ") -> float:\n",
        "    estimator = create_qulacs_vector_estimator()\n",
        "    est_vals = []\n",
        "    for i, op in enumerate(ops):\n",
        "        est_vals.append(estimator(op, state).value.real)\n",
        "        recorder.info(\"expectation value {}\".format(i), est_vals[i])\n",
        "        recorder.debug(\"operator\", op)\n",
        "    return max(est_vals)"
      ]
    },
    {
      "cell_type": "markdown",
      "metadata": {},
      "source": [
        "Note that a recordable function is supposed to take a `Recorder` as its first argument. However, with the help of the `@recordable` decorator, you can ignore the `recorder` argument when you just want to call it like a regular function. In this case, nothing will be reocorded."
      ]
    },
    {
      "cell_type": "code",
      "execution_count": null,
      "metadata": {},
      "outputs": [
        {
          "data": {
            "text/plain": [
              "0.1021413350439432"
            ]
          },
          "execution_count": 3,
          "metadata": {},
          "output_type": "execute_result"
        }
      ],
      "source": [
        "return_highest_estimate(ops, state)"
      ]
    },
    {
      "cell_type": "markdown",
      "metadata": {},
      "source": [
        "Calling it like a usual function does not record anything. To activate recording, you would need to create a `RecordingSession`. Afterwards, we need to set the recording level the function. We provide 2 recording levels `INFO` and `DEBUG`.\n",
        "\n",
        "- When logging level is `INFO`, only data recorded by `.info` in a recordable function will be recorded.\n",
        "- When logging level is `DEBUG`, data recorded by `.info` and `.debug` in a recordable function will both be recorded.\n",
        "\n",
        "With this in mind, let's present how to perform recording."
      ]
    },
    {
      "cell_type": "code",
      "execution_count": null,
      "metadata": {},
      "outputs": [
        {
          "name": "stdout",
          "output_type": "stream",
          "text": [
            "Highest estimate: 0.1021413350439432\n"
          ]
        }
      ],
      "source": [
        "from quri_parts.core.utils.recording import INFO, RecordSession\n",
        "\n",
        "# Create a record session and set the record level\n",
        "session = RecordSession()\n",
        "session.set_level(INFO, return_highest_estimate)\n",
        "\n",
        "# Create a record context and run the function in it\n",
        "with session.start():\n",
        "    # You don't need to pass the recorder to the function when you call it\n",
        "    highest = return_highest_estimate(ops, state)\n",
        "    print(f\"Highest estimate: {highest}\")"
      ]
    },
    {
      "cell_type": "markdown",
      "metadata": {},
      "source": [
        "Finally, let's retrieve the data from the record session. Each call to a recordable function creates a `RecordGroup`. A `RecordGroup` contains all the values recodered inside a recordable function. In this case, `return_highest_estimate` is only called once in the session. Thus only 1 group is present. The data is retrieved by:"
      ]
    },
    {
      "cell_type": "code",
      "execution_count": null,
      "metadata": {},
      "outputs": [
        {
          "name": "stdout",
          "output_type": "stream",
          "text": [
            "RecordGroup(\n",
            "  func_id: __main__.return_highest_estimate,\n",
            "  entries: [\n",
            "    INFO:__main__.return_highest_estimate:('expectation value 0', 0.005362605340838037),\n",
            "    INFO:__main__.return_highest_estimate:('expectation value 1', -0.014474899729036051),\n",
            "    INFO:__main__.return_highest_estimate:('expectation value 2', -0.8579842355246938),\n",
            "    INFO:__main__.return_highest_estimate:('expectation value 3', -0.009675019926336322),\n",
            "    INFO:__main__.return_highest_estimate:('expectation value 4', 0.1021413350439432),\n",
            "    INFO:__main__.return_highest_estimate:('expectation value 5', -0.052663804784036324),\n",
            "    INFO:__main__.return_highest_estimate:('expectation value 6', 0.0006976455786803415),\n",
            "    INFO:__main__.return_highest_estimate:('expectation value 7', 0.028763410883260798),\n",
            "    INFO:__main__.return_highest_estimate:('expectation value 8', -0.00943261636079905),\n",
            "    INFO:__main__.return_highest_estimate:('expectation value 9', -0.035973003036850394),\n",
            "  ]\n",
            ")\n",
            "Estimates:\n",
            "[-0.8579842355246938, -0.052663804784036324, -0.035973003036850394, -0.014474899729036051, -0.009675019926336322, -0.00943261636079905, 0.0006976455786803415, 0.005362605340838037, 0.028763410883260798, 0.1021413350439432]\n"
          ]
        }
      ],
      "source": [
        "rec_group = list(session.get_records().get_history(return_highest_estimate))[0]\n",
        "print(rec_group)\n",
        "\n",
        "estimates = [entry.data[1] for entry in rec_group.entries]\n",
        "print(\"Estimates:\")\n",
        "print(sorted(estimates))"
      ]
    },
    {
      "cell_type": "markdown",
      "metadata": {},
      "source": [
        "For completeness, we also show what happens if the record level is set to `DEBUG`."
      ]
    },
    {
      "cell_type": "code",
      "execution_count": null,
      "metadata": {},
      "outputs": [
        {
          "name": "stdout",
          "output_type": "stream",
          "text": [
            "RecordGroup(\n",
            "  func_id: __main__.return_highest_estimate,\n",
            "  entries: [\n",
            "    INFO:__main__.return_highest_estimate:('expectation value 0', 0.005362605340838037),\n",
            "    DEBUG:__main__.return_highest_estimate:('operator', {PauliLabel({(1, 1), (0, 3), (4, 1), (3, 3)}): 0.16992698807498363}),\n",
            "    INFO:__main__.return_highest_estimate:('expectation value 1', -0.014474899729036051),\n",
            "    DEBUG:__main__.return_highest_estimate:('operator', {PauliLabel({(2, 3), (1, 1), (0, 3), (3, 1)}): 0.12553815100764432}),\n",
            "    INFO:__main__.return_highest_estimate:('expectation value 2', -0.8579842355246938),\n",
            "    DEBUG:__main__.return_highest_estimate:('operator', {PauliLabel({(4, 2)}): 0.8704939578861669}),\n",
            "    INFO:__main__.return_highest_estimate:('expectation value 3', -0.009675019926336322),\n",
            "    DEBUG:__main__.return_highest_estimate:('operator', {PauliLabel({(0, 1), (1, 2), (2, 1)}): 0.5777420680384585}),\n",
            "    INFO:__main__.return_highest_estimate:('expectation value 4', 0.1021413350439432),\n",
            "    DEBUG:__main__.return_highest_estimate:('operator', {PauliLabel({(1, 2), (3, 3), (4, 2)}): 0.24594316144478523}),\n",
            "    INFO:__main__.return_highest_estimate:('expectation value 5', -0.052663804784036324),\n",
            "    DEBUG:__main__.return_highest_estimate:('operator', {PauliLabel({(0, 1), (1, 1), (3, 2)}): 0.17277183082697856}),\n",
            "    INFO:__main__.return_highest_estimate:('expectation value 6', 0.0006976455786803415),\n",
            "    DEBUG:__main__.return_highest_estimate:('operator', {PauliLabel({(2, 3), (3, 3), (1, 3), (4, 1)}): 0.26586144825708646}),\n",
            "    INFO:__main__.return_highest_estimate:('expectation value 7', 0.028763410883260798),\n",
            "    DEBUG:__main__.return_highest_estimate:('operator', {PauliLabel({(3, 1), (1, 1), (4, 2), (2, 3), (0, 2)}): 0.3788376395360946}),\n",
            "    INFO:__main__.return_highest_estimate:('expectation value 8', -0.00943261636079905),\n",
            "    DEBUG:__main__.return_highest_estimate:('operator', {PauliLabel({(0, 1), (4, 3), (3, 1), (2, 2)}): 0.9499744000925475}),\n",
            "    INFO:__main__.return_highest_estimate:('expectation value 9', -0.035973003036850394),\n",
            "    DEBUG:__main__.return_highest_estimate:('operator', {PauliLabel({(1, 1), (0, 2), (2, 3)}): 0.1165934189303991}),\n",
            "  ]\n",
            ")\n"
          ]
        }
      ],
      "source": [
        "from quri_parts.core.utils.recording import DEBUG\n",
        "\n",
        "# Create a record session and set the record level\n",
        "debug_session = RecordSession()\n",
        "debug_session.set_level(DEBUG, return_highest_estimate)\n",
        "\n",
        "# Create a record context and run the function in it\n",
        "with debug_session.start():\n",
        "    # You don't need to pass the recorder to the function when you call it\n",
        "    highest = return_highest_estimate(ops, state)\n",
        "\n",
        "\n",
        "print(\n",
        "    next(debug_session.get_records().get_history(return_highest_estimate))\n",
        ")"
      ]
    }
  ],
  "metadata": {
    "language_info": {
      "name": "python",
      "pygments_lexer": "ipython3"
    }
  },
  "nbformat": 4,
  "nbformat_minor": 2
}
