{
  "cells": [
    {
      "cell_type": "markdown",
      "id": "134fe285",
      "metadata": {},
      "source": [
        "# Noisy simulation\n",
        "\n",
        "Quantum circuits running on real machines are affected by a variety of stochastic noises. In QURI Parts, noise models can be defined to represent these noises and reproduce them on simulators. (Qulacs is used in this tutorial.)"
      ]
    },
    {
      "cell_type": "markdown",
      "id": "6cd7f522",
      "metadata": {},
      "source": [
        "## Prerequisite\n",
        "\n",
        "QURI Parts modules used in this tutorial: `quri-parts-circuit`, `quri-parts-core`, and `quri-parts-qulacs`. You can install them as follows:"
      ]
    },
    {
      "cell_type": "code",
      "execution_count": null,
      "id": "225d59a3",
      "metadata": {},
      "outputs": [],
      "source": [
        "!pip install \"quri-parts[qulacs]\""
      ]
    },
    {
      "cell_type": "markdown",
      "id": "646ede10",
      "metadata": {},
      "source": [
        "## Overview"
      ]
    },
    {
      "cell_type": "markdown",
      "id": "20e75b55",
      "metadata": {},
      "source": [
        "### Prepare a circuit\n",
        "\n",
        "First, prepare a circuit to apply noise."
      ]
    },
    {
      "cell_type": "code",
      "execution_count": null,
      "id": "99e9c319",
      "metadata": {},
      "outputs": [],
      "source": [
        "from quri_parts.circuit import QuantumCircuit\n",
        "circuit = QuantumCircuit(3)\n",
        "circuit.add_H_gate(2)\n",
        "circuit.add_X_gate(0)\n",
        "circuit.add_CNOT_gate(2, 1)\n",
        "circuit.add_Z_gate(2)"
      ]
    },
    {
      "cell_type": "markdown",
      "id": "c50be918",
      "metadata": {},
      "source": [
        "### Create a noise model\n",
        "\n",
        "Next, create a noise model. Create several `NoiseInstruction`s that represent noises and their application conditions, and add them to `NoiseModel`.\n",
        "\n",
        "(This is a noise model to illustrate API functionality and is not a realistic example. Noise models should be adjusted to match the characteristics of the actual equipment of interest.)"
      ]
    },
    {
      "cell_type": "code",
      "execution_count": null,
      "id": "0691a2fd",
      "metadata": {},
      "outputs": [],
      "source": [
        "import quri_parts.circuit.gate_names as gate_names\n",
        "from quri_parts.circuit.noise import (\n",
        "    BitFlipNoise,\n",
        "    BitPhaseFlipNoise,\n",
        "    DepolarizingNoise,\n",
        "    DepthIntervalNoise,\n",
        "    MeasurementNoise,\n",
        "    NoiseModel,\n",
        "    PauliNoise,\n",
        "    PhaseFlipNoise,\n",
        ")\n",
        "noises = [\n",
        "    # Single qubit noise\n",
        "    BitFlipNoise(\n",
        "        error_prob=0.004,\n",
        "        qubit_indices=[0, 2],  # Qubit 0 or 2\n",
        "        target_gates=[gate_names.H, gate_names.CNOT],  # H or CNOT gates\n",
        "    ),\n",
        "    DepolarizingNoise(\n",
        "        error_prob=0.003,\n",
        "        qubit_indices=[],  # All qubits\n",
        "        target_gates=[gate_names.X, gate_names.CNOT]  # X or CNOT gates\n",
        "    ),\n",
        "    PhaseFlipNoise(\n",
        "        error_prob=0.002,\n",
        "        qubit_indices=[1, 0],  # Qubit 0 or 1\n",
        "        target_gates=[]  # All kind of gates\n",
        "    ),\n",
        "    BitPhaseFlipNoise(\n",
        "        error_prob=0.001,\n",
        "        qubit_indices=[],  # All qubits\n",
        "        target_gates=[],  # All kind of gates\n",
        "    ),\n",
        "    \n",
        "    # Multi qubit noise\n",
        "    PauliNoise(\n",
        "        pauli_list=[[1, 2], [2, 3]],\n",
        "        prob_list=[0.001, 0.002],\n",
        "        qubit_indices=[1, 2],  # 2 qubit gates applying to qubits (1, 2) or (2, 1)\n",
        "        target_gates=[gate_names.CNOT]  # CNOT gates\n",
        "    ),\n",
        "    \n",
        "    # Circuit noise\n",
        "    DepthIntervalNoise([PhaseFlipNoise(0.001)], depth_interval=5),\n",
        "    MeasurementNoise([BitFlipNoise(0.004), DepolarizingNoise(0.003)]),\n",
        "]\n",
        "model = NoiseModel(noises)"
      ]
    },
    {
      "cell_type": "markdown",
      "id": "f7cc7293",
      "metadata": {},
      "source": [
        "For single qubit noises, you can specify the target qubit indices and the target gate names. If the argument is omitted or an empty list is given, all qubits or gates are treated as targets.\n",
        "\n",
        "The method to specify application condition is similar for multi qubit noises, but the target qubit indices requires the complete set of qubits (in any order) for the target gate. The noise is applied to the qubits sorted as specified in the target gate. For example, if the target gate is specified as CNOT(5, 3), then the noise applied to the qubits (5, 3) not (3, 5)."
      ]
    },
    {
      "cell_type": "markdown",
      "id": "1c80a22a",
      "metadata": {},
      "source": [
        "## Interface\n",
        "\n",
        "This section is devoted to introduce the `NoiseInstruction` interface and various `NoiseInstruction`s provided by QURI Parts. The `NoiseInstruction` is a type alias that represents 2 types of noise instructions:\n",
        "\n",
        "- `CircuitNoiseInstruction`: Represents the noise applied depending on the structure of the\n",
        "    circuit.\n",
        "- `GateNoiseInstruction`: Represents the noise that is applied when individual gates act on\n",
        "    qubits."
      ]
    },
    {
      "cell_type": "markdown",
      "id": "e063e236",
      "metadata": {},
      "source": [
        "### `CircuitNoiseInstruction`\n",
        "\n",
        "A `CircuitNoiseInstruction` represents the noise applied depending on the structure of the circuit. Here are the list of `CircuitNoiseInstruction` QURI Parts provide.\n",
        "\n",
        "| Name               | Description                                                                                               | Input                                     |\n",
        "| ------------------ | --------------------------------------------------------------------------------------------------------- | ----------------------------------------- |\n",
        "| GateIntervalNoise  | For each qubit, given single qubit noises are applied each time a certain number of gates are applied.    | - single_qubit_noises<br />- gate_interval  |\n",
        "| DepthIntervalNoise | Apply the given single qubit GateNoiseInstruction to all qubits every time a certain depth is advanced.   | - single_qubit_noises<br />- depth_interval |\n",
        "| MeasurementNoise   | Noise which occurs during the measurement of a qubit| - single_qubit_noises<br />- qubit_indices  |"
      ]
    },
    {
      "cell_type": "markdown",
      "id": "a69a89b1",
      "metadata": {},
      "source": [
        "### `GateNoiseInstruction`\n",
        "\n",
        "`GateNoiseInstruction` represents the noise that is applied when individual gates act on qubits. It is a dataclass with the following attributes:\n",
        "\n",
        "- name: Name of the noise.\n",
        "- qubit_count: Number of qubits this error affects.\n",
        "- params: Parameters such as error probability, etc. (Depends on the concrete error type.)\n",
        "- qubit_indices: Indices of qubits this error affects.\n",
        "- target_gates: Gates affected by this error.\n",
        "\n",
        "QURI Parts provide several implemetations of `GateNoiseInstruction`s and some special sub-types of them, which we list in later subsections:"
      ]
    },
    {
      "cell_type": "markdown",
      "id": "26d71bc2",
      "metadata": {},
      "source": [
        "#### Basic `GateNoiseInstruction`\n",
        "\n",
        "Here, we first start with the basic implementations of `GateNoiseInstruction`. They are constructed with 3 parameters:\n",
        "\n",
        "- error_prob: The probability the noise causes error.\n",
        "- qubit_indices: The qubit on which the noise can occur. If nothing is passed it, it indicates that the noise can happen on all the qubits in the circuit.\n",
        "- target_gates: The gates that can generate the noise. If nothing is passed it, it indicates that all the gates are subjected to the noise.\n",
        "\n",
        "Here we list out these errors:\n",
        "\n",
        "| Name              | Description                            | Input                                             |\n",
        "| ----------------- | -------------------------------------- | ------------------------------------------------- |\n",
        "| BitFlipNoise      | Single qubit bit flip noise            | - error_prob<br />- qubit_indices<br />- target_gates |\n",
        "| PhaseFlipNoise    | Single qubit phase flip noise          | - error_prob<br />- qubit_indices<br />- target_gates |\n",
        "| BitPhaseFlipNoise | Single qubit bit and phase flip noise. | - error_prob<br />- qubit_indices<br />- target_gates |\n",
        "| DepolarizingNoise | Single qubit depolarizing noise.       | - error_prob<br />- qubit_indices<br />- target_gates |"
      ]
    },
    {
      "cell_type": "markdown",
      "id": "d97846b7",
      "metadata": {},
      "source": [
        "#### `PauliNoise`\n",
        "\n",
        "`PauliNoise` is a subtype of `GateNoiseInstruction` that involves Pauli gates acting on multiple qubits. We summarize the `PauliNoise` that QURI Parts provide. Note that in the input column, we omit the arguments `qubit_indices` and `target_gates` as all the noise instructions require them. We also include the formula of the density matrix after the noise is applied to the state.\n",
        "\n",
        "| Name                     | Description                            | Input                                             |   Density matrix after noise|\n",
        "| ------------------------ | -------------------------------------- | ------------------------------------------------- | --- |\n",
        "| PauliNoise               | Multi qubit Pauli noise.               | - pauli_list<br />- prob_list<br />- eq_tolerance |  $ \\sum_{i}p_i P_{i} \\rho P_{i} + (1-\\sum_{i}p_i)\\rho $ |\n",
        "| GeneralDepolarizingNoise | Multi qubit general depolarizing noise | - error_prob<br />- qubit_count                   |  $\\frac{p}{4^n - 1} \\sum_{i_1=0}^3 \\cdots \\sum_{i_n=0}^3 E_{i_1 \\cdots i_n} \\rho E_{i_1 \\cdots i_n} + (1-p)\\rho$ |\n",
        "\n",
        "\n",
        "Here note that in the `GeneralDepolarizingNoise`, the operator $E_{i_1\\cdots i_n}$ is given by products of Pauli matrices:\n",
        "$$\n",
        "\\begin{equation}\n",
        "    E_{i_i\\cdots i_n} = X_{i_1} \\cdots X_{i_n}\n",
        "\\end{equation}\n",
        "$$\n",
        "And note that the summation in the first term does not include $\\{i_1, \\cdots, i_n \\} = \\{0, \\cdots, 0\\}$."
      ]
    },
    {
      "cell_type": "markdown",
      "id": "1eb5a095",
      "metadata": {},
      "source": [
        "#### Kraus Noises\n",
        "\n",
        "We also provide another sub-type of `GateNoiseInstruction`: the `AbstractKrausNoise`. It is a `GateNoiseInstruction` with a `kraus_operators` property which returns the list of explicit [Kraus operator](https://en.wikipedia.org/wiki/Quantum_operation#Kraus_operators) matrices that defines the noise. Here, we list out all of them. Note that in the \"input\" column, we omit the `qubit_indices` and `target_gates` arguments as all the `GateNoiseInstruction` require them.\n",
        "\n",
        "\n",
        "| Name                       | Description                                     | Input                                                                                              |\n",
        "| -------------------------- | ----------------------------------------------- | -------------------------------------------------------------------------------------------------- |\n",
        "| KrausNoise                 | Multi qubit Kraus noise                         | - kraus_list: list of Kraus operator matrices                                                      |\n",
        "| ResetNoise                 | Single qubit reset noise.                       | - p0: Probability of resetting to $\\|0\\rangle$<br />- p1: Probability of resetting to $\\|1\\rangle$ |\n",
        "| PhaseDampingNoise          | Single qubit phase damping noise.               | - phase_damping_rate                                                                               |\n",
        "| AmplitudeDampingNoise      | Single qubit amplitude damping noise.           | - amplitude_damping_rate<br />- excited_state_population                                             |\n",
        "| PhaseAmplitudeDampingNoise | Single qubit phase and amplitude damping noise. | - phase_damping_rate<br />- amplitude_damping_rate<br />- excited_state_population                     |\n",
        "| ThermalRelaxationNoise     | Sigle qubit thermal relaxation noise.           | - t1<br />- t2<br />- gate_time<br />- excited_state_population                                          |\n",
        "\n",
        "For example, let's look at the reset noise:"
      ]
    },
    {
      "cell_type": "code",
      "execution_count": null,
      "id": "b71e87aa",
      "metadata": {},
      "outputs": [
        {
          "data": {
            "text/plain": [
              "[[[0.8944271909999159, 0.0], [0.0, 0.8944271909999159]],\n",
              " [[0.2, 0.0], [0.0, 0.0]],\n",
              " [[0.0, 0.2], [0.0, 0.0]],\n",
              " [[0.0, 0.0], [0.4, 0.0]],\n",
              " [[0.0, 0.0], [0.0, 0.4]]]"
            ]
          },
          "execution_count": 4,
          "metadata": {},
          "output_type": "execute_result"
        }
      ],
      "source": [
        "from quri_parts.circuit.noise import ResetNoise\n",
        "\n",
        "reset_noise = ResetNoise(p0=0.04, p1=0.16)\n",
        "reset_noise.kraus_operators"
      ]
    },
    {
      "cell_type": "markdown",
      "id": "014a82f8",
      "metadata": {},
      "source": [
        "### `NoiseModel`\n",
        "\n",
        "Finally, we introduce the `NoiseModel` object. It is the object in QURI Parts that represents a noise model containing multiple `GateNoiseInstruction`s and `CircuitNoiseInstrction`s. It is also the object that is passed around to create noisy circuit in QURI Parts. A `NoiseModel` is created by a sequence of `NoiseInstruction`s. Please note that the noise do not commute with each other, so that the order in the sequence of `NoiseInstruction` matters.\n",
        "\n",
        "It also provides some convenient methods for us to modify our model. For example, we can use `add_noise` and `extend` to add noise instructions to the model:"
      ]
    },
    {
      "cell_type": "code",
      "execution_count": null,
      "id": "92001330",
      "metadata": {},
      "outputs": [],
      "source": [
        "model = NoiseModel([\n",
        "    BitFlipNoise(\n",
        "        error_prob=0.004,\n",
        "        qubit_indices=[0, 2],\n",
        "        target_gates=[gate_names.H, gate_names.CNOT],\n",
        "    ),\n",
        "    DepolarizingNoise(\n",
        "        error_prob=0.003,\n",
        "        target_gates=[gate_names.X, gate_names.CNOT]\n",
        "    ),\n",
        "])\n",
        "\n",
        "# Add a single instruction\n",
        "model.add_noise(PhaseFlipNoise(error_prob=0.002, qubit_indices=[1, 0]))\n",
        "model.add_noise(BitPhaseFlipNoise(error_prob=0.001,))\n",
        "    \n",
        "# Add a sequence of instructions\n",
        "model.extend([\n",
        "    PauliNoise(\n",
        "        pauli_list=[[1, 2], [2, 3]],\n",
        "        prob_list=[0.001, 0.002],\n",
        "        qubit_indices=[1, 2],\n",
        "        target_gates=[gate_names.CNOT]\n",
        "    ),\n",
        "    DepthIntervalNoise([PhaseFlipNoise(0.001)], depth_interval=5),\n",
        "    MeasurementNoise([BitFlipNoise(0.004), DepolarizingNoise(0.003)])\n",
        "])"
      ]
    },
    {
      "cell_type": "markdown",
      "id": "bb1a0b82",
      "metadata": {},
      "source": [
        "We also provide `.noises_for_circuit` to inspect the `CircuitNoiseInstrcution`s in the model. `.noises_for_gate` identify the gate noise applied to a gate on a particular"
      ]
    },
    {
      "cell_type": "code",
      "execution_count": null,
      "id": "3a252ff1",
      "metadata": {},
      "outputs": [
        {
          "name": "stdout",
          "output_type": "stream",
          "text": [
            "Circuit noises: <quri_parts.rust.circuit.noise.CircuitNoiseInstance object at 0x7f8973991760>\n",
            "\n",
            "Gate noise on X(0):\n",
            "((0,), <quri_parts.rust.circuit.noise.GateNoiseInstruction object at 0x7f897396f130>)\n",
            "((0,), <quri_parts.rust.circuit.noise.GateNoiseInstruction object at 0x7f897396e4f0>)\n",
            "((0,), <quri_parts.rust.circuit.noise.GateNoiseInstruction object at 0x7f897396f210>)\n"
          ]
        }
      ],
      "source": [
        "from quri_parts.circuit import X\n",
        "\n",
        "print(\"Circuit noises:\", model.noises_for_circuit())\n",
        "\n",
        "print(\"\")\n",
        "print(\"Gate noise on X(0):\")\n",
        "for noise in model.noises_for_gate(X(0)):\n",
        "    print(noise)"
      ]
    },
    {
      "cell_type": "markdown",
      "id": "a965dcbc",
      "metadata": {},
      "source": [
        "## Simulating noisy system with Qulacs"
      ]
    },
    {
      "cell_type": "markdown",
      "id": "db6420e3",
      "metadata": {},
      "source": [
        "### Convert circuit with noise model\n",
        "\n",
        "If you need a Qulacs circuit with the noise model applied directly, the following circuit conversion function is provided. For purposes such as sampling or estimation, it is usually not necessary for the user to perform this conversion. However, if you choose to work with Qulacs directly, please check out the [Qulacs tutorial for noisy simulation](https://docs.qulacs.org/en/latest/guide/2.0_python_advanced.html#NoiseSimulator)."
      ]
    },
    {
      "cell_type": "code",
      "execution_count": null,
      "id": "f232d54e",
      "metadata": {},
      "outputs": [],
      "source": [
        "from quri_parts.qulacs.circuit.noise import convert_circuit_with_noise_model\n",
        "qulacs_circuit = convert_circuit_with_noise_model(circuit, model)"
      ]
    },
    {
      "cell_type": "markdown",
      "id": "f79a43bd",
      "metadata": {},
      "source": [
        "### Sampling simulation with Qulacs\n",
        "\n",
        "For sampling, several functions are provided to create a Sampler with a noise model applied."
      ]
    },
    {
      "cell_type": "code",
      "execution_count": null,
      "id": "708d1bb1",
      "metadata": {},
      "outputs": [
        {
          "data": {
            "text/plain": [
              "Counter({1: 488, 7: 482, 3: 13, 5: 11, 0: 4, 6: 2})"
            ]
          },
          "execution_count": 8,
          "metadata": {},
          "output_type": "execute_result"
        }
      ],
      "source": [
        "from quri_parts.qulacs.sampler import create_qulacs_density_matrix_sampler\n",
        "density_matrix_sampler = create_qulacs_density_matrix_sampler(model)\n",
        "counts = density_matrix_sampler(circuit, shots=1000)\n",
        "counts"
      ]
    },
    {
      "cell_type": "code",
      "execution_count": null,
      "id": "69e63856",
      "metadata": {},
      "outputs": [
        {
          "data": {
            "text/plain": [
              "Counter({7: 493, 1: 475, 3: 14, 5: 10, 6: 6, 0: 2})"
            ]
          },
          "execution_count": 9,
          "metadata": {},
          "output_type": "execute_result"
        }
      ],
      "source": [
        "from quri_parts.qulacs.sampler import create_qulacs_stochastic_state_vector_sampler\n",
        "stochastic_state_vector_sampler = create_qulacs_stochastic_state_vector_sampler(model)\n",
        "counts = stochastic_state_vector_sampler(circuit, shots=1000)\n",
        "counts"
      ]
    },
    {
      "cell_type": "markdown",
      "id": "22b1e7c8",
      "metadata": {},
      "source": [
        "Density matrix sampler (created by `create_qulacs_density_matrix_sampler()`) uses the density matrix for calculating measurement probability for sampling, while stochastic state vector sampler (created by `create_qulacs_stochastic_state_vector_sampler()`) performs sampling by repeating stochastic state vector simulation for a specified shot count. The computation time varies with the type of circuit, but in general, stochastic state vector sampler is advantageous when the number of shots is less than about 10^3.\n",
        "\n",
        "The usage of `Sampler` with noise model is the same as that of other `Sampler`, except that a `NoiseModel` should be given on creation. As with regular `Sampler`, there are versions that support concurrent execution. Please refer to the API documentation and [the sampler tutorial](../1_sampler/index.md) for details on how to use `Sampler`."
      ]
    },
    {
      "cell_type": "markdown",
      "id": "fca65c72",
      "metadata": {},
      "source": [
        "### Estimation of operator expectation value with Qulacs\n",
        "\n",
        "Also for estimation, you can create an `Estimator` with noise model applied."
      ]
    },
    {
      "cell_type": "code",
      "execution_count": null,
      "id": "083aebb3",
      "metadata": {},
      "outputs": [],
      "source": [
        "from quri_parts.qulacs.estimator import create_qulacs_density_matrix_estimator\n",
        "density_matrix_estimator = create_qulacs_density_matrix_estimator(model)"
      ]
    },
    {
      "cell_type": "markdown",
      "id": "d7465268",
      "metadata": {},
      "source": [
        "Simillar to the `Sampler` case, the usage of `Estimator` with noise model is the same as that of other `Estimator`s, except that a `NoiseModel` should be given on creation. As with regular `Estimator`, there are versions that support parametric circuit and/or concurrent execution. Please refer to the API documentation and [Estimator tutorial](../4_estimators/index.md) for details on how to use `Estimator`.\n",
        "\n",
        "Finally, let's take a simple example to see the noise model is working. Create a circuit with only one X gate applied and calculate the expectation value with an empty noise model."
      ]
    },
    {
      "cell_type": "code",
      "execution_count": null,
      "id": "26d6fd0c",
      "metadata": {},
      "outputs": [
        {
          "data": {
            "text/plain": [
              "(-1+0j)"
            ]
          },
          "execution_count": 11,
          "metadata": {},
          "output_type": "execute_result"
        }
      ],
      "source": [
        "from quri_parts.core.operator import pauli_label\n",
        "from quri_parts.core.state import quantum_state\n",
        "\n",
        "circuit = QuantumCircuit(1)\n",
        "circuit.add_X_gate(0)\n",
        "state = quantum_state(1, circuit=circuit)\n",
        "\n",
        "pauli = pauli_label(\"Z0\")\n",
        "\n",
        "empty_model = NoiseModel()\n",
        "\n",
        "estimator = create_qulacs_density_matrix_estimator(empty_model)\n",
        "estimate = estimator(pauli, state)\n",
        "estimate.value"
      ]
    },
    {
      "cell_type": "markdown",
      "id": "a085454e",
      "metadata": {},
      "source": [
        "The result is as expected. Now let's add a bit flip noise with probability 0.5 to the noise model."
      ]
    },
    {
      "cell_type": "code",
      "execution_count": null,
      "id": "928a779c",
      "metadata": {},
      "outputs": [
        {
          "data": {
            "text/plain": [
              "0j"
            ]
          },
          "execution_count": 12,
          "metadata": {},
          "output_type": "execute_result"
        }
      ],
      "source": [
        "bitflip_model = NoiseModel([BitFlipNoise(0.5)])\n",
        "\n",
        "noised_estimator = create_qulacs_density_matrix_estimator(bitflip_model)\n",
        "noised_estimate = noised_estimator(pauli, state)\n",
        "noised_estimate.value"
      ]
    },
    {
      "cell_type": "markdown",
      "id": "64a4dc06",
      "metadata": {},
      "source": [
        "We are getting the expected effect."
      ]
    }
  ],
  "metadata": {
    "language_info": {
      "name": "python",
      "pygments_lexer": "ipython3"
    }
  },
  "nbformat": 4,
  "nbformat_minor": 5
}
