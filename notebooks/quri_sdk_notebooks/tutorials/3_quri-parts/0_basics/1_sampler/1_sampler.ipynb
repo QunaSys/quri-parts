{
  "cells": [
    {
      "cell_type": "markdown",
      "metadata": {},
      "source": [
        "# Sampler\n",
        "\n",
        "Unlike statevector simulation, *sampling measurements* are necessary in order to estimate expectation value of operators on a quantum computer. In sampling measurements, execution of a quantum circuit and a subsequent measurement of qubits are repeated multiple times. Estimation of expectation value of operators is then performed using statistics of the repeated measurements.\n",
        "\n",
        "To perform a sampling measurement of a circuit, you can use a `Sampler`. Here we introduce the definition of `Sampler` and explain how it can be created or executed."
      ]
    },
    {
      "cell_type": "markdown",
      "metadata": {},
      "source": [
        "## Prerequisite\n",
        "\n",
        "QURI Parts modules used in this tutorial: `quri-parts-circuit`, `quri-parts-core` and `quri-parts-qulacs`. You can install them as follows:"
      ]
    },
    {
      "cell_type": "code",
      "execution_count": null,
      "metadata": {},
      "outputs": [],
      "source": [
        "!pip install \"quri-parts[qulacs]\""
      ]
    },
    {
      "cell_type": "markdown",
      "metadata": {},
      "source": [
        "## Prepare a circuit\n",
        "\n",
        "As a preparation, we create a circuit to be sampled:"
      ]
    },
    {
      "cell_type": "code",
      "execution_count": null,
      "metadata": {},
      "outputs": [],
      "source": [
        "from math import pi\n",
        "from quri_parts.circuit import QuantumCircuit\n",
        "\n",
        "# A circuit with 4 qubits\n",
        "circuit = QuantumCircuit(4)\n",
        "circuit.add_X_gate(0)\n",
        "circuit.add_H_gate(1)\n",
        "circuit.add_Y_gate(2)\n",
        "circuit.add_CNOT_gate(1, 2)\n",
        "circuit.add_RX_gate(3, pi/4)"
      ]
    },
    {
      "cell_type": "markdown",
      "metadata": {},
      "source": [
        "## Interface"
      ]
    },
    {
      "cell_type": "markdown",
      "metadata": {},
      "source": [
        "When performing a sampling measurement for a circuit, you can use a `Sampler`. In QURI Parts, a `Sampler` represents a function that samples a specified (non-parametric) circuit by a specified times and returns the count statistics. In the case of an ideal Sampler, the return value corresponds to probabilities multiplied by shot count.\n",
        "\n",
        "In the case where sampling from multiple circuits is desired, QURI Parts also provide `ConcurrentSampler`, which is a function that samples from multiple (circuit, shot) pairs.\n",
        "\n",
        "`Sampler` and `ConcurrentSampler` are both abstract interfaces with the following function signatures:"
      ]
    },
    {
      "cell_type": "code",
      "execution_count": null,
      "metadata": {},
      "outputs": [],
      "source": [
        "from typing import Callable, Iterable, Mapping, Union\n",
        "from typing_extensions import TypeAlias\n",
        "\n",
        "from quri_parts.circuit import NonParametricQuantumCircuit\n",
        "\n",
        "#: MeasurementCounts represents count statistics of repeated measurements of a quantum\n",
        "#: circuit. Keys are observed bit patterns encoded in integers and values are counts\n",
        "#: of observation of the corresponding bit patterns.\n",
        "MeasurementCounts: TypeAlias = Mapping[int, Union[int, float]]\n",
        "\n",
        "#: Sampler represents a function that samples a specified (non-parametric) circuit by\n",
        "#: a specified times and returns the count statistics. In the case of an ideal Sampler,\n",
        "# the return value corresponds to probabilities multiplied by shot count.\n",
        "Sampler: TypeAlias = Callable[[NonParametricQuantumCircuit, int], MeasurementCounts]\n",
        "\n",
        "#: ConcurrentSampler represents a function that samples specified (non-parametric)\n",
        "#: circuits concurrently.\n",
        "ConcurrentSampler: TypeAlias = Callable[\n",
        "    [Iterable[tuple[NonParametricQuantumCircuit, int]]], Iterable[MeasurementCounts]\n",
        "]"
      ]
    },
    {
      "cell_type": "markdown",
      "metadata": {},
      "source": [
        "The `Sampler` itself (defined in `quri_parts.core.sampling`) is an abstract interface and you need a concrete instance to actually perform sampling. There are several implementations of `Sampler` interface, some of which use a circuit simulator while others use a real quantum computer."
      ]
    },
    {
      "cell_type": "markdown",
      "metadata": {},
      "source": [
        "## Create and execute sampler\n",
        "\n",
        "Let's create a sampler using state vector simulation with Qulacs and execute sampling with it."
      ]
    },
    {
      "cell_type": "code",
      "execution_count": null,
      "metadata": {},
      "outputs": [
        {
          "name": "stdout",
          "output_type": "stream",
          "text": [
            "Counter({5: 423, 3: 421, 11: 87, 13: 69})\n"
          ]
        }
      ],
      "source": [
        "from quri_parts.qulacs.sampler import create_qulacs_vector_sampler\n",
        "\n",
        "# Create the sampler\n",
        "sampler = create_qulacs_vector_sampler()\n",
        "sampling_result = sampler(circuit, shots=1000)\n",
        "print(sampling_result)"
      ]
    },
    {
      "cell_type": "markdown",
      "metadata": {},
      "source": [
        "`MeasurementCounts` is actually a python `dict` with keys are the observed bit patterns and values are counts."
      ]
    },
    {
      "cell_type": "markdown",
      "metadata": {},
      "source": [
        "## List of available samplers\n",
        "\n",
        "Here is the list of available samplers in QURI Parts. You can set the options for each simulator as the arguments of it's generating function."
      ]
    },
    {
      "cell_type": "markdown",
      "metadata": {},
      "source": [
        "| Module | Generating function | Noise | Type |\n",
        "| --- | --- | :---: | --- |\n",
        "| quri-parts-itensor | [create_itensor_mps_sampler](https://github.com/QunaSys/quri-parts/blob/b0016537bf24b4a235c181dd468a897605b95b7d/packages/itensor/quri_parts/itensor/sampler.py#L43)([Concurrent](https://github.com/QunaSys/quri-parts/blob/b0016537bf24b4a235c181dd468a897605b95b7d/packages/itensor/quri_parts/itensor/sampler.py#L90)) | ✘ | MPS |\n",
        "| quri-parts-qulacs | [create_qulacs_vector_sampler](https://github.com/QunaSys/quri-parts/blob/b0016537bf24b4a235c181dd468a897605b95b7d/packages/qulacs/quri_parts/qulacs/sampler.py#L71)([Concurrent](https://github.com/QunaSys/quri-parts/blob/b0016537bf24b4a235c181dd468a897605b95b7d/packages/qulacs/quri_parts/qulacs/sampler.py#L93))<br>[create_qulacs_vector_ideal_sampler](https://github.com/QunaSys/quri-parts/blob/b0016537bf24b4a235c181dd468a897605b95b7d/packages/qulacs/quri_parts/qulacs/sampler.py#L65)<br>[create_qulacs_stochastic_state_vector_sampler](https://github.com/QunaSys/quri-parts/blob/b0016537bf24b4a235c181dd468a897605b95b7d/packages/qulacs/quri_parts/qulacs/sampler.py#L107)([Concurrent](https://github.com/QunaSys/quri-parts/blob/b0016537bf24b4a235c181dd468a897605b95b7d/packages/qulacs/quri_parts/qulacs/sampler.py#L228))<br>[create_qulacs_density_matrix_sampler](https://github.com/QunaSys/quri-parts/blob/b0016537bf24b4a235c181dd468a897605b95b7d/packages/qulacs/quri_parts/qulacs/sampler.py#L128)([Concurrent](https://github.com/QunaSys/quri-parts/blob/b0016537bf24b4a235c181dd468a897605b95b7d/packages/qulacs/quri_parts/qulacs/sampler.py#L212))<br>[create_qulacs_density_matrix_ideal_sampler](https://github.com/QunaSys/quri-parts/blob/b0016537bf24b4a235c181dd468a897605b95b7d/packages/qulacs/quri_parts/qulacs/sampler.py#L152)<br>[create_qulacs_noisesimulator_sampler](https://github.com/QunaSys/quri-parts/blob/b0016537bf24b4a235c181dd468a897605b95b7d/packages/qulacs/quri_parts/qulacs/sampler.py#L171C19-L171C33)([Concurrent](https://github.com/QunaSys/quri-parts/blob/b0016537bf24b4a235c181dd468a897605b95b7d/packages/qulacs/quri_parts/qulacs/sampler.py#L244)) | ✘<br>✘<br>✔<br>✔<br>✔<br>✔ | Statevector<br>Statevector<br>Statevector<br>Density matrix<br>Density matrix<br>[NoiseSimulator](http://docs.qulacs.org/en/latest/api/classNoiseSimulator.html) |\n",
        "| quri-parts-stim | [create_stim_clifford_sampler](https://github.com/QunaSys/quri-parts/blob/b0016537bf24b4a235c181dd468a897605b95b7d/packages/stim/quri_parts/stim/sampler/__init__.py#L38)([Concurrent](https://github.com/QunaSys/quri-parts/blob/b0016537bf24b4a235c181dd468a897605b95b7d/packages/stim/quri_parts/stim/sampler/__init__.py#L60)) | ✘ | Clifford | "
      ]
    },
    {
      "cell_type": "markdown",
      "metadata": {},
      "source": [
        "You can also create a `Sampler` with `create_sampler_from_sampling_backend`([link](https://github.com/QunaSys/quri-parts/blob/b0016537bf24b4a235c181dd468a897605b95b7d/packages/core/quri_parts/core/sampling/__init__.py#L36)) in conjunction with `SamplingBackend`. Below is the list of SamplingBackend available in QURI Parts:"
      ]
    },
    {
      "cell_type": "markdown",
      "metadata": {},
      "source": [
        "| Module | Backend | Class |\n",
        "| --- | --- | --- |\n",
        "| quri-parts-braket | AWS Braket | [BraketSamplingBackend](https://github.com/QunaSys/quri-parts/blob/b0016537bf24b4a235c181dd468a897605b95b7d/packages/braket/quri_parts/braket/backend/sampling.py#L70) |\n",
        "| quri-parts-qiskit | Qiskit | [QiskitSamplingBackend](https://github.com/QunaSys/quri-parts/blob/b0016537bf24b4a235c181dd468a897605b95b7d/packages/qiskit/quri_parts/qiskit/backend/sampling.py#L69)<br>[QiskitRuntimeSamplingBackend](https://github.com/QunaSys/quri-parts/blob/b0016537bf24b4a235c181dd468a897605b95b7d/packages/qiskit/quri_parts/qiskit/backend/primitive.py#L93) |"
      ]
    },
    {
      "cell_type": "markdown",
      "metadata": {},
      "source": [
        "For more details please refer to the series of tutorials about sampling using real devices:\n",
        "\n",
        "- [Sampling backends](../7_real_devices/0_sampling_backends/index.md)\n",
        "- [Sampling on Braket’s real quantum computers](../7_real_devices/1_braket/index.md)\n",
        "- [Sampling on Qiskit’s real quantum computers](../7_real_devices/2_qiskit/index.md)\n"
      ]
    }
  ],
  "metadata": {
    "language_info": {
      "name": "python",
      "pygments_lexer": "ipython3"
    }
  },
  "nbformat": 4,
  "nbformat_minor": 4
}
