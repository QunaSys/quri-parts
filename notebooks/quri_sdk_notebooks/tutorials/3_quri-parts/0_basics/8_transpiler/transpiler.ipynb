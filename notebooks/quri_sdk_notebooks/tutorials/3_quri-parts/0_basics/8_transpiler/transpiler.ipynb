{
  "cells": [
    {
      "attachments": {},
      "cell_type": "markdown",
      "id": "134fe285",
      "metadata": {},
      "source": [
        "# Circuit transpiler\n",
        "\n",
        "For various reasons, we may want to convert a quantum circuit to another quantum circuit that is semantically equivalent.\n",
        "\n",
        "For example, if a particular backend supports only a particular gate set, the gate set must be converted. Also, if the qubits are implemented in a particular topology, a conversion may be necessary to make the circuit viable. Converting a semantically equivalent redundant representation to a more concise representation may reduce the execution time of the circuit, the error rate, and the number of qubits.\n",
        "\n",
        "These motivations can be broadly classified into two categories.\n",
        "\n",
        "1. Backend (hardware) adaptation\n",
        "2. Circuit optimization\n",
        "\n",
        "QURI Parts provides a variety of circuit transpilers for these purposes. Users can also prepare a new transpiler by combining existing transpilers or implementing one from scratch. This tutorial will show you how to handle circuit transpilers with QURI Parts."
      ]
    },
    {
      "attachments": {},
      "cell_type": "markdown",
      "id": "6cd7f522",
      "metadata": {},
      "source": [
        "## Prerequisite\n",
        "\n",
        "QURI Parts modules used in this tutorial: `quri-parts-circuit` and `quri-parts-core`. You can install them as follows:"
      ]
    },
    {
      "cell_type": "code",
      "execution_count": null,
      "id": "225d59a3",
      "metadata": {},
      "outputs": [],
      "source": [
        "!pip install \"quri-parts\""
      ]
    },
    {
      "cell_type": "markdown",
      "id": "ee013b6d",
      "metadata": {},
      "source": [
        "## Overview\n",
        "\n",
        "As an example, let's frist set up the following by circuit and apply the RZ set transpiler. The RZ set transpiler is a transpiler that converts the circuit to one that contains only X, SqrtX, CNOT, and RZ gates. This is done as follows. "
      ]
    },
    {
      "cell_type": "code",
      "execution_count": null,
      "id": "99e9c319",
      "metadata": {},
      "outputs": [
        {
          "name": "stdout",
          "output_type": "stream",
          "text": [
            "original:\n",
            "   ___                  \n",
            "  | X |                 \n",
            "--|1  |-----------------\n",
            "  |___|                 \n",
            "           ___          \n",
            "          |CX |         \n",
            "----------|2  |---------\n",
            "          |___|         \n",
            "   ___      |      ___  \n",
            "  | H |     |     | Z | \n",
            "--|0  |-----●-----|3  |-\n",
            "  |___|           |___| \n",
            "\n",
            "transpiled:\n",
            "   ___                                  \n",
            "  | X |                                 \n",
            "--|3  |---------------------------------\n",
            "  |___|                                 \n",
            "                           ___          \n",
            "                          |CX |         \n",
            "--------------------------|4  |---------\n",
            "                          |___|         \n",
            "   ___     ___     ___      |      ___  \n",
            "  |RZ |   |sqX|   |RZ |     |     |RZ | \n",
            "--|0  |---|1  |---|2  |-----●-----|5  |-\n",
            "  |___|   |___|   |___|           |___| \n"
          ]
        }
      ],
      "source": [
        "from quri_parts.circuit import QuantumCircuit\n",
        "from quri_parts.circuit.transpile import RZSetTranspiler\n",
        "from quri_parts.circuit.utils.circuit_drawer import draw_circuit\n",
        "\n",
        "circuit = QuantumCircuit(3)\n",
        "circuit.add_H_gate(2)\n",
        "circuit.add_X_gate(0)\n",
        "circuit.add_CNOT_gate(2, 1)\n",
        "circuit.add_Z_gate(2)\n",
        "\n",
        "print(\"original:\")\n",
        "draw_circuit(circuit)\n",
        "\n",
        "transpiler = RZSetTranspiler()\n",
        "transpiled_circuit = transpiler(circuit)\n",
        "\n",
        "print(\"\\ntranspiled:\")\n",
        "draw_circuit(transpiled_circuit)"
      ]
    },
    {
      "cell_type": "markdown",
      "id": "d3f7d3c9",
      "metadata": {},
      "source": [
        "The `RZSetTranspiler` here is a transpiler made up of multiple simpler transpilers. The goal of this tutorial would be to introduce the transpiler interface and explain how to build customized transpilers."
      ]
    },
    {
      "attachments": {},
      "cell_type": "markdown",
      "id": "20e75b55",
      "metadata": {},
      "source": [
        "## Transpiler interface\n",
        "\n",
        "All transpilers in QURI Parts are `CircuitTranspiler` and can convert `NonParametricQuantumCircuit` to another `NonParametricQuantumCircuit`."
      ]
    },
    {
      "cell_type": "code",
      "execution_count": null,
      "id": "d17d3fe0",
      "metadata": {},
      "outputs": [],
      "source": [
        "from typing import Callable\n",
        "from typing_extensions import TypeAlias\n",
        "from quri_parts.circuit import NonParametricQuantumCircuit\n",
        "\n",
        "CircuitTranspiler: TypeAlias = Callable[\n",
        "    [NonParametricQuantumCircuit], NonParametricQuantumCircuit\n",
        "]"
      ]
    },
    {
      "cell_type": "markdown",
      "id": "4391dee4",
      "metadata": {},
      "source": [
        "There are multiple types of transpiler to perform different kinds of transpilations. They are:\n",
        "\n",
        "- `GateDecomposer`: A transpiler that decomposes a gate if the gate meets specific condition set by the gate decomposer.\n",
        "- `GateKindDecomposer`: A transpiler that decomposes a gate for a specific type of gate. In other words, it is a `GateDecomposer` that checks if the gate name matches with the target gate's name.\n",
        "- `ParallelDecomposer`: A transpiler that composes multiple `GateKindDecomposer`s whose target gates are exclusive of each other. It iterates through the circuit once and decomposes all the type of gates set by the `ParallelDecomposer`.\n",
        "- `SequentialTranspiler`: A transpiler that composes multiple transpilers and performs the transpilation in sequence.\n"
      ]
    },
    {
      "cell_type": "markdown",
      "id": "f4d2a731",
      "metadata": {},
      "source": [
        "## Gate kind decomposer and gate decomposer\n",
        "\n",
        "We first introduce 2 types of basic transpilers that convert gates: `GateKindDecomposer` and `GateDecomposer`."
      ]
    },
    {
      "cell_type": "markdown",
      "id": "718b7671",
      "metadata": {},
      "source": [
        "### `GateDecomposer`\n",
        "\n",
        "As memtioned above a `GateDecomposer` is a transpiler that decomposes a gate if the gate meets certain conditions. In QURI Parts, two concrete implemetations of them are provided\n",
        "\n",
        "- `SingleQubitUnitaryMatrix2RYRZTranspiler`\n",
        "- `TwoQubitUnitaryMatrixKAKTranspiler`\n",
        "\n",
        "As the names suggest, these gate decomposers decomposes the gate if the gate is a unitary matrix gate acting on 1 qubit or 2 qubits respectively. Let's look at an example with `SingleQubitUnitaryMatrix2RYRZTranspiler`."
      ]
    },
    {
      "cell_type": "code",
      "execution_count": null,
      "id": "589aab9f",
      "metadata": {},
      "outputs": [
        {
          "name": "stdout",
          "output_type": "stream",
          "text": [
            "original circuit:\n",
            "   ___     ___  \n",
            "  |Mat|   |Mat| \n",
            "--|0  |---|1  |-\n",
            "  |___|   |   | \n",
            "          |   | \n",
            "          |   | \n",
            "----------|   |-\n",
            "          |___| \n",
            "\n",
            "transpiled circuit:\n",
            "   ___     ___     ___     ___  \n",
            "  |RZ |   |RY |   |RZ |   |Mat| \n",
            "--|0  |---|1  |---|2  |---|3  |-\n",
            "  |___|   |___|   |___|   |   | \n",
            "                          |   | \n",
            "                          |   | \n",
            "--------------------------|   |-\n",
            "                          |___| \n"
          ]
        }
      ],
      "source": [
        "from quri_parts.circuit.transpile import SingleQubitUnitaryMatrix2RYRZTranspiler\n",
        "from scipy.stats import unitary_group\n",
        "\n",
        "single_qubit_matrix = unitary_group.rvs(2)\n",
        "double_qubit_matrix = unitary_group.rvs(4)\n",
        "\n",
        "circuit = QuantumCircuit(2)\n",
        "circuit.add_UnitaryMatrix_gate([0], single_qubit_matrix)\n",
        "circuit.add_UnitaryMatrix_gate([0, 1], double_qubit_matrix)\n",
        "\n",
        "\n",
        "print(\"original circuit:\")\n",
        "draw_circuit(circuit)\n",
        "\n",
        "transpiler = SingleQubitUnitaryMatrix2RYRZTranspiler()\n",
        "transpiled_circuit = transpiler(circuit)\n",
        "\n",
        "print(\"\")\n",
        "print(\"transpiled circuit:\")\n",
        "draw_circuit(transpiled_circuit)"
      ]
    },
    {
      "cell_type": "markdown",
      "id": "59296fd5",
      "metadata": {},
      "source": [
        "From this example above, we see that while both gates are of type `UnitaryMatrix`, but the `GateDecomposer` `SingleQubitUnitaryMatrix2RYRZTranspiler` only takes effect on `UnitaryMatrix` gates acting on a single qubit, thus leaving the 2-qubit unitary matrix gate untouched during the transpilation. A `GateDecomposer` provides a `is_target_gate` to check if a gate is to be converted:"
      ]
    },
    {
      "cell_type": "code",
      "execution_count": null,
      "id": "ab71dc81",
      "metadata": {},
      "outputs": [
        {
          "name": "stdout",
          "output_type": "stream",
          "text": [
            "Single qubit unitary gate should be converted: True\n",
            "Double qubit unitary gate should be converted: False\n"
          ]
        }
      ],
      "source": [
        "print(\"Single qubit unitary gate should be converted:\", transpiler.is_target_gate(circuit.gates[0]))\n",
        "print(\"Double qubit unitary gate should be converted:\", transpiler.is_target_gate(circuit.gates[1]))"
      ]
    },
    {
      "cell_type": "markdown",
      "id": "0e2c07c9",
      "metadata": {},
      "source": [
        "### `GateKindDecomposer`\n",
        "\n",
        "The other type of basic gate transpiler is the `GateKindDecomposer`. It is a subtype of a `GateDecomposer` that checks if a gate's name matches that of the gate we want to transpile. It does not perform checks on other attributes of a `QuantumGate`. QURI Parts provides an enormous amount of them in the `quri_parts.circuit.transpile.gate_kind_decomposer` module. We suggest you to refer to the [API page](https://quri-parts.qunasys.com/quri_parts/circuit/quri_parts.circuit.transpile.gate_kind_decomposer) for the list of `GateKindDecomposer` we provide.\n",
        "\n",
        "\n",
        "As an exmaple, we introduce the `H2RZSqrtXTranspiler` that transpiles Hadamard gates to sequence of $R_z$ and $\\sqrt{X}$ gates."
      ]
    },
    {
      "cell_type": "code",
      "execution_count": null,
      "id": "17a617d0",
      "metadata": {},
      "outputs": [
        {
          "name": "stdout",
          "output_type": "stream",
          "text": [
            "original circuit:\n",
            "   ___  \n",
            "  | H | \n",
            "--|0  |-\n",
            "  |___| \n",
            "   ___  \n",
            "  | X | \n",
            "--|1  |-\n",
            "  |___| \n",
            "\n",
            "transpiled circuit:\n",
            "   ___     ___     ___  \n",
            "  |RZ |   |sqX|   |RZ | \n",
            "--|0  |---|1  |---|2  |-\n",
            "  |___|   |___|   |___| \n",
            "   ___                  \n",
            "  | X |                 \n",
            "--|3  |-----------------\n",
            "  |___|                 \n"
          ]
        }
      ],
      "source": [
        "from quri_parts.circuit.transpile import H2RZSqrtXTranspiler\n",
        "\n",
        "circuit = QuantumCircuit(2)\n",
        "circuit.add_H_gate(0)\n",
        "circuit.add_X_gate(1)\n",
        "\n",
        "print(\"original circuit:\")\n",
        "draw_circuit(circuit)\n",
        "\n",
        "transpiler = H2RZSqrtXTranspiler()\n",
        "transpiled_circuit = transpiler(circuit)\n",
        "\n",
        "print(\"\")\n",
        "print(\"transpiled circuit:\")\n",
        "draw_circuit(transpiled_circuit)"
      ]
    },
    {
      "cell_type": "markdown",
      "id": "6c9e706c",
      "metadata": {},
      "source": [
        "## Sequential transpilers\n",
        "\n",
        "Multiple transpilers can be applied simply by lining up the transformations. Here, we use a circuit made of a single Toffoli gate as an example. Here we make the following sequence of transpilations\n",
        "- Transpiler 1:  $\\text{Toffoli}$ $\\rightarrow$ ($\\text{H}$, $\\text{T}$, $\\text{T}^{\\dagger}$, $\\text{CNOT}$)\n",
        "- Transpiler 2:  $\\text{H}$ $\\rightarrow$ ($R_Z$, $\\sqrt{\\text{X}}$)\n",
        "- Transpiler 3:  $\\text{T}$ $\\rightarrow$ $R_Z$\n",
        "- Transpiler 4:  $\\text{T}^{\\dagger}$ $\\rightarrow$ $R_Z$\n",
        "\n",
        "These transpilers are already provided by QURI Parts. Let's demonstrate how to use them:"
      ]
    },
    {
      "cell_type": "code",
      "execution_count": null,
      "id": "2eb0f9ad",
      "metadata": {},
      "outputs": [
        {
          "name": "stdout",
          "output_type": "stream",
          "text": [
            "original:\n",
            "        \n",
            "        \n",
            "----●---\n",
            "    |   \n",
            "    |   \n",
            "    |   \n",
            "----●---\n",
            "    |   \n",
            "   _|_  \n",
            "  |TOF| \n",
            "--|0  |-\n",
            "  |___| \n",
            "\n",
            "Sequential transpiled:\n",
            "                                                                                           ___                  \n",
            "                                                                                          |RZ |                 \n",
            "--------------------------------------------●-------------------------------●-------●-----|16 |-----●-----------\n",
            "                                            |                               |       |     |___|     |           \n",
            "                                            |                      ___      |      _|_     ___     _|_          \n",
            "                                            |                     |RZ |     |     |CX |   |RZ |   |CX |         \n",
            "----------------------------●---------------|---------------●-----|10 |-----|-----|15 |---|17 |---|18 |---------\n",
            "                            |               |               |     |___|     |     |___|   |___|   |___|         \n",
            "   ___     ___     ___     _|_     ___     _|_     ___     _|_     ___     _|_     ___     ___     ___     ___  \n",
            "  |RZ |   |sqX|   |RZ |   |CX |   |RZ |   |CX |   |RZ |   |CX |   |RZ |   |CX |   |RZ |   |RZ |   |sqX|   |RZ | \n",
            "--|0  |---|1  |---|2  |---|3  |---|4  |---|5  |---|6  |---|7  |---|8  |---|9  |---|11 |---|12 |---|13 |---|14 |-\n",
            "  |___|   |___|   |___|   |___|   |___|   |___|   |___|   |___|   |___|   |___|   |___|   |___|   |___|   |___| \n"
          ]
        }
      ],
      "source": [
        "from quri_parts.circuit.transpile import (\n",
        "    TOFFOLI2HTTdagCNOTTranspiler,\n",
        "    H2RZSqrtXTranspiler,\n",
        "    T2RZTranspiler,\n",
        "    Tdag2RZTranspiler,\n",
        ")\n",
        "\n",
        "circuit = QuantumCircuit(3)\n",
        "circuit.add_TOFFOLI_gate(0, 1, 2)\n",
        "print(\"original:\")\n",
        "draw_circuit(circuit, line_length=120)\n",
        "\n",
        "circuit = TOFFOLI2HTTdagCNOTTranspiler()(circuit)\n",
        "circuit = H2RZSqrtXTranspiler()(circuit)\n",
        "circuit = T2RZTranspiler()(circuit)\n",
        "circuit = Tdag2RZTranspiler()(circuit)\n",
        "\n",
        "print(\"\")\n",
        "print(\"Sequential transpiled:\")\n",
        "draw_circuit(circuit, line_length=120)"
      ]
    },
    {
      "attachments": {},
      "cell_type": "markdown",
      "id": "83a4e20d",
      "metadata": {},
      "source": [
        "\n",
        "It can also be written somewhat more easily by using `SequentialTranspiler` by passing `CircuitTranspiler` instances on creation."
      ]
    },
    {
      "cell_type": "code",
      "execution_count": null,
      "id": "5d1c29bb",
      "metadata": {},
      "outputs": [
        {
          "name": "stdout",
          "output_type": "stream",
          "text": [
            "                                                                                           ___                  \n",
            "                                                                                          |RZ |                 \n",
            "--------------------------------------------●-------------------------------●-------●-----|16 |-----●-----------\n",
            "                                            |                               |       |     |___|     |           \n",
            "                                            |                      ___      |      _|_     ___     _|_          \n",
            "                                            |                     |RZ |     |     |CX |   |RZ |   |CX |         \n",
            "----------------------------●---------------|---------------●-----|10 |-----|-----|15 |---|17 |---|18 |---------\n",
            "                            |               |               |     |___|     |     |___|   |___|   |___|         \n",
            "   ___     ___     ___     _|_     ___     _|_     ___     _|_     ___     _|_     ___     ___     ___     ___  \n",
            "  |RZ |   |sqX|   |RZ |   |CX |   |RZ |   |CX |   |RZ |   |CX |   |RZ |   |CX |   |RZ |   |RZ |   |sqX|   |RZ | \n",
            "--|0  |---|1  |---|2  |---|3  |---|4  |---|5  |---|6  |---|7  |---|8  |---|9  |---|11 |---|12 |---|13 |---|14 |-\n",
            "  |___|   |___|   |___|   |___|   |___|   |___|   |___|   |___|   |___|   |___|   |___|   |___|   |___|   |___| \n"
          ]
        }
      ],
      "source": [
        "from quri_parts.circuit.transpile import SequentialTranspiler\n",
        "\n",
        "circuit = QuantumCircuit(3)\n",
        "circuit.add_TOFFOLI_gate(0, 1, 2)\n",
        "\n",
        "\n",
        "transpiler = SequentialTranspiler([\n",
        "    TOFFOLI2HTTdagCNOTTranspiler(),\n",
        "    H2RZSqrtXTranspiler(),\n",
        "    T2RZTranspiler(),\n",
        "    Tdag2RZTranspiler(),\n",
        "])\n",
        "circuit = transpiler(circuit)\n",
        "\n",
        "draw_circuit(circuit, line_length=120)"
      ]
    },
    {
      "attachments": {},
      "cell_type": "markdown",
      "id": "7899a3b9",
      "metadata": {},
      "source": [
        "## Parallel decomposers\n",
        "\n",
        "It is often the case that we want to transpile multiple types of gates at once. While sequential transpilers can do the job, it is more efficient if we compose multiple `GateKindDecomposer`s into a single `ParallelDecomposer`. We should re-emphasize that a `GateKindDecomposer` is a transpiler that transpile a gate based on what type of gate it is. Hence the gate transformations that makes up a `ParallelDecomposer` should act on gates that are exclusive of each other.\n",
        "\n",
        "\n",
        "We revisit the last example where we transpile a Toffoli gate into smaller gates. In the last example, we used a sequential transpiler that made up of 4 transpilers. Thus, the circuit was iterated over 4 times. However, if we look at transpilers 2, 3 and 4, the gates that they act on are distinct. Also, any of the output gate sets will not be further transpiled by any other transpilers under consideration. That means it is more desirable to merge the last 3 transpilers into a single `ParallelDecomposer`. This way, the transpilation can be done with 2 iterations to the circuit. To be more explcit, the steps are:\n",
        "\n",
        "- Step 1: `TOFFOLI2HTTdagCNOTTranspiler`\n",
        "- Step 2: A `ParallelDecomposer` that consists of:\n",
        "    - `H2RZSqrtXTranspiler`\n",
        "    - `T2RZTranspiler`\n",
        "    - `Tdag2RZTranspiler`\n",
        "\n",
        "Here we show how we can nest `SequentialTranspiler` and `ParallelDecomposer` to make  a new `CircuitTranspiler`."
      ]
    },
    {
      "cell_type": "code",
      "execution_count": null,
      "id": "9e9b163a",
      "metadata": {},
      "outputs": [
        {
          "name": "stdout",
          "output_type": "stream",
          "text": [
            "original circuit:\n",
            "        \n",
            "        \n",
            "----●---\n",
            "    |   \n",
            "    |   \n",
            "    |   \n",
            "----●---\n",
            "    |   \n",
            "   _|_  \n",
            "  |TOF| \n",
            "--|0  |-\n",
            "  |___| \n",
            "\n",
            "\n",
            "transpiled circuit:\n",
            "                                                                                           ___                  \n",
            "                                                                                          |RZ |                 \n",
            "--------------------------------------------●-------------------------------●-------●-----|16 |-----●-----------\n",
            "                                            |                               |       |     |___|     |           \n",
            "                                            |                      ___      |      _|_     ___     _|_          \n",
            "                                            |                     |RZ |     |     |CX |   |RZ |   |CX |         \n",
            "----------------------------●---------------|---------------●-----|10 |-----|-----|15 |---|17 |---|18 |---------\n",
            "                            |               |               |     |___|     |     |___|   |___|   |___|         \n",
            "   ___     ___     ___     _|_     ___     _|_     ___     _|_     ___     _|_     ___     ___     ___     ___  \n",
            "  |RZ |   |sqX|   |RZ |   |CX |   |RZ |   |CX |   |RZ |   |CX |   |RZ |   |CX |   |RZ |   |RZ |   |sqX|   |RZ | \n",
            "--|0  |---|1  |---|2  |---|3  |---|4  |---|5  |---|6  |---|7  |---|8  |---|9  |---|11 |---|12 |---|13 |---|14 |-\n",
            "  |___|   |___|   |___|   |___|   |___|   |___|   |___|   |___|   |___|   |___|   |___|   |___|   |___|   |___| \n"
          ]
        }
      ],
      "source": [
        "from quri_parts.circuit.transpile import ParallelDecomposer, SequentialTranspiler\n",
        "\n",
        "circuit = QuantumCircuit(3)\n",
        "circuit.add_TOFFOLI_gate(0, 1, 2)\n",
        "\n",
        "print(\"original circuit:\")\n",
        "draw_circuit(circuit)\n",
        "\n",
        "transpiler = SequentialTranspiler([\n",
        "    TOFFOLI2HTTdagCNOTTranspiler(),\n",
        "    ParallelDecomposer([\n",
        "        H2RZSqrtXTranspiler(),\n",
        "        T2RZTranspiler(),\n",
        "        Tdag2RZTranspiler(),\n",
        "    ]),\n",
        "])\n",
        "circuit = transpiler(circuit)\n",
        "\n",
        "print(\"\\n\")\n",
        "print(\"transpiled circuit:\")\n",
        "draw_circuit(circuit, line_length=200)"
      ]
    },
    {
      "attachments": {},
      "cell_type": "markdown",
      "id": "c50be918",
      "metadata": {},
      "source": [
        "## Transpiler for backend adaptation\n",
        "\n",
        "### Gate set conversion\n",
        "\n",
        "When a circuit is executed on a real machine in each backend, the gate set of the circuit is often limited to a few universal gates. Also, QURI Parts has high level gate representations such as multi-pauli gates, which are not supported by most backends. Therefore, the circuit must be tranpiled to convert gate set prior to the circuit execution on the backend.\n",
        "\n",
        "When creating a SamplingBackend or converting a circuit, a default transpiler for each backend is automatically applied, but a user-specified transpiler can be used instead of the default one.\n",
        "\n",
        "#### Complex gate decomposition\n",
        "\n",
        "| Module                       | Transpiler                              | Target gate   | Decomposed gate set      |\n",
        "| ---------------------------- | --------------------------------------- | ------------- | ------------------------ |\n",
        "| quri_parts.circuit.transpile | PauliDecomposeTranspiler                | Pauli         | \\{X, Y, Z\\}                |\n",
        "| quri_parts.circuit.transpile | PauliRotationDecomposeTranspiler        | PauliRotation | \\{H, RX, RZ, CNOT\\}        |\n",
        "| quri_parts.circuit.transpile | SingleQubitUnitaryMatrix2RYRZTranspiler | UnitaryMatrix | \\{RY, RZ\\}                 |\n",
        "| quri_parts.circuit.transpile | TwoQubitUnitaryMatrixKAKTranspiler      | UnitaryMatrix | \\{H, S, RX, RY, RZ, CNOT\\} |\n",
        "\n",
        "#### Gate set conversion\n",
        "\n",
        "| Module                                  | Transpiler              | Target gate                                                           | Description                                                                     |\n",
        "| --------------------------------------- | ----------------------- | --------------------------------------------------------------------- | ------------------------------------------------------------------------------- |\n",
        "| quri_parts.circuit.transpile            | RZSetTranspiler         | \\{X, SqrtX, RZ, CNOT\\}                                                  | Gate set used in superconducting type equipment such as IBM Quantum via Qiskit. |\n",
        "| quri_parts.circuit.transpile            | RotationSetTranspiler   | \\{RX, RY, RZ, CNOT\\}                                                    | Intermediate gate set for ion trap type equipment.                              |\n",
        "| quri_parts.circuit.transpile            | CliffordRZSetTranspiler | \\{H, X, Y, Z, S, SqrtX, SqrtXdag, SqrtY, SqrtYdag, Sdag, RZ, CZ, CNOT\\} | Clifford + RZ gate set.                                                         |\n",
        "| quri_parts.quantinuum.circuit.transpile | QuantinuumSetTranspiler | \\{U1q, RZ, ZZ, RZZ\\}                                                    | Gate set for actual equipment of Quantinuum H1 and H2.                          |\n",
        "| quri_parts.circuit.transpile            | IonQSetTranspiler       | \\{GPi, GPi2, MS\\}                                                       | Gate set for actual equipment of IonQ.                                          |\n"
      ]
    },
    {
      "attachments": {},
      "cell_type": "markdown",
      "id": "164a328e",
      "metadata": {},
      "source": [
        "\n",
        "### Qubit mapping\n",
        "\n",
        "Real devices in the NISQ era are also constrained by the topology of the qubit. In most cases, these constraints are satisfied by the backend automatically transforming the circuit, but sometimes it is desirable to suppress the transformation by the backend and give an explicit mapping of the qubits.\n",
        "\n",
        "Such qubit mapping can be specified by a dictionary when creating `SamplingBackend`s (see [qubit mapping](../real_devices/sampling_backends/#qubit-mapping) in sampling backends tutorial), but you can also create `QubitRemappingTranspiler` that performs the qubit mapping for given circuits."
      ]
    },
    {
      "cell_type": "code",
      "execution_count": null,
      "id": "11510fb4",
      "metadata": {},
      "outputs": [
        {
          "name": "stdout",
          "output_type": "stream",
          "text": [
            "original:\n",
            "   ___          \n",
            "  | H |         \n",
            "--|0  |---------\n",
            "  |___|         \n",
            "   ___          \n",
            "  | X |         \n",
            "--|1  |-----●---\n",
            "  |___|     |   \n",
            "           _|_  \n",
            "          |CX | \n",
            "----------|2  |-\n",
            "          |___| \n",
            "\n",
            "transpiled:\n",
            "   ___          \n",
            "  | X |         \n",
            "--|1  |-----●---\n",
            "  |___|     |   \n",
            "           _|_  \n",
            "          |CX | \n",
            "----------|2  |-\n",
            "          |___| \n",
            "   ___          \n",
            "  | H |         \n",
            "--|0  |---------\n",
            "  |___|         \n"
          ]
        }
      ],
      "source": [
        "from quri_parts.circuit import H, X, CNOT\n",
        "from quri_parts.circuit.transpile import QubitRemappingTranspiler\n",
        "\n",
        "circuit = QuantumCircuit(3)\n",
        "circuit.extend([H(0), X(1), CNOT(1, 2)])\n",
        "\n",
        "print(\"original:\")\n",
        "draw_circuit(circuit)\n",
        "\n",
        "circuit = QubitRemappingTranspiler({0: 2, 1: 0, 2: 1})(circuit)\n",
        "\n",
        "print(\"\\ntranspiled:\")\n",
        "draw_circuit(circuit)"
      ]
    },
    {
      "attachments": {},
      "cell_type": "markdown",
      "id": "f79a43bd",
      "metadata": {},
      "source": [
        "## Transpiler for circuit optimization\n",
        "\n",
        "Quantum circuits may be converted to more concise circuits with equivalent action. In actual hardware, certain representations of equivalent circuits may reduce errors or decrease execution time. For example, in the NISQ era, the number of 2-qubit gates often has a significant impact on the error rate, and in the FTQC era, the number of T gates may affect the execution time of a circuit. Optimizing circuits based on these various criteria is another role expected of transpilers.\n",
        "\n",
        "In QURI Parts, many optimization paths are currently private, but some are available and more will be public in the future.\n",
        "\n",
        "| Module                              | Transpiler                      | Type                         | Description                                                                                              |\n",
        "| ----------------------------------- | ------------------------------- | ---------------------------- | -------------------------------------------------------------------------------------------------------- |\n",
        "| quri_parts.circuit.transpile        | CliffordApproximationTranspiler | Approximate                  | Replace non-Clifford gates with approximate Clifford gate sequences.                                     |\n",
        "| quri_parts.circuit.transpile        | IdentityInsertionTranspiler     | Equivalent                   | Add Identity gates to qubits which have no gate acting on.                                               |\n",
        "| quri_parts.circuit.transpile        | IdentityEliminationTranspiler   | Equivalent                   | Remove all Identity gates.                                                                               |\n",
        "| quri_parts.qiskit.circuit.transpile | QiskitTranspiler                | Equivalent (Numerical error) | Perform backend adaptation, gate set conversion, and circuit simplification using Qiskit’s capabilities. |\n",
        "| quri_parts.tket.circuit.transpile   | TketTranspiler                  | Equivalent (Numerical error) | Perfomr backend adaptation, gate set conversion, and circuit simplification using Tket’s capabilities.   |"
      ]
    },
    {
      "attachments": {},
      "cell_type": "markdown",
      "id": "0f944366",
      "metadata": {},
      "source": [
        "The most basic optimization paths for the rotation gates with parameters are available as follows.\n",
        "\n",
        "| Module                       | Transpiler                  | Type                         | Description                                                                 |\n",
        "| ---------------------------- | --------------------------- | ---------------------------- | --------------------------------------------------------------------------- |\n",
        "| quri_parts.circuit.transpile | FuseRotationTranspiler      | Equivalent (Numerical error) | Fuse consecutive rotation gates of the same kind.                           |\n",
        "| quri_parts.circuit.transpile | NormalizeRotationTranspiler | Equivalent (Numerical error) | Normalize the rotation angle of the rotation gates to the specified range.  |\n",
        "| quri_parts.circuit.transpile | RX2NamedTranspiler          | Equivalent (Numerical error) | Convert RX gate if the RX gate is equal to a named gate with no parameters. |\n",
        "| quri_parts.circuit.transpile | RY2NamedTranspiler          | Equivalent (Numerical error) | Convert RY gate if the RY gate is equal to a named gate with no parameters. |\n",
        "| quri_parts.circuit.transpile | RZ2NamedTranspiler          | Equivalent (Numerical error) | Convert RZ gate if the RZ gate is equal to a named gate with no parameters. |"
      ]
    },
    {
      "attachments": {},
      "cell_type": "markdown",
      "id": "c200724f",
      "metadata": {},
      "source": [
        "## Define your original transpilers"
      ]
    },
    {
      "attachments": {},
      "cell_type": "markdown",
      "id": "03525536",
      "metadata": {},
      "source": [
        "As explained above, a transpiler chained by `SequentialTranspiler` or `ParallellDecomposer` is itself a `CircuitTranspiler` and can be used like other transpilers. In addition, any callable object with an interface of `CircuitTranspiler` can act as a transpiler, whether it is a user defined function or a class."
      ]
    },
    {
      "cell_type": "code",
      "execution_count": null,
      "id": "151e26b9",
      "metadata": {},
      "outputs": [],
      "source": [
        "def transpiler(circuit: NonParametricQuantumCircuit) -> NonParametricQuantumCircuit:\n",
        "    ..."
      ]
    },
    {
      "attachments": {},
      "cell_type": "markdown",
      "id": "afa249d5",
      "metadata": {},
      "source": [
        "When defining the original transpiler as a class, `CircuitTranspilerProtocol` is defined as an abstract base class that satisfies the properties `CircuitTranspiler` and can be inherited."
      ]
    },
    {
      "cell_type": "code",
      "execution_count": null,
      "id": "fd681cd6",
      "metadata": {},
      "outputs": [],
      "source": [
        "from quri_parts.circuit.transpile import CircuitTranspilerProtocol\n",
        "\n",
        "class Transpiler(CircuitTranspilerProtocol):\n",
        "    def __call__(self, circuit: NonParametricQuantumCircuit) -> NonParametricQuantumCircuit:\n",
        "        ..."
      ]
    },
    {
      "attachments": {},
      "cell_type": "markdown",
      "id": "dc91621b",
      "metadata": {},
      "source": [
        "`GateDecomposer` and `GateKindDecomposer` are available for transpilers that convert a specific type of gates in a circuit to some gate sequences (e.g., a transpiler for converting gate sets). `GateDecomposer` can be used to create a new transpiler by writing only the target gate conditions and the transformation of a target gate into a gate sequence. `GateKindDecomposer` is simillar to `GateDecomposer` but it require gate names as target gate conditions."
      ]
    },
    {
      "cell_type": "code",
      "execution_count": null,
      "id": "08251d22",
      "metadata": {},
      "outputs": [],
      "source": [
        "from collections.abc import Sequence\n",
        "from quri_parts.circuit import QuantumGate, gate_names\n",
        "from quri_parts.circuit.transpile import GateDecomposer, GateKindDecomposer\n",
        "\n",
        "class S0toTTranspiler(GateDecomposer):\n",
        "    def is_target_gate(self, gate: QuantumGate) -> bool:\n",
        "        return gate.target_indices[0] == 0 and gate.name == gate_names.S\n",
        "    \n",
        "    def decompose(self, gate: QuantumGate) -> Sequence[QuantumGate]:\n",
        "        target = gate.target_indices[0]\n",
        "        return [gate.T(target), gate.T(target)]\n",
        "    \n",
        "class AnyStoTTranspiler(GateKindDecomposer):\n",
        "    def target_gate_names(self) -> Sequence[str]:\n",
        "        return [gate_names.S]\n",
        "    \n",
        "    def decompose(self, gate: QuantumGate) -> Sequence[QuantumGate]:\n",
        "        target = gate.target_indices[0]\n",
        "        return [gate.T(target), gate.T(target)]"
      ]
    }
  ],
  "metadata": {
    "language_info": {
      "name": "python",
      "pygments_lexer": "ipython3"
    }
  },
  "nbformat": 4,
  "nbformat_minor": 5
}
