{
 "cells": [
  {
   "cell_type": "markdown",
   "id": "d7a8695c",
   "metadata": {},
   "source": [
    "# Variational algorithms\n",
    "\n",
    "Recently, *variational quantum algorithms* are actively studied, where optimal values of parameters in parametric quantum circuits are searched. In this section, we first describe estimation of gradient of operator expectations, and then see how to construct one of the variational algorithms, *variational quantum eigensolver* (VQE), using the gradient."
   ]
  },
  {
   "cell_type": "markdown",
   "id": "40531ca2",
   "metadata": {},
   "source": [
    "## Prerequisite\n",
    "\n",
    "QURI Parts modules used in this tutorial: `quri-parts-circuit`, `quri-parts-core`, `quri-parts-algo` and `quri-parts-qulacs`. You can install them as follows:"
   ]
  },
  {
   "cell_type": "code",
   "execution_count": null,
   "id": "383a02e1",
   "metadata": {},
   "outputs": [],
   "source": [
    "!pip install \"quri-parts[qulacs]\""
   ]
  },
  {
   "cell_type": "markdown",
   "id": "5e5f2eb6",
   "metadata": {},
   "source": [
    "## Gradient of operator expectation\n",
    "\n",
    "Variational algorithms often involves minimization of a certain cost function, which is defined as an expectation value of an operator for a certain parametric quantum state: $f(\\boldsymbol{\\theta}) = \\langle O\\rangle_\\boldsymbol{\\theta} = \\langle \\psi(\\boldsymbol{\\theta})|O|\\psi(\\boldsymbol{\\theta})\\rangle$, where $O$ is the operator and $\\psi(\\boldsymbol{\\theta})$ is a parametric state with parameters $\\boldsymbol{\\theta} = \\theta_0, \\ldots, \\theta_{m-1}$. In such minimization, gradient of the cost function is often used, defined as:\n",
    "\n",
    "\\begin{equation}\n",
    "\\nabla_\\boldsymbol{\\theta} f(\\boldsymbol{\\theta}) =\n",
    "\\left(\n",
    "\\dfrac{\\partial \\langle O\\rangle_\\boldsymbol{\\theta}}{\\partial \\theta_0},\n",
    "\\ldots,\n",
    "\\dfrac{\\partial \\langle O\\rangle_\\boldsymbol{\\theta}}{\\partial \\theta_{m-1}}\n",
    "\\right)\n",
    "\\end{equation}\n",
    "\n",
    "Below we will see two methods to estimate such gradient: *numerical gradient* and *parameter shift rule*.\n",
    "\n",
    "Let's prepare a target operator and a parametric state here:"
   ]
  },
  {
   "cell_type": "code",
   "execution_count": 1,
   "id": "5a7390da",
   "metadata": {},
   "outputs": [],
   "source": [
    "from quri_parts.core.operator import Operator, pauli_label\n",
    "\n",
    "op = Operator({\n",
    "    pauli_label(\"X0 Y1\"): 0.5 + 0.5j,\n",
    "    pauli_label(\"Z0 X1\"): 0.2,\n",
    "})\n",
    "\n",
    "from math import pi\n",
    "from quri_parts.circuit import LinearMappedUnboundParametricQuantumCircuit, CONST\n",
    "\n",
    "param_circuit = LinearMappedUnboundParametricQuantumCircuit(2)\n",
    "param_circuit.add_H_gate(0)\n",
    "param_circuit.add_CNOT_gate(0, 1)\n",
    "\n",
    "theta, phi = param_circuit.add_parameters(\"theta\", \"phi\")\n",
    "param_circuit.add_ParametricRX_gate(0, {theta: 1/2, phi: 1/3, CONST: pi/2})\n",
    "param_circuit.add_ParametricRZ_gate(1, {theta: 1/3, phi: -1/2, CONST: -pi/2})\n",
    "\n",
    "from quri_parts.core.state import ParametricCircuitQuantumState\n",
    "\n",
    "param_state = ParametricCircuitQuantumState(2, param_circuit)"
   ]
  },
  {
   "cell_type": "markdown",
   "id": "71668b84",
   "metadata": {},
   "source": [
    "### Numerical gradient\n",
    "\n",
    "QURI Parts defines `quri_parts.core.estimator.GradientEstimator` interface to estimate the gradient. A simple gradient estimator using numerical differentiation is provided:"
   ]
  },
  {
   "cell_type": "code",
   "execution_count": 2,
   "id": "81f531eb",
   "metadata": {},
   "outputs": [
    {
     "name": "stdout",
     "output_type": "stream",
     "text": [
      "Estimated gradient: [(0.0004866565750383245-0.013872819366045341j), (0.042165661391369014+0.020809229047680233j)]\n"
     ]
    }
   ],
   "source": [
    "from quri_parts.core.estimator.gradient import create_numerical_gradient_estimator\n",
    "from quri_parts.qulacs.estimator import create_qulacs_vector_concurrent_parametric_estimator\n",
    "\n",
    "qulacs_concurrent_parametric_estimator = create_qulacs_vector_concurrent_parametric_estimator()\n",
    "gradient_estimator = create_numerical_gradient_estimator(\n",
    "    qulacs_concurrent_parametric_estimator,\n",
    "    delta=1e-4,\n",
    ")\n",
    "\n",
    "gradient = gradient_estimator(op, param_state, [0.2, 0.3])\n",
    "print(\"Estimated gradient:\", gradient.values)"
   ]
  },
  {
   "cell_type": "markdown",
   "id": "e1d35956",
   "metadata": {},
   "source": [
    "When creating a gradient estimator, two arguments are given. The first one is a `ConcurrentParametricQuantumEstimator`, which is used to estimate the expectation values at slightly shifted parameter values. The second one `delta` is the step size for numerical differentiation. The gradient estimator is invoked with the operator, the parametric state and the parameter values at which the gradient is evaluated, and returns the estimated gradient values."
   ]
  },
  {
   "cell_type": "markdown",
   "id": "b157c8f5",
   "metadata": {},
   "source": [
    "### Gradient evaluation by parameter shift rule\n",
    "\n",
    "Parameter shift rule is a method to evaluate derivatives of an expectation value of an operator for a state generated by a parametric circuit[^Mitarai2018]. QURI Parts provides a way to estimate the gradient using parameter shift rule. Here, it is assumed that any parametric gate in a parametric circuit is defined as $\\exp(-i\\theta P/2)$, where $P$ is a Pauli product. All parametric gates defined in QURI Parts satisfy this condition. We also assume that all the gate parameters depend on the circuit parameters (at most) linearly.\n",
    "\n",
    "[^Mitarai2018]: Mitarai, K. and Negoro, M. and Kitagawa, M. and Fujii, K., [Phys. Rev. A **98**, 032309 (2018)](https://doi.org/10.1103/PhysRevA.98.032309). [arXiv:1803.00745](https://arxiv.org/abs/1803.00745)."
   ]
  },
  {
   "cell_type": "code",
   "execution_count": 14,
   "id": "9cf93457",
   "metadata": {},
   "outputs": [
    {
     "name": "stdout",
     "output_type": "stream",
     "text": [
      "Estimated gradient: [(0.0004866565766964738-0.013872819366718317j), (0.04216566140053679+0.020809229050077496j)]\n"
     ]
    }
   ],
   "source": [
    "from quri_parts.core.estimator.gradient import create_parameter_shift_gradient_estimator\n",
    "from quri_parts.qulacs.estimator import create_qulacs_vector_concurrent_parametric_estimator\n",
    "\n",
    "qulacs_concurrent_parametric_estimator = create_qulacs_vector_concurrent_parametric_estimator()\n",
    "gradient_estimator = create_parameter_shift_gradient_estimator(\n",
    "    qulacs_concurrent_parametric_estimator,\n",
    ")\n",
    "\n",
    "gradient = gradient_estimator(op, param_state, [0.2, 0.3])\n",
    "print(\"Estimated gradient:\", gradient.values)"
   ]
  },
  {
   "attachments": {},
   "cell_type": "markdown",
   "id": "eeede1fc",
   "metadata": {},
   "source": [
    "If you would like to know how the gradient evaluation by parameter shift rule works in detail, read the following explanation. You can skip it and go to the next topic [Variational quantum eigensolver](#Variational-quantum-eigensolver)."
   ]
  },
  {
   "attachments": {},
   "cell_type": "markdown",
   "id": "d0c308fb",
   "metadata": {},
   "source": [
    "#### Explanation of how gradient evaluation by parameter shift rule works\n",
    "\n",
    "When evaluating the gradient with parameter shift rule, parameters of each parametric gates need to be shifted independently, even if they depend on the same circuit parameters. It is also necessary to compute derivative of each gate parameter with respect to the circuit parameters so that we can use chain rule of differentiation. Therefore we need the followings:\n",
    "\n",
    "- The parametric circuit where each gate parameters are treated as independent (`UnboundParametricQuantumCircuit` in QURI Parts).\n",
    "- Parameter shifts for each gate parameters for each circuit parameters.\n",
    "- Differential coefficents corresponding to each parameter shifts.\n",
    "\n",
    "The following function computes and returns the above:"
   ]
  },
  {
   "cell_type": "code",
   "execution_count": 3,
   "id": "74bdf561",
   "metadata": {},
   "outputs": [
    {
     "name": "stdout",
     "output_type": "stream",
     "text": [
      "Parameter shifts for circuit parameter 0:\n",
      "  gate params: (3.3415926535897933, -1.6541296601282298), coefficient: 0.25\n",
      "  gate params: (1.7707963267948965, -3.224925986923126), coefficient: -0.16666666666666666\n",
      "  gate params: (1.7707963267948965, -0.08333333333333326), coefficient: 0.16666666666666666\n",
      "  gate params: (0.19999999999999996, -1.6541296601282298), coefficient: -0.25\n",
      "Parameter shifts for circuit parameter 1:\n",
      "  gate params: (3.3415926535897933, -1.6541296601282298), coefficient: 0.16666666666666666\n",
      "  gate params: (1.7707963267948965, -3.224925986923126), coefficient: 0.25\n",
      "  gate params: (1.7707963267948965, -0.08333333333333326), coefficient: -0.25\n",
      "  gate params: (0.19999999999999996, -1.6541296601282298), coefficient: -0.16666666666666666\n"
     ]
    }
   ],
   "source": [
    "from quri_parts.circuit.parameter_shift import ShiftedParameters\n",
    "from quri_parts.core.state import ParametricCircuitQuantumState\n",
    "\n",
    "def get_raw_param_state_and_shifted_parameters(state, params):\n",
    "    param_mapping = state.parametric_circuit.param_mapping\n",
    "    raw_circuit = state.parametric_circuit.primitive_circuit()\n",
    "    parameter_shift = ShiftedParameters(param_mapping)\n",
    "    derivatives = parameter_shift.get_derivatives()\n",
    "    shifted_parameters = [\n",
    "        d.get_shifted_parameters_and_coef(params) for d in derivatives\n",
    "    ]\n",
    "\n",
    "    raw_param_state = ParametricCircuitQuantumState(state.qubit_count, raw_circuit)\n",
    "\n",
    "    return raw_param_state, shifted_parameters\n",
    "\n",
    "# Example\n",
    "raw_state, shifted_params_and_coefs = get_raw_param_state_and_shifted_parameters(\n",
    "    param_state, [0.2, 0.3]\n",
    ")\n",
    "\n",
    "for i, params_and_coefs in enumerate(shifted_params_and_coefs):\n",
    "    print(f\"Parameter shifts for circuit parameter {i}:\")\n",
    "    for p, c in params_and_coefs:\n",
    "        print(f\"  gate params: {p}, coefficient: {c}\")"
   ]
  },
  {
   "cell_type": "markdown",
   "id": "991c9752",
   "metadata": {},
   "source": [
    "We then obtain the gradient by 1) estimating the expectation value of the operator for each shifted gate parameters, and 2) sum up them with the corresponding coefficients multiplied. This can be done as follows:"
   ]
  },
  {
   "cell_type": "code",
   "execution_count": 4,
   "id": "05161cf3",
   "metadata": {},
   "outputs": [
    {
     "name": "stdout",
     "output_type": "stream",
     "text": [
      "Estimated gradient: [(0.00048665657669647033-0.01387281936671833j), (0.04216566140053679+0.020809229050077496j)]\n"
     ]
    }
   ],
   "source": [
    "from quri_parts.qulacs.estimator import create_qulacs_vector_concurrent_parametric_estimator\n",
    "\n",
    "def get_parameter_shift_gradient(op, raw_state, shifted_params_and_coefs):\n",
    "    # Collect gate parameters to be evaluated\n",
    "    gate_params = set()\n",
    "    for params_and_coefs in shifted_params_and_coefs:\n",
    "        for p, _ in params_and_coefs:\n",
    "            gate_params.add(p)\n",
    "    gate_params_list = list(gate_params)\n",
    "\n",
    "    # Prepare a parametric estimator\n",
    "    estimator = create_qulacs_vector_concurrent_parametric_estimator()\n",
    "    \n",
    "    # Estimate the expectation values\n",
    "    estimates = estimator(op, raw_state, gate_params_list)\n",
    "    estimates_dict = dict(zip(gate_params_list, estimates))\n",
    "    \n",
    "    # Sum up the expectation values with the coefficients multiplied\n",
    "    gradient = []\n",
    "    for params_and_coefs in shifted_params_and_coefs:\n",
    "        g = 0.0\n",
    "        for p, c in params_and_coefs:\n",
    "            g += estimates_dict[p].value * c\n",
    "        gradient.append(g)\n",
    "    \n",
    "    return gradient\n",
    "\n",
    "# Example\n",
    "gradient = get_parameter_shift_gradient(op, raw_state, shifted_params_and_coefs)\n",
    "print(\"Estimated gradient:\", gradient)"
   ]
  },
  {
   "cell_type": "markdown",
   "id": "008a2d67",
   "metadata": {},
   "source": [
    "These functions can be combined to create a `GradientEstimator` as follows:"
   ]
  },
  {
   "cell_type": "code",
   "execution_count": 5,
   "id": "2723d55e",
   "metadata": {
    "scrolled": true
   },
   "outputs": [
    {
     "name": "stdout",
     "output_type": "stream",
     "text": [
      "Estimated gradient: [(0.00048665657669647033-0.01387281936671833j), (0.04216566140053679+0.020809229050077496j)]\n"
     ]
    }
   ],
   "source": [
    "from collections.abc import Sequence\n",
    "from dataclasses import dataclass\n",
    "\n",
    "# This is a return type of GradientEstimator\n",
    "@dataclass\n",
    "class _Estimates:\n",
    "    values: Sequence[complex]\n",
    "    error_matrix = None\n",
    "\n",
    "def parameter_shift_gradient_estimator(op, state, params):\n",
    "    raw_state, shifted_params_and_coefs = get_raw_param_state_and_shifted_parameters(state, params)\n",
    "    gradient = get_parameter_shift_gradient(op, raw_state, shifted_params_and_coefs)\n",
    "    return _Estimates(gradient)\n",
    "\n",
    "# Example\n",
    "gradient = parameter_shift_gradient_estimator(op, param_state, [0.2, 0.3])\n",
    "print(\"Estimated gradient:\", gradient.values)"
   ]
  },
  {
   "cell_type": "markdown",
   "id": "51af6625",
   "metadata": {},
   "source": [
    "## Variational quantum eigensolver\n",
    "\n",
    "*Variational quantum eigensolver* (VQE) is a method to optimize an expectation value of an operator (e.g. energy of a molecule) over parametrized quantum states. There are two major components in VQE:\n",
    "\n",
    "- *Ansatz*: A parametric quantum circuit which generates the parametrized quantum states subject to optimization\n",
    "- *Optimizer*: A method to numerically optimize the expectation value of the operator\n",
    "\n",
    "### Ansatz\n",
    "\n",
    "In context of VQE, ansatz refers to a parametric quantum circuit used for generating parametrized quantum states for which expectation values of the target operator is evaluated. You can define a `(LinearMapped)UnboundParametricQuantumCircuit` on your own, or use a well-known ansatz defined in `quri_parts.algo.ansatz` package. In this example we use a hardware-efficient ansatz[^Kandala2017]:\n",
    "\n",
    "[^Kandala2017]: Kandala, A., Mezzacapo, A., Temme, K. et al. Hardware-efficient variational quantum eigensolver for small molecules and quantum magnets. [Nature **549**, 242–246 (2017)](https://doi.org/10.1038/nature23879)."
   ]
  },
  {
   "cell_type": "code",
   "execution_count": 6,
   "id": "0a1b8c61",
   "metadata": {},
   "outputs": [],
   "source": [
    "from quri_parts.algo.ansatz import HardwareEfficient\n",
    "\n",
    "hw_ansatz = HardwareEfficient(qubit_count=4, reps=3)"
   ]
  },
  {
   "cell_type": "markdown",
   "id": "2834af43",
   "metadata": {},
   "source": [
    "In order to evaluate the expectation value, the parametrized quantum state is necessary, which is obtained by applying the ansatz to a specific initial state. Here we use a computational basis state $|0011\\rangle$."
   ]
  },
  {
   "cell_type": "code",
   "execution_count": 7,
   "id": "95377808",
   "metadata": {},
   "outputs": [],
   "source": [
    "from quri_parts.core.state import ComputationalBasisState, ParametricCircuitQuantumState\n",
    "\n",
    "# Preparation of the parametric state is a bit complicated for now\n",
    "def prepare_parametric_state(initial_state, ansatz):\n",
    "    circuit = LinearMappedUnboundParametricQuantumCircuit(initial_state.qubit_count)\n",
    "    circuit += initial_state.circuit\n",
    "    circuit += ansatz\n",
    "    return ParametricCircuitQuantumState(initial_state.qubit_count, circuit)\n",
    "\n",
    "cb_state = ComputationalBasisState(4, bits=0b0011)\n",
    "parametric_state = prepare_parametric_state(cb_state, hw_ansatz)"
   ]
  },
  {
   "cell_type": "markdown",
   "id": "bc2250cd",
   "metadata": {},
   "source": [
    "### Optimizer\n",
    "\n",
    "An optimizer searches optimal parameters that minimize a given cost function. In context of VQE, the cost function is the expectation value of the target operator. Some optimizers use only the cost function itself, while others use gradient of the cost function for efficient optimization. You can use optimizers provided by libraries such as `scipy.optimize`, or ones provided in `quri_parts.algo.optimizer` package. In this example we use Adam[^Kingma2014], which uses the gradient.\n",
    "\n",
    "[^Kingma2014]: Diederik P. Kingma, Jimmy Ba, Adam: A Method for Stochastic Optimization. [arXiv:1412.6980 (2014)](https://doi.org/10.48550/arXiv.1412.6980)"
   ]
  },
  {
   "cell_type": "code",
   "execution_count": 8,
   "id": "38a84da1",
   "metadata": {},
   "outputs": [],
   "source": [
    "from quri_parts.algo.optimizer import Adam\n",
    "\n",
    "# You can pass optional parameters. See the reference for details\n",
    "adam_optimizer = Adam()"
   ]
  },
  {
   "cell_type": "markdown",
   "id": "4ecf1e89",
   "metadata": {},
   "source": [
    "### Running VQE\n",
    "\n",
    "We first define a target operator, whose expectation value is subject to the optimization:"
   ]
  },
  {
   "cell_type": "code",
   "execution_count": 9,
   "id": "baac7c7f",
   "metadata": {},
   "outputs": [],
   "source": [
    "from quri_parts.core.operator import Operator, pauli_label, PAULI_IDENTITY\n",
    "\n",
    "# This is Jordan-Wigner transformed Hamiltonian of a hydrogen molecule\n",
    "hamiltonian = Operator({\n",
    "    PAULI_IDENTITY: 0.03775110394645542,\n",
    "    pauli_label(\"Z0\"): 0.18601648886230593,\n",
    "    pauli_label(\"Z1\"): 0.18601648886230593,\n",
    "    pauli_label(\"Z2\"): -0.2694169314163197,\n",
    "    pauli_label(\"Z3\"): -0.2694169314163197,\n",
    "    pauli_label(\"Z0 Z1\"): 0.172976101307451,\n",
    "    pauli_label(\"Z0 Z2\"): 0.12584136558006326,\n",
    "    pauli_label(\"Z0 Z3\"): 0.16992097848261506,\n",
    "    pauli_label(\"Z1 Z2\"): 0.16992097848261506,\n",
    "    pauli_label(\"Z1 Z3\"): 0.12584136558006326,\n",
    "    pauli_label(\"Z2 Z3\"): 0.17866777775953396,\n",
    "    pauli_label(\"X0 X1 Y2 Y3\"): -0.044079612902551774,\n",
    "    pauli_label(\"X0 Y1 Y2 X3\"): 0.044079612902551774,\n",
    "    pauli_label(\"Y0 X1 X2 Y3\"): 0.044079612902551774,\n",
    "    pauli_label(\"Y0 Y1 X2 X3\"): -0.044079612902551774,\n",
    "})"
   ]
  },
  {
   "cell_type": "markdown",
   "id": "06702693",
   "metadata": {},
   "source": [
    "Using this operator and the parametric state prepared above, we can define the cost function as a function of the circuit parameters:"
   ]
  },
  {
   "cell_type": "code",
   "execution_count": 10,
   "id": "eb6b4853",
   "metadata": {},
   "outputs": [],
   "source": [
    "from quri_parts.qulacs.estimator import create_qulacs_vector_parametric_estimator\n",
    "\n",
    "estimator = create_qulacs_vector_parametric_estimator()\n",
    "\n",
    "def cost_fn(param_values):\n",
    "    estimate = estimator(hamiltonian, parametric_state, param_values)\n",
    "    return estimate.value.real"
   ]
  },
  {
   "cell_type": "markdown",
   "id": "d3c18418",
   "metadata": {},
   "source": [
    "We also define gradient of the cost function using numerical gradient:"
   ]
  },
  {
   "cell_type": "code",
   "execution_count": 11,
   "id": "aa3d861b",
   "metadata": {},
   "outputs": [],
   "source": [
    "import numpy as np\n",
    "from quri_parts.core.estimator.gradient import create_numerical_gradient_estimator\n",
    "from quri_parts.qulacs.estimator import create_qulacs_vector_concurrent_parametric_estimator\n",
    "\n",
    "qulacs_concurrent_parametric_estimator = create_qulacs_vector_concurrent_parametric_estimator()\n",
    "gradient_estimator = create_numerical_gradient_estimator(\n",
    "    qulacs_concurrent_parametric_estimator,\n",
    "    delta=1e-4,\n",
    ")\n",
    "\n",
    "def grad_fn(param_values):\n",
    "    estimate = gradient_estimator(hamiltonian, parametric_state, param_values)\n",
    "    return np.asarray([g.real for g in estimate.values])"
   ]
  },
  {
   "cell_type": "markdown",
   "id": "83e531df",
   "metadata": {},
   "source": [
    "Then we can run VQE with a QURI Parts optimizer:"
   ]
  },
  {
   "cell_type": "code",
   "execution_count": 12,
   "id": "e292b17d",
   "metadata": {},
   "outputs": [
    {
     "name": "stdout",
     "output_type": "stream",
     "text": [
      "Optimizer converged\n",
      "Optimized value: -1.1119813406307852\n",
      "Optimized parameter: [ 5.47178291e-02  8.40762138e-02  5.12253344e-02  8.19750289e-02\n",
      " -9.72099777e-03 -1.16141829e-01 -3.06727509e-03  9.66792838e-01\n",
      "  1.27323903e-01  1.04790835e-01  1.27097746e-01  9.40512680e-02\n",
      " -1.60419268e-02  9.92326569e-01 -3.35897820e-02  9.91027220e-01\n",
      "  6.44048147e-02  2.49943780e-04  6.43611653e-02 -5.72092116e-03\n",
      " -1.48640084e-02 -1.16555432e-01 -3.59503991e-02  9.79005522e-01\n",
      "  1.67652637e-02 -2.35033521e-01  1.34115103e-02 -2.24492480e-01\n",
      " -2.91851961e-02  4.35033663e-01 -3.52284766e-03  4.24493109e-01]\n",
      "Iterations: 24\n",
      "Cost function calls: 25\n",
      "Gradient function calls: 24\n"
     ]
    }
   ],
   "source": [
    "from quri_parts.algo.optimizer import OptimizerStatus\n",
    "\n",
    "def vqe(operator, init_params, cost_fn, grad_fn, optimizer):\n",
    "    opt_state = optimizer.get_init_state(init_params)\n",
    "    while True:\n",
    "        opt_state = optimizer.step(opt_state, cost_fn, grad_fn)\n",
    "        if opt_state.status == OptimizerStatus.FAILED:\n",
    "            print(\"Optimizer failed\")\n",
    "            break\n",
    "        if opt_state.status == OptimizerStatus.CONVERGED:\n",
    "            print(\"Optimizer converged\")\n",
    "            break\n",
    "    return opt_state\n",
    "\n",
    "init_params = [0.1] * hw_ansatz.parameter_count\n",
    "result = vqe(hamiltonian, init_params, cost_fn, grad_fn, adam_optimizer)\n",
    "print(\"Optimized value:\", result.cost)\n",
    "print(\"Optimized parameter:\", result.params)\n",
    "print(\"Iterations:\", result.niter)\n",
    "print(\"Cost function calls:\", result.funcalls)\n",
    "print(\"Gradient function calls:\", result.gradcalls)"
   ]
  },
  {
   "cell_type": "markdown",
   "id": "5640878b",
   "metadata": {},
   "source": [
    "You can also run VQE with a SciPy optimizer:"
   ]
  },
  {
   "cell_type": "code",
   "execution_count": 13,
   "id": "0e4e604a",
   "metadata": {},
   "outputs": [
    {
     "name": "stdout",
     "output_type": "stream",
     "text": [
      "Optimization terminated successfully.\n",
      "Optimized value: -1.129904784280104\n",
      "Optimized parameter: [ 7.82483153e-04  4.29969941e-02  6.61286966e-01  2.10598472e-03\n",
      "  3.12868377e-01 -4.24005711e-02 -1.39244497e+00 -1.19450656e-03\n",
      "  3.36566899e-01  8.08495521e-05  6.57323966e-01 -2.87283611e-01\n",
      "  6.78503238e-01  1.15585829e-01  2.19568571e+00 -2.24222650e-03\n",
      "  1.57043690e+00 -6.09357373e-08 -4.37512017e-04  1.77385571e-01\n",
      "  1.79573603e-01 -1.42632685e-01 -2.29170046e-01  1.36120809e-02\n",
      "  1.23449374e+00  1.10763438e-01 -5.92928055e-04  1.10784204e-01\n",
      " -5.21553526e-01  8.92367689e-02 -6.31244124e-01  8.92156968e-02]\n",
      "Iterations: 174\n",
      "Cost function calls: 181\n",
      "Gradient function calls: 181\n"
     ]
    }
   ],
   "source": [
    "from scipy.optimize import minimize\n",
    "\n",
    "def vqe_scipy(operator, init_params, cost_fn, grad_fn, method, options):\n",
    "    return minimize(cost_fn, init_params, jac=grad_fn, method=method, options=options)\n",
    "\n",
    "init_params = [0.1] * hw_ansatz.parameter_count\n",
    "bfgs_options = {\n",
    "    \"gtol\": 1e-6,\n",
    "}\n",
    "result = vqe_scipy(hamiltonian, init_params, cost_fn, grad_fn, \"BFGS\", bfgs_options)\n",
    "print(result.message)\n",
    "print(\"Optimized value:\", result.fun)\n",
    "print(\"Optimized parameter:\", result.x)\n",
    "print(\"Iterations:\", result.nit)\n",
    "print(\"Cost function calls:\", result.nfev)\n",
    "print(\"Gradient function calls:\", result.njev)"
   ]
  }
 ],
 "metadata": {
  "kernelspec": {
   "display_name": "Python 3 (ipykernel)",
   "language": "python",
   "name": "python3"
  },
  "language_info": {
   "codemirror_mode": {
    "name": "ipython",
    "version": 3
   },
   "file_extension": ".py",
   "mimetype": "text/x-python",
   "name": "python",
   "nbconvert_exporter": "python",
   "pygments_lexer": "ipython3",
   "version": "3.9.9"
  }
 },
 "nbformat": 4,
 "nbformat_minor": 5
}
