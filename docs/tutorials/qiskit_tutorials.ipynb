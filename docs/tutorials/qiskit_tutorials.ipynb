{
 "cells": [
  {
   "cell_type": "markdown",
   "metadata": {},
   "source": [
    "# QiskitSamplingBackend and QiskitRuntimeSamplingBackend"
   ]
  },
  {
   "cell_type": "markdown",
   "metadata": {},
   "source": [
    "Here we introduce the Qiskit backends. For IBM devices, we provide 2 sampling backends:\n",
    "\n",
    "- `QiskitSamplingBackend` : For the IBMQ backends\n",
    "- `QiskitRuntimeSamplingBackend`: For the devices provided by the `QiskitRuntimeService`\n",
    "\n",
    "which we provide further details on how to use them."
   ]
  },
  {
   "cell_type": "markdown",
   "metadata": {},
   "source": [
    "## Prerequisite\n"
   ]
  },
  {
   "cell_type": "markdown",
   "metadata": {},
   "source": [
    "This section requires topics described in the previous section ([Sampling simulation](https://quri-parts.qunasys.com/tutorials/sampling_simulation.html)) and the general sampling backend tutorial, so you need to read it before this section."
   ]
  },
  {
   "cell_type": "code",
   "execution_count": 1,
   "metadata": {},
   "outputs": [],
   "source": [
    "# !pip install \"quri-parts[qiskit]\""
   ]
  },
  {
   "cell_type": "markdown",
   "metadata": {},
   "source": [
    "## QiskitSamplingBackend and Sampler"
   ]
  },
  {
   "cell_type": "markdown",
   "metadata": {},
   "source": [
    "For using an IBMQ backend real device, you would need to activate your account first, then you may pick a device you prefer listed by the `all_device` variable defined below:"
   ]
  },
  {
   "cell_type": "code",
   "execution_count": 2,
   "metadata": {},
   "outputs": [
    {
     "name": "stderr",
     "output_type": "stream",
     "text": [
      "/var/folders/7b/gjzr3tld7g113pcbj7cd24t80000gn/T/ipykernel_92231/3635638939.py:3: DeprecationWarning: The package qiskit.providers.ibmq is being deprecated. Please see https://ibm.biz/provider_migration_guide to get instructions on how to migrate to qiskit-ibm-provider (https://github.com/Qiskit/qiskit-ibm-provider) and qiskit-ibm-runtime (https://github.com/Qiskit/qiskit-ibm-runtime).\n",
      "  provider = IBMQ.enable_account(\"e029a74b9ab9f3b1fe8991c72850892b9df3a78935d2049009c85f669c08a2f5f71aaa8a9724aba5f3cd19955117054946fe5258366215c3df744a326fc9217d\")\n",
      "/var/folders/7b/gjzr3tld7g113pcbj7cd24t80000gn/T/ipykernel_92231/3635638939.py:3: DeprecationWarning: The qiskit.IBMQ entrypoint and the qiskit-ibmq-provider package (accessible from 'qiskit.providers.ibmq`) are deprecated and will be removed in a future release. Instead you should use the qiskit-ibm-provider package which is accessible from 'qiskit_ibm_provider'. You can install it with 'pip install qiskit_ibm_provider'. Just replace 'qiskit.IBMQ' with 'qiskit_ibm_provider.IBMProvider'\n",
      "  provider = IBMQ.enable_account(\"e029a74b9ab9f3b1fe8991c72850892b9df3a78935d2049009c85f669c08a2f5f71aaa8a9724aba5f3cd19955117054946fe5258366215c3df744a326fc9217d\")\n"
     ]
    },
    {
     "name": "stdout",
     "output_type": "stream",
     "text": [
      "[<IBMQSimulator('ibmq_qasm_simulator') from IBMQ(hub='ibm-q', group='open', project='main')>, <IBMQBackend('ibmq_lima') from IBMQ(hub='ibm-q', group='open', project='main')>, <IBMQBackend('ibmq_belem') from IBMQ(hub='ibm-q', group='open', project='main')>, <IBMQBackend('ibmq_quito') from IBMQ(hub='ibm-q', group='open', project='main')>, <IBMQSimulator('simulator_statevector') from IBMQ(hub='ibm-q', group='open', project='main')>, <IBMQSimulator('simulator_mps') from IBMQ(hub='ibm-q', group='open', project='main')>, <IBMQSimulator('simulator_extended_stabilizer') from IBMQ(hub='ibm-q', group='open', project='main')>, <IBMQSimulator('simulator_stabilizer') from IBMQ(hub='ibm-q', group='open', project='main')>, <IBMQBackend('ibmq_jakarta') from IBMQ(hub='ibm-q', group='open', project='main')>, <IBMQBackend('ibmq_manila') from IBMQ(hub='ibm-q', group='open', project='main')>, <IBMQBackend('ibm_lagos') from IBMQ(hub='ibm-q', group='open', project='main')>, <IBMQBackend('ibm_nairobi') from IBMQ(hub='ibm-q', group='open', project='main')>, <IBMQBackend('ibm_perth') from IBMQ(hub='ibm-q', group='open', project='main')>]\n"
     ]
    }
   ],
   "source": [
    "from qiskit import IBMQ\n",
    "\n",
    "provider = IBMQ.enable_account(\"Please input your token\")\n",
    "all_devices = provider.backends()\n",
    "print(all_devices)"
   ]
  },
  {
   "cell_type": "markdown",
   "metadata": {},
   "source": [
    "Then, a `QiskitSamplingBackend` may be created by passing in the device"
   ]
  },
  {
   "cell_type": "code",
   "execution_count": 3,
   "metadata": {},
   "outputs": [],
   "source": [
    "from quri_parts.qiskit.backend import QiskitSamplingBackend\n",
    "backend = provider.get_backend(\"ibmq_qasm_simulator\")\n",
    "sampling_backend = QiskitSamplingBackend(backend=backend)"
   ]
  },
  {
   "cell_type": "markdown",
   "metadata": {},
   "source": [
    "With the sampling backend we just created, we can run the exact codes as in the `Sampling Backend and Sampler` section of the `QURI-Part’s Sampling Backend` tutorial."
   ]
  },
  {
   "cell_type": "markdown",
   "metadata": {},
   "source": [
    "## QiskitRuntimeSamplingBackend and Sampler"
   ]
  },
  {
   "cell_type": "markdown",
   "metadata": {},
   "source": [
    "[Qiskit Runtime](https://qiskit.org/ecosystem/ibm-runtime/) is a new service provided by IBM to perform sampling experiments on real devices. In this section, we demonstrate how to submit jobs to Qiskit Runtime via `QURI-parts`. We first prepare some circuit"
   ]
  },
  {
   "cell_type": "code",
   "execution_count": 4,
   "metadata": {},
   "outputs": [],
   "source": [
    "from quri_parts.circuit import QuantumCircuit\n",
    "\n",
    "# construct quri-parts circuit\n",
    "qp_circuit1 = QuantumCircuit(2)\n",
    "qp_circuit1.add_H_gate(0)\n",
    "qp_circuit1.add_H_gate(1)\n",
    "qp_circuit1.add_RX_gate(0, 0.23)\n",
    "qp_circuit1.add_RY_gate(1, -0.99)\n",
    "\n",
    "qp_circuit2 = QuantumCircuit(2)\n",
    "qp_circuit2.add_H_gate(0)\n",
    "qp_circuit2.add_H_gate(1)\n",
    "qp_circuit2.add_RX_gate(0, 1.23)\n",
    "qp_circuit2.add_RY_gate(1, 4.56)\n",
    "\n",
    "qp_circuit3 = QuantumCircuit(2)\n",
    "qp_circuit3.add_H_gate(0)\n",
    "qp_circuit3.add_H_gate(1)\n",
    "qp_circuit3.add_RX_gate(0, 0.998)\n",
    "qp_circuit3.add_RY_gate(1, 1.928)"
   ]
  },
  {
   "cell_type": "markdown",
   "metadata": {},
   "source": [
    "For using the Qiskit Runtime service, you can create a `QiskitRuntimeSamplingBackend` by passing  in a `qiskit.providers.backend` and a `qiskit_ibm_runtime.QiskitRuntimeService` object. To see the list of all the devices supported by the Qiskit Runtime Service, you may run:"
   ]
  },
  {
   "cell_type": "code",
   "execution_count": 5,
   "metadata": {},
   "outputs": [
    {
     "name": "stdout",
     "output_type": "stream",
     "text": [
      "[<IBMBackend('ibmq_qasm_simulator')>, <IBMBackend('ibmq_lima')>, <IBMBackend('simulator_statevector')>, <IBMBackend('ibm_nairobi')>, <IBMBackend('ibm_lagos')>, <IBMBackend('ibm_perth')>, <IBMBackend('ibmq_jakarta')>, <IBMBackend('ibmq_quito')>, <IBMBackend('ibmq_belem')>, <IBMBackend('simulator_extended_stabilizer')>, <IBMBackend('simulator_mps')>, <IBMBackend('simulator_stabilizer')>, <IBMBackend('ibmq_manila')>]\n"
     ]
    }
   ],
   "source": [
    "from qiskit_ibm_runtime import QiskitRuntimeService\n",
    "\n",
    "service = QiskitRuntimeService()\n",
    "\n",
    "# Note: all available devices can be obtained by:\n",
    "print(service.backends())"
   ]
  },
  {
   "cell_type": "markdown",
   "metadata": {},
   "source": [
    "We are now ready to create a qiskit runtime sampling backend"
   ]
  },
  {
   "cell_type": "code",
   "execution_count": 6,
   "metadata": {},
   "outputs": [],
   "source": [
    "from quri_parts.qiskit.backend import QiskitRuntimeSamplingBackend\n",
    "\n",
    "backend = service.backend(\"ibmq_qasm_simulator\")\n",
    "qiskit_runtime_sampling_backend = QiskitRuntimeSamplingBackend(\n",
    "    backend=backend,\n",
    "    service=service,\n",
    ")"
   ]
  },
  {
   "cell_type": "markdown",
   "metadata": {},
   "source": [
    "A sampler can be created as usual"
   ]
  },
  {
   "cell_type": "code",
   "execution_count": 8,
   "metadata": {},
   "outputs": [],
   "source": [
    "from quri_parts.core.sampling import create_sampler_from_sampling_backend\n",
    "\n",
    "sampler = create_sampler_from_sampling_backend(qiskit_runtime_sampling_backend)\n",
    "\n",
    "sampling_cnt_1 = sampler(qp_circuit1, 1000)\n",
    "sampling_cnt_2 = sampler(qp_circuit2, 2000)\n",
    "sampling_cnt_3 = sampler(qp_circuit3, 3000)"
   ]
  },
  {
   "cell_type": "markdown",
   "metadata": {},
   "source": [
    "### Grouping multiple sampling jobs into a Session"
   ]
  },
  {
   "cell_type": "markdown",
   "metadata": {},
   "source": [
    "In Qiskit Runtime Service, they provide `Session` objects that allows us to group jobs together. In the above example, a `Session` is created every time the sampler is called. In `QURI-Part’s`, we can group jobs into a single `Session` with the `QiskitRuntimeSamplingBackend` as well."
   ]
  },
  {
   "cell_type": "code",
   "execution_count": 9,
   "metadata": {},
   "outputs": [],
   "source": [
    "with QiskitRuntimeSamplingBackend(backend=backend, service=service) as qiskit_runtime_sampling_backend:\n",
    "\tsampler = create_sampler_from_sampling_backend(qiskit_runtime_sampling_backend)\n",
    "\tsampling_cnt_1 = sampler(qp_circuit1, 1000)\n",
    "\tsampling_cnt_2 = sampler(qp_circuit2, 2000)\n",
    "\tsampling_cnt_3 = sampler(qp_circuit3, 3000)"
   ]
  },
  {
   "cell_type": "markdown",
   "metadata": {},
   "source": [
    "### Billable Time Tracker"
   ]
  },
  {
   "cell_type": "markdown",
   "metadata": {},
   "source": [
    "When executing jobs on real devices, it can be useful to keep track of the cost by tracking the billable time. In the `QiskitRuntimeSamplingBackend` , we provide the `total_run_time` option that allows you to track the total billable time. If the total billable time exceeds the time limit, the backend will reject new job submissions and cancel all unfinished jobs. Let’s create a backend with run time limit of 100 seconds:"
   ]
  },
  {
   "cell_type": "code",
   "execution_count": 10,
   "metadata": {},
   "outputs": [],
   "source": [
    "TIME_LIMIT = 100\n",
    "\n",
    "backend = service.backend(\"ibmq_qasm_simulator\")\n",
    "\n",
    "sampling_backend = QiskitRuntimeSamplingBackend(\n",
    "\tbackend=backend,\n",
    "\tservice=service,\n",
    "\ttotal_time_limit=TIME_LIMIT\n",
    ")"
   ]
  },
  {
   "cell_type": "markdown",
   "metadata": {},
   "source": [
    "When the total time limit is set, a `Tracker` object is created along with the sampling backend. You may access it by the `.tracker` attribute."
   ]
  },
  {
   "cell_type": "code",
   "execution_count": 11,
   "metadata": {},
   "outputs": [],
   "source": [
    "tracker = sampling_backend.tracker"
   ]
  },
  {
   "cell_type": "markdown",
   "metadata": {},
   "source": [
    "The total billable run time of jobs submitted by the backend is computed whenever the `total_run_time` property is accessed. As we have not submitted any jobs with the backend we just created, it should be 0 at the moment."
   ]
  },
  {
   "cell_type": "code",
   "execution_count": 12,
   "metadata": {},
   "outputs": [
    {
     "data": {
      "text/plain": [
       "0.0"
      ]
     },
     "execution_count": 12,
     "metadata": {},
     "output_type": "execute_result"
    }
   ],
   "source": [
    "tracker.total_run_time"
   ]
  },
  {
   "cell_type": "markdown",
   "metadata": {},
   "source": [
    "When we submit jobs with the backend, the jobs will be registered to the tracker for tracking. For example let’s submit 3 sampling jobs:"
   ]
  },
  {
   "cell_type": "code",
   "execution_count": 13,
   "metadata": {},
   "outputs": [],
   "source": [
    "sampling_job_1 = sampling_backend.sample(qp_circuit1, 10)\n",
    "sampling_job_2 = sampling_backend.sample(qp_circuit2, 20)\n",
    "sampling_job_3 = sampling_backend.sample(qp_circuit3, 30)"
   ]
  },
  {
   "cell_type": "markdown",
   "metadata": {},
   "source": [
    "These jobs will be stored inside the tracker and can be accessed by the `.running_jobs` property if they are still being executed by the real device. If any of the job is finished, you may access them with the `.finished_jobs` property."
   ]
  },
  {
   "cell_type": "code",
   "execution_count": 14,
   "metadata": {},
   "outputs": [
    {
     "name": "stdout",
     "output_type": "stream",
     "text": [
      "[<quri_parts.qiskit.backend.primitive.QiskitRuntimeSamplingJob object at 0x17c66f1f0>, <quri_parts.qiskit.backend.primitive.QiskitRuntimeSamplingJob object at 0x17b24fdf0>, <quri_parts.qiskit.backend.primitive.QiskitRuntimeSamplingJob object at 0x17b24a3d0>]\n",
      "[]\n"
     ]
    }
   ],
   "source": [
    "print(tracker.running_jobs)\n",
    "print(tracker.finished_jobs)"
   ]
  },
  {
   "cell_type": "markdown",
   "metadata": {},
   "source": [
    "### Data Saving and Replaying"
   ]
  },
  {
   "cell_type": "markdown",
   "metadata": {},
   "source": [
    "As we might want to perform different analysis using the same data generated by real devices, having a way to save and retrieve past experiment data can be useful. In this section, we explain how to save and replay past experiment data generated by Qiskit devices."
   ]
  },
  {
   "cell_type": "markdown",
   "metadata": {},
   "source": [
    "The data saving feature can be activated by setting the `save_data_while_sampling` to True. Both `QiskitSamplingBackend` and `QiskitRuntimeSamplingBackend` support this feature. Let’s use the local Aer simulator as an example."
   ]
  },
  {
   "cell_type": "code",
   "execution_count": 19,
   "metadata": {},
   "outputs": [
    {
     "name": "stdout",
     "output_type": "stream",
     "text": [
      "{2: 3, 3: 5, 0: 56, 1: 36}\n",
      "{3: 1, 2: 1, 0: 108, 1: 90}\n",
      "{1: 7, 0: 9, 2: 147, 3: 137}\n"
     ]
    }
   ],
   "source": [
    "from quri_parts.qiskit.backend import QiskitSamplingBackend\n",
    "from qiskit_aer import AerSimulator\n",
    "from quri_parts.core.sampling import create_sampler_from_sampling_backend\n",
    "\n",
    "sampling_backend = QiskitSamplingBackend(\n",
    "\tbackend=AerSimulator(),\n",
    "\tsave_data_while_sampling=True # activate data saving feature\n",
    ")\n",
    "\n",
    "sampler = create_sampler_from_sampling_backend(sampling_backend)\n",
    "\n",
    "cnt1 = sampler(qp_circuit1, 100)\n",
    "cnt2 = sampler(qp_circuit2, 200)\n",
    "cnt3 = sampler(qp_circuit3, 300)\n",
    "\n",
    "print(cnt1)\n",
    "print(cnt2)\n",
    "print(cnt3)"
   ]
  },
  {
   "cell_type": "markdown",
   "metadata": {},
   "source": [
    "After performing sampling job like the above, we may save the sampling data into a json file:"
   ]
  },
  {
   "cell_type": "code",
   "execution_count": 21,
   "metadata": {},
   "outputs": [],
   "source": [
    "import json\n",
    "\n",
    "with open('saved_sampling_job.json', 'w') as fp:\n",
    "\tjson.dump(sampling_backend.jobs_json, fp)"
   ]
  },
  {
   "cell_type": "markdown",
   "metadata": {},
   "source": [
    "The `jobs_json` property accessed above encodes all the past sampling jobs in the order they were submitted. Now, let’s load it back to the memory and replay with the `QiskitSavedDataSamplingBackend`."
   ]
  },
  {
   "cell_type": "code",
   "execution_count": 22,
   "metadata": {},
   "outputs": [
    {
     "name": "stdout",
     "output_type": "stream",
     "text": [
      "{2: 3, 3: 5, 0: 56, 1: 36}\n",
      "{3: 1, 2: 1, 0: 108, 1: 90}\n",
      "{1: 7, 0: 9, 2: 147, 3: 137}\n"
     ]
    }
   ],
   "source": [
    "from quri_parts.qiskit.backend import QiskitSavedDataSamplingBackend\n",
    "\n",
    "with open('saved_sampling_job.json', 'r') as fp:\n",
    "\tsaved_data = json.load(fp)\n",
    "\n",
    "replay_backend = QiskitSavedDataSamplingBackend(\n",
    "\tbackend=AerSimulator(),\n",
    "\tsaved_data=saved_data\n",
    ")\n",
    "\n",
    "replay_sampler = create_sampler_from_sampling_backend(replay_backend)\n",
    "\n",
    "replay_cnt1 = replay_sampler(qp_circuit1, 100)\n",
    "replay_cnt2 = replay_sampler(qp_circuit2, 200)\n",
    "replay_cnt3 = replay_sampler(qp_circuit3, 300)\n",
    "\n",
    "print(replay_cnt1)\n",
    "print(replay_cnt2)\n",
    "print(replay_cnt3)"
   ]
  }
 ],
 "metadata": {
  "kernelspec": {
   "display_name": "qp_dev",
   "language": "python",
   "name": "python3"
  },
  "language_info": {
   "codemirror_mode": {
    "name": "ipython",
    "version": 3
   },
   "file_extension": ".py",
   "mimetype": "text/x-python",
   "name": "python",
   "nbconvert_exporter": "python",
   "pygments_lexer": "ipython3",
   "version": "3.9.16"
  },
  "orig_nbformat": 4
 },
 "nbformat": 4,
 "nbformat_minor": 2
}
