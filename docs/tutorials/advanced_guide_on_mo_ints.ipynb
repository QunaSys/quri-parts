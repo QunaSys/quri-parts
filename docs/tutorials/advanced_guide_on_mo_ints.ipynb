{
 "cells": [
  {
   "attachments": {},
   "cell_type": "markdown",
   "metadata": {},
   "source": [
    "# Advanced Guide on Computing Electron Integrals"
   ]
  },
  {
   "attachments": {},
   "cell_type": "markdown",
   "metadata": {},
   "source": [
    "This tutorial is for demonstrating how to obtain the molecular orbital (MO) electron integrals as well as the molecular Hamiltonian.\n",
    "\n",
    "Here, we adopt the physicists' convention for the electron integrals, so that they are related to the Hamiltonian by the equation:\n",
    "\n",
    "\\begin{equation}\n",
    "H = E_{\\text{nuc}} + \\sum_{i, j = 1}^{N_{\\text{spin orbitals}}} h_{ij} c_i^{\\dagger} c_j + \\frac{1}{2} \\sum_{i, j, k, l = 1}^{N_{\\text{spin orbitals}}} h_{ijkl} c_i^{\\dagger} c_j^{\\dagger} c_k c_l, \\nonumber\n",
    "\\end{equation}\n",
    "\n",
    "where \n",
    "\n",
    "- $E_{\\text{nuc}}$ is the nuclear repulsion energy.\n",
    "- $h_{ij}$ is the 1-electron MO integral (physicist's convention).\n",
    "- $h_{ijkl}$ is the 2-electron MO integral (physicist's convention).\n",
    "- $c_i^{\\dagger}$, $c_i$ are the fermionic creation and annihilation operators on the i-th _spin_ orbtial."
   ]
  },
  {
   "attachments": {},
   "cell_type": "markdown",
   "metadata": {},
   "source": [
    "## Prerequisite"
   ]
  },
  {
   "attachments": {},
   "cell_type": "markdown",
   "metadata": {},
   "source": [
    "QURI Parts modules used in this tutorial: `quri-parts-chem`, `quri-parts-pyscf`, `quri-parts-openfermion`. You can install them as follows:"
   ]
  },
  {
   "cell_type": "code",
   "execution_count": 1,
   "metadata": {},
   "outputs": [],
   "source": [
    "#!pip install \"quri_parts[chem]\"\n",
    "#!pip install \"quri_parts[pyscf]\"\n",
    "#!pip install \"quri_parts[openfermion]\""
   ]
  },
  {
   "attachments": {},
   "cell_type": "markdown",
   "metadata": {},
   "source": [
    "## Defining the Molecule"
   ]
  },
  {
   "attachments": {},
   "cell_type": "markdown",
   "metadata": {},
   "source": [
    "In quri-parts, one can create the molecule with the `PySCF` library and store it inside a `PySCFMolecularOrbitals`."
   ]
  },
  {
   "cell_type": "code",
   "execution_count": 2,
   "metadata": {},
   "outputs": [],
   "source": [
    "from pyscf import gto, scf\n",
    "from quri_parts.pyscf.mol import PySCFMolecularOrbitals\n",
    "\n",
    "h2o_atom_list = [['H', [0, 0, 0]], ['O', [2, 0, 1]], ['H',  [0, 0, 2]]]\n",
    "h2o_mol = gto.Mole(atom=h2o_atom_list, verbose = 0)\n",
    "h2o_mol.build()\n",
    "h2o_mf = scf.RHF(h2o_mol)\n",
    "h2o_mf.kernel()\n",
    "h2o_mo = PySCFMolecularOrbitals(mol=h2o_mol, mo_coeff=h2o_mf.mo_coeff)"
   ]
  },
  {
   "attachments": {},
   "cell_type": "markdown",
   "metadata": {},
   "source": [
    "## Computing the electron integrals with `quri_parts`"
   ]
  },
  {
   "attachments": {},
   "cell_type": "markdown",
   "metadata": {},
   "source": [
    "### Computing the spatial electron integrals with `quri_parts`"
   ]
  },
  {
   "attachments": {},
   "cell_type": "markdown",
   "metadata": {},
   "source": [
    "In `quri_parts`, atomic orbital integrals are stored inside `AOeIntArraySet`, which contains:\n",
    "    \n",
    "- The nuclear repulsion energy of a molecule. \n",
    "- An `AO1eIntArray` object, which contains the array of the one-electron atomic orbital integral.\n",
    "- An `AO2eIntArray` object, which contains the array of the two-electron atomic orbital integral.\n",
    "\n",
    "One can construct the `AOeIntArraySet` using the `get_ao_eint_set` function. When the `store_array_on_memory` argument is set to True,it returns an `AOeIntArraySet` object, that stores the electron integrals on memory."
   ]
  },
  {
   "cell_type": "code",
   "execution_count": 3,
   "metadata": {},
   "outputs": [],
   "source": [
    "from quri_parts.pyscf.mol import get_ao_eint_set\n",
    "\n",
    "ao_eint_set = get_ao_eint_set(h2o_mo, store_array_on_memory=True)\n",
    "\n",
    "# the nuclear repulsion energy\n",
    "nuc_energy = ao_eint_set.constant\n",
    "# the ao one-electron integral: an AO1eIntArray object\n",
    "ao_1e_int = ao_eint_set.ao_1e_int\n",
    "# the ao two-electron integral: an AO2eIntArray object\n",
    "ao_2e_int = ao_eint_set.ao_2e_int"
   ]
  },
  {
   "attachments": {},
   "cell_type": "markdown",
   "metadata": {},
   "source": [
    "One can access the explicit array of the electron atomic orbital integrals with the array attribute:\n"
   ]
  },
  {
   "cell_type": "code",
   "execution_count": 4,
   "metadata": {},
   "outputs": [],
   "source": [
    "# ao_1e_int.array\n",
    "# ao_2e_int.array"
   ]
  },
  {
   "attachments": {},
   "cell_type": "markdown",
   "metadata": {},
   "source": [
    "In practical quantum chemistry application, it is often the case that the electron molecular orbital (MO) integrals are more useful for construting the molecular Hamiltonian. \n",
    "\n",
    "The spatial mo electron integrals are stored inside `SpatialMOeIntSet`. It contains\n",
    "\n",
    "- The nuclear repulsion energy of a molecule. \n",
    "- A `SpatialMO1eIntArray` object, which contains the array of the one-electron spatial molecular orbital integral.\n",
    "- A `SpatialMO2eIntArray` object, which contains the array of the two-electron spatial molecular orbital integral.\n",
    "\n",
    "<a id='array_based_mo_eint'></a>\n",
    "These spatial electron integrals are computed via the `to_spatial_mo1int` and `to_spatial_mo2int` methods inside `AO1eInt` and `AO2eInt`, respectively."
   ]
  },
  {
   "cell_type": "code",
   "execution_count": 5,
   "metadata": {},
   "outputs": [],
   "source": [
    "from quri_parts.chem.mol import SpatialMOeIntSet\n",
    "\n",
    "# Construct a SpatialMO1eIntArray instance\n",
    "spatial_mo_1e_int = ao_1e_int.to_spatial_mo1int(h2o_mo.mo_coeff)\n",
    "\n",
    "# Construct a SpatialMO2eIntArray instance\n",
    "spatial_mo_2e_int = ao_2e_int.to_spatial_mo2int(h2o_mo.mo_coeff)\n",
    "\n",
    "# Store them inside a SpatialMOeIntSet object\n",
    "spatial_mo_eint_set = SpatialMOeIntSet(\n",
    "    const=nuc_energy,\n",
    "    mo_1e_int=spatial_mo_1e_int,\n",
    "    mo_2e_int=spatial_mo_2e_int\n",
    ")\n",
    "\n",
    "\n",
    "# The explicit arrays can be obtained by accessing the array attribute.\n",
    "\n",
    "# spatial_mo_1e_int.array\n",
    "# spatial_mo_2e_int.array"
   ]
  },
  {
   "attachments": {},
   "cell_type": "markdown",
   "metadata": {},
   "source": [
    "If one wishes to compute the spin space mo integrals, then one can use `to_mo1int` and `to_mo2int` methods and store them inside the `SpinMOeIntSet` class.\n",
    "<a id='array_based_spin_mo_eint'></a>"
   ]
  },
  {
   "cell_type": "code",
   "execution_count": 6,
   "metadata": {},
   "outputs": [],
   "source": [
    "from quri_parts.chem.mol import SpinMOeIntSet\n",
    "\n",
    "# Construct a SpinMO1eIntArray instance\n",
    "spin_mo_1e_int = ao_1e_int.to_mo1int(h2o_mo.mo_coeff)\n",
    "\n",
    "# Construct a SpinMO2eIntArray instance\n",
    "spin_mo_2e_int = ao_2e_int.to_mo2int(h2o_mo.mo_coeff)\n",
    "\n",
    "# Store them inside a SpinMOeIntSet object\n",
    "spin_mo_eint_set = SpinMOeIntSet(\n",
    "    const=nuc_energy,\n",
    "    mo_1e_int=spin_mo_1e_int,\n",
    "    mo_2e_int=spin_mo_2e_int\n",
    ")\n",
    "\n",
    "# The explicit arrays can be obtained by accessing the array attribute.\n",
    "\n",
    "# spin_mo_1e_int.array\n",
    "# spin_mo_2e_int.array"
   ]
  },
  {
   "attachments": {},
   "cell_type": "markdown",
   "metadata": {},
   "source": [
    "These can also be obtained in a simpler way with the `to_full_space_spatial_mo_int` and `to_full_space_mo_int` methods in `ao_eint_set`"
   ]
  },
  {
   "cell_type": "code",
   "execution_count": 7,
   "metadata": {},
   "outputs": [],
   "source": [
    "# Computes the full space spatial mo electron integrals\n",
    "spatial_mo_e_int_set = ao_eint_set.to_full_space_spatial_mo_int(h2o_mo)\n",
    "\n",
    "# Computes the full space spin mo electron integrals\n",
    "spin_mo_e_int_set = ao_eint_set.to_full_space_mo_int(h2o_mo)"
   ]
  },
  {
   "attachments": {},
   "cell_type": "markdown",
   "metadata": {},
   "source": [
    "### Computing the active space electron integrals"
   ]
  },
  {
   "attachments": {},
   "cell_type": "markdown",
   "metadata": {},
   "source": [
    "<a id='active_space'></a>\n",
    "\n",
    "In quri-parts, we can specify the active space with the `ActiveSpace` class, and the active space molecular orbitals can be constructed from the `ActiveSpaceMolecularOrbital` class."
   ]
  },
  {
   "cell_type": "code",
   "execution_count": 8,
   "metadata": {},
   "outputs": [],
   "source": [
    "from quri_parts.chem.mol import ActiveSpace, ActiveSpaceMolecularOrbitals\n",
    "\n",
    "n_active_ele = 6\n",
    "n_active_orb = 4\n",
    "\n",
    "active_space = ActiveSpace(n_active_ele=n_active_ele, n_active_orb=n_active_orb)\n",
    "active_space_mo = ActiveSpaceMolecularOrbitals(mo=h2o_mo, active_space=active_space)"
   ]
  },
  {
   "attachments": {},
   "cell_type": "markdown",
   "metadata": {},
   "source": [
    "Detailed information of the active space can be obtained by printing out the active_space_mo. \n",
    "\n",
    "Note that `quri-parts` would perform consistency checks on the active space automatically to make sure the active space configuration is correct."
   ]
  },
  {
   "cell_type": "code",
   "execution_count": 9,
   "metadata": {},
   "outputs": [
    {
     "name": "stdout",
     "output_type": "stream",
     "text": [
      "n_electron: 10\n",
      "n_active_ele: 6\n",
      "n_core_ele: 4\n",
      "n_ele_alpha: 3\n",
      "n_ele_beta: 3\n",
      "n_spatial_orb: 7\n",
      "n_active_orb: 4\n",
      "n_core_orb: 2\n",
      "n_vir_orb: 1\n"
     ]
    }
   ],
   "source": [
    "print(active_space_mo)"
   ]
  },
  {
   "attachments": {},
   "cell_type": "markdown",
   "metadata": {},
   "source": [
    "To obtain the active space spin or spatial electron integrals, we can use the `get_active_space_spin_integrals_from_ao_eint` and `get_active_space_spatial_integrals_from_ao_eint` functions."
   ]
  },
  {
   "cell_type": "code",
   "execution_count": 10,
   "metadata": {},
   "outputs": [],
   "source": [
    "from quri_parts.chem.mol import (\n",
    "    get_active_space_spin_integrals_from_ao_eint,\n",
    "    get_active_space_spatial_integrals_from_ao_eint\n",
    ")\n",
    "\n",
    "# Computes the active space spin mo electron integrals\n",
    "active_space_spin_integrals = get_active_space_spin_integrals_from_ao_eint(\n",
    "    active_space_mo=active_space_mo,\n",
    "    electron_ao_ints=ao_eint_set\n",
    ")\n",
    "\n",
    "# Computes the active space spatial mo electron integrals\n",
    "active_space_spatial_integrals = get_active_space_spatial_integrals_from_ao_eint(\n",
    "    active_space_mo=active_space_mo,\n",
    "    electron_ao_ints=ao_eint_set,\n",
    ")"
   ]
  },
  {
   "attachments": {},
   "cell_type": "markdown",
   "metadata": {},
   "source": [
    "Note that it is faster if one chooses to store the spatial mo electron integral on memory, and calls the `get_active_space_integrals_from_mo` as the mo integrals do not need to be computed again."
   ]
  },
  {
   "cell_type": "code",
   "execution_count": 11,
   "metadata": {},
   "outputs": [],
   "source": [
    "from quri_parts.chem.mol import (\n",
    "    get_active_space_spatial_integrals_from_mo_eint,\n",
    "    get_active_space_spin_integrals_from_mo_eint\n",
    ")\n",
    "\n",
    "# Computes the active space spin mo electron integrals\n",
    "active_space_spin_integrals = get_active_space_spin_integrals_from_mo_eint(\n",
    "    active_space_mo=active_space_mo,\n",
    "    electron_mo_ints=spatial_mo_eint_set  # MOeIntSet is passed in here instead of AOeIntSet\n",
    ")\n",
    "\n",
    "# Computes the active space spatial mo electron integrals\n",
    "active_space_spatial_integrals = get_active_space_spatial_integrals_from_mo_eint(\n",
    "    active_space_mo=active_space_mo,\n",
    "    electron_mo_ints=spatial_mo_eint_set,  # MOeIntSet is passed in here instead of AOeIntSet\n",
    ")"
   ]
  },
  {
   "attachments": {},
   "cell_type": "markdown",
   "metadata": {},
   "source": [
    "The `AOeIntSet` also provides convenient methods to obtain the active space spin/spatial mo electron integrals right after\n",
    "constructing `ao_eint_set`."
   ]
  },
  {
   "cell_type": "code",
   "execution_count": 12,
   "metadata": {},
   "outputs": [],
   "source": [
    "# Convenient method of computing the active space spin mo electron integrals\n",
    "active_space_spin_integrals = ao_eint_set.to_active_space_mo_int(active_space_mo=active_space_mo)\n",
    "\n",
    "# Convenient method of computing the active space spatial mo electron integrals\n",
    "active_space_spatial_integrals = ao_eint_set.to_active_space_spatial_mo_int(active_space_mo=active_space_mo)"
   ]
  },
  {
   "attachments": {},
   "cell_type": "markdown",
   "metadata": {},
   "source": [
    "## Computing the electron integrals with `quri_parts` in a memory efficient manner"
   ]
  },
  {
   "attachments": {},
   "cell_type": "markdown",
   "metadata": {},
   "source": [
    "When the molecule gets larger, it is unrealistic to store the full space mo electron integrals on memory, most especially when we just want to get the hamiltonian of a small active space from a big molecule.\n",
    "\n",
    "In quri-parts, we provide a memory efficient way of computing the active space integrals while bypassing the full space electron integrals."
   ]
  },
  {
   "attachments": {},
   "cell_type": "markdown",
   "metadata": {},
   "source": [
    "### Computing the spatial electron integrals with `quri_parts`"
   ]
  },
  {
   "attachments": {},
   "cell_type": "markdown",
   "metadata": {},
   "source": [
    "The idea is to store only the pyscf Mole object inside the `PySCFAO1eInt`, `PySCFAO2eInt` classes, which are contained by a `PySCFAOeIntSet` object.\n",
    "\n",
    "We may obtain the `PySCFAOeIntSet` with the `get_ao_eint_set` function"
   ]
  },
  {
   "cell_type": "code",
   "execution_count": 13,
   "metadata": {},
   "outputs": [],
   "source": [
    "# This constructs a PySCFAOeIntSet object, which only holds pyscf mol object on memory\n",
    "pyscf_ao_eint_set = get_ao_eint_set(h2o_mo)"
   ]
  },
  {
   "attachments": {},
   "cell_type": "markdown",
   "metadata": {},
   "source": [
    "Importantly, the explicit eletron integrals are only computed on demand whenever the `array` property is accessed."
   ]
  },
  {
   "cell_type": "code",
   "execution_count": 14,
   "metadata": {},
   "outputs": [],
   "source": [
    "# pyscf_ao_eint_set.ao_1e_int.array\n",
    "# pyscf_ao_eint_set.ao_2e_int.array"
   ]
  },
  {
   "attachments": {},
   "cell_type": "markdown",
   "metadata": {},
   "source": [
    "The corresponding spatial mo integrals can be computed by the methods `to_spatial_mo1int` and `to_spatial_mo2int` methods, which returns the `PySCFSpatialMO1eInt` and `PySCFSpatialMO2eInt` objects that contains a pyscf mol object and the mo coefficients."
   ]
  },
  {
   "cell_type": "code",
   "execution_count": 15,
   "metadata": {},
   "outputs": [],
   "source": [
    "# Returns a PySCFSpatialMO1eInt object, which only holds the molecule and the mo coefficients on memory\n",
    "pyscf_spatial_mo_1e_int = pyscf_ao_eint_set.ao_1e_int.to_spatial_mo1int(h2o_mo.mo_coeff)\n",
    "\n",
    "# Returns a PySCFSpatialMO2eInt object, which only holds the molecule and the mo coefficients on memory\n",
    "pyscf_spatial_mo_2e_int = pyscf_ao_eint_set.ao_2e_int.to_spatial_mo2int(h2o_mo.mo_coeff)"
   ]
  },
  {
   "attachments": {},
   "cell_type": "markdown",
   "metadata": {},
   "source": [
    "The explicit electron integrals are only computed on demand when the `array` property is accessed"
   ]
  },
  {
   "cell_type": "code",
   "execution_count": 16,
   "metadata": {},
   "outputs": [],
   "source": [
    "# pyscf_spatial_mo_1e_int.array\n",
    "# pyscf_spatial_mo_2e_int.array"
   ]
  },
  {
   "attachments": {},
   "cell_type": "markdown",
   "metadata": {},
   "source": [
    "We may show that the results are consistent with those from the `ao_1e_int.to_sptatial_mo1int` and `ao_2e_int.to_sptatial_mo2int` methods we showed [previously](#array_based_mo_eint), where the computations there are based on matrix multiplication."
   ]
  },
  {
   "cell_type": "code",
   "execution_count": 17,
   "metadata": {},
   "outputs": [],
   "source": [
    "from numpy import allclose\n",
    "assert allclose(pyscf_spatial_mo_1e_int.array, spatial_mo_1e_int.array)\n",
    "assert allclose(pyscf_spatial_mo_2e_int.array, spatial_mo_2e_int.array)"
   ]
  },
  {
   "attachments": {},
   "cell_type": "markdown",
   "metadata": {},
   "source": [
    "The corresponding spin mo integrals can be computed by the methods `to_mo1int` and `to_mo2int` methods,\n",
    "\n",
    "which returns the `SpinMO1eInt` and `SpinMO2eInt` objects that only holds the PySCF Mole object and the mo coefficient array on memory."
   ]
  },
  {
   "cell_type": "code",
   "execution_count": 18,
   "metadata": {},
   "outputs": [],
   "source": [
    "# Returns a SpinMO1eInt object that holds the full space electron integral arrays\n",
    "pyscf_spin_mo_1e_int = pyscf_ao_eint_set.ao_1e_int.to_mo1int(h2o_mo.mo_coeff)\n",
    "\n",
    "# Returns a SpinMO2eInt object that holds the full space electron integral arrays\n",
    "pyscf_spin_mo_2e_int = pyscf_ao_eint_set.ao_2e_int.to_mo2int(h2o_mo.mo_coeff)"
   ]
  },
  {
   "attachments": {},
   "cell_type": "markdown",
   "metadata": {},
   "source": [
    "The computation of the actual electron integral are only computed when the `array` property is accessed."
   ]
  },
  {
   "cell_type": "code",
   "execution_count": 19,
   "metadata": {},
   "outputs": [],
   "source": [
    "# pyscf_spin_mo_1e_int.array  # electron integral computation happens here when .array is accessed\n",
    "# pyscf_spin_mo_2e_int.array  # electron integral computation happens here when .array is accessed"
   ]
  },
  {
   "attachments": {},
   "cell_type": "markdown",
   "metadata": {},
   "source": [
    "We may show that the results are consistent with those from the `ao_1e_int.to_mo1int` and `ao_2e_int.to_mo2int` methods we showed [previously](#array_based_spin_mo_eint),"
   ]
  },
  {
   "cell_type": "code",
   "execution_count": 20,
   "metadata": {},
   "outputs": [],
   "source": [
    "from numpy import allclose\n",
    "assert allclose(pyscf_spin_mo_1e_int.array, spin_mo_1e_int.array)\n",
    "assert allclose(pyscf_spin_mo_2e_int.array, spin_mo_2e_int.array)"
   ]
  },
  {
   "attachments": {},
   "cell_type": "markdown",
   "metadata": {},
   "source": [
    "### Getting the active space spin electron integrals"
   ]
  },
  {
   "attachments": {},
   "cell_type": "markdown",
   "metadata": {},
   "source": [
    "For constructing the active space hamiltonian, we may use the `get_active_space_integrals` function in the `quri-parts.pyscf` package. \n",
    "\n",
    "It only takes in a `PySCFAOeIntSet` object and an `ActiveSpaceMolecularOribtal` object, which we constrcuted [previously](#active_space). \n",
    "\n",
    "Both of them do not take up mach space on memory."
   ]
  },
  {
   "cell_type": "code",
   "execution_count": 21,
   "metadata": {},
   "outputs": [],
   "source": [
    "import quri_parts.pyscf.mol as pyscf_mol\n",
    "\n",
    "# Returns the active space spin mo electron integrals\n",
    "pyscf_active_space_spin_integrals = pyscf_mol.get_active_space_spin_integrals(\n",
    "    active_space_mo=active_space_mo, \n",
    "    electron_ints=pyscf_ao_eint_set  # takes in a PySCFAOeIntSet objet\n",
    ")\n",
    "\n",
    "# Returns the active space spatial mo electron integrals\n",
    "pyscf_active_space_spatial_integrals = pyscf_mol.get_active_space_spatial_integrals(\n",
    "    active_space_mo=active_space_mo,\n",
    "    electron_ints=pyscf_ao_eint_set,  # takes in a PySCFAOeIntSet objet\n",
    ")"
   ]
  },
  {
   "attachments": {},
   "cell_type": "markdown",
   "metadata": {},
   "source": [
    "We may also show that the result is consistent with that from the `get_active_space_integrals` function"
   ]
  },
  {
   "cell_type": "code",
   "execution_count": 22,
   "metadata": {},
   "outputs": [],
   "source": [
    "assert allclose(pyscf_active_space_spin_integrals.const, active_space_spin_integrals.const)\n",
    "assert allclose(pyscf_active_space_spin_integrals.mo_1e_int.array, active_space_spin_integrals.mo_1e_int.array)\n",
    "assert allclose(pyscf_active_space_spin_integrals.mo_1e_int.array, active_space_spin_integrals.mo_1e_int.array)"
   ]
  },
  {
   "attachments": {},
   "cell_type": "markdown",
   "metadata": {},
   "source": [
    "`quri-parts` also provides convenient methods of getting the spin/spatial active space integral right after the construction of a `PySCFAOeIntSet` object:"
   ]
  },
  {
   "cell_type": "code",
   "execution_count": 23,
   "metadata": {},
   "outputs": [],
   "source": [
    "# Convenient method of computing the active space spin mo electron integrals\n",
    "pyscf_active_space_spin_integrals = pyscf_ao_eint_set.to_active_space_mo_int(active_space_mo)\n",
    "\n",
    "# Convenient method of computing the active space spatial mo electron integrals\n",
    "pyscf_active_space_spatial_integrals = pyscf_ao_eint_set.to_active_space_spatial_mo_int(active_space_mo)"
   ]
  },
  {
   "attachments": {},
   "cell_type": "markdown",
   "metadata": {},
   "source": [
    "## Computing the Molecular Hamiltonian"
   ]
  },
  {
   "attachments": {},
   "cell_type": "markdown",
   "metadata": {},
   "source": [
    "In `quri-parts-pyscf`, we provide the `get_spin_mo_integrals_from_mole` function for simply obtaining the spin MO electron integral (a `SpinMOeIntSet` object) along with the corresponding `MolecularOrbitals` object after constructing the pyscf molecule."
   ]
  },
  {
   "cell_type": "code",
   "execution_count": 24,
   "metadata": {},
   "outputs": [],
   "source": [
    "h2o_atom_list = [['H', [0, 0, 0]], ['O', [2, 0, 1]], ['H',  [0, 0, 2]]]\n",
    "h2o_mol = gto.M(atom=h2o_atom_list, verbose = 0)\n",
    "h2o_mf = scf.RHF(h2o_mol)\n",
    "h2o_mf.kernel()\n",
    "\n",
    "# The full space molecular orbitals and full space mo electron integrals\n",
    "from quri_parts.pyscf.mol import get_spin_mo_integrals_from_mole\n",
    "full_space_mo, full_space_spin_mo_eint_set = get_spin_mo_integrals_from_mole(h2o_mol, h2o_mf.mo_coeff)"
   ]
  },
  {
   "attachments": {},
   "cell_type": "markdown",
   "metadata": {},
   "source": [
    "The obtained mo electron integral coefficients can be used to construct the molecular hamiltonian.\n",
    "\n",
    "For constrcuting the fermionic hamiltonian, we can use the `get_fermionic_hamiltonian` in `quri-parts-openfermion` that converts the MO electron integral into the fermionic operator represented by `Openfermion`'s `InteractionOperator`."
   ]
  },
  {
   "cell_type": "code",
   "execution_count": 25,
   "metadata": {},
   "outputs": [],
   "source": [
    "from quri_parts.openfermion.mol import get_fermionic_hamiltonian\n",
    "\n",
    "fermionic_hamiltonian = get_fermionic_hamiltonian(full_space_spin_mo_eint_set)"
   ]
  },
  {
   "attachments": {},
   "cell_type": "markdown",
   "metadata": {},
   "source": [
    "To convert the fermionic hamiltonian into a `quri-parts` `Operator` with a specified fermion-qubit mapping method, we provide `convert_fermionic_hamiltonian_to_qubit_hamiltonian` in `quri-parts-openfermion`. The operator mapper and state mapper are also returned along with the qubit_hamiltonian."
   ]
  },
  {
   "cell_type": "code",
   "execution_count": 26,
   "metadata": {},
   "outputs": [],
   "source": [
    "from quri_parts.openfermion.mol import convert_fermionic_hamiltonian_to_qubit_hamiltonian\n",
    "from quri_parts.openfermion.transforms import jordan_wigner\n",
    "(\n",
    "    qubit_hamiltonian,\n",
    "    operator_mapper,\n",
    "    state_mapper\n",
    ") = convert_fermionic_hamiltonian_to_qubit_hamiltonian(\n",
    "    fermionic_hamiltonian=fermionic_hamiltonian,\n",
    "    mo=full_space_mo,\n",
    "    fermion_qubit_mapping=jordan_wigner  # default to jordan_wigner\n",
    ")"
   ]
  },
  {
   "attachments": {},
   "cell_type": "markdown",
   "metadata": {},
   "source": [
    "We also provide the `get_qubit_mapped_hamiltonian_operator` function in `quri-parts-openfermion` for obtaining the qubit Hamiltonian right after the MO electron integral is obtained."
   ]
  },
  {
   "cell_type": "code",
   "execution_count": 27,
   "metadata": {},
   "outputs": [],
   "source": [
    "from quri_parts.openfermion.mol import get_qubit_mapped_hamiltonian_operator\n",
    "(\n",
    "    qubit_hamiltonian,\n",
    "    operator_mapper,\n",
    "    state_mapper\n",
    ") = get_qubit_mapped_hamiltonian_operator(\n",
    "    mo=full_space_mo,\n",
    "    spin_mo_eint_set=full_space_spin_mo_eint_set,\n",
    "    fermion_qubit_mapping=jordan_wigner  # default to jordan_wigner\n",
    ")"
   ]
  },
  {
   "attachments": {},
   "cell_type": "markdown",
   "metadata": {},
   "source": [
    "The active space hamiltonian can also be obtained as in the full space hamiltonian above."
   ]
  },
  {
   "cell_type": "code",
   "execution_count": 28,
   "metadata": {},
   "outputs": [],
   "source": [
    "from quri_parts.chem.mol import cas\n",
    "\n",
    "# Obtaining the active space molecular orbitals\n",
    "active_space = cas(n_active_ele=2, n_active_orb=2)\n",
    "(\n",
    "    active_space_mo,\n",
    "    active_space_spin_mo_eint_set\n",
    ") = get_spin_mo_integrals_from_mole(h2o_mol, h2o_mf.mo_coeff, active_space)\n",
    "\n",
    "# Compute the active space fermionic hamiltonian and convert it to qubit hamiltonian\n",
    "active_space_fermionic_hamiltonian = get_fermionic_hamiltonian(active_space_spin_mo_eint_set)\n",
    "(\n",
    "    active_space_qubit_hamiltonian,\n",
    "    active_space_operator_mapper,\n",
    "    active_space_state_mapper\n",
    ") = convert_fermionic_hamiltonian_to_qubit_hamiltonian(active_space_fermionic_hamiltonian, active_space_mo)"
   ]
  },
  {
   "attachments": {},
   "cell_type": "markdown",
   "metadata": {},
   "source": [
    "Or equivalently, the qubit hamiltonian can be obtained right after the active space MO electron integral and `ActiveSpaceMolecularOrbitals` object are obtained."
   ]
  },
  {
   "cell_type": "code",
   "execution_count": 29,
   "metadata": {},
   "outputs": [
    {
     "name": "stdout",
     "output_type": "stream",
     "text": [
      "(-74.19897804639758+0j) I\n",
      "(0.010450191939802053+0j) Z0\n",
      "(0.010450191939802053+0j) Z1\n",
      "(0.05612455054746367+0j) Z2\n",
      "(0.05612455054746367+0j) Z3\n",
      "(0.11022849870581763+0j) Z0 Z1\n",
      "(0.07024413153657523+0j) Z0 Z2\n",
      "(0.10866454047937474+0j) Z0 Z3\n",
      "(0.10866454047937474+0j) Z1 Z2\n",
      "(0.07024413153657523+0j) Z1 Z3\n",
      "(0.1106228519330524+0j) Z2 Z3\n",
      "-0.0384204089427995 X0 X1 Y2 Y3\n",
      "0.0384204089427995 X0 Y1 Y2 X3\n",
      "0.0384204089427995 Y0 X1 X2 Y3\n",
      "-0.0384204089427995 Y0 Y1 X2 X3\n"
     ]
    }
   ],
   "source": [
    "(\n",
    "    active_space_qubit_hamiltonian,\n",
    "    operator_mapper,\n",
    "    state_mapper\n",
    ") = get_qubit_mapped_hamiltonian_operator(\n",
    "    active_space_mo,\n",
    "    active_space_spin_mo_eint_set\n",
    ")\n",
    "\n",
    "for term, coeff in active_space_qubit_hamiltonian.items():\n",
    "    print(coeff, term)"
   ]
  },
  {
   "attachments": {},
   "cell_type": "markdown",
   "metadata": {},
   "source": [
    "## Summary"
   ]
  },
  {
   "attachments": {},
   "cell_type": "markdown",
   "metadata": {},
   "source": [
    "Finally we summarize the necessary procedure for constructing the electron integrals for a molecule"
   ]
  },
  {
   "attachments": {},
   "cell_type": "markdown",
   "metadata": {},
   "source": [
    "### Compute with storing the electron integral arrays on memory"
   ]
  },
  {
   "cell_type": "code",
   "execution_count": 30,
   "metadata": {},
   "outputs": [],
   "source": [
    "# Step 1: Construct a PySCF Mole object\n",
    "from pyscf import gto, scf\n",
    "from quri_parts.pyscf.mol import PySCFMolecularOrbitals\n",
    "\n",
    "h2o_atom_list = [['H', [0, 0, 0]], ['O', [2, 0, 1]], ['H',  [0, 0, 2]]]\n",
    "h2o_mol = gto.Mole(atom=h2o_atom_list, verbose = 0)\n",
    "h2o_mol.build()\n",
    "h2o_mf = scf.RHF(h2o_mol)\n",
    "h2o_mf.kernel()\n",
    "h2o_mo = PySCFMolecularOrbitals(mol=h2o_mol, mo_coeff=h2o_mf.mo_coeff)"
   ]
  },
  {
   "cell_type": "code",
   "execution_count": 31,
   "metadata": {},
   "outputs": [],
   "source": [
    "# Step 2: Compute the ao electron integrals\n",
    "from quri_parts.pyscf.mol import get_ao_eint_set\n",
    "\n",
    "ao_eint_set = get_ao_eint_set(h2o_mo, store_array_on_memory=True)\n",
    "\n",
    "# If you only wish to get the full space electron integrals, you can run:\n",
    "spin_mo_eint_set = ao_eint_set.to_full_space_mo_int(h2o_mo)\n",
    "# and ignore Step 3 and Step 4."
   ]
  },
  {
   "cell_type": "code",
   "execution_count": 32,
   "metadata": {},
   "outputs": [],
   "source": [
    "# Step 3: Construct the desired active space\n",
    "from quri_parts.chem.mol import ActiveSpaceMolecularOrbitals, cas\n",
    "\n",
    "active_space_mo = ActiveSpaceMolecularOrbitals(mo=h2o_mo, active_space=cas(n_active_ele=6, n_active_orb=4))"
   ]
  },
  {
   "cell_type": "code",
   "execution_count": 33,
   "metadata": {},
   "outputs": [],
   "source": [
    "# Step 4: Compute the active space spin mo integrals\n",
    "from quri_parts.chem.mol import get_active_space_spin_integrals_from_ao_eint, get_active_space_spatial_integrals_from_ao_eint\n",
    "\n",
    "active_space_spatial_mo_eint_set = get_active_space_spatial_integrals_from_ao_eint(active_space_mo=active_space_mo, electron_ao_ints=ao_eint_set)\n",
    "active_space_spin_mo_eint_set = get_active_space_spin_integrals_from_ao_eint(active_space_mo=active_space_mo, electron_ao_ints=ao_eint_set)\n",
    "\n",
    "# Or we can also do:\n",
    "active_space_spatial_mo_eint_set = ao_eint_set.to_active_space_spatial_mo_int(active_space_mo)\n",
    "active_space_spin_mo_eint_set = ao_eint_set.to_active_space_mo_int(active_space_mo)"
   ]
  },
  {
   "attachments": {},
   "cell_type": "markdown",
   "metadata": {},
   "source": [
    "### Compute without storing the electron integral arrays on memory"
   ]
  },
  {
   "cell_type": "code",
   "execution_count": 34,
   "metadata": {},
   "outputs": [],
   "source": [
    "# Step 1: Construct a PySCF Mole object\n",
    "from pyscf import gto, scf\n",
    "from quri_parts.pyscf.mol import PySCFMolecularOrbitals\n",
    "\n",
    "h2o_atom_list = [['H', [0, 0, 0]], ['O', [2, 0, 1]], ['H',  [0, 0, 2]]]\n",
    "h2o_mol = gto.Mole(atom=h2o_atom_list, verbose = 0)\n",
    "h2o_mol.build()\n",
    "h2o_mf = scf.RHF(h2o_mol)\n",
    "h2o_mf.kernel()\n",
    "h2o_mo = PySCFMolecularOrbitals(mol=h2o_mol, mo_coeff=h2o_mf.mo_coeff)"
   ]
  },
  {
   "cell_type": "code",
   "execution_count": 35,
   "metadata": {},
   "outputs": [],
   "source": [
    "# Step 2: Compute the ao electron integrals without storing the electron integral arrays on memory\n",
    "from quri_parts.pyscf.mol import get_ao_eint_set\n",
    "\n",
    "pyscf_ao_eint_set = get_ao_eint_set(h2o_mo)\n",
    "\n",
    "# If you wish to get the full space electron integrals, you can run:\n",
    "pyscf_spin_mo_eint_set = pyscf_ao_eint_set.to_full_space_mo_int(h2o_mo)\n",
    "# and ignore Step 3 and Step 4.\n",
    "\n",
    "# Note that pyscf_spin_mo_eint_set only stores PySCF Mole object and the mo coefficients on memory.\n",
    "# The explicit array can be obtained by accessing the `array` property\n",
    "full_space_mo_1e_int_array = pyscf_spin_mo_eint_set.mo_1e_int.array  # electron integral computations happen here\n",
    "full_space_mo_2e_int_array = pyscf_spin_mo_eint_set.mo_2e_int.array  # electron integral computations happen here"
   ]
  },
  {
   "cell_type": "code",
   "execution_count": 36,
   "metadata": {},
   "outputs": [],
   "source": [
    "# Step 3: Construct the desired active space\n",
    "from quri_parts.chem.mol import ActiveSpaceMolecularOrbitals, cas\n",
    "\n",
    "active_space_mo = ActiveSpaceMolecularOrbitals(mo=h2o_mo, active_space=cas(n_active_ele=6, n_active_orb=4))"
   ]
  },
  {
   "cell_type": "code",
   "execution_count": 37,
   "metadata": {},
   "outputs": [],
   "source": [
    "# Step 4: Compute the active space spin mo integrals\n",
    "from quri_parts.pyscf.mol import get_active_space_spin_integrals, get_active_space_spatial_integrals\n",
    "\n",
    "pyscf_active_space_spatial_mo_eint_set = get_active_space_spatial_integrals(\n",
    "    active_space_mo,\n",
    "    pyscf_ao_eint_set\n",
    ")\n",
    "pyscf_active_space_spin_mo_eint_set = get_active_space_spin_integrals(\n",
    "    active_space_mo,\n",
    "    pyscf_ao_eint_set\n",
    ")\n",
    "\n",
    "# Or equivalently, we can also do:\n",
    "pyscf_active_space_spatial_mo_eint_set = pyscf_ao_eint_set.to_active_space_spatial_mo_int(\n",
    "    active_space_mo\n",
    ")\n",
    "pyscf_active_space_spin_mo_eint_set = pyscf_ao_eint_set.to_active_space_mo_int(\n",
    "    active_space_mo\n",
    ")"
   ]
  },
  {
   "attachments": {},
   "cell_type": "markdown",
   "metadata": {},
   "source": [
    "### Obtaining the hamiltonian"
   ]
  },
  {
   "cell_type": "code",
   "execution_count": 38,
   "metadata": {},
   "outputs": [
    {
     "data": {
      "text/plain": [
       "-74.24459532257532"
      ]
     },
     "execution_count": 38,
     "metadata": {},
     "output_type": "execute_result"
    }
   ],
   "source": [
    "# Step 1: Construct a PySCF Mole object\n",
    "\n",
    "from pyscf import gto, scf\n",
    "from quri_parts.pyscf.mol import PySCFMolecularOrbitals\n",
    "\n",
    "h2o_atom_list = [['H', [0, 0, 0]], ['O', [2, 0, 1]], ['H',  [0, 0, 2]]]\n",
    "h2o_mol = gto.M(atom=h2o_atom_list, verbose = 0)\n",
    "h2o_mf = scf.RHF(h2o_mol)\n",
    "h2o_mf.kernel()"
   ]
  },
  {
   "cell_type": "code",
   "execution_count": 48,
   "metadata": {},
   "outputs": [],
   "source": [
    "from quri_parts.pyscf.mol import get_spin_mo_integrals_from_mole\n",
    "\n",
    "# Step 2 (for full space hamiltonian):\n",
    "# Construct the MolecularObitals object and the MO electron integrals\n",
    "full_space_mo, full_space_spin_mo_eint_set = get_spin_mo_integrals_from_mole(\n",
    "    mole=h2o_mol,\n",
    "    mo_coeff=h2o_mf.mo_coeff\n",
    ")\n",
    "\n",
    "# Step 3 (for full space hamiltonian): \n",
    "# Obtain the qubit hamiltonian\n",
    "qubit_hamiltonian = get_qubit_mapped_hamiltonian_operator(\n",
    "    mo=full_space_mo,\n",
    "    spin_mo_eint_set=full_space_spin_mo_eint_set,\n",
    "    fermion_qubit_mapping=jordan_wigner  # default to jordan_wigner\n",
    ")"
   ]
  },
  {
   "cell_type": "code",
   "execution_count": 46,
   "metadata": {},
   "outputs": [],
   "source": [
    "from quri_parts.pyscf.mol import get_spin_mo_integrals_from_mole\n",
    "\n",
    "\n",
    "# Step 2 (for active space hamiltonian):\n",
    "# Construct the MolecularObitals object and the MO electron integrals\n",
    "active_space_mo, active_space_spin_mo_eint_set = get_spin_mo_integrals_from_mole(\n",
    "    mole=h2o_mol,\n",
    "    mo_coeff=h2o_mf.mo_coeff,\n",
    "    active_space=cas(2, 2)\n",
    ")\n",
    "\n",
    "# Step 3 (for active space hamiltonian): \n",
    "# Obtain the qubit hamiltonian\n",
    "active_space_qubit_hamiltonian = get_qubit_mapped_hamiltonian_operator(\n",
    "    mo=active_space_mo,\n",
    "    spin_mo_eint_set=active_space_spin_mo_eint_set,\n",
    "    fermion_qubit_mapping=jordan_wigner  # default to jordan_wigner\n",
    ")"
   ]
  },
  {
   "attachments": {},
   "cell_type": "markdown",
   "metadata": {},
   "source": [
    "### Run checks (Should be remove when this tutorial is finalized)"
   ]
  },
  {
   "cell_type": "code",
   "execution_count": 41,
   "metadata": {},
   "outputs": [],
   "source": [
    "from numpy import allclose"
   ]
  },
  {
   "cell_type": "code",
   "execution_count": 42,
   "metadata": {},
   "outputs": [],
   "source": [
    "assert allclose(pyscf_ao_eint_set.to_full_space_mo_int(mo=h2o_mo).const, ao_eint_set.to_full_space_mo_int(mo=h2o_mo).const)\n",
    "assert allclose(pyscf_ao_eint_set.to_full_space_mo_int(mo=h2o_mo).mo_1e_int.array, ao_eint_set.to_full_space_mo_int(mo=h2o_mo).mo_1e_int.array)\n",
    "assert allclose(pyscf_ao_eint_set.to_full_space_mo_int(mo=h2o_mo).mo_2e_int.array, ao_eint_set.to_full_space_mo_int(mo=h2o_mo).mo_2e_int.array)"
   ]
  },
  {
   "cell_type": "code",
   "execution_count": 43,
   "metadata": {},
   "outputs": [],
   "source": [
    "assert allclose(pyscf_ao_eint_set.to_full_space_spatial_mo_int(mo=h2o_mo).const, ao_eint_set.to_full_space_spatial_mo_int(mo=h2o_mo).const)\n",
    "assert allclose(pyscf_ao_eint_set.to_full_space_spatial_mo_int(mo=h2o_mo).mo_1e_int.array, ao_eint_set.to_full_space_spatial_mo_int(mo=h2o_mo).mo_1e_int.array)\n",
    "assert allclose(pyscf_ao_eint_set.to_full_space_spatial_mo_int(mo=h2o_mo).mo_2e_int.array, ao_eint_set.to_full_space_spatial_mo_int(mo=h2o_mo).mo_2e_int.array)"
   ]
  },
  {
   "cell_type": "code",
   "execution_count": null,
   "metadata": {},
   "outputs": [],
   "source": [
    "assert allclose(active_space_spin_mo_eint_set.const, pyscf_active_space_spin_mo_eint_set.const)\n",
    "assert allclose(active_space_spin_mo_eint_set.mo_1e_int.array, pyscf_active_space_spin_mo_eint_set.mo_1e_int.array)\n",
    "assert allclose(active_space_spin_mo_eint_set.mo_2e_int.array, pyscf_active_space_spin_mo_eint_set.mo_2e_int.array)"
   ]
  }
 ],
 "metadata": {
  "kernelspec": {
   "display_name": "qp_dev",
   "language": "python",
   "name": "python3"
  },
  "language_info": {
   "codemirror_mode": {
    "name": "ipython",
    "version": 3
   },
   "file_extension": ".py",
   "mimetype": "text/x-python",
   "name": "python",
   "nbconvert_exporter": "python",
   "pygments_lexer": "ipython3",
   "version": "3.9.16"
  },
  "orig_nbformat": 4
 },
 "nbformat": 4,
 "nbformat_minor": 2
}
