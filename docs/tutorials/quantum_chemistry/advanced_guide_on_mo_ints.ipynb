{
 "cells": [
  {
   "attachments": {},
   "cell_type": "markdown",
   "metadata": {},
   "source": [
    "# Advanced Guide on Computing Electron Integrals"
   ]
  },
  {
   "attachments": {},
   "cell_type": "markdown",
   "metadata": {},
   "source": [
    "In previous tutorials, we explained how to obtain electron integrals (eInts) as well as the molecular Hamiltonian. In this tutorial, we give more detailed introductions on objects that QURI Parts provides for computing eInts, so that you may customize your algorithms for efficient eInt computations."
   ]
  },
  {
   "attachments": {},
   "cell_type": "markdown",
   "metadata": {},
   "source": [
    "## Prerequisite"
   ]
  },
  {
   "attachments": {},
   "cell_type": "markdown",
   "metadata": {},
   "source": [
    "QURI Parts modules used in this tutorial: `quri-parts-chem`, `quri-parts-pyscf`, and `quri-parts-openfermion`. You can install them as follows:"
   ]
  },
  {
   "cell_type": "code",
   "execution_count": null,
   "metadata": {},
   "outputs": [],
   "source": [
    "!pip install \"quri_parts[chem]\"\n",
    "!pip install \"quri_parts[pyscf]\"\n",
    "!pip install \"quri_parts[openfermion]\""
   ]
  },
  {
   "cell_type": "markdown",
   "metadata": {},
   "source": [
    "## Overview"
   ]
  },
  {
   "cell_type": "markdown",
   "metadata": {},
   "source": [
    "We now demonstrate the detailed steps to obtain the `SpinMOeInt` from molecule without the `get_spin_mo_integrals_from_mole` function introduced in the [Hamiltonian generation tutorial](mo_eint_and_hamiltonian.ipynb):\n",
    "\n",
    "1. Define a `MolecularOrbitals` object from the `Molecule` and the corresponding MO coefficients.\n",
    "    - If required, specify the active space (`ActiveSpace`) and create the corresponding `MolecularOrbitals` object represented by a `ActiveSpaceMolecularOrbitals` object.\n",
    "    - If no active space is specified, we term the corresponding `MolecularOrbitals` as full space molecular orbital, which is represented by a `PySCFMolecularOrbitals`.\n",
    "2. Compute the atomic orbital (AO) eInt represented by `AOeIntSet` from the full space `MolecularOrbitals`.\n",
    "3. Compute the spatial molecular orbital (MO) eInt (`SpatialMOeIntSet`) from the AO eInt and the `MolecularOrbitals`.\n",
    "4. Compute the spin molecular orbital (MO) eInt (`SpinMOeIntSet`) from the spatial MO eInt or directly from the AO eInt.\n",
    "\n",
    "We will follow the above structure to demonstrate how different objects relate to each other. Note that starting from step 2, there are 2 paths of finishing the rest of the computations:\n",
    "\n",
    "1. Store all the electron integral arrays on memory and do the computation with the `quri-parts.chem.mol` package:\n",
    "    - This method is efficient for small molecules, but the memory usage grows rapidly with the molecular size.\n",
    "2. Use only the `PySCF` Mole object and the MO coefficients to do the computation with the `quri-parts.pyscf.mol` package:\n",
    "    - This method is useful for large molecules as the electron integral arrays are not release onto the memory unless required."
   ]
  },
  {
   "cell_type": "markdown",
   "metadata": {},
   "source": [
    "### **Quick summary: Compute with storing the electron integral arrays on memory**"
   ]
  },
  {
   "cell_type": "code",
   "execution_count": 2,
   "metadata": {},
   "outputs": [],
   "source": [
    "# Step 1: Construct a PySCF Mole object\n",
    "from pyscf import gto, scf\n",
    "from quri_parts.pyscf.mol import PySCFMolecularOrbitals\n",
    "from quri_parts.chem.mol import ActiveSpaceMolecularOrbitals, cas\n",
    "\n",
    "## Define molecule\n",
    "h2o_atom_list = [['H', [0, 0, 0]], ['O', [2, 0, 1]], ['H',  [0, 0, 2]]]\n",
    "h2o_mol = gto.M(atom=h2o_atom_list, verbose = 0)\n",
    "h2o_mf = scf.RHF(h2o_mol).run()\n",
    "\n",
    "## Create a PySCFMolecularOrbitals\n",
    "h2o_mo = PySCFMolecularOrbitals(mol=h2o_mol, mo_coeff=h2o_mf.mo_coeff)\n",
    "\n",
    "## If an active space is required, createn a ActiveSpaceMolecularOrbitals\n",
    "active_space_mo = ActiveSpaceMolecularOrbitals(\n",
    "\tmo=h2o_mo, active_space=cas(n_active_ele=6, n_active_orb=4)\n",
    ")\n",
    "\n",
    "# Step 2: Compute the AO electron integrals\n",
    "from quri_parts.pyscf.mol import get_ao_eint_set\n",
    "ao_eint_set = get_ao_eint_set(h2o_mo, store_array_on_memory=True)\n",
    "\n",
    "# Step 3, 4: Compute the MO electron integrals\n",
    "\n",
    "## Full space electron integrals\n",
    "full_space_spatial_mo_eint_set = ao_eint_set.to_full_space_spatial_mo_int(h2o_mo)\n",
    "full_space_spin_mo_eint_set = ao_eint_set.to_full_space_mo_int(h2o_mo)\n",
    "\n",
    "## Active space electron integrals\n",
    "active_space_spatial_mo_eint_set = ao_eint_set.to_active_space_spatial_mo_int(active_space_mo)\n",
    "active_space_spin_mo_eint_set = ao_eint_set.to_active_space_mo_int(active_space_mo)"
   ]
  },
  {
   "cell_type": "markdown",
   "metadata": {},
   "source": [
    "### Quick summary: Compute without storing the electron integral arrays on memory"
   ]
  },
  {
   "cell_type": "code",
   "execution_count": 3,
   "metadata": {},
   "outputs": [],
   "source": [
    "\n",
    "# Step 1: Construct a PySCF Mole object\n",
    "from pyscf import gto, scf\n",
    "from quri_parts.pyscf.mol import PySCFMolecularOrbitals\n",
    "from quri_parts.chem.mol import ActiveSpaceMolecularOrbitals, cas\n",
    "\n",
    "## Define molecule\n",
    "h2o_atom_list = [['H', [0, 0, 0]], ['O', [2, 0, 1]], ['H',  [0, 0, 2]]]\n",
    "h2o_mol = gto.M(atom=h2o_atom_list, verbose = 0)\n",
    "h2o_mf = scf.RHF(h2o_mol).run()\n",
    "\n",
    "## Create a PySCFMolecularOrbitals\n",
    "h2o_mo = PySCFMolecularOrbitals(mol=h2o_mol, mo_coeff=h2o_mf.mo_coeff)\n",
    "\n",
    "## If an active space is required, createn a ActiveSpaceMolecularOrbitals\n",
    "active_space_mo = ActiveSpaceMolecularOrbitals(\n",
    "\tmo=h2o_mo, active_space=cas(n_active_ele=6, n_active_orb=4)\n",
    ")\n",
    "\n",
    "# Step 2: Compute the AO electron integrals\n",
    "from quri_parts.pyscf.mol import get_ao_eint_set\n",
    "pyscf_ao_eint_set = get_ao_eint_set(\n",
    "\th2o_mo,\n",
    "\tstore_array_on_memory=False # default to False\n",
    ")\n",
    "\n",
    "# Step 3, 4: Compute the MO electron integrals\n",
    "\n",
    "## Full space electron integrals\n",
    "pyscf_full_space_spatial_mo_eint_set = pyscf_ao_eint_set.to_full_space_spatial_mo_int(h2o_mo)\n",
    "pyscf_full_space_spin_mo_eint_set = pyscf_ao_eint_set.to_full_space_mo_int(h2o_mo)\n",
    "\n",
    "## Active space electron integrals\n",
    "pyscf_active_space_spatial_mo_eint_set = pyscf_ao_eint_set.to_active_space_spatial_mo_int(active_space_mo)\n",
    "pyscf_active_space_spin_mo_eint_set = pyscf_ao_eint_set.to_active_space_mo_int(active_space_mo)\n"
   ]
  },
  {
   "attachments": {},
   "cell_type": "markdown",
   "metadata": {},
   "source": [
    "## Defining the Molecules and Molecular Orbitals"
   ]
  },
  {
   "attachments": {},
   "cell_type": "markdown",
   "metadata": {},
   "source": [
    "In this section, we introduce the `MolecularOrbitals` object. A `MolecularOrbitals` object is an object that holds basic information of the molecule such as MO coefficients, number of spatial orbitals, electrons and spin, etc. In `QURI Parts`, we provide 2 types of `MolecularOrbitals` object:"
   ]
  },
  {
   "cell_type": "markdown",
   "metadata": {},
   "source": [
    "Let's first create a molecule with the `PySCF` library."
   ]
  },
  {
   "cell_type": "code",
   "execution_count": 4,
   "metadata": {},
   "outputs": [],
   "source": [
    "from pyscf import gto, scf\n",
    "from quri_parts.pyscf.mol import PySCFMolecularOrbitals\n",
    "\n",
    "h2o_atom_list = [['H', [0, 0, 0]], ['O', [2, 0, 1]], ['H',  [0, 0, 2]]]\n",
    "h2o_mol = gto.M(atom=h2o_atom_list, verbose = 0)\n",
    "h2o_mf = scf.RHF(h2o_mol).run()"
   ]
  },
  {
   "cell_type": "markdown",
   "metadata": {},
   "source": [
    "Now, let’s create a `PySCFMolecularOrbital` object which contains:\n",
    "\n",
    "- number of electrons of the molecule\n",
    "- number of spatial orbitals of the molecule\n",
    "- spin of the molecule"
   ]
  },
  {
   "cell_type": "code",
   "execution_count": 5,
   "metadata": {},
   "outputs": [
    {
     "name": "stdout",
     "output_type": "stream",
     "text": [
      "Number of electrons: 10\n",
      "Number of spatial orbitals: 7\n",
      "Spin of the molecule: 0\n",
      "MO coefficients:\n",
      " [[-0.     0.03  -0.    -0.305  0.651  0.597  0.38 ]\n",
      " [ 0.995 -0.262 -0.    -0.011  0.     0.021  0.   ]\n",
      " [ 0.02   1.025  0.     0.05  -0.    -0.098 -0.   ]\n",
      " [-0.     0.003  0.     0.861 -0.     0.512  0.   ]\n",
      " [ 0.    -0.     1.    -0.     0.    -0.    -0.   ]\n",
      " [-0.     0.     0.    -0.    -0.473 -0.     0.882]\n",
      " [-0.     0.03  -0.    -0.305 -0.651  0.597 -0.38 ]]\n"
     ]
    }
   ],
   "source": [
    "h2o_mo = PySCFMolecularOrbitals(mol=h2o_mol, mo_coeff=h2o_mf.mo_coeff)\n",
    "\n",
    "print(f'Number of electrons: {h2o_mo.n_electron}')\n",
    "print(f'Number of spatial orbitals: {h2o_mo.n_spatial_orb}')\n",
    "print(f'Spin of the molecule: {h2o_mo.spin}')\n",
    "print(f'MO coefficients:\\n {h2o_mo.mo_coeff.round(3)}')"
   ]
  },
  {
   "cell_type": "markdown",
   "metadata": {},
   "source": [
    "We may also select an active space for the molecule with the `ActiveSpace` object we introduced in the Hamiltonian tutorial to create an `ActiveSpaceMolecularOrbitals` object. Detailed information of the active space can be obtained by printing out the `active_space_mo`."
   ]
  },
  {
   "cell_type": "code",
   "execution_count": 6,
   "metadata": {},
   "outputs": [
    {
     "name": "stdout",
     "output_type": "stream",
     "text": [
      "n_electron: 10\n",
      "n_active_ele: 6\n",
      "n_core_ele: 4\n",
      "n_ele_alpha: 3\n",
      "n_ele_beta: 3\n",
      "n_spatial_orb: 7\n",
      "n_active_orb: 4\n",
      "n_core_orb: 2\n",
      "n_vir_orb: 1\n"
     ]
    }
   ],
   "source": [
    "from quri_parts.chem.mol import ActiveSpace, ActiveSpaceMolecularOrbitals\n",
    "\n",
    "n_active_ele = 6\n",
    "n_active_orb = 4\n",
    "\n",
    "active_space = ActiveSpace(n_active_ele=n_active_ele, n_active_orb=n_active_orb)\n",
    "active_space_mo = ActiveSpaceMolecularOrbitals(mo=h2o_mo, active_space=active_space)\n",
    "\n",
    "print(active_space_mo)"
   ]
  },
  {
   "cell_type": "markdown",
   "metadata": {},
   "source": [
    "## Compute the Electron Integrals with QURI Parts"
   ]
  },
  {
   "cell_type": "markdown",
   "metadata": {},
   "source": [
    "Here, we introduce the first way of computing the electron integrals, where we release all the electron integrals of each intermediate step onto the memory. We first list out all the objects that represents an electron integral:\n",
    "\n",
    "- AO electron integral: `AOeIntArraySet`, which contains:\n",
    "    - constant: The nuclear repulsion energy.\n",
    "    - `AO1eIntArray`: The AO 1-electron integral array on memory\n",
    "    - `AO2eIntArray`: The AO 2-electron integral array on memory\n",
    "- Spatial electron integral: `SpatialMOeIntSet`, which contains:\n",
    "    - constant: The nuclear repulsion energy.\n",
    "    - `SpatialMO1eIntArray`: The spatial MO 1-electron integral array on memory\n",
    "    - `SpatialMO2eIntArray`: The spatial MO 2-electron integral array on memory\n",
    "- Spin electron integral: `SpinMOeIntSet`, which contains:\n",
    "    - constant: The nuclear repulsion energy.\n",
    "    - `SpinMO1eIntArray`: The spin MO 1-electron integral array on memory\n",
    "    - `SpinMO2eIntArray`: The spin MO 2-electron integral array on memory"
   ]
  },
  {
   "cell_type": "markdown",
   "metadata": {},
   "source": [
    "### Computing the AO electron integrals"
   ]
  },
  {
   "cell_type": "markdown",
   "metadata": {},
   "source": [
    "One can construct the `AOeIntArraySet` using the `get_ao_eint_set` function. When the `store_array_on_memory` argument is set to True, it returns an `AOeIntArraySet` object that stores the AO electron integrals on memory."
   ]
  },
  {
   "cell_type": "code",
   "execution_count": 7,
   "metadata": {},
   "outputs": [],
   "source": [
    "from quri_parts.pyscf.mol import get_ao_eint_set\n",
    "\n",
    "ao_eint_set= get_ao_eint_set(h2o_mo, store_array_on_memory=True)\n",
    "\n",
    "# the nuclear repulsion energy\n",
    "nuc_energy= ao_eint_set.constant\n",
    "\n",
    "# the AO one-electron integrals: an AO1eIntArray object\n",
    "ao_1e_int= ao_eint_set.ao_1e_int\n",
    "\n",
    "# the AO two-electron integrals: an AO2eIntArray object\n",
    "ao_2e_int= ao_eint_set.ao_2e_int "
   ]
  },
  {
   "cell_type": "markdown",
   "metadata": {},
   "source": [
    "One can access the explicit array of the electron atomic orbital integrals with the array attribute:"
   ]
  },
  {
   "cell_type": "code",
   "execution_count": 8,
   "metadata": {},
   "outputs": [],
   "source": [
    "# ao_1e_int.array\n",
    "# ao_2e_int.array"
   ]
  },
  {
   "cell_type": "markdown",
   "metadata": {},
   "source": [
    "### Computing the spatial and spin MO electron integrals"
   ]
  },
  {
   "cell_type": "markdown",
   "metadata": {},
   "source": [
    "With the AO electron integrals and the `MolecularOrbitals` at hand, we may compute the:\n",
    "\n",
    "- spatial MO electron integrals with the `to_full_space_spatial_mo_int` method\n",
    "- spin MO electron integrals with the `to_full_space_mo_int` methods\n",
    "\n",
    "in `ao_eint_set`. Note that the explicit array of the integrals are computed and released to the memory once these methods are called."
   ]
  },
  {
   "cell_type": "code",
   "execution_count": 9,
   "metadata": {},
   "outputs": [],
   "source": [
    "# Computes the full space spatial mo electron integrals\n",
    "spatial_mo_e_int_set = ao_eint_set.to_full_space_spatial_mo_int(h2o_mo)\n",
    "\n",
    "# Computes the full space spin mo electron integrals\n",
    "spin_mo_e_int_set = ao_eint_set.to_full_space_mo_int(h2o_mo)"
   ]
  },
  {
   "cell_type": "markdown",
   "metadata": {},
   "source": [
    "To access the explicit array of the integrals, you may run:"
   ]
  },
  {
   "cell_type": "code",
   "execution_count": 10,
   "metadata": {},
   "outputs": [],
   "source": [
    "# For the spatial MO electron integrals\n",
    "nuclear_repulsion_energy = spatial_mo_e_int_set.const\n",
    "spatial_1e_int = spatial_mo_e_int_set.mo_1e_int.array\n",
    "spatial_2e_int = spatial_mo_e_int_set.mo_2e_int.array\n",
    "\n",
    "# For the spin MO electron integrals\n",
    "nuclear_repulsion_energy = spin_mo_e_int_set.const\n",
    "spin_1e_int = spin_mo_e_int_set.mo_1e_int.array\n",
    "spin_2e_int = spin_mo_e_int_set.mo_2e_int.array"
   ]
  },
  {
   "cell_type": "markdown",
   "metadata": {},
   "source": [
    "### Computing the active space electron integrals"
   ]
  },
  {
   "cell_type": "markdown",
   "metadata": {},
   "source": [
    "The active space spin and spatial MO eInts can also be computed in a similar way. Instead of using the full space `MolecularOrbitals`, we compute the:\n",
    "\n",
    "- active space spatial MO eInt with the `to_active_space_spatial_mo_int` method\n",
    "- active space spin MO eInt with the `to_active_space_mo_int` method\n",
    "\n",
    "by passing in the `ActiveSpaceMolecularOrbitals`. Note that the explicit eInt arrays are released onto the memory once these methods are called."
   ]
  },
  {
   "cell_type": "code",
   "execution_count": 11,
   "metadata": {},
   "outputs": [],
   "source": [
    "# Convenient method of computing the active space spatial mo electron integrals\n",
    "active_space_spatial_integrals = ao_eint_set.to_active_space_spatial_mo_int(active_space_mo=active_space_mo)\n",
    "\n",
    "# Convenient method of computing the active space spin mo electron integrals\n",
    "active_space_spin_integrals = ao_eint_set.to_active_space_mo_int(active_space_mo=active_space_mo)"
   ]
  },
  {
   "cell_type": "markdown",
   "metadata": {},
   "source": [
    "To obtain the explicit active space MO eInts"
   ]
  },
  {
   "cell_type": "code",
   "execution_count": 23,
   "metadata": {},
   "outputs": [],
   "source": [
    "# For the spatial MO electron integrals\n",
    "active_space_nuclear_repulsion_energy = active_space_spatial_integrals.const\n",
    "active_space_spatial_1e_int = active_space_spatial_integrals.mo_1e_int.array\n",
    "active_space_spatial_2e_int = active_space_spatial_integrals.mo_2e_int.array\n",
    "\n",
    "# For the spin MO electron integrals\n",
    "active_space_nuclear_repulsion_energy = active_space_spin_integrals.const\n",
    "active_space_spin_1e_int = active_space_spin_integrals.mo_1e_int.array\n",
    "active_space_spin_2e_int = active_space_spin_integrals.mo_2e_int.array"
   ]
  },
  {
   "cell_type": "markdown",
   "metadata": {},
   "source": [
    "To achieve optimal efficiency when computing active space eInts, we recommend using the\n",
    "\n",
    "- `get_active_space_spatial_integrals_from_mo_eint`\n",
    "- `get_active_space_spin_integrals_from_mo_eint`\n",
    "\n",
    "functions as the `to_active_space_spatial_mo_int` and `to_active_space_mo_int` methods computes the full space MO eInt first before projecting them onto the selected active space. This does not matter if one wants to compute eInts for only one active space configuration. However, the MO eInts will be calculated repeatedly if *multiple active space eInts* are required."
   ]
  },
  {
   "cell_type": "code",
   "execution_count": 13,
   "metadata": {},
   "outputs": [],
   "source": [
    "from quri_parts.chem.mol import (\n",
    "    get_active_space_spatial_integrals_from_mo_eint,\n",
    "    get_active_space_spin_integrals_from_mo_eint\n",
    ")\n",
    "\n",
    "# Convenient method of computing the active space spatial mo electron integrals\n",
    "active_space_spatial_integrals = get_active_space_spatial_integrals_from_mo_eint(\n",
    "    active_space_mo=active_space_mo, electron_mo_ints=spatial_mo_e_int_set\n",
    ")\n",
    "\n",
    "# Convenient method of computing the active space spin mo electron integrals\n",
    "active_space_spin_integrals = get_active_space_spin_integrals_from_mo_eint(\n",
    "    active_space_mo=active_space_mo, electron_mo_ints=spatial_mo_e_int_set\n",
    ")"
   ]
  },
  {
   "cell_type": "markdown",
   "metadata": {},
   "source": [
    "## Compute the electron integrals with QURI Parts in a memory efficient manner"
   ]
  },
  {
   "cell_type": "markdown",
   "metadata": {},
   "source": [
    "When the molecule gets larger, it is unrealistic to store the full space mo electron integrals on memory, most especially when we just want to get the eInts of a small active space from a big molecule. In QURI Parts, we provide a memory efficient way of computing the active space integrals while bypassing the full space electron integrals. The idea is to store only the PySCF Mole object and the mo coefficients on memory. The explicit eInts are only released onto the memory on demand.\n",
    "\n",
    "We first introduce the objects used to perform memory efficient eInt evaluation\n",
    "\n",
    "- AO electron integral: `PySCFAOeIntSet`, which contains:\n",
    "    - constant: The nuclear repulsion energy.\n",
    "    - `PySCFAO1eInt`: The AO 1-electron integral.\n",
    "    - `PySCFAO2eInt`: The AO 2-electron integral.\n",
    "- Full space spatial electron integral: `SpatialMOeIntSet`, which contains:\n",
    "    - constant: The nuclear repulsion energy.\n",
    "    - `PySCFSpatialMO1eInt`: The spatial MO 1-electron integral.\n",
    "    - `PySCFSpatialMO2eInt`: The spatial MO 2-electron integral.\n",
    "- Full space spin electron integral: `SpinMOeIntSet`, which contains:\n",
    "    - constant: The nuclear repulsion energy.\n",
    "    - `PySCFSpinMO1eInt`: The spin MO 1-electron integral.\n",
    "    - `PySCFSpinMO2eInt`: The spin MO 2-electron integral.\n",
    "\n",
    "The above objects only holds the Molecule objects and the mo coefficients. The actual eInt array are only computed when the `.array` property is accessed. For the active space MO eInts, they are stored by:\n",
    "\n",
    "- Active space spatial electron integral: `SpatialMOeIntSet`, which contains:\n",
    "    - constant: The nuclear repulsion energy.\n",
    "    - `SpatialMO1eIntArray`: The spatial MO 1-electron integral.\n",
    "    - `SpatialMO2eIntArray`: The spatial MO 2-electron integral.\n",
    "- Active space spin electron integral: `SpinMOeIntSet`, which contains:\n",
    "    - constant: The nuclear repulsion energy.\n",
    "    - `SpinMO1eIntArray`: The spin MO 1-electron integral.\n",
    "    - `SpinMO2eIntArray`: The spin MO 2-electron integral.\n",
    "\n",
    "where the explicit array are released to the memory once the `PySCFAOeIntSet.to_active_space_mo_int` or `PySCFAOeIntSet.to_active_space_spatial_mo_int` is called."
   ]
  },
  {
   "cell_type": "markdown",
   "metadata": {},
   "source": [
    "### Computing the AO spatial electron integrals"
   ]
  },
  {
   "cell_type": "markdown",
   "metadata": {},
   "source": [
    "We may obtain the `PySCFAOeIntSet` using the `get_ao_eint_set` function with the `store_array_on_memory` option to False"
   ]
  },
  {
   "cell_type": "code",
   "execution_count": 14,
   "metadata": {},
   "outputs": [],
   "source": [
    "# This constructs a PySCFAOeIntSet object, which only holds pyscf mol object on memory\n",
    "pyscf_ao_eint_set = get_ao_eint_set(\n",
    "    h2o_mo,\n",
    "    store_array_on_memory=False  # default to False\n",
    ")"
   ]
  },
  {
   "cell_type": "markdown",
   "metadata": {},
   "source": [
    "### Computing the spatial and spin MO electron integrals"
   ]
  },
  {
   "cell_type": "markdown",
   "metadata": {},
   "source": [
    "As in the `AOeIntArraySet`, the full space spatial and spin MO eInts can be calculated by the `to_full_space_spatial_mo_int` and `to_full_space_mo_int` respectively."
   ]
  },
  {
   "cell_type": "code",
   "execution_count": 15,
   "metadata": {},
   "outputs": [],
   "source": [
    "# Returns a SpatialMOeIntSet object, which only holds the molecule and the mo coefficients on memory\n",
    "pyscf_spatial_mo_eint_set = pyscf_ao_eint_set.to_full_space_spatial_mo_int(h2o_mo)\n",
    "\n",
    "# Returns a SpinMOeIntSet object, which only holds the molecule and the mo coefficients on memory\n",
    "pyscf_spin_mo_eint_set = pyscf_ao_eint_set.to_full_space_mo_int(h2o_mo)"
   ]
  },
  {
   "cell_type": "markdown",
   "metadata": {},
   "source": [
    "The explicit electron integrals are only computed on demand when the `array` property is accessed"
   ]
  },
  {
   "cell_type": "code",
   "execution_count": 16,
   "metadata": {},
   "outputs": [],
   "source": [
    "# For the spatial MO electron integrals\n",
    "pyscf_nuclear_repulsion_energy = pyscf_spatial_mo_eint_set.const  # computation happens here\n",
    "pyscf_spatial_1e_int = pyscf_spatial_mo_eint_set.mo_1e_int.array  # computation happens here\n",
    "pyscf_spatial_2e_int = pyscf_spatial_mo_eint_set.mo_2e_int.array  # computation happens here\n",
    "\n",
    "# For the spin MO electron integrals\n",
    "pyscf_nuclear_repulsion_energy = pyscf_spin_mo_eint_set.const   # computation happens here\n",
    "pyscf_spin_1e_int = pyscf_spin_mo_eint_set.mo_1e_int.array  # computation happens here\n",
    "pyscf_spin_2e_int = pyscf_spin_mo_eint_set.mo_2e_int.array  # computation happens here"
   ]
  },
  {
   "cell_type": "markdown",
   "metadata": {},
   "source": [
    "### Getting the active space spin electron integrals"
   ]
  },
  {
   "cell_type": "markdown",
   "metadata": {},
   "source": [
    "We may also compute the:\n",
    "\n",
    "- active space spatial MO eInt with the `PySCFAOeIntSet.to_active_space_spatial_mo_int` method\n",
    "- active space spin MO eInt with the `PySCFAOeIntSet.to_active_space_mo_int` method\n",
    "\n",
    "just like how we computed them with the `AOeIntArraySet`. Note that the computation is performed with `pyscf`’s `CASCI` once these methods are called."
   ]
  },
  {
   "cell_type": "code",
   "execution_count": 17,
   "metadata": {},
   "outputs": [],
   "source": [
    "# Convenient method of computing the active space spatial mo electron integrals\n",
    "pyscf_active_space_spatial_integrals = pyscf_ao_eint_set.to_active_space_spatial_mo_int(active_space_mo)\n",
    "\n",
    "# Convenient method of computing the active space spin mo electron integrals\n",
    "pyscf_active_space_spin_integrals = pyscf_ao_eint_set.to_active_space_mo_int(active_space_mo)"
   ]
  }
 ],
 "metadata": {
  "kernelspec": {
   "display_name": "qp_dev",
   "language": "python",
   "name": "python3"
  },
  "language_info": {
   "codemirror_mode": {
    "name": "ipython",
    "version": 3
   },
   "file_extension": ".py",
   "mimetype": "text/x-python",
   "name": "python",
   "nbconvert_exporter": "python",
   "pygments_lexer": "ipython3",
   "version": "3.9.16"
  },
  "orig_nbformat": 4
 },
 "nbformat": 4,
 "nbformat_minor": 2
}
