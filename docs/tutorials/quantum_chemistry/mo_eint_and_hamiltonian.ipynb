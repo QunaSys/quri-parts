{
 "cells": [
  {
   "attachments": {},
   "cell_type": "markdown",
   "metadata": {},
   "source": [
    "# Computing Electron Integrals and Molecular Hamiltonians"
   ]
  },
  {
   "attachments": {},
   "cell_type": "markdown",
   "metadata": {},
   "source": [
    "This tutorial is for demonstrating how to obtain the molecular orbital (MO) electron integrals ($h_{ij}$ and $h_{ijkl}$) as well as the molecular Hamiltonian ($H$).\n",
    "\n",
    "Here, we adopt the physicists' convention for the electron integrals, so that they are related to the Hamiltonian by the equation:\n",
    "\n",
    "\\begin{equation}\n",
    "H = E_{\\text{nuc}} + \\sum_{i, j = 1}^{N} h_{ij} c_i^{\\dagger} c_j + \\frac{1}{2} \\sum_{i, j, k, l = 1}^{N} h_{ijkl} c_i^{\\dagger} c_j^{\\dagger} c_k c_l, \\nonumber\n",
    "\\end{equation}\n",
    "\n",
    "where \n",
    "\n",
    "- $E_{\\text{nuc}}$ is the nuclear repulsion energy.\n",
    "- $h_{ij}$ is the 1-electron MO integral (physicist's convention).\n",
    "- $h_{ijkl}$ is the 2-electron MO integral (physicist's convention).\n",
    "- $c_i^{\\dagger}$, $c_i$ are the fermionic creation and annihilation operators on the i-th _spin_ orbtial.\n",
    "- $N$ is the number of spin oribtals."
   ]
  },
  {
   "attachments": {},
   "cell_type": "markdown",
   "metadata": {},
   "source": [
    "## Prerequisite"
   ]
  },
  {
   "attachments": {},
   "cell_type": "markdown",
   "metadata": {},
   "source": [
    "QURI Parts modules used in this tutorial: `quri-parts-chem`, `quri-parts-pyscf`, and `quri-parts-openfermion`. You can install them as follows:"
   ]
  },
  {
   "cell_type": "code",
   "execution_count": 1,
   "metadata": {},
   "outputs": [],
   "source": [
    "!pip install \"quri_parts[chem]\"\n",
    "!pip install \"quri_parts[pyscf]\"\n",
    "!pip install \"quri_parts[openfermion]\""
   ]
  },
  {
   "cell_type": "markdown",
   "metadata": {},
   "source": [
    "## Quick Overview"
   ]
  },
  {
   "cell_type": "markdown",
   "metadata": {},
   "source": [
    "First, let’s have a quick overview of the steps necessary for constructing the molecular Hamiltonian for a given molecule."
   ]
  },
  {
   "cell_type": "markdown",
   "metadata": {},
   "source": [
    "### Step 1: Define the molecule"
   ]
  },
  {
   "cell_type": "code",
   "execution_count": 2,
   "metadata": {},
   "outputs": [],
   "source": [
    "from pyscf import gto, scf\n",
    "\n",
    "h2o_atom_list = [['H', [0, 0, 0]], ['O', [2, 0, 1]], ['H',  [0, 0, 2]]]\n",
    "h2o_mol = gto.M(atom=h2o_atom_list, verbose=0)\n",
    "h2o_mf = scf.RHF(h2o_mol).run()\n",
    "h2o_mo_coeff = h2o_mf.mo_coeff  # The mo coefficient of the H2O molecule."
   ]
  },
  {
   "cell_type": "markdown",
   "metadata": {},
   "source": [
    "### Step 2: Compute the MO elctron integrals"
   ]
  },
  {
   "cell_type": "code",
   "execution_count": 3,
   "metadata": {},
   "outputs": [],
   "source": [
    "from quri_parts.pyscf.mol import get_spin_mo_integrals_from_mole\n",
    "from quri_parts.chem.mol import ActiveSpace\n",
    "\n",
    "full_space, mo_eint_set = get_spin_mo_integrals_from_mole(h2o_mol, h2o_mo_coeff)\n",
    "active_space, active_space_mo_eint_set = get_spin_mo_integrals_from_mole(\n",
    "\th2o_mol, \n",
    "\th2o_mo_coeff, \n",
    "\tActiveSpace(6, 4)\n",
    ")"
   ]
  },
  {
   "cell_type": "markdown",
   "metadata": {},
   "source": [
    "### Step 3: Obtain the Qubit Hamiltonian"
   ]
  },
  {
   "cell_type": "code",
   "execution_count": 4,
   "metadata": {},
   "outputs": [],
   "source": [
    "from quri_parts.openfermion.mol import get_qubit_mapped_hamiltonian\n",
    "\n",
    "# Full space qubit hamiltonian\n",
    "full_space_jw_hamiltonian, mapping = get_qubit_mapped_hamiltonian(\n",
    "\tfull_space, mo_eint_set\n",
    ")\n",
    "\n",
    "# Active space qubit hamiltonian\n",
    "active_space_jw_hamiltonian, mapping = get_qubit_mapped_hamiltonian(\n",
    "\tactive_space, active_space_mo_eint_set,\n",
    ")"
   ]
  },
  {
   "attachments": {},
   "cell_type": "markdown",
   "metadata": {},
   "source": [
    "## Defining the Molecule"
   ]
  },
  {
   "attachments": {},
   "cell_type": "markdown",
   "metadata": {},
   "source": [
    "First, let’s create the molecule we are interested in. In later part of this tutorial, we will be using `quri-parts-pyscf` to perform the computation for electron integrals. So, we create the molecule using the `pyscf` library."
   ]
  },
  {
   "cell_type": "code",
   "execution_count": 5,
   "metadata": {},
   "outputs": [],
   "source": [
    "from pyscf import gto\n",
    "\n",
    "h2o_atom_list = [['H', [0, 0, 0]], ['O', [2, 0, 1]], ['H',  [0, 0, 2]]]\n",
    "h2o_mol = gto.M(atom=h2o_atom_list, verbose = 0)"
   ]
  },
  {
   "attachments": {},
   "cell_type": "markdown",
   "metadata": {},
   "source": [
    "Another key component of computing the MO electron integral is the MO coefficients, which can also be computed using the pyscf library."
   ]
  },
  {
   "cell_type": "code",
   "execution_count": 6,
   "metadata": {},
   "outputs": [],
   "source": [
    "from pyscf import scf\n",
    "\n",
    "h2o_mf = scf.RHF(h2o_mol).run()\n",
    "h2o_mo_coeff = h2o_mf.mo_coeff  # The MO coefficient of the H2O molecule."
   ]
  },
  {
   "attachments": {},
   "cell_type": "markdown",
   "metadata": {},
   "source": [
    "## Computing the MO electron integrals"
   ]
  },
  {
   "attachments": {},
   "cell_type": "markdown",
   "metadata": {},
   "source": [
    "Having prepared the molecule and the corresponding electron integrals, we may now compute the MO electron integrals. In QURI Parts, the molecular orbital electron integrals (MO eInts) are represented by a `SpinMOeIntSet` object."
   ]
  },
  {
   "cell_type": "code",
   "execution_count": 7,
   "metadata": {},
   "outputs": [],
   "source": [
    "from quri_parts.pyscf.mol import get_spin_mo_integrals_from_mole\n",
    "\n",
    "full_space, mo_eint_set = get_spin_mo_integrals_from_mole(h2o_mol, h2o_mo_coeff)"
   ]
  },
  {
   "attachments": {},
   "cell_type": "markdown",
   "metadata": {},
   "source": [
    "The `mo_eint_set` variable we created above is a `SpinMOeIntSet` that contains the nuclear repulsion energy $E_{\\text{nuc}}$ and the electron integrals $h_{ij}$ and $h_{ijkl}$. We may access them with:"
   ]
  },
  {
   "cell_type": "code",
   "execution_count": 8,
   "metadata": {},
   "outputs": [],
   "source": [
    "nuclear_energy = mo_eint_set.const\n",
    "mo_1e_int = mo_eint_set.mo_1e_int.array\n",
    "mo_2e_int = mo_eint_set.mo_2e_int.array"
   ]
  },
  {
   "attachments": {},
   "cell_type": "markdown",
   "metadata": {},
   "source": [
    "The `full_space` variable is an `ActiveSpace` object that contains the number of active spatial orbitals and active electrons involved in the system, which we introduce briefly in the next section."
   ]
  },
  {
   "cell_type": "code",
   "execution_count": 9,
   "metadata": {},
   "outputs": [],
   "source": [
    "n_spatial_orbitals = full_space.n_active_orb\n",
    "n_spatial_electrons = full_space.n_active_ele"
   ]
  },
  {
   "attachments": {},
   "cell_type": "markdown",
   "metadata": {},
   "source": [
    "### Active Space and the active space MO electron integrals"
   ]
  },
  {
   "attachments": {},
   "cell_type": "markdown",
   "metadata": {},
   "source": [
    "In `quri-parts`, the active space is represented by the `ActiveSpace` object."
   ]
  },
  {
   "cell_type": "code",
   "execution_count": 10,
   "metadata": {},
   "outputs": [],
   "source": [
    "from quri_parts.chem.mol import ActiveSpace\n",
    "\n",
    "active_space = ActiveSpace(n_active_ele=6, n_active_orb=4)"
   ]
  },
  {
   "attachments": {},
   "cell_type": "markdown",
   "metadata": {},
   "source": [
    "To obtain the active space MO electron integrals, we pass in the `ActiveSpace` object we just created into the `get_spin_mo_integrals_from_mole` function."
   ]
  },
  {
   "cell_type": "code",
   "execution_count": 11,
   "metadata": {},
   "outputs": [],
   "source": [
    "active_space, active_space_mo_eint_set = get_spin_mo_integrals_from_mole(h2o_mol, h2o_mo_coeff, active_space)\n",
    "\n",
    "active_space_core_energy = active_space_mo_eint_set.const\n",
    "active_space_1e_int = active_space_mo_eint_set.mo_1e_int.array\n",
    "active_space_2e_int = active_space_mo_eint_set.mo_2e_int.array"
   ]
  },
  {
   "attachments": {},
   "cell_type": "markdown",
   "metadata": {},
   "source": [
    "## Computing the molecular Hamiltonian"
   ]
  },
  {
   "attachments": {},
   "cell_type": "markdown",
   "metadata": {},
   "source": [
    "After obtaining the MO electron integrals, we may start to construct the molecular Hamiltonian. We introduce the procedures of computing the fermionic Hamiltonian as well as the qubit Hamiltonian."
   ]
  },
  {
   "attachments": {},
   "cell_type": "markdown",
   "metadata": {},
   "source": [
    "### Obtaining the fermionic Hamiltonian and converting it to the qubit Hamiltonian"
   ]
  },
  {
   "attachments": {},
   "cell_type": "markdown",
   "metadata": {},
   "source": [
    "The fermionic Hamiltonian can be directly constructed using the `mo_eint_set` or `active_space_mo_eint_set` we obtained before"
   ]
  },
  {
   "cell_type": "code",
   "execution_count": 12,
   "metadata": {},
   "outputs": [],
   "source": [
    "from quri_parts.openfermion.mol import get_fermionic_hamiltonian\n",
    "\n",
    "full_space_fermionic_hamiltonian = get_fermionic_hamiltonian(mo_eint_set)\n",
    "active_space_fermionic_hamiltonian = get_fermionic_hamiltonian(active_space_mo_eint_set)"
   ]
  },
  {
   "attachments": {},
   "cell_type": "markdown",
   "metadata": {},
   "source": [
    "To perform any further computation with QURI Parts, e.g. estimate Hamiltonian expectation value for a quantum state, we need to perform fermion-qubit mapping to the fermionic hamiltonian we just obtained. We also provide the `operator_from_of_fermionic_op` function for this purpose."
   ]
  },
  {
   "cell_type": "code",
   "execution_count": 13,
   "metadata": {},
   "outputs": [],
   "source": [
    "from quri_parts.openfermion.mol import operator_from_of_fermionic_op\n",
    "from quri_parts.openfermion.transforms import jordan_wigner\n",
    "\n",
    "# Full space qubit hamiltonian\n",
    "\n",
    "full_space_jw_hamiltonian, full_space_mapping = operator_from_of_fermionic_op(\n",
    "\tfull_space_fermionic_hamiltonian,\n",
    "\tfull_space,\n",
    "\tsz=None,\t\t# Default to None\n",
    "\tfermion_qubit_mapping=jordan_wigner  # Default to jordan wigner.\n",
    ")\n",
    "\n",
    "# Active space qubit hamiltonian\n",
    "\n",
    "active_space_jw_hamiltonian, active_space_mapping = operator_from_of_fermionic_op(\n",
    "\tactive_space_fermionic_hamiltonian,\n",
    "\tactive_space,\n",
    "    sz=None,\t\t# Default to None\n",
    "\tfermion_qubit_mapping=jordan_wigner  # Default to jordan wigner.\n",
    ")"
   ]
  },
  {
   "attachments": {},
   "cell_type": "markdown",
   "metadata": {},
   "source": [
    "The `full_space_jw_hamiltonian` and `active_space_jw_hamiltonian` are the hamiltonian we desired. The `full_space_mapping` and `active_space_mapping` are objects that are able to perform fermion-qubit mapping for other operators and states in further computations. Their usage can be found in the [Fermion-Qubit Mapping Hamiltonian Tutorial](qubit_operator_mapping.ipynb)."
   ]
  },
  {
   "attachments": {},
   "cell_type": "markdown",
   "metadata": {},
   "source": [
    "### Shortcut for obtaining the qubit Hamiltonian"
   ]
  },
  {
   "attachments": {},
   "cell_type": "markdown",
   "metadata": {},
   "source": [
    "After obtaining the active space and the MO electron integrals, we may obtain the qubit Hamiltonian directly without going through the fermionic Hamiltonian. This can be done by the function"
   ]
  },
  {
   "cell_type": "code",
   "execution_count": 14,
   "metadata": {},
   "outputs": [],
   "source": [
    "from quri_parts.openfermion.mol import get_qubit_mapped_hamiltonian\n",
    "\n",
    "# Full space qubit hamiltonian\n",
    "full_space_jw_hamiltonian, full_space_mapping = get_qubit_mapped_hamiltonian(\n",
    "\tfull_space,\n",
    "    mo_eint_set,\n",
    "    sz=None,\t\t# Default to None\n",
    "\tfermion_qubit_mapping=jordan_wigner  # Default to jordan wigner.\n",
    ")\n",
    "\n",
    "# Active space qubit hamiltonian\n",
    "active_space_jw_hamiltonian, active_space_mapping = get_qubit_mapped_hamiltonian(\n",
    "\tactive_space,\n",
    "\tactive_space_mo_eint_set,\n",
    "\tsz=None,\t\t# Default to None\n",
    "\tfermion_qubit_mapping=jordan_wigner  # Default to jordan wigner.\n",
    ")"
   ]
  }
 ],
 "metadata": {
  "kernelspec": {
   "display_name": "qp_dev",
   "language": "python",
   "name": "python3"
  },
  "language_info": {
   "codemirror_mode": {
    "name": "ipython",
    "version": 3
   },
   "file_extension": ".py",
   "mimetype": "text/x-python",
   "name": "python",
   "nbconvert_exporter": "python",
   "pygments_lexer": "ipython3",
   "version": "3.9.16"
  },
  "orig_nbformat": 4
 },
 "nbformat": 4,
 "nbformat_minor": 2
}
