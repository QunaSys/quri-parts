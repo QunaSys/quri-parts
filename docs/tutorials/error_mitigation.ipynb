{
 "cells": [
  {
   "attachments": {},
   "cell_type": "markdown",
   "metadata": {},
   "source": [
    "# Error mitigation\n",
    "\n",
    "NISQ devices are noisy due to the imperfect gate operations, unwanted interactions with environment, and measurement errors. Error mitigation is a promising way of reducing the effect of noise.\n",
    "\n",
    "In this tutorial, we will explore three error mitigation techniques: Reqdout error mitigation, Zero-noise Extrapolation (ZNE), and Clifford Data Regression (CDR)."
   ]
  },
  {
   "attachments": {},
   "cell_type": "markdown",
   "metadata": {},
   "source": [
    "## Prerequisite\n",
    "\n",
    "QURI Parts modules used in this tutorial: `quri-parts-circuit`, `quri-parts-core` and `quri-parts-qulacs`. You can install them as follows:"
   ]
  },
  {
   "cell_type": "code",
   "execution_count": null,
   "metadata": {},
   "outputs": [],
   "source": [
    "!pip install \"quri-parts[qulacs]\""
   ]
  },
  {
   "attachments": {},
   "cell_type": "markdown",
   "metadata": {},
   "source": [
    "## Prepare a circuit\n",
    "\n",
    "As a preparation, we create a circuit. The circuit consists of the identity part and the non-trivial part. Applying the circuit to $|000\\rangle$ results in $\\frac{1}{\\sqrt{2}}\\left(|000\\rangle + |111\\rangle\\right)$."
   ]
  },
  {
   "cell_type": "code",
   "execution_count": 1,
   "metadata": {},
   "outputs": [],
   "source": [
    "from quri_parts.circuit import QuantumCircuit\n",
    "\n",
    "qubit_count = 3\n",
    "\n",
    "identity_circuit = QuantumCircuit(3)\n",
    "identity_circuit.add_RX_gate(0, 1.3)\n",
    "identity_circuit.add_RY_gate(1, 0.2)\n",
    "identity_circuit.add_RZ_gate(0, -2.3)\n",
    "identity_circuit.add_SqrtXdag_gate(1)\n",
    "identity_circuit.add_T_gate(0)\n",
    "identity_circuit.add_RX_gate(1, 0.4)\n",
    "identity_circuit.add_RY_gate(0, 2.7)\n",
    "identity_circuit.add_Tdag_gate(1)\n",
    "identity_circuit.add_RY_gate(0, -2.7)\n",
    "identity_circuit.add_T_gate(1)\n",
    "identity_circuit.add_Tdag_gate(0)\n",
    "identity_circuit.add_RX_gate(1, -0.4)\n",
    "identity_circuit.add_RZ_gate(0, 2.3)\n",
    "identity_circuit.add_SqrtX_gate(1)\n",
    "identity_circuit.add_RX_gate(0, -1.3)\n",
    "identity_circuit.add_RY_gate(1, -0.2)\n",
    "\n",
    "circuit = QuantumCircuit(3)\n",
    "circuit += identity_circuit\n",
    "circuit.add_H_gate(0)\n",
    "circuit.add_CNOT_gate(0, 1)\n",
    "circuit.add_CNOT_gate(0, 2)\n"
   ]
  },
  {
   "attachments": {},
   "cell_type": "markdown",
   "metadata": {},
   "source": [
    "## Readout error mitigation\n",
    "\n",
    "Due to the imperfection of real devices, errors occur in state preparation and measurement. Readout error mitigation reduces the effect of those errors by applying inverse of such noisy operations."
   ]
  },
  {
   "attachments": {},
   "cell_type": "markdown",
   "metadata": {},
   "source": [
    "### Create a noise model\n",
    "\n",
    "Next, create a noise model with some `NoiseInstruction`s. Here we only consider `MeasurementNoise`."
   ]
  },
  {
   "cell_type": "code",
   "execution_count": 2,
   "metadata": {},
   "outputs": [],
   "source": [
    "import quri_parts.circuit.gate_names as gate_names\n",
    "from quri_parts.circuit.noise import BitFlipNoise, MeasurementNoise, NoiseModel\n",
    "\n",
    "noises = [MeasurementNoise([BitFlipNoise(0.01)])]\n",
    "noise_model = NoiseModel(noises)"
   ]
  },
  {
   "attachments": {},
   "cell_type": "markdown",
   "metadata": {},
   "source": [
    "This noise model introduces bit flip error during the measurement."
   ]
  },
  {
   "attachments": {},
   "cell_type": "markdown",
   "metadata": {},
   "source": [
    "### Sampling simulation with Qulacs\n",
    "\n",
    "First, we create a `Sampler` and execute the sampling without error mitigation."
   ]
  },
  {
   "cell_type": "code",
   "execution_count": 3,
   "metadata": {},
   "outputs": [
    {
     "data": {
      "text/plain": [
       "{0: 4804, 1: 60, 2: 53, 3: 45, 4: 61, 5: 54, 6: 54, 7: 4869}"
      ]
     },
     "execution_count": 3,
     "metadata": {},
     "output_type": "execute_result"
    }
   ],
   "source": [
    "from quri_parts.qulacs.sampler import create_qulacs_density_matrix_sampler\n",
    "\n",
    "sampler = create_qulacs_density_matrix_sampler(noise_model)\n",
    "counts = sampler(circuit, shots=10000)\n",
    "counts"
   ]
  },
  {
   "attachments": {},
   "cell_type": "markdown",
   "metadata": {},
   "source": [
    "### Create filter matrix\n",
    "\n",
    "The inverse of the noisy operation, here we call filter matrix, plays an important role in readout error mitigation. Noisy counts $C_{\\text{noisy}}$ can be considered as a product of ideal counts $C_{\\text{ideal}}$ which we could get in noiseless world and the error matrix $E$.\n",
    "\n",
    "$$\n",
    "C_{\\text{noisy}} = EC_{\\text{ideal}}\n",
    "$$\n",
    "\n",
    "Filter matrix is defined as the inverse of error matrix. With filter matrix we can estimate the error-free counts\n",
    "\n",
    "$$\n",
    "C_{\\text{ideal}} = E^{-1}C_{\\text{noisy}}.\n",
    "$$\n",
    "\n",
    "We can use `create_filter_matrix` to create filter matrix."
   ]
  },
  {
   "cell_type": "code",
   "execution_count": 4,
   "metadata": {},
   "outputs": [
    {
     "data": {
      "text/plain": [
       "array([[ 1.03081586e+00, -1.03608280e-02, -1.04848053e-02,\n",
       "         9.09442655e-05, -1.05649343e-02,  9.64611117e-05,\n",
       "         9.16189081e-05, -2.91328907e-06],\n",
       "       [-1.04430603e-02,  1.03079763e+00,  1.10411980e-04,\n",
       "        -1.04499958e-02,  1.20831915e-04, -1.04183144e-02,\n",
       "        -2.61233451e-07,  1.11304749e-04],\n",
       "       [-1.04488106e-02,  1.12301168e-04,  1.03087900e+00,\n",
       "        -1.05218772e-02,  8.23001295e-05, -6.61044448e-07,\n",
       "        -1.03370308e-02,  1.05931183e-04],\n",
       "       [ 9.99118580e-05, -1.03935916e-02, -1.03721711e-02,\n",
       "         1.03099364e+00,  1.43055172e-07,  9.84088448e-05,\n",
       "         1.22719759e-04, -1.04128304e-02],\n",
       "       [-1.02422550e-02,  9.88933597e-05,  9.77132129e-05,\n",
       "         1.37852935e-07,  1.03102844e+00, -1.04927069e-02,\n",
       "        -1.02896969e-02,  1.12983508e-04],\n",
       "       [ 1.09499868e-04, -1.03545737e-02,  8.77658401e-08,\n",
       "         1.11908063e-04, -1.03037655e-02,  1.03090374e+00,\n",
       "         1.00718846e-04, -1.04533595e-02],\n",
       "       [ 1.08584290e-04, -1.01949433e-06, -1.03179092e-02,\n",
       "         1.04857721e-04, -1.04552250e-02,  1.00217507e-04,\n",
       "         1.03079468e+00, -1.06677857e-02],\n",
       "       [ 2.67961597e-07,  1.01186145e-04,  8.76776332e-05,\n",
       "        -1.03296171e-02,  9.22081860e-05, -1.02871410e-02,\n",
       "        -1.04827521e-02,  1.03120667e+00]])"
      ]
     },
     "execution_count": 4,
     "metadata": {},
     "output_type": "execute_result"
    }
   ],
   "source": [
    "from quri_parts.algo.mitigation.readout_mitigation import create_filter_matrix\n",
    "from quri_parts.qulacs.sampler import create_qulacs_density_matrix_concurrent_sampler\n",
    "\n",
    "concurernt_sampler = create_qulacs_density_matrix_concurrent_sampler(noise_model)\n",
    "\n",
    "filter_matrix = create_filter_matrix(qubit_count, concurernt_sampler, shots=1000000)\n",
    "filter_matrix"
   ]
  },
  {
   "attachments": {},
   "cell_type": "markdown",
   "metadata": {},
   "source": [
    "### Execute readout error mitigation\n",
    "\n",
    "Now we can get error-mitigated counts by calling `readout_mitigation`."
   ]
  },
  {
   "cell_type": "code",
   "execution_count": 5,
   "metadata": {},
   "outputs": [
    {
     "data": {
      "text/plain": [
       "{0: 4950.217659379003,\n",
       " 1: 11.201708757265243,\n",
       " 2: 3.9363179303488525,\n",
       " 4: 13.127927514830965,\n",
       " 5: 4.058106695396841,\n",
       " 6: 3.068554432823876,\n",
       " 7: 5019.37649704677}"
      ]
     },
     "execution_count": 5,
     "metadata": {},
     "output_type": "execute_result"
    }
   ],
   "source": [
    "from quri_parts.algo.mitigation.readout_mitigation import readout_mitigation\n",
    "\n",
    "mitigated_counts = readout_mitigation([counts], filter_matrix)\n",
    "next(mitigated_counts)"
   ]
  },
  {
   "attachments": {},
   "cell_type": "markdown",
   "metadata": {},
   "source": [
    "### Create readout error mitigation sampler\n",
    "\n",
    "We can also create a `ConcurrentSampler` that samples from noisy circuit and performs readout error mitigation behind the scenes."
   ]
  },
  {
   "cell_type": "code",
   "execution_count": 6,
   "metadata": {},
   "outputs": [
    {
     "data": {
      "text/plain": [
       "{0: 4948.185784886734,\n",
       " 1: 2.7399812032761752,\n",
       " 5: 6.073894168192816,\n",
       " 7: 5054.491959143681}"
      ]
     },
     "execution_count": 6,
     "metadata": {},
     "output_type": "execute_result"
    }
   ],
   "source": [
    "from quri_parts.algo.mitigation.readout_mitigation import (\n",
    "    create_readout_mitigation_concurrent_sampler,\n",
    "    create_readout_mitigation_sampler,\n",
    ")\n",
    "from quri_parts.qulacs.sampler import create_qulacs_density_matrix_sampler\n",
    "\n",
    "# Create a ConcurrentSampler\n",
    "rem_concurrent_sampler = create_readout_mitigation_concurrent_sampler(\n",
    "    qubit_count, concurernt_sampler, shots=1000000\n",
    ")\n",
    "\n",
    "# You can also create a Sampler\n",
    "# rem_sampler = create_readout_mitigation_sampler(\n",
    "#     qubit_count, concurernt_sampler, shots=1000000\n",
    "# )\n",
    "# mitigated_counts = rem_sampler(circuit, 10000)\n",
    "# print(mitigated_counts)\n",
    "\n",
    "mitigated_counts_concurrent = rem_concurrent_sampler([(circuit, 10000)])\n",
    "next(mitigated_counts_concurrent)\n"
   ]
  },
  {
   "attachments": {},
   "cell_type": "markdown",
   "metadata": {},
   "source": [
    "## Zero-noise extrapolation\n",
    "\n",
    "ZNE is an error mitigation method that extrapolates the noiseless value from the multiple noise level values. To scale the noise level, whole or part of original circuit is extended. The simplest case is noise level 3.0, where we generate the scaled circuit\n",
    "\n",
    "$$\n",
    "U_{\\text{original}} \\rightarrow U_{\\text{original}}U^{-1}_{\\text{original}}U_{\\text{original}}.\n",
    "$$\n",
    "\n",
    "We can expect that this corresponds to noise level 3.0 since this circuit has three times as many gates as original gate has."
   ]
  },
  {
   "attachments": {},
   "cell_type": "markdown",
   "metadata": {},
   "source": [
    "### Create a noise model\n",
    "\n",
    "First, we create a noise model with some `NoiseInstruction`s. Here we consider `BitFlipNoise` and `DepolarizingNoise`."
   ]
  },
  {
   "cell_type": "code",
   "execution_count": 7,
   "metadata": {},
   "outputs": [],
   "source": [
    "from quri_parts.circuit.noise import (\n",
    "    BitFlipNoise,\n",
    "    DepolarizingNoise,\n",
    "    NoiseModel,\n",
    ")\n",
    "\n",
    "noises = [\n",
    "    BitFlipNoise(\n",
    "        error_prob=0.01,\n",
    "        qubit_indices=[],\n",
    "        target_gates=[],\n",
    "    ),\n",
    "    DepolarizingNoise(\n",
    "        error_prob=0.01,\n",
    "        qubit_indices=[],\n",
    "        target_gates=[],\n",
    "    ),\n",
    "]\n",
    "noise_model = NoiseModel(noises)\n"
   ]
  },
  {
   "attachments": {},
   "cell_type": "markdown",
   "metadata": {},
   "source": [
    "### Estimate the expectation value of an operator with Qulacs\n",
    "\n",
    "Next, we create noisy and noiseless estimator and compare the results."
   ]
  },
  {
   "cell_type": "code",
   "execution_count": 8,
   "metadata": {},
   "outputs": [
    {
     "name": "stdout",
     "output_type": "stream",
     "text": [
      "without noise: (1.0000000000000016+0j)\n",
      "with noise: (0.7725230020220358+0j)\n"
     ]
    }
   ],
   "source": [
    "from quri_parts.circuit.noise import NoiseModel\n",
    "from quri_parts.core.operator import Operator, pauli_label\n",
    "from quri_parts.core.state import GeneralCircuitQuantumState\n",
    "from quri_parts.qulacs.estimator import (\n",
    "    create_qulacs_density_matrix_concurrent_estimator,\n",
    ")\n",
    "\n",
    "operator = Operator({pauli_label(\"X0 X1 X2\"): 1.0})\n",
    "state = GeneralCircuitQuantumState(qubit_count, circuit)\n",
    "\n",
    "noiseless_estimator = create_qulacs_density_matrix_concurrent_estimator(NoiseModel())\n",
    "estimator = create_qulacs_density_matrix_concurrent_estimator(noise_model)\n",
    "\n",
    "noiseless_estimate = noiseless_estimator([operator], [state])\n",
    "print(f\"without noise: {noiseless_estimate[0].value}\")\n",
    "\n",
    "estimate = estimator([operator], [state])\n",
    "print(f\"with noise: {estimate[0].value}\")\n"
   ]
  },
  {
   "attachments": {},
   "cell_type": "markdown",
   "metadata": {},
   "source": [
    "### Create scaled circuits\n",
    "\n",
    "Next, create scaled circuits. To scale the circuits `scaling_circuit_folding` can be used. QURI Parts has multiple options for circuit folding. Here we use random folding. "
   ]
  },
  {
   "cell_type": "code",
   "execution_count": 9,
   "metadata": {},
   "outputs": [
    {
     "name": "stdout",
     "output_type": "stream",
     "text": [
      "scale factor 1.0: len(scaled_circuits[i].gates)=19, estimate: (0.7725230020220358+0j)\n",
      "scale factor 2.0: len(scaled_circuits[i].gates)=37, estimate: (0.6202190040024502+0j)\n",
      "scale factor 3.0: len(scaled_circuits[i].gates)=57, estimate: (0.464645554575118+0j)\n"
     ]
    }
   ],
   "source": [
    "from quri_parts.algo.mitigation.zne import (\n",
    "    create_folding_random,\n",
    "    scaling_circuit_folding,\n",
    ")\n",
    "\n",
    "scale_factors = [1.0, 2.0, 3.0]\n",
    "\n",
    "random_folding = create_folding_random()\n",
    "scaled_circuits = [\n",
    "    scaling_circuit_folding(circuit, scale_factor, random_folding)\n",
    "    for scale_factor in scale_factors\n",
    "]\n",
    "\n",
    "estimates = [\n",
    "    estimator([operator], [GeneralCircuitQuantumState(qubit_count, scaled_circuit)])[\n",
    "        0\n",
    "    ].value\n",
    "    for scaled_circuit in scaled_circuits\n",
    "]\n",
    "\n",
    "for i, scale_factor in enumerate(scale_factors):\n",
    "    print(\n",
    "        f\"scale factor {scale_factor}: {len(scaled_circuits[i].gates)=}, estimate: {estimates[i]}\"\n",
    "    )\n"
   ]
  },
  {
   "attachments": {},
   "cell_type": "markdown",
   "metadata": {},
   "source": [
    "### Extrapolate zero-noise value\n",
    "\n",
    "The last step is extrapolation. QURI Parts has multiple options for extrapolation. Here we use second-order polynomial extrapolation."
   ]
  },
  {
   "cell_type": "code",
   "execution_count": 10,
   "metadata": {},
   "outputs": [
    {
     "name": "stdout",
     "output_type": "stream",
     "text": [
      "mitigated estimate: (0.9215575486338767+0j)\n"
     ]
    }
   ],
   "source": [
    "from quri_parts.algo.mitigation.zne import create_polynomial_extrapolate\n",
    "\n",
    "poly_extrapolation = create_polynomial_extrapolate(order=2)\n",
    "exp_vals = poly_extrapolation(scale_factors, estimates)\n",
    "print(f\"mitigated estimate: {exp_vals}\")"
   ]
  },
  {
   "attachments": {},
   "cell_type": "markdown",
   "metadata": {},
   "source": [
    "### Create ZNE estimator\n",
    "\n",
    "You can also create a `QuantumEstimator` that returns the error-mitigated estimate of a given operator and state by performing ZNE behind the scenes."
   ]
  },
  {
   "cell_type": "code",
   "execution_count": 11,
   "metadata": {},
   "outputs": [
    {
     "data": {
      "text/plain": [
       "0.9215575486338767"
      ]
     },
     "execution_count": 11,
     "metadata": {},
     "output_type": "execute_result"
    }
   ],
   "source": [
    "from quri_parts.algo.mitigation.zne import create_zne_estimator\n",
    "\n",
    "zne_estimator = create_zne_estimator(\n",
    "    estimator, scale_factors, poly_extrapolation, random_folding\n",
    ")\n",
    "\n",
    "mitigated_estimate = zne_estimator(operator, state)\n",
    "mitigated_estimate.value"
   ]
  },
  {
   "attachments": {},
   "cell_type": "markdown",
   "metadata": {},
   "source": [
    "## Clifford data regression\n",
    "\n",
    "CDR is an error mitigation method which predicts the noiseless value using training data, which can be generated by exact estimator such as a simulator and a noisy estimator such as a real device. This technique is available even for large systems in the sense that Clifford+T circuits with moderate number of T gates can be simulated efficiently on a classical computer."
   ]
  },
  {
   "attachments": {},
   "cell_type": "markdown",
   "metadata": {},
   "source": [
    "### Create noise model\n",
    "\n",
    "First, we create a noise model with some `NoiseInstruction`s. Here we consider `BitFlipNoise` and `DepolarizingNoise`."
   ]
  },
  {
   "cell_type": "code",
   "execution_count": 12,
   "metadata": {},
   "outputs": [],
   "source": [
    "from quri_parts.circuit.noise import (\n",
    "    BitFlipNoise,\n",
    "    DepolarizingNoise,\n",
    "    NoiseModel,\n",
    ")\n",
    "\n",
    "noises = [\n",
    "    BitFlipNoise(\n",
    "        error_prob=0.01,\n",
    "        qubit_indices=[],\n",
    "        target_gates=[],\n",
    "    ),\n",
    "    DepolarizingNoise(\n",
    "        error_prob=0.01,\n",
    "        qubit_indices=[],\n",
    "        target_gates=[],\n",
    "    ),\n",
    "]\n",
    "noise_model = NoiseModel(noises)\n"
   ]
  },
  {
   "attachments": {},
   "cell_type": "markdown",
   "metadata": {},
   "source": [
    "## "
   ]
  },
  {
   "attachments": {},
   "cell_type": "markdown",
   "metadata": {},
   "source": [
    "### Estimate the expectation value of an operator with Qulacs\n",
    "\n",
    "Let's see how noisy result differs from exact one."
   ]
  },
  {
   "cell_type": "code",
   "execution_count": 13,
   "metadata": {},
   "outputs": [
    {
     "name": "stdout",
     "output_type": "stream",
     "text": [
      "without noise: (0.9999999999999996+0j)\n",
      "with noise: (0.7725230020220358+0j)\n"
     ]
    }
   ],
   "source": [
    "from quri_parts.circuit.noise import NoiseModel\n",
    "from quri_parts.core.operator import Operator, pauli_label\n",
    "from quri_parts.core.state import GeneralCircuitQuantumState\n",
    "from quri_parts.qulacs.estimator import (\n",
    "    create_qulacs_density_matrix_concurrent_estimator,\n",
    "    create_qulacs_vector_concurrent_estimator\n",
    ")\n",
    "\n",
    "operator = Operator({pauli_label(\"X0 X1 X2\"): 1.0})\n",
    "state = GeneralCircuitQuantumState(qubit_count, circuit)\n",
    "\n",
    "exact_estimator = create_qulacs_vector_concurrent_estimator()\n",
    "noisy_estimator = create_qulacs_density_matrix_concurrent_estimator(noise_model)\n",
    "\n",
    "exact_estimate = exact_estimator([operator], [state])\n",
    "print(f\"without noise: {exact_estimate[0].value}\")\n",
    "\n",
    "noisy_estimate = noisy_estimator([operator], [state])\n",
    "print(f\"with noise: {noisy_estimate[0].value}\")\n"
   ]
  },
  {
   "attachments": {},
   "cell_type": "markdown",
   "metadata": {},
   "source": [
    "### Create training data\n",
    "\n",
    "Next, we create training circuits and data. Training circuits are generated by replacing randomly chosen non-Clifford gates in the circuit with the closest Clifford gates. The number of non-Clifford gates determines the computational cost for Clifford+T simulator. Here, we generate 8 training circuits and each circuit has 6 non-Clifford gates.\n",
    "\n",
    "After generating training circuit, we calculate the estimates for exact and noisy estimators."
   ]
  },
  {
   "cell_type": "code",
   "execution_count": 14,
   "metadata": {},
   "outputs": [
    {
     "name": "stdout",
     "output_type": "stream",
     "text": [
      "exact estimates:\n",
      "[(0.056164919507356165+0j), (0.6813385269763016+0j), (0.9574153468466569+0j), (0.7639014342253044+0j), (0.6813385269763014+0j), (0.6813385269763014+0j), (0.7639014342253043+0j), (0.7457052121767197+0j)]\n",
      "noisy estimates:\n",
      "[(0.04879702742708523+0j), (0.5069152232916604+0j), (0.7184099115226523+0j), (0.5662337509054978+0j), (0.508024909921587+0j), (0.5069152232916605+0j), (0.5662337509054978+0j), (0.5873135594216767+0j)]\n"
     ]
    }
   ],
   "source": [
    "from quri_parts.algo.mitigation.cdr import make_training_circuits\n",
    "\n",
    "training_circuits = make_training_circuits(circuit, 6, 8)\n",
    "\n",
    "exact_estimates = [\n",
    "    exact_estimator(\n",
    "        [operator], [GeneralCircuitQuantumState(qubit_count, training_circuit)]\n",
    "    )[0].value\n",
    "    for training_circuit in training_circuits\n",
    "]\n",
    "\n",
    "print(\"exact estimates:\")\n",
    "print(exact_estimates)\n",
    "\n",
    "noisy_estimates = [\n",
    "    noisy_estimator(\n",
    "        [operator], [GeneralCircuitQuantumState(qubit_count, training_circuit)]\n",
    "    )[0].value\n",
    "    for training_circuit in training_circuits\n",
    "]\n",
    "print(\"noisy estimates:\")\n",
    "print(noisy_estimates)\n"
   ]
  },
  {
   "attachments": {},
   "cell_type": "markdown",
   "metadata": {},
   "source": [
    "### Define the regression function and get the mitigated value\n",
    "\n",
    "Finally, we predict noiseless value by regression. QURI Parts has multiple options for regression. Here we perform second-order polynomial regression."
   ]
  },
  {
   "cell_type": "code",
   "execution_count": 15,
   "metadata": {},
   "outputs": [
    {
     "name": "stdout",
     "output_type": "stream",
     "text": [
      "mitigated value: 1.0189823237477753\n"
     ]
    }
   ],
   "source": [
    "from quri_parts.algo.mitigation.cdr import (\n",
    "    create_polynomial_regression,\n",
    ")\n",
    "\n",
    "poly_regression = create_polynomial_regression(order=2)\n",
    "\n",
    "mitigated_val = poly_regression(\n",
    "    noisy_estimate[0].value, noisy_estimates, exact_estimates\n",
    ").real\n",
    "\n",
    "print(f\"mitigated value: {mitigated_val}\")\n"
   ]
  },
  {
   "attachments": {},
   "cell_type": "markdown",
   "metadata": {},
   "source": [
    "### Create the CDR estimator\n",
    "\n",
    "You can also create a CDR estimator that performs CDR behind the scenes. Once it's created, you can use it as a `QuantumEstimator`, which accepts `Estimatable` and `~QuantumState` and returns `Estimate`."
   ]
  },
  {
   "cell_type": "code",
   "execution_count": 16,
   "metadata": {},
   "outputs": [
    {
     "data": {
      "text/plain": [
       "_Estimate(value=1.0328940345469877, error=nan)"
      ]
     },
     "execution_count": 16,
     "metadata": {},
     "output_type": "execute_result"
    }
   ],
   "source": [
    "from quri_parts.algo.mitigation.cdr import create_cdr_estimator\n",
    "\n",
    "cdr_estimator = create_cdr_estimator(noisy_estimator, exact_estimator, poly_regression, 10, 0.5)\n",
    "\n",
    "estimate = cdr_estimator(operator, state)\n",
    "estimate"
   ]
  }
 ],
 "metadata": {
  "kernelspec": {
   "display_name": ".venv",
   "language": "python",
   "name": "python3"
  },
  "language_info": {
   "codemirror_mode": {
    "name": "ipython",
    "version": 3
   },
   "file_extension": ".py",
   "mimetype": "text/x-python",
   "name": "python",
   "nbconvert_exporter": "python",
   "pygments_lexer": "ipython3",
   "version": "3.9.13"
  },
  "orig_nbformat": 4,
  "vscode": {
   "interpreter": {
    "hash": "8a5950dd6e53f32f77ce2e4ebb67352bab69c6eaf4d776c449761d0964710731"
   }
  }
 },
 "nbformat": 4,
 "nbformat_minor": 2
}
