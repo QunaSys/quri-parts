{
 "cells": [
  {
   "attachments": {},
   "cell_type": "markdown",
   "metadata": {},
   "source": [
    "# Fermion-qubit mappings"
   ]
  },
  {
   "attachments": {},
   "cell_type": "markdown",
   "metadata": {},
   "source": [
    "In this tutorial, we explain how to perform mapping from fermionic operators to qubit operators with QURI Parts, where we provide 3 types of mapping\n",
    "\n",
    "1. Jordan-Wigner mapping\n",
    "2. Bravyi-Kitaev mapping\n",
    "3. Symmetry-conserving Bravyi-Kitaev mapping"
   ]
  },
  {
   "attachments": {},
   "cell_type": "markdown",
   "metadata": {},
   "source": [
    "## Prerequisite"
   ]
  },
  {
   "attachments": {},
   "cell_type": "markdown",
   "metadata": {},
   "source": [
    "QURI Parts modules used in this tutorial: `quri-parts-chem`, `quri-parts-pyscf`, and `quri-parts-openfermion`. You can install them as follows:"
   ]
  },
  {
   "cell_type": "code",
   "execution_count": null,
   "metadata": {},
   "outputs": [],
   "source": [
    "!pip install \"quri_parts[chem]\"\n",
    "!pip install \"quri_parts[pyscf]\"\n",
    "!pip install \"quri_parts[openfermion]\""
   ]
  },
  {
   "attachments": {},
   "cell_type": "markdown",
   "metadata": {},
   "source": [
    "## Getting the Electron integrals and the Hamiltonian"
   ]
  },
  {
   "attachments": {},
   "cell_type": "markdown",
   "metadata": {},
   "source": [
    "We first prepare a fermionic Hamiltonian for later demonstration. For generating the molecular Hamiltonian, please refer to the [Hamiltonian generation tutorial](https://quri-parts.qunasys.com/tutorials/mo_eint_and_hamiltonian)."
   ]
  },
  {
   "cell_type": "code",
   "execution_count": 2,
   "metadata": {},
   "outputs": [],
   "source": [
    "from pyscf import gto, scf\n",
    "\n",
    "from quri_parts.pyscf.mol import get_spin_mo_integrals_from_mole\n",
    "from quri_parts.openfermion.mol import get_fermionic_hamiltonian\n",
    "\n",
    "h2_atom_list = [['H', [0, 0, 0]], ['H',  [0, 0, 2]]]\n",
    "h2_mol = gto.M(atom=h2_atom_list, verbose = 0)\n",
    "h2_mf = scf.RHF(h2_mol).run()\n",
    "\n",
    "_, mo_eint_set = get_spin_mo_integrals_from_mole(h2_mol, h2_mf.mo_coeff)\n",
    "\n",
    "fermionic_hamiltonian = get_fermionic_hamiltonian(mo_eint_set)"
   ]
  },
  {
   "attachments": {},
   "cell_type": "markdown",
   "metadata": {},
   "source": [
    "## Convert Openfermion Operator to Quri-Parts Operator"
   ]
  },
  {
   "attachments": {},
   "cell_type": "markdown",
   "metadata": {},
   "source": [
    "Here, we demonstrate how to convert OpenFermion’s operator to QURI Parts `Operator`.  For example, given the fermionic Hamiltonian we obtained above, we use OpenFermion’s `jordan_wigner` function to map it into a `QubitOperator` and then convert it into QURI Parts `Operator` with the `operator_from_openfermion_op` function we provide."
   ]
  },
  {
   "cell_type": "code",
   "execution_count": 3,
   "metadata": {},
   "outputs": [
    {
     "name": "stdout",
     "output_type": "stream",
     "text": [
      "(-0.5339363487727398+0j)*I + (0.06727930458983411+0j)*Z0 + (0.06727930458983411+0j)*Z1 + (0.006651295687574416+0j)*Z2 + (0.006651295687574416+0j)*Z3 + (0.1273657031065746+0j)*Z0 Z1 + (0.06501569581211997+0j)*Z0 Z2 + (0.12980031453238416+0j)*Z0 Z3 + (0.12980031453238416+0j)*Z1 Z2 + (0.06501569581211997+0j)*Z1 Z3 + (0.13366602988233997+0j)*Z2 Z3 + -0.06478461872026421*X0 X1 Y2 Y3 + 0.06478461872026421*X0 Y1 Y2 X3 + 0.06478461872026421*Y0 X1 X2 Y3 + -0.06478461872026421*Y0 Y1 X2 X3\n"
     ]
    }
   ],
   "source": [
    "from quri_parts.openfermion.operator import operator_from_openfermion_op\n",
    "from openfermion import jordan_wigner as of_jordan_wigner\n",
    "\n",
    "qubit_operator = of_jordan_wigner(fermionic_hamiltonian)\n",
    "qp_operator = operator_from_openfermion_op(qubit_operator)\n",
    "\n",
    "print(qp_operator)"
   ]
  },
  {
   "cell_type": "markdown",
   "metadata": {},
   "source": [
    "This method of obtaining the `Operator` is a bit cumbersome and we are difficult to obtain mapped states with it. Thus, we introduce several `OpenFermionQubitMapping` objects below showing how to map OpenFermion’s operators and occupation states into QURI Parts `Operator` and `ComputationBasisState`."
   ]
  },
  {
   "attachments": {},
   "cell_type": "markdown",
   "metadata": {},
   "source": [
    "## Jordan-Wigner Mapping"
   ]
  },
  {
   "cell_type": "markdown",
   "metadata": {},
   "source": [
    "QURI Parts provides Jordan-Wigner mapping that can convert OpenFermion’s operators to QURI Parts `Operator` and fermionic states into a `ComputationalBasisState`.\n",
    "\n",
    "The `jordan_wigner.get_of_operator_mapper` returns a function that maps\n",
    "\n",
    "- `openfermion.ops.FermionOperator`\n",
    "- `openfermion.ops.InteractionOperator`\n",
    "- `openfermion.ops.MajoranaOperator`\n",
    "\n",
    "to QURI Parts `Operator`. Here, we use the hamiltonian we defined above, which is an `InteractionOperator` object, to demonstrate how to obtain the Jordan-Wigner Hamiltonian written in terms of QURI Parts `Operators`."
   ]
  },
  {
   "cell_type": "code",
   "execution_count": 4,
   "metadata": {},
   "outputs": [
    {
     "name": "stdout",
     "output_type": "stream",
     "text": [
      "(-0.5339363488+0j) I\n",
      "(0.0672793046+0j) Z0\n",
      "(0.0672793046+0j) Z1\n",
      "(0.0066512957+0j) Z2\n",
      "(0.0066512957+0j) Z3\n",
      "(0.1273657031+0j) Z0 Z1\n",
      "(0.0650156958+0j) Z0 Z2\n",
      "(0.1298003145+0j) Z0 Z3\n",
      "(0.1298003145+0j) Z1 Z2\n",
      "(0.0650156958+0j) Z1 Z3\n",
      "(0.1336660299+0j) Z2 Z3\n",
      "-0.0647846187 X0 X1 Y2 Y3\n",
      "0.0647846187 X0 Y1 Y2 X3\n",
      "0.0647846187 Y0 X1 X2 Y3\n",
      "-0.0647846187 Y0 Y1 X2 X3\n"
     ]
    }
   ],
   "source": [
    "from quri_parts.openfermion.transforms import jordan_wigner\n",
    "\n",
    "# Obtaining the operator mapper\n",
    "operator_mapper = jordan_wigner.get_of_operator_mapper()\n",
    "\n",
    "# Map the Hamiltonian into quri-parts Operators with Jordan-Wigner mapping\n",
    "jordan_wigner_hamiltonian = operator_mapper(fermionic_hamiltonian)\n",
    "\n",
    "for op, coeff in jordan_wigner_hamiltonian.items():\n",
    "    print(coeff.round(10), op)"
   ]
  },
  {
   "attachments": {},
   "cell_type": "markdown",
   "metadata": {},
   "source": [
    "### State Mapping"
   ]
  },
  {
   "attachments": {},
   "cell_type": "markdown",
   "metadata": {},
   "source": [
    "The state vector describing the occupation number can also be mapped to computational basis state using the `jordan_wigner` object.\n",
    "\n",
    "In this case, we may construct a state mapper function from the `jordan_wigner` object with the `get_state_mapper` method where we need to supply it with the number of spin orbitals:"
   ]
  },
  {
   "cell_type": "code",
   "execution_count": 5,
   "metadata": {},
   "outputs": [],
   "source": [
    "state_mapper = jordan_wigner.get_state_mapper(n_spin_orbitals=4)"
   ]
  },
  {
   "attachments": {},
   "cell_type": "markdown",
   "metadata": {},
   "source": [
    "With the state mapper at hand, we may pass in the labels of the occupied spin orbitals to obtain a Jordan-Wigner-mapped `ComputationalBasisState` object.\n",
    "\n",
    "For example, to generate the qubit state for\n",
    "\n",
    "$$\n",
    "| \\Psi \\rangle = c_0^{\\dagger} c_1^{\\dagger} c_2^{\\dagger} | 00\\cdots 0\\rangle\n",
    "$$\n",
    "\n",
    "where the indices on the ladder operators are the spin-orbital indices, we can do:"
   ]
  },
  {
   "cell_type": "code",
   "execution_count": 6,
   "metadata": {},
   "outputs": [
    {
     "name": "stdout",
     "output_type": "stream",
     "text": [
      "State:\n",
      "ComputationalBasisState(qubit_count=4, bits=0b111, phase=0π/2) \n",
      "\n",
      "State preparation circuit\n",
      "QuantumGate(name='X', target_indices=(0,), control_indices=(), params=(), pauli_ids=(), unitary_matrix=())\n",
      "QuantumGate(name='X', target_indices=(1,), control_indices=(), params=(), pauli_ids=(), unitary_matrix=())\n",
      "QuantumGate(name='X', target_indices=(2,), control_indices=(), params=(), pauli_ids=(), unitary_matrix=())\n"
     ]
    }
   ],
   "source": [
    "occupation_spin_orbitals = [0, 1, 2]\n",
    "jw_state = state_mapper(occupation_spin_orbitals)\n",
    "jw_state_preparation_circuit = jw_state.circuit  # The circuit that prepares the specified state\n",
    "\n",
    "print('State:')\n",
    "print(jw_state, '\\n')\n",
    "\n",
    "print('State preparation circuit')\n",
    "for gate in jw_state_preparation_circuit.gates:\n",
    "    print(gate)"
   ]
  },
  {
   "attachments": {},
   "cell_type": "markdown",
   "metadata": {},
   "source": [
    "## Bravyi-Kitaev mapping"
   ]
  },
  {
   "attachments": {},
   "cell_type": "markdown",
   "metadata": {},
   "source": [
    "`quri-parts` also provides Bravyi-Kitaev mapping, the interface is the similar to`jordan_wigner`’s. However, note that you need to pass in the number of spin orbitals to the `.get_of_operator_mapper` method in order to perform the BK mapping:"
   ]
  },
  {
   "cell_type": "code",
   "execution_count": 7,
   "metadata": {},
   "outputs": [
    {
     "name": "stdout",
     "output_type": "stream",
     "text": [
      "(0.0672793046+0j) Z0\n",
      "(-0.5339363488+0j) I\n",
      "(0.0672793046+0j) Z0 Z1\n",
      "(0.0066512957+0j) Z2\n",
      "(0.0066512957+0j) Z1 Z2 Z3\n",
      "(0.0647846187+0j) Y0 Z1 Y2\n",
      "(0.0647846187+0j) X0 Z1 X2\n",
      "(0.0647846187+0j) X0 Z1 X2 Z3\n",
      "(0.0647846187+0j) Y0 Z1 Y2 Z3\n",
      "(0.1273657031+0j) Z1\n",
      "(0.0650156958+0j) Z0 Z2\n",
      "(0.1298003145+0j) Z0 Z1 Z2\n",
      "(0.1298003145+0j) Z0 Z1 Z2 Z3\n",
      "(0.0650156958+0j) Z0 Z2 Z3\n",
      "(0.1336660299+0j) Z1 Z3\n"
     ]
    }
   ],
   "source": [
    "from quri_parts.openfermion.transforms import bravyi_kitaev\n",
    "\n",
    "# Obtaining the operator mapper\n",
    "bk_operator_mapper = bravyi_kitaev.get_of_operator_mapper(n_spin_orbitals=4)\n",
    "\n",
    "# Map the Hamiltonian into quri-parts Operators with Bravyi-Kitaev mapping\n",
    "bravyi_kitaev_hamiltonian = bk_operator_mapper(fermionic_hamiltonian)\n",
    "\n",
    "for op, coeff in bravyi_kitaev_hamiltonian.items():\n",
    "    print(coeff.round(10), op)"
   ]
  },
  {
   "cell_type": "code",
   "execution_count": 8,
   "metadata": {},
   "outputs": [
    {
     "name": "stdout",
     "output_type": "stream",
     "text": [
      "State:\n",
      "ComputationalBasisState(qubit_count=4, bits=0b111, phase=0π/2) \n",
      "\n",
      "State preparation circuit:\n",
      "QuantumGate(name='X', target_indices=(0,), control_indices=(), params=(), pauli_ids=(), unitary_matrix=())\n",
      "QuantumGate(name='X', target_indices=(1,), control_indices=(), params=(), pauli_ids=(), unitary_matrix=())\n",
      "QuantumGate(name='X', target_indices=(2,), control_indices=(), params=(), pauli_ids=(), unitary_matrix=())\n"
     ]
    }
   ],
   "source": [
    "bk_state_mapper = bravyi_kitaev.get_state_mapper(n_spin_orbitals=4)\n",
    "\n",
    "occupation_spin_orbitals = [0, 1, 2]\n",
    "bk_state_mapper_state = state_mapper(occupation_spin_orbitals)\n",
    "bk_state_preparation_circuit = bk_state_mapper_state.circuit\n",
    "\n",
    "print('State:')\n",
    "print(bk_state_mapper_state, '\\n')\n",
    "\n",
    "print('State preparation circuit:')\n",
    "for gate in bk_state_preparation_circuit.gates:\n",
    "    print(gate)"
   ]
  },
  {
   "attachments": {},
   "cell_type": "markdown",
   "metadata": {},
   "source": [
    "## Symmetry Conserving Bravyi-Kitaev mapping"
   ]
  },
  {
   "attachments": {},
   "cell_type": "markdown",
   "metadata": {},
   "source": [
    "QURI Parts also provides symmetry-conserving Bravyi-Kitaev (SCBK) mapping, the interface is the similar to`jordan_wigner`’s. However, note that you need to pass in the number of spin orbitals as well as the number of electrons in order to perform SCBK mapping to an operator. In addition, also note that the number of qubits for SCBK is less than the number of spin orbitals as we show below:"
   ]
  },
  {
   "cell_type": "code",
   "execution_count": 9,
   "metadata": {},
   "outputs": [
    {
     "name": "stdout",
     "output_type": "stream",
     "text": [
      "Number of qubits using SCBK: 2\n",
      "-0.6639677404 I\n",
      "0.0606280089 Z0\n",
      "0.0606280089 Z1\n",
      "0.0014311039 Z0 Z1\n",
      "0.2591384749 X0 X1\n"
     ]
    }
   ],
   "source": [
    "import numpy as np\n",
    "\n",
    "from quri_parts.openfermion.transforms import symmetry_conserving_bravyi_kitaev\n",
    "\n",
    "# Obtaining the operator mapper\n",
    "sym_conserving_bk_operator_mapper = symmetry_conserving_bravyi_kitaev.get_of_operator_mapper(n_fermions=2, n_spin_orbitals=4)\n",
    "\n",
    "print(\n",
    "\tf'Number of qubits using SCBK: {symmetry_conserving_bravyi_kitaev.n_qubits_required(n_spin_orbitals=4)}'\n",
    ")\n",
    "\n",
    "# Map the Hamiltonian into quri-parts Operators with Jordan-Wigner mapping\n",
    "sym_conserving_bravyi_kitaev_hamiltonian = sym_conserving_bk_operator_mapper(fermionic_hamiltonian)\n",
    "\n",
    "for op, coeff in sym_conserving_bravyi_kitaev_hamiltonian.items():\n",
    "    if (c := np.round(coeff, 10)):\n",
    "        print(c, op)"
   ]
  },
  {
   "cell_type": "code",
   "execution_count": 10,
   "metadata": {},
   "outputs": [
    {
     "name": "stdout",
     "output_type": "stream",
     "text": [
      "State:\n",
      "ComputationalBasisState(qubit_count=4, bits=0b111, phase=0π/2) \n",
      "\n",
      "State preparation circuit:\n",
      "QuantumGate(name='X', target_indices=(0,), control_indices=(), params=(), pauli_ids=(), unitary_matrix=())\n",
      "QuantumGate(name='X', target_indices=(1,), control_indices=(), params=(), pauli_ids=(), unitary_matrix=())\n",
      "QuantumGate(name='X', target_indices=(2,), control_indices=(), params=(), pauli_ids=(), unitary_matrix=())\n"
     ]
    }
   ],
   "source": [
    "scbk_state_mapper = symmetry_conserving_bravyi_kitaev.get_state_mapper(n_fermions=2,n_spin_orbitals=4)\n",
    "\n",
    "occupation_spin_orbitals = [0, 1, 2]\n",
    "scbk_state_mapper_state = state_mapper(occupation_spin_orbitals)\n",
    "scbk_state_preparation_circuit = scbk_state_mapper_state.circuit\n",
    "\n",
    "print('State:')\n",
    "print(scbk_state_mapper_state, '\\n')\n",
    "\n",
    "print('State preparation circuit:')\n",
    "for gate in scbk_state_preparation_circuit.gates:\n",
    "    print(gate)"
   ]
  }
 ],
 "metadata": {
  "kernelspec": {
   "display_name": "qp_dev",
   "language": "python",
   "name": "python3"
  },
  "language_info": {
   "codemirror_mode": {
    "name": "ipython",
    "version": 3
   },
   "file_extension": ".py",
   "mimetype": "text/x-python",
   "name": "python",
   "nbconvert_exporter": "python",
   "pygments_lexer": "ipython3",
   "version": "3.9.16"
  },
  "orig_nbformat": 4
 },
 "nbformat": 4,
 "nbformat_minor": 2
}
