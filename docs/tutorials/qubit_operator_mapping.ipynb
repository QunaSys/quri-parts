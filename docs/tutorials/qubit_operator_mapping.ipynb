{
 "cells": [
  {
   "attachments": {},
   "cell_type": "markdown",
   "metadata": {},
   "source": [
    "# Qubit operator mapping"
   ]
  },
  {
   "attachments": {},
   "cell_type": "markdown",
   "metadata": {},
   "source": [
    "In this tutorial, we explain how to perform mapping from fermionic operators to qubit operators with QURI Parts, where we provide 3 types of mapping\n",
    "\n",
    "1. Jordan-Wigner mapping\n",
    "2. Bravyi-Kitaev mapping\n",
    "3. Symmetry conserving Bravyi-Kitaev mapping\n"
   ]
  },
  {
   "attachments": {},
   "cell_type": "markdown",
   "metadata": {},
   "source": [
    "## Prerequisite"
   ]
  },
  {
   "attachments": {},
   "cell_type": "markdown",
   "metadata": {},
   "source": [
    "QURI Parts modules used in this tutorial: `quri-parts-chem` and `quri-parts-pyscf`. You can install them as follows:"
   ]
  },
  {
   "cell_type": "code",
   "execution_count": 1,
   "metadata": {},
   "outputs": [],
   "source": [
    "#!pip install \"quri_parts[chem]\"\n",
    "#!pip install \"quri_parts[pyscf]\"\n",
    "#!pip install \"quri_parts[openfermion]\""
   ]
  },
  {
   "attachments": {},
   "cell_type": "markdown",
   "metadata": {},
   "source": [
    "## Getting the Electron integrals and the Hamiltonian"
   ]
  },
  {
   "attachments": {},
   "cell_type": "markdown",
   "metadata": {},
   "source": [
    "We first start from a quick review of getting the electron integrals"
   ]
  },
  {
   "cell_type": "code",
   "execution_count": 2,
   "metadata": {},
   "outputs": [],
   "source": [
    "# Step 1: Construct a PySCF Mole object\n",
    "from pyscf import gto, scf\n",
    "from quri_parts.pyscf.mol import PySCFMolecularOrbitals\n",
    "\n",
    "h2_atom_list = [['H', [0, 0, 0]], ['H',  [0, 0, 1]]]\n",
    "h2_mol = gto.Mole(atom=h2_atom_list, verbose = 0)\n",
    "h2_mol.build()\n",
    "h2_mf = scf.RHF(h2_mol)\n",
    "h2_mf.kernel()\n",
    "h2_mo = PySCFMolecularOrbitals(mol=h2_mol, mo_coeff=h2_mf.mo_coeff)\n",
    "\n",
    "# Step 2: Compute the ao electron integrals without storing the electron integral arrays on memory\n",
    "from quri_parts.pyscf.mol import get_ao_eint_set\n",
    "\n",
    "ao_eint_set = get_ao_eint_set(h2_mo)\n",
    "\n",
    "spin_mo_eint_set = ao_eint_set.to_full_space_mo_int(h2_mo)\n",
    "\n",
    "# get the actual values and arrays of the electron integrals for contructing the hamiltonian\n",
    "nuc_energy = spin_mo_eint_set.const\n",
    "spin_mo_1e_int = spin_mo_eint_set.mo_1e_int.array.round(5)\n",
    "spin_mo_2e_int = spin_mo_eint_set.mo_2e_int.array.round(5)"
   ]
  },
  {
   "attachments": {},
   "cell_type": "markdown",
   "metadata": {},
   "source": [
    "The moleculae Hamiltonian is given by \n",
    "\n",
    "\\begin{equation}\n",
    "H = E_{\\text{nuc}} + h_{ij} c_i^{\\dagger} c_j + \\frac{1}{2} h_{ijkl} c_i^{\\dagger} c_j^{\\dagger} c_k c_l, \\nonumber\n",
    "\\end{equation}\n",
    "\n",
    "where $c_{i}$, $c_{i}^{\\dagger}$ are the fermionic ladder operators and \n",
    "\n",
    "- $E_{\\text{nuc}}$:     `nuc_energy`\n",
    "- $h_{ij}$:     `spin_mo_1e_int`\n",
    "- $h_{ijkl}$:   `spin_mo_2e_int`\n",
    "\n",
    "After obtaining the electron integrals, we may use OpenFermion's `InteractionOperator` to convert the electron integrals to fermionic hamiltonian.\n",
    "<a id='hamiltonian'></a>"
   ]
  },
  {
   "cell_type": "code",
   "execution_count": 3,
   "metadata": {},
   "outputs": [],
   "source": [
    "from openfermion.ops import InteractionOperator\n",
    "\n",
    "hamiltonian = InteractionOperator(\n",
    "    constant= nuc_energy,\n",
    "    one_body_tensor= spin_mo_1e_int,\n",
    "    two_body_tensor= spin_mo_2e_int/2,  # Note that the factor of 1/2 is for consistent convention\n",
    ")"
   ]
  },
  {
   "attachments": {},
   "cell_type": "markdown",
   "metadata": {},
   "source": [
    "## Convert Openfermion Operator to Quri-Parts Operator"
   ]
  },
  {
   "attachments": {},
   "cell_type": "markdown",
   "metadata": {},
   "source": [
    "We may convert any `openfermion` `QubitOperator`s into `quri-parts` `Operator` using the `operator_from_openfermion_op` functions"
   ]
  },
  {
   "cell_type": "code",
   "execution_count": 4,
   "metadata": {},
   "outputs": [],
   "source": [
    "from openfermion.ops import QubitOperator\n",
    "from quri_parts.openfermion.operator import operator_from_openfermion_op"
   ]
  },
  {
   "cell_type": "code",
   "execution_count": 5,
   "metadata": {},
   "outputs": [
    {
     "name": "stdout",
     "output_type": "stream",
     "text": [
      "0.3*Y0 Z1 X2 Y3 X6 + 10.0*I\n"
     ]
    }
   ],
   "source": [
    "of_op = 0.3 * QubitOperator('Y0 Z1 X2 Y3 X6') + 10 * QubitOperator('')\n",
    "print(operator_from_openfermion_op(of_op))"
   ]
  },
  {
   "attachments": {},
   "cell_type": "markdown",
   "metadata": {},
   "source": [
    "For a given Hamiltonian, for example the one we just obtained [here](#hamiltonian), we may convert it to openfermion's `QubitOperator` with openfermion.jordan_wigner\n",
    "\n",
    "and further convert it to quri-parts `Operator` with the `operator_from_openfermion_op` function."
   ]
  },
  {
   "cell_type": "code",
   "execution_count": 6,
   "metadata": {},
   "outputs": [
    {
     "name": "stdout",
     "output_type": "stream",
     "text": [
      "(-0.3276002891+0j) I\n",
      "(0.1371625+0j) Z0\n",
      "(0.1371625+0j) Z1\n",
      "(-0.130365+0j) Z2\n",
      "(-0.130365+0j) Z3\n",
      "(0.1566+0j) Z0 Z1\n",
      "(0.10623+0j) Z0 Z2\n",
      "(0.1554275+0j) Z0 Z3\n",
      "(0.1554275+0j) Z1 Z2\n",
      "(0.10623+0j) Z1 Z3\n",
      "(0.1632675+0j) Z2 Z3\n",
      "-0.0491975 X0 X1 Y2 Y3\n",
      "0.0491975 X0 Y1 Y2 X3\n",
      "0.0491975 Y0 X1 X2 Y3\n",
      "-0.0491975 Y0 Y1 X2 X3\n"
     ]
    }
   ],
   "source": [
    "from openfermion import jordan_wigner as of_jordan_wigner\n",
    "\n",
    "for op, coeff in operator_from_openfermion_op(of_jordan_wigner(hamiltonian)).items():\n",
    "    print(coeff.round(10), op)"
   ]
  },
  {
   "attachments": {},
   "cell_type": "markdown",
   "metadata": {},
   "source": [
    "# Jordan-Wigner Mapping"
   ]
  },
  {
   "attachments": {},
   "cell_type": "markdown",
   "metadata": {},
   "source": [
    "`quri-parts` also provides Jordan Wigner mapping that can convert openfermion operators to quri-parts `Operator`.\n",
    "\n",
    "It can also convert fermionic states to qubit states."
   ]
  },
  {
   "cell_type": "code",
   "execution_count": 7,
   "metadata": {},
   "outputs": [],
   "source": [
    "from quri_parts.openfermion.transforms import jordan_wigner"
   ]
  },
  {
   "attachments": {},
   "cell_type": "markdown",
   "metadata": {},
   "source": [
    "### Operator mapping"
   ]
  },
  {
   "attachments": {},
   "cell_type": "markdown",
   "metadata": {},
   "source": [
    "To perform Jordan-Wigner mapping, we first construct an operator mapper with the `jordan_wigner` object.\n",
    "\n",
    "The `jordan_wigner.get_of_operator_mapper` object takes in the number of active space electrons and number of active space spin orbitals, \n",
    "\n",
    "then returns a function that maps\n",
    "\n",
    "- `openfermion.ops.FermionOperator`\n",
    "- `openfermion.ops.InteractionOperator`\n",
    "- `openfermion.ops.MajoranaOperator`\n",
    "\n",
    "to quri-parts `Operator`.\n",
    "\n",
    "\n",
    "Here, we use the hamiltonian we defined [above](#hamiltonian), which is an `InteractionOperator` object, to demostrate how to obtain Jordan-Wigner hamiltonian written in terms of quri-parts `Operators`."
   ]
  },
  {
   "cell_type": "code",
   "execution_count": 8,
   "metadata": {},
   "outputs": [
    {
     "name": "stdout",
     "output_type": "stream",
     "text": [
      "(-0.3276002891+0j) I\n",
      "(0.1371625+0j) Z0\n",
      "(0.1371625+0j) Z1\n",
      "(-0.130365+0j) Z2\n",
      "(-0.130365+0j) Z3\n",
      "(0.1566+0j) Z0 Z1\n",
      "(0.10623+0j) Z0 Z2\n",
      "(0.1554275+0j) Z0 Z3\n",
      "(0.1554275+0j) Z1 Z2\n",
      "(0.10623+0j) Z1 Z3\n",
      "(0.1632675+0j) Z2 Z3\n",
      "-0.0491975 X0 X1 Y2 Y3\n",
      "0.0491975 X0 Y1 Y2 X3\n",
      "0.0491975 Y0 X1 X2 Y3\n",
      "-0.0491975 Y0 Y1 X2 X3\n"
     ]
    }
   ],
   "source": [
    "# Obtaining the operator mapper\n",
    "operator_mapper = jordan_wigner.get_of_operator_mapper(\n",
    "    n_fermions=h2_mo.n_electron,\n",
    "    n_spin_orbitals=2*h2_mo.n_spatial_orb\n",
    ")\n",
    "\n",
    "# Map the Hamiltonian into quri-parts Operators with Jordan-Wigner mapping\n",
    "jordan_wigner_hamiltonian = operator_mapper(hamiltonian)\n",
    "\n",
    "for op, coeff in jordan_wigner_hamiltonian.items():\n",
    "    print(coeff.round(10), op)"
   ]
  },
  {
   "attachments": {},
   "cell_type": "markdown",
   "metadata": {},
   "source": [
    "### State Mapping"
   ]
  },
  {
   "attachments": {},
   "cell_type": "markdown",
   "metadata": {},
   "source": [
    "The state vector describing the occupation number can also be mapped to computational basis state using the `jordan_wigner` obect.\n",
    "\n",
    "In this case, we may construct a state mapper function from the `jordan_wigner` object with the `get_state_mapper` method."
   ]
  },
  {
   "cell_type": "code",
   "execution_count": 9,
   "metadata": {},
   "outputs": [],
   "source": [
    "state_mapper = jordan_wigner.get_state_mapper(\n",
    "    n_fermions=h2_mo.n_electron,\n",
    "    n_spin_orbitals=2*h2_mo.n_spatial_orb\n",
    ")"
   ]
  },
  {
   "attachments": {},
   "cell_type": "markdown",
   "metadata": {},
   "source": [
    "With the state mapper at hand, we may pass in the labels of the occupied spin orbitals to obtain a  Jordan-Wigner-mapped `ComputationalBasisState` object. \n",
    "\n",
    "For example, to generate the qubit state for\n",
    "$$|\\Psi\\rangle = c_0^{\\dagger}c_1^{\\dagger}c_2^{\\dagger} | 0\\cdots 0 \\rangle,$$\n",
    "where the indices on the ladder operators are the spin-orbital indices, we can do:"
   ]
  },
  {
   "cell_type": "code",
   "execution_count": 10,
   "metadata": {},
   "outputs": [
    {
     "name": "stdout",
     "output_type": "stream",
     "text": [
      "State:\n",
      "ComputationalBasisState(qubit_count=4, bits=0b111, phase=0π/2) \n",
      "\n",
      "State preparation circuit\n",
      "QuantumGate(name='X', target_indices=(0,), control_indices=(), params=(), pauli_ids=(), unitary_matrix=())\n",
      "QuantumGate(name='X', target_indices=(1,), control_indices=(), params=(), pauli_ids=(), unitary_matrix=())\n",
      "QuantumGate(name='X', target_indices=(2,), control_indices=(), params=(), pauli_ids=(), unitary_matrix=())\n"
     ]
    }
   ],
   "source": [
    "occupation_spin_orbitals = [0, 1, 2]\n",
    "jw_state = state_mapper([0, 1, 2])\n",
    "jw_state_preparation_circuit = jw_state.circuit  # The circuit that prepares the specified state\n",
    "\n",
    "print('State:')\n",
    "print(jw_state, '\\n')\n",
    "print('State preparation circuit')\n",
    "for gate in jw_state_preparation_circuit.gates:\n",
    "    print(gate)"
   ]
  },
  {
   "attachments": {},
   "cell_type": "markdown",
   "metadata": {},
   "source": [
    "## Bravyi Kitaev mapping"
   ]
  },
  {
   "attachments": {},
   "cell_type": "markdown",
   "metadata": {},
   "source": [
    "`quri-parts` also provides Bravyi Kitaev mapping, the interface is the same as the `jordan_wigner`'s."
   ]
  },
  {
   "cell_type": "code",
   "execution_count": 11,
   "metadata": {},
   "outputs": [],
   "source": [
    "from quri_parts.openfermion.transforms import bravyi_kitaev"
   ]
  },
  {
   "cell_type": "code",
   "execution_count": 12,
   "metadata": {},
   "outputs": [
    {
     "name": "stdout",
     "output_type": "stream",
     "text": [
      "(0.1371625+0j) Z0\n",
      "(-0.3276002891+0j) I\n",
      "(0.1371625+0j) Z0 Z1\n",
      "(-0.130365+0j) Z2\n",
      "(-0.130365+0j) Z1 Z2 Z3\n",
      "(0.0491975+0j) Y0 Z1 Y2\n",
      "(0.0491975+0j) X0 Z1 X2\n",
      "(0.0491975+0j) X0 Z1 X2 Z3\n",
      "(0.0491975+0j) Y0 Z1 Y2 Z3\n",
      "(0.1566+0j) Z1\n",
      "(0.10623+0j) Z0 Z2\n",
      "(0.1554275+0j) Z0 Z1 Z2\n",
      "(0.1554275+0j) Z0 Z1 Z2 Z3\n",
      "(0.10623+0j) Z0 Z2 Z3\n",
      "(0.1632675+0j) Z1 Z3\n"
     ]
    }
   ],
   "source": [
    "# Obtaining the operator mapper\n",
    "bk_operator_mapper = bravyi_kitaev.get_of_operator_mapper(\n",
    "    n_fermions=h2_mo.n_electron,\n",
    "    n_spin_orbitals=2*h2_mo.n_spatial_orb\n",
    ")\n",
    "\n",
    "# Map the Hamiltonian into quri-parts Operators with Jordan-Wigner mapping\n",
    "bravyi_kitaev_hamiltonian = bk_operator_mapper(hamiltonian)\n",
    "\n",
    "for op, coeff in bravyi_kitaev_hamiltonian.items():\n",
    "    print(coeff.round(10), op)"
   ]
  },
  {
   "cell_type": "code",
   "execution_count": 13,
   "metadata": {},
   "outputs": [
    {
     "name": "stdout",
     "output_type": "stream",
     "text": [
      "State:\n",
      "ComputationalBasisState(qubit_count=4, bits=0b111, phase=0π/2) \n",
      "\n",
      "State preparation circuit:\n",
      "QuantumGate(name='X', target_indices=(0,), control_indices=(), params=(), pauli_ids=(), unitary_matrix=())\n",
      "QuantumGate(name='X', target_indices=(1,), control_indices=(), params=(), pauli_ids=(), unitary_matrix=())\n",
      "QuantumGate(name='X', target_indices=(2,), control_indices=(), params=(), pauli_ids=(), unitary_matrix=())\n"
     ]
    }
   ],
   "source": [
    "bk_state_mapper = bravyi_kitaev.get_state_mapper(\n",
    "    n_fermions=h2_mo.n_electron,\n",
    "    n_spin_orbitals=2*h2_mo.n_spatial_orb\n",
    ")\n",
    "\n",
    "occupation_spin_orbitals = [0, 1, 2]\n",
    "bk_state_mapper_state = state_mapper(occupation_spin_orbitals)\n",
    "bk_state_preparation_circuit = bk_state_mapper_state.circuit\n",
    "\n",
    "print('State:')\n",
    "print(bk_state_mapper_state, '\\n')\n",
    "print('State preparation circuit:')\n",
    "for gate in bk_state_preparation_circuit.gates:\n",
    "    print(gate)"
   ]
  },
  {
   "attachments": {},
   "cell_type": "markdown",
   "metadata": {},
   "source": [
    "## Symmetry Conserving Bravyi-Kitaev mapping"
   ]
  },
  {
   "attachments": {},
   "cell_type": "markdown",
   "metadata": {},
   "source": [
    "`quri-parts` also provides Symmetry Conserving Bravyi Kitaev mapping, the interface is the same as the `jordan_wigner`'s."
   ]
  },
  {
   "cell_type": "code",
   "execution_count": 14,
   "metadata": {},
   "outputs": [],
   "source": [
    "from quri_parts.openfermion.transforms import symmetry_conserving_bravyi_kitaev\n",
    "from openfermion.transforms import get_fermion_operator"
   ]
  },
  {
   "cell_type": "code",
   "execution_count": 15,
   "metadata": {},
   "outputs": [
    {
     "name": "stdout",
     "output_type": "stream",
     "text": [
      "-0.5400602891 I\n",
      "0.2675275 Z0\n",
      "0.2675275 Z1\n",
      "0.0090125 Z0 Z1\n",
      "0.19679 X0 X1\n"
     ]
    }
   ],
   "source": [
    "import numpy as np\n",
    "# Obtaining the operator mapper\n",
    "sym_conserving_bk_operator_mapper = symmetry_conserving_bravyi_kitaev.get_of_operator_mapper(\n",
    "    n_fermions=h2_mo.n_electron,\n",
    "    n_spin_orbitals=int(2 * h2_mo.n_spatial_orb)\n",
    ")\n",
    "\n",
    "# Map the Hamiltonian into quri-parts Operators with Jordan-Wigner mapping\n",
    "sym_conserving_bravyi_kitaev_hamiltonian = sym_conserving_bk_operator_mapper(hamiltonian)\n",
    "\n",
    "for op, coeff in sym_conserving_bravyi_kitaev_hamiltonian.items():\n",
    "    if (c := np.round(coeff, 10)):\n",
    "        print(c, op)"
   ]
  },
  {
   "cell_type": "code",
   "execution_count": 16,
   "metadata": {},
   "outputs": [
    {
     "name": "stdout",
     "output_type": "stream",
     "text": [
      "State:\n",
      "ComputationalBasisState(qubit_count=4, bits=0b111, phase=0π/2) \n",
      "\n",
      "State preparation circuit:\n",
      "QuantumGate(name='X', target_indices=(0,), control_indices=(), params=(), pauli_ids=(), unitary_matrix=())\n",
      "QuantumGate(name='X', target_indices=(1,), control_indices=(), params=(), pauli_ids=(), unitary_matrix=())\n",
      "QuantumGate(name='X', target_indices=(2,), control_indices=(), params=(), pauli_ids=(), unitary_matrix=())\n"
     ]
    }
   ],
   "source": [
    "scbk_state_mapper = symmetry_conserving_bravyi_kitaev.get_state_mapper(\n",
    "    n_fermions=h2_mo.n_electron,\n",
    "    n_spin_orbitals=int(2*h2_mo.n_spatial_orb)\n",
    ")\n",
    "\n",
    "occupation_spin_orbitals = [0, 1, 2]\n",
    "scbk_state_mapper_state = state_mapper(occupation_spin_orbitals)\n",
    "scbk_state_preparation_circuit = scbk_state_mapper_state.circuit\n",
    "\n",
    "print('State:')\n",
    "print(scbk_state_mapper_state, '\\n')\n",
    "print('State preparation circuit:')\n",
    "for gate in scbk_state_preparation_circuit.gates:\n",
    "    print(gate)"
   ]
  }
 ],
 "metadata": {
  "kernelspec": {
   "display_name": "qp_dev",
   "language": "python",
   "name": "python3"
  },
  "language_info": {
   "codemirror_mode": {
    "name": "ipython",
    "version": 3
   },
   "file_extension": ".py",
   "mimetype": "text/x-python",
   "name": "python",
   "nbconvert_exporter": "python",
   "pygments_lexer": "ipython3",
   "version": "3.9.16"
  },
  "orig_nbformat": 4
 },
 "nbformat": 4,
 "nbformat_minor": 2
}
