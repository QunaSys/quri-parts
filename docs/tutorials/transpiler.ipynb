{
 "cells": [
  {
   "attachments": {},
   "cell_type": "markdown",
   "id": "134fe285",
   "metadata": {},
   "source": [
    "# Circuit transpiler\n",
    "\n",
    "For various reasons, we may want to convert a quantum circuit to another quantum circuit that is semantically equivalent.\n",
    "\n",
    "For example, if a particular backend supports only a particular gate set, the gate set must be converted. Also, if the qubits are implemented in a particular topology, a conversion may be necessary to make the circuit viable. Converting a semantically equivalent redundant representation to a more concise representation may reduce the execution time of the circuit, the error rate, and the number of qubits.\n",
    "\n",
    "These motivations can be broadly classified into two categories.\n",
    "\n",
    "1. Conversion to a form suitable for the target backend.\n",
    "2. Circuit optimization based on some criteria.\n",
    "\n",
    "QURI Parts provides a variety of circuit transpilers for these purposes. Users can also prepare a new transpiler by combining existing transpilers or implementing one from scratch.　This tutorial will show you how to handle circuit transpilers with QURI Parts."
   ]
  },
  {
   "attachments": {},
   "cell_type": "markdown",
   "id": "6cd7f522",
   "metadata": {},
   "source": [
    "## Prerequisite\n",
    "\n",
    "QURI Parts modules used in this tutorial: `quri-parts-circuit` and `quri-parts-core`. You can install them as follows:"
   ]
  },
  {
   "cell_type": "code",
   "execution_count": null,
   "id": "225d59a3",
   "metadata": {},
   "outputs": [],
   "source": [
    "!pip install \"quri-parts\""
   ]
  },
  {
   "attachments": {},
   "cell_type": "markdown",
   "id": "20e75b55",
   "metadata": {},
   "source": [
    "## Transpiler interface\n",
    "\n",
    "All transpilers in QURI Parts are `CircuitTranspiler` and can convert `NonParametricQuantumCircuit` to another `NonParametricQuantumCircuit` by calling with the circuit as follows."
   ]
  },
  {
   "cell_type": "code",
   "execution_count": null,
   "id": "d17d3fe0",
   "metadata": {},
   "outputs": [],
   "source": [
    "CircuitTranspiler: TypeAlias = Callable[\n",
    "    [NonParametricQuantumCircuit], NonParametricQuantumCircuit\n",
    "]"
   ]
  },
  {
   "cell_type": "code",
   "execution_count": 1,
   "id": "99e9c319",
   "metadata": {},
   "outputs": [],
   "source": [
    "from quri_parts.circuit import QuantumCircuit\n",
    "from quri_parts.circuit.transpile import RZSetTranspiler\n",
    "from quri_parts.circuit.utils.circuit_drawer import draw_circuit\n",
    "\n",
    "circuit = QuantumCircuit(3)\n",
    "circuit.add_H_gate(2)\n",
    "circuit.add_X_gate(0)\n",
    "circuit.add_CNOT_gate(2, 1)\n",
    "circuit.add_Z_gate(2)\n",
    "\n",
    "transpiler = RZSetTranspiler()\n",
    "transpiled_circuit = transpiler(circuit)\n",
    "\n",
    "print(transpiled_circuit)"
   ]
  },
  {
   "attachments": {},
   "cell_type": "markdown",
   "id": "c50be918",
   "metadata": {},
   "source": [
    "## Transpiler for backend compatibility"
   ]
  },
  {
   "cell_type": "code",
   "execution_count": 2,
   "id": "0691a2fd",
   "metadata": {},
   "outputs": [],
   "source": []
  },
  {
   "attachments": {},
   "cell_type": "markdown",
   "id": "4494b8b1",
   "metadata": {},
   "source": [
    "## Transpiler for gate set conversion"
   ]
  },
  {
   "cell_type": "code",
   "execution_count": null,
   "id": "9cea48d5",
   "metadata": {},
   "outputs": [],
   "source": []
  },
  {
   "attachments": {},
   "cell_type": "markdown",
   "id": "f79a43bd",
   "metadata": {},
   "source": [
    "## Transpiler for circuit optimization"
   ]
  },
  {
   "cell_type": "code",
   "execution_count": null,
   "id": "708d1bb1",
   "metadata": {},
   "outputs": [],
   "source": []
  },
  {
   "attachments": {},
   "cell_type": "markdown",
   "id": "c200724f",
   "metadata": {},
   "source": [
    "## Define new transpilers"
   ]
  },
  {
   "cell_type": "code",
   "execution_count": null,
   "id": "fd681cd6",
   "metadata": {},
   "outputs": [],
   "source": []
  }
 ],
 "metadata": {
  "kernelspec": {
   "display_name": "Python 3 (ipykernel)",
   "language": "python",
   "name": "python3"
  },
  "language_info": {
   "codemirror_mode": {
    "name": "ipython",
    "version": 3
   },
   "file_extension": ".py",
   "mimetype": "text/x-python",
   "name": "python",
   "nbconvert_exporter": "python",
   "pygments_lexer": "ipython3",
   "version": "3.11.3"
  }
 },
 "nbformat": 4,
 "nbformat_minor": 5
}
