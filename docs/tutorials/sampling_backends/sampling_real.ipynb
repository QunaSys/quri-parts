{
 "cells": [
  {
   "cell_type": "markdown",
   "metadata": {},
   "source": [
    "# Sampling backends"
   ]
  },
  {
   "cell_type": "markdown",
   "metadata": {},
   "source": [
    "In the previous section ([Sampling simulation](../sampling_simulation.ipynb)), we described how to estimate expectation value of operators using sampling measurements on a quantum circuit simulator. Since QURI Parts is designed to be platform independent, you can execute almost the same code on a real quantum computer. \n",
    "\n",
    "In `QURI Parts`, we use `SamplingBackend` objects to submit jobs to the real devices. This tutorial is for explaining some common features shared between devices from different providers, e.g. `Qiskit` and  `Braket`. For provider specific features, please refer to the corresponding tutorial pages."
   ]
  },
  {
   "cell_type": "markdown",
   "metadata": {},
   "source": [
    "## Prerequisite"
   ]
  },
  {
   "cell_type": "markdown",
   "metadata": {},
   "source": [
    "This section requires topics described in the previous section ([Sampling simulation](../sampling_simulation.ipynb)), so you need to read it before this section. QURI Parts is capable of supporting backends provided by all providers. You may install any one depending on your preference. In this tutorial, we will be using backends provided by  [Amazon Braket](https://aws.amazon.com/tw/braket/) as well as [IBM Quantum](https://www.ibm.com/quantum) as examples. Then, we will explain how to  install and use both backends in their corresponding tutorials."
   ]
  },
  {
   "cell_type": "markdown",
   "metadata": {},
   "source": [
    "## Sampling Backend and Sampler"
   ]
  },
  {
   "cell_type": "markdown",
   "metadata": {},
   "source": [
    "In order to use a real device, you need to create a `SamplingBackend` object and then a `Sampler` using the backend. The SamplingBackend provides a unified interface for handling various backend devices, computation jobs for the devices and results of the jobs."
   ]
  },
  {
   "cell_type": "markdown",
   "metadata": {},
   "source": [
    "You can create a sampler with a sampling backend. First, you can create sampling backends with the backend provider you prefer. For example:"
   ]
  },
  {
   "cell_type": "code",
   "execution_count": 3,
   "metadata": {},
   "outputs": [],
   "source": [
    "from quri_parts.qiskit.backend import QiskitSamplingBackend\n",
    "from quri_parts.braket.backend import BraketSamplingBackend\n",
    "from qiskit_aer import AerSimulator\n",
    "from braket.devices import LocalSimulator\n",
    "\n",
    "\n",
    "# sampling_backend = QiskitSamplingBackend(backend=AerSimulator())\n",
    "sampling_backend = BraketSamplingBackend(device=LocalSimulator())"
   ]
  },
  {
   "cell_type": "markdown",
   "metadata": {},
   "source": [
    "### Using the sampling backend"
   ]
  },
  {
   "cell_type": "markdown",
   "metadata": {},
   "source": [
    "It is possible to use these backends directly, though it is usually unnecessary as we will see below. The `SamplingBackend` has `sample()` method, which returns a `SamplingJob` object, and you can extract a result of the sampling job:"
   ]
  },
  {
   "cell_type": "code",
   "execution_count": 7,
   "metadata": {},
   "outputs": [
    {
     "name": "stdout",
     "output_type": "stream",
     "text": [
      "{11: 74, 13: 68, 5: 431, 3: 427}\n",
      "Counter({3: 442, 5: 426, 11: 82, 13: 50})\n"
     ]
    }
   ],
   "source": [
    "from math import pi\n",
    "from quri_parts.circuit import QuantumCircuit\n",
    "\n",
    "circuit = QuantumCircuit(4)\n",
    "circuit.add_X_gate(0)\n",
    "circuit.add_H_gate(1)\n",
    "circuit.add_Y_gate(2)\n",
    "circuit.add_CNOT_gate(1, 2)\n",
    "circuit.add_RX_gate(3, pi/4)\n",
    "\n",
    "sampling_job = sampling_backend.sample(circuit, n_shots=1000)\n",
    "sampling_result = sampling_job.result()\n",
    "\n",
    "print(sampling_result.counts)"
   ]
  },
  {
   "cell_type": "markdown",
   "metadata": {},
   "source": [
    "### Create samplers with backend"
   ]
  },
  {
   "cell_type": "markdown",
   "metadata": {},
   "source": [
    "Instead of using the backends directly, you can create a `Sampler` from it with the `create_sampler_from_sampling_backend` function:"
   ]
  },
  {
   "cell_type": "code",
   "execution_count": 8,
   "metadata": {},
   "outputs": [],
   "source": [
    "from quri_parts.core.sampling import create_sampler_from_sampling_backend\n",
    "\n",
    "sampler = create_sampler_from_sampling_backend(\n",
    "\tsampling_backend # you may replace it with other sampling backends you prefer.\n",
    ")"
   ]
  },
  {
   "cell_type": "markdown",
   "metadata": {},
   "source": [
    "The sampler can then be used as usual:"
   ]
  },
  {
   "cell_type": "code",
   "execution_count": 4,
   "metadata": {},
   "outputs": [
    {
     "name": "stdout",
     "output_type": "stream",
     "text": [
      "{11: 77, 13: 83, 3: 409, 5: 431}\n"
     ]
    }
   ],
   "source": [
    "sampling_count = sampler(circuit, 1000)\n",
    "print(sampling_count)"
   ]
  },
  {
   "cell_type": "markdown",
   "metadata": {},
   "source": [
    "### Sampling Estimate"
   ]
  },
  {
   "cell_type": "markdown",
   "metadata": {},
   "source": [
    "Here we describe how to perform sampling estimate with the same code used in the previous [Sampling Simulation tutorials](../sampling_simulation.ipynb). To create a `SamplingEstimator`, one needs to specify"
   ]
  },
  {
   "cell_type": "code",
   "execution_count": 10,
   "metadata": {},
   "outputs": [],
   "source": [
    "from quri_parts.core.sampling import create_concurrent_sampler_from_sampling_backend\n",
    "from quri_parts.qiskit.backend import QiskitSamplingBackend\n",
    "from quri_parts.braket.backend import BraketSamplingBackend\n",
    "from qiskit_aer import AerSimulator\n",
    "from braket.devices import LocalSimulator\n",
    "\n",
    "\n",
    "# sampling_backend = QiskitSamplingBackend(backend=AerSimulator())\n",
    "# concurrent_sampler = create_concurrent_sampler_from_sampling_backend(qiskit_sampling_backend)\n",
    "\n",
    "sampling_backend = BraketSamplingBackend(device=LocalSimulator())\n",
    "concurrent_sampler = create_concurrent_sampler_from_sampling_backend(sampling_backend)"
   ]
  },
  {
   "cell_type": "markdown",
   "metadata": {},
   "source": [
    "Then you can put either concurrent sampler into the code below to perform sampling estimation."
   ]
  },
  {
   "cell_type": "code",
   "execution_count": 13,
   "metadata": {},
   "outputs": [
    {
     "name": "stdout",
     "output_type": "stream",
     "text": [
      "Estimated expectation value: (0.7157030578410907+0.07082474359115679j)\n",
      "Standard error of estimation: 0.07071047108767443\n"
     ]
    }
   ],
   "source": [
    "from quri_parts.core.operator import Operator, pauli_label, PAULI_IDENTITY\n",
    "op = Operator({\n",
    "    pauli_label(\"Z0\"): 0.25,\n",
    "    pauli_label(\"Z1 Z2\"): 2.0,\n",
    "    pauli_label(\"X1 X2\"): 0.5 + 0.25j,\n",
    "    pauli_label(\"Z1 Y3\"): 1.0j,\n",
    "    pauli_label(\"Z2 Y3\"): 1.5 + 0.5j,\n",
    "    pauli_label(\"X1 Y3\"): 2.0j,\n",
    "    PAULI_IDENTITY: 3.0,\n",
    "})\n",
    "\n",
    "from quri_parts.core.state import ComputationalBasisState\n",
    "initial_state = ComputationalBasisState(4, bits=0b0101)\n",
    "\n",
    "from quri_parts.core.measurement import bitwise_commuting_pauli_measurement\n",
    "from quri_parts.core.sampling.shots_allocator import create_weighted_random_shots_allocator\n",
    "allocator = create_weighted_random_shots_allocator(seed=777)\n",
    "\n",
    "from quri_parts.core.estimator.sampling import sampling_estimate\n",
    "estimate = sampling_estimate(\n",
    "    op,            # Operator to estimate\n",
    "    initial_state, # Initial (circuit) state\n",
    "    5000,          # Total sampling shots\n",
    "    concurrent_sampler, # ConcurrentSampler should be created by a sampling backend\n",
    "    bitwise_commuting_pauli_measurement, # Factory function for CommutablePauliSetMeasurement\n",
    "    allocator,     # PauliSamplingShotsAllocator\n",
    ")\n",
    "print(f\"Estimated expectation value: {estimate.value}\")\n",
    "print(f\"Standard error of estimation: {estimate.error}\")"
   ]
  },
  {
   "cell_type": "markdown",
   "metadata": {},
   "source": [
    "You can also create a `QuantumEstimator` that performs sampling estimation:"
   ]
  },
  {
   "cell_type": "code",
   "execution_count": 12,
   "metadata": {},
   "outputs": [
    {
     "name": "stdout",
     "output_type": "stream",
     "text": [
      "Estimated value: (0.7012656804438002+0.011764716247822493j)\n",
      "Estimated error: 0.07033330217651333\n"
     ]
    }
   ],
   "source": [
    "from quri_parts.core.estimator.sampling import create_sampling_estimator\n",
    "from quri_parts.core.state import ComputationalBasisState\n",
    "\n",
    "estimator = create_sampling_estimator(\n",
    "    5000,               # Total sampling shots\n",
    "    concurrent_sampler, # ConcurrentSampler should be created by a sampling backend\n",
    "    bitwise_commuting_pauli_measurement,  # Factory function for CommutablePauliSetMeasurement\n",
    "    allocator,          # PauliSamplingShotsAllocator\n",
    ")\n",
    "\n",
    "initial_state = ComputationalBasisState(4, bits=0b0101)\n",
    "\n",
    "estimate = estimator(op, initial_state)\n",
    "\n",
    "print(f'Estimated value: {estimate.value}')\n",
    "print(f'Estimated error: {estimate.error}')"
   ]
  },
  {
   "cell_type": "markdown",
   "metadata": {},
   "source": [
    "## Common Options and Features of Sampling Backends"
   ]
  },
  {
   "cell_type": "markdown",
   "metadata": {},
   "source": [
    "### Shot Distribution"
   ]
  },
  {
   "cell_type": "markdown",
   "metadata": {},
   "source": [
    "Usually the real device does not allow arbitrary large number of shots to be executed. However, `QURI Parts`' `SamplingBackend.sample` allows submitting shot count greater than the max shot count supported by the device. This is because `SamplingBackend` performs shot distribution that group `n_shots` into batches of `SamplingJob`s where the shot count of each batch is equal to or smaller than the max shot supported by the device. \n",
    "\n",
    "On the other hand, the device may restrict the minimal number of shots to be greater than some minimal shot number. In this case, if a shot count in a batch is smaller than the min shot supported by the device, you may use the `enable_shots_roundup` argument in the backend to decide what to do with the remaining batch. If it is set to True, the backend will round the shot count of the remaining batch to the specified min shot. Otherwise, the backend will ignore the batch."
   ]
  },
  {
   "cell_type": "markdown",
   "metadata": {},
   "source": [
    "### Qubit Mapping"
   ]
  },
  {
   "cell_type": "markdown",
   "metadata": {},
   "source": [
    "When you use a real quantum device, you may want to use specific device qubits selected by inspecting calibration data of the device. A `SamplingBackend` supports such usage with `qubit_mapping` argument. With `qubit_mapping` you can specify an arbitrary one-to-one mapping between qubit indices in the input circuit and device qubits. For example, if you want to map qubits in the circuit into device qubits as 0 → 3, 1 → 2, 2 → 0 and 3 → 1, you can specify the mapping as follows:"
   ]
  },
  {
   "cell_type": "code",
   "execution_count": 16,
   "metadata": {},
   "outputs": [],
   "source": [
    "qubit_mapping = {0: 3, 1: 2, 2: 0, 3: 1}"
   ]
  },
  {
   "cell_type": "markdown",
   "metadata": {},
   "source": [
    "and pass it into the SamplingBackend. The result would look similar to one with no qubit mapping, since the measurement result from the device is mapped backward so that it is interpreted in terms of the original qubit indices."
   ]
  },
  {
   "cell_type": "markdown",
   "metadata": {},
   "source": [
    "### Circuit transpilation before execution"
   ]
  },
  {
   "cell_type": "markdown",
   "metadata": {},
   "source": [
    "When the `SamplingBackend` receives an input circuit, it performs circuit transpilation before sending the circuit to its backend since each device can have a different supported gate set. The transpilation performed by default depends on the backend."
   ]
  }
 ],
 "metadata": {
  "kernelspec": {
   "display_name": "qp_dev",
   "language": "python",
   "name": "python3"
  },
  "language_info": {
   "codemirror_mode": {
    "name": "ipython",
    "version": 3
   },
   "file_extension": ".py",
   "mimetype": "text/x-python",
   "name": "python",
   "nbconvert_exporter": "python",
   "pygments_lexer": "ipython3",
   "version": "3.9.16"
  },
  "orig_nbformat": 4
 },
 "nbformat": 4,
 "nbformat_minor": 2
}
