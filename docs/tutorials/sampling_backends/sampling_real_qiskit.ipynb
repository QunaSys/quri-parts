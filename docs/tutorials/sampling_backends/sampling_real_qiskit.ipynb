{
 "cells": [
  {
   "cell_type": "markdown",
   "metadata": {},
   "source": [
    "# Sampling on Qiskit's real quantum computers"
   ]
  },
  {
   "cell_type": "markdown",
   "metadata": {},
   "source": [
    "Here we introduce the Qiskit backends. For IBM devices, we provide 2 sampling backends:\n",
    "\n",
    "- `QiskitSamplingBackend` : For the IBMQ backends\n",
    "- `QiskitRuntimeSamplingBackend`: For the devices provided by the `QiskitRuntimeService`\n",
    "\n",
    "which we provide further details on how to use them."
   ]
  },
  {
   "cell_type": "markdown",
   "metadata": {},
   "source": [
    "## Prerequisite\n"
   ]
  },
  {
   "cell_type": "markdown",
   "metadata": {},
   "source": [
    "This section requires topics described in the previous sections ([Sampling simulation](../sampling_simulation.ipynb) and [Sampling Backend](sampling_real.ipynb)), so you need to read them before this section.\n",
    "\n",
    "QURI Parts modules used in this tutorial: `quri-parts-circuit`, `quri-parts-core` and `quri-parts-qiskit`. You can install them as follows:"
   ]
  },
  {
   "cell_type": "code",
   "execution_count": 1,
   "metadata": {},
   "outputs": [],
   "source": [
    "!pip install \"quri-parts[qiskit]\""
   ]
  },
  {
   "cell_type": "markdown",
   "metadata": {},
   "source": [
    "## QiskitRuntimeSamplingBackend and Sampler"
   ]
  },
  {
   "cell_type": "markdown",
   "metadata": {},
   "source": [
    "[Qiskit Runtime](https://qiskit.org/ecosystem/ibm-runtime/) is a new service provided by IBM to perform experiments on real devices. In this section, we demonstrate how to submit jobs to Qiskit Runtime via `QURI Parts`. We first prepare some circuit"
   ]
  },
  {
   "cell_type": "code",
   "execution_count": 1,
   "metadata": {},
   "outputs": [],
   "source": [
    "from quri_parts.circuit import QuantumCircuit\n",
    "\n",
    "# construct quri-parts circuit\n",
    "qp_circuit1 = QuantumCircuit(2)\n",
    "qp_circuit1.add_H_gate(0)\n",
    "qp_circuit1.add_H_gate(1)\n",
    "qp_circuit1.add_RX_gate(0, 0.23)\n",
    "qp_circuit1.add_RY_gate(1, -0.99)\n",
    "\n",
    "qp_circuit2 = QuantumCircuit(2)\n",
    "qp_circuit2.add_H_gate(0)\n",
    "qp_circuit2.add_H_gate(1)\n",
    "qp_circuit2.add_RX_gate(0, 1.23)\n",
    "qp_circuit2.add_RY_gate(1, 4.56)\n",
    "\n",
    "\n",
    "qp_circuit3 = QuantumCircuit(2)\n",
    "qp_circuit3.add_H_gate(0)\n",
    "qp_circuit3.add_H_gate(1)\n",
    "qp_circuit3.add_RX_gate(0, 0.998)\n",
    "qp_circuit3.add_RY_gate(1, 1.928)"
   ]
  },
  {
   "cell_type": "markdown",
   "metadata": {},
   "source": [
    "For using the Qiskit Runtime service, you can create a `QiskitRuntimeSamplingBackend` by passing  in a `qiskit.providers.backend` and a `qiskit_ibm_runtime.QiskitRuntimeService` object. To see the list of all the devices supported by the Qiskit Runtime Service, you may run:"
   ]
  },
  {
   "cell_type": "code",
   "execution_count": 2,
   "metadata": {},
   "outputs": [
    {
     "name": "stdout",
     "output_type": "stream",
     "text": [
      "[<IBMBackend('ibm_brisbane')>, <IBMBackend('ibm_sherbrooke')>, <IBMBackend('ibm_kyiv')>]\n"
     ]
    }
   ],
   "source": [
    "from qiskit_ibm_runtime import QiskitRuntimeService\n",
    "\n",
    "service = QiskitRuntimeService(instance=\"ibm-q/open/main\")\n",
    "\n",
    "# Note: all available devices can be obtained by:\n",
    "print(service.backends())"
   ]
  },
  {
   "cell_type": "markdown",
   "metadata": {},
   "source": [
    "We are now ready to create a qiskit runtime sampling backend"
   ]
  },
  {
   "cell_type": "code",
   "execution_count": 3,
   "metadata": {},
   "outputs": [],
   "source": [
    "from quri_parts.qiskit.backend import QiskitRuntimeSamplingBackend\n",
    "\n",
    "backend = service.least_busy()\n",
    "qiskit_runtime_sampling_backend = QiskitRuntimeSamplingBackend(\n",
    "    backend=backend,\n",
    "    service=service,\n",
    ")"
   ]
  },
  {
   "cell_type": "markdown",
   "metadata": {},
   "source": [
    "A sampler can be created as usual"
   ]
  },
  {
   "cell_type": "code",
   "execution_count": 4,
   "metadata": {},
   "outputs": [
    {
     "name": "stdout",
     "output_type": "stream",
     "text": [
      "<RuntimeJobV2('czdwdker3jrg008pgsng', 'sampler')>\n",
      "<RuntimeJobV2('czdwdrz4spc00087fhf0', 'sampler')>\n",
      "<RuntimeJobV2('czdwdv74spc00087fhh0', 'sampler')>\n"
     ]
    }
   ],
   "source": [
    "from quri_parts.core.sampling import create_sampler_from_sampling_backend\n",
    "\n",
    "sampler = create_sampler_from_sampling_backend(qiskit_runtime_sampling_backend)\n",
    "\n",
    "sampling_cnt_1 = sampler(qp_circuit1, 1000)\n",
    "sampling_cnt_2 = sampler(qp_circuit2, 2000)\n",
    "sampling_cnt_3 = sampler(qp_circuit3, 3000)"
   ]
  },
  {
   "cell_type": "code",
   "execution_count": 5,
   "metadata": {},
   "outputs": [
    {
     "data": {
      "text/plain": [
       "({0: 419, 2: 67, 3: 84, 1: 430},\n",
       " {0: 919, 1: 940, 3: 73, 2: 68},\n",
       " {3: 1394, 2: 1410, 1: 100, 0: 96})"
      ]
     },
     "execution_count": 5,
     "metadata": {},
     "output_type": "execute_result"
    }
   ],
   "source": [
    "sampling_cnt_1, sampling_cnt_2, sampling_cnt_3"
   ]
  },
  {
   "cell_type": "markdown",
   "metadata": {},
   "source": [
    "### Grouping multiple sampling jobs into a Session"
   ]
  },
  {
   "cell_type": "markdown",
   "metadata": {},
   "source": [
    "In Qiskit Runtime Service, they provide `Session` objects that allows us to group jobs together. In the above example, a `Session` is created every time the sampler is called. In `QURI Parts`, we can group jobs into a single `Session` with the `QiskitRuntimeSamplingBackend` as well."
   ]
  },
  {
   "cell_type": "code",
   "execution_count": 6,
   "metadata": {},
   "outputs": [
    {
     "name": "stdout",
     "output_type": "stream",
     "text": [
      "<RuntimeJobV2('czdwdzqqadq0008cvya0', 'sampler')>\n",
      "<RuntimeJobV2('czdwe18b7tt0008grrfg', 'sampler')>\n",
      "<RuntimeJobV2('czdwe38qadq0008cvyc0', 'sampler')>\n"
     ]
    }
   ],
   "source": [
    "with QiskitRuntimeSamplingBackend(backend=backend, service=service) as qiskit_runtime_sampling_backend:\n",
    "\tsampler = create_sampler_from_sampling_backend(qiskit_runtime_sampling_backend)\n",
    "\tsampling_cnt_1 = sampler(qp_circuit1, 1000)\n",
    "\tsampling_cnt_2 = sampler(qp_circuit2, 2000)\n",
    "\tsampling_cnt_3 = sampler(qp_circuit3, 3000)"
   ]
  },
  {
   "cell_type": "code",
   "execution_count": 8,
   "metadata": {},
   "outputs": [
    {
     "data": {
      "text/plain": [
       "({0: 436, 2: 79, 3: 72, 1: 413},\n",
       " {0: 934, 1: 937, 3: 67, 2: 62},\n",
       " {2: 1473, 3: 1371, 0: 79, 1: 77})"
      ]
     },
     "execution_count": 8,
     "metadata": {},
     "output_type": "execute_result"
    }
   ],
   "source": [
    "sampling_cnt_1, sampling_cnt_2, sampling_cnt_3"
   ]
  },
  {
   "cell_type": "markdown",
   "metadata": {},
   "source": [
    "### Billable Time Tracker"
   ]
  },
  {
   "cell_type": "markdown",
   "metadata": {},
   "source": [
    "When executing jobs on real devices, it can be useful to keep track of the cost by tracking the billable time. In the `QiskitRuntimeSamplingBackend`, we provide the `total_time_limit` option that allows you to track the total billable time. If the total billable time exceeds the time limit, the backend will reject new job submissions and cancel all unfinished jobs. Let’s create a backend with run time limit of 100 seconds:"
   ]
  },
  {
   "cell_type": "code",
   "execution_count": 9,
   "metadata": {},
   "outputs": [],
   "source": [
    "TIME_LIMIT = 100\n",
    "\n",
    "backend = service.least_busy()\n",
    "\n",
    "sampling_backend = QiskitRuntimeSamplingBackend(\n",
    "\tbackend=backend,\n",
    "\tservice=service,\n",
    "\ttotal_time_limit=TIME_LIMIT\n",
    ")"
   ]
  },
  {
   "cell_type": "markdown",
   "metadata": {},
   "source": [
    "When the total time limit is set, a `Tracker` object is created along with the sampling backend. You may access it by the `.tracker` attribute."
   ]
  },
  {
   "cell_type": "code",
   "execution_count": 10,
   "metadata": {},
   "outputs": [],
   "source": [
    "tracker = sampling_backend.tracker"
   ]
  },
  {
   "cell_type": "markdown",
   "metadata": {},
   "source": [
    "The total billable run time of jobs submitted by the backend is not tracked automatically. Instead, it is computed whenever any of the `total_run_time`, `running_jobs`, `finished_jobs` properties is accessed. As we have not submitted any jobs with the backend we just created, it should be 0 at the moment."
   ]
  },
  {
   "cell_type": "code",
   "execution_count": 11,
   "metadata": {},
   "outputs": [
    {
     "data": {
      "text/plain": [
       "0.0"
      ]
     },
     "execution_count": 11,
     "metadata": {},
     "output_type": "execute_result"
    }
   ],
   "source": [
    "tracker.total_run_time"
   ]
  },
  {
   "cell_type": "markdown",
   "metadata": {},
   "source": [
    "When we submit jobs with the backend, the jobs will be registered to the tracker for tracking. For example let’s submit 3 sampling jobs:"
   ]
  },
  {
   "cell_type": "code",
   "execution_count": 12,
   "metadata": {},
   "outputs": [
    {
     "name": "stderr",
     "output_type": "stream",
     "text": [
      "/Users/daniel/Documents/Project/qunasys/quri-parts/packages/qiskit/quri_parts/qiskit/backend/primitive.py:250: UserWarning: The time limit of 100 seconds is likely going to be exceeded.\n",
      "  warnings.warn(\n"
     ]
    },
    {
     "name": "stdout",
     "output_type": "stream",
     "text": [
      "<RuntimeJobV2('czdwepab7tt0008grrn0', 'sampler')>\n"
     ]
    },
    {
     "name": "stderr",
     "output_type": "stream",
     "text": [
      "/Users/daniel/Documents/Project/qunasys/quri-parts/packages/qiskit/quri_parts/qiskit/backend/primitive.py:250: UserWarning: The time limit of 100 seconds is likely going to be exceeded.\n",
      "  warnings.warn(\n"
     ]
    },
    {
     "name": "stdout",
     "output_type": "stream",
     "text": [
      "<RuntimeJobV2('czdweqj4spc00087fhv0', 'sampler')>\n"
     ]
    },
    {
     "name": "stderr",
     "output_type": "stream",
     "text": [
      "/Users/daniel/Documents/Project/qunasys/quri-parts/packages/qiskit/quri_parts/qiskit/backend/primitive.py:250: UserWarning: The time limit of 99 seconds is likely going to be exceeded.\n",
      "  warnings.warn(\n"
     ]
    },
    {
     "name": "stdout",
     "output_type": "stream",
     "text": [
      "<RuntimeJobV2('czdweskb7tt0008grrr0', 'sampler')>\n"
     ]
    }
   ],
   "source": [
    "sampling_job_1 = sampling_backend.sample(qp_circuit1, 10)\n",
    "sampling_job_2 = sampling_backend.sample(qp_circuit2, 20)\n",
    "sampling_job_3 = sampling_backend.sample(qp_circuit3, 30)"
   ]
  },
  {
   "cell_type": "markdown",
   "metadata": {},
   "source": [
    "These jobs will be stored inside the tracker and can be accessed by the `.running_jobs` property if they are still being executed by the real device. If any of the job is finished, you may access them with the `.finished_jobs` property."
   ]
  },
  {
   "cell_type": "code",
   "execution_count": 13,
   "metadata": {},
   "outputs": [
    {
     "name": "stdout",
     "output_type": "stream",
     "text": [
      "[<quri_parts.qiskit.backend.primitive.QiskitRuntimeSamplingJob object at 0x17f9ee210>]\n",
      "[<quri_parts.qiskit.backend.primitive.QiskitRuntimeSamplingJob object at 0x17fa46f90>, <quri_parts.qiskit.backend.primitive.QiskitRuntimeSamplingJob object at 0x3218cba10>]\n"
     ]
    }
   ],
   "source": [
    "print(tracker.running_jobs)\n",
    "print(tracker.finished_jobs)"
   ]
  },
  {
   "cell_type": "markdown",
   "metadata": {},
   "source": [
    "## Data Saving and Replaying"
   ]
  },
  {
   "cell_type": "markdown",
   "metadata": {},
   "source": [
    "As we might want to perform different analysis using the same data generated by real devices, having a way to save and retrieve past experiment data can be useful. In this section, we explain how to save and replay past experiment data generated by Qiskit devices."
   ]
  },
  {
   "cell_type": "markdown",
   "metadata": {},
   "source": [
    "The data saving feature can be activated by setting the `save_data_while_sampling` to True. Both `QiskitSamplingBackend` and `QiskitRuntimeSamplingBackend` support this feature. Let’s use the local Aer simulator as an example."
   ]
  },
  {
   "cell_type": "code",
   "execution_count": 14,
   "metadata": {},
   "outputs": [
    {
     "name": "stdout",
     "output_type": "stream",
     "text": [
      "{2: 3, 3: 6, 0: 53, 1: 38}\n",
      "{1: 98, 2: 1, 0: 101}\n",
      "{1: 3, 0: 6, 3: 167, 2: 124}\n"
     ]
    },
    {
     "name": "stderr",
     "output_type": "stream",
     "text": [
      "/Users/daniel/Documents/Project/qunasys/quri-parts/packages/qiskit/quri_parts/qiskit/backend/utils.py:68: UserWarning: No max_shots setting is found. The max shot is set to default value 1000000\n",
      "  warnings.warn(\n"
     ]
    }
   ],
   "source": [
    "from quri_parts.qiskit.backend import QiskitSamplingBackend\n",
    "from qiskit_aer import AerSimulator\n",
    "from quri_parts.core.sampling import create_sampler_from_sampling_backend\n",
    "\n",
    "sampling_backend = QiskitSamplingBackend(\n",
    "\tbackend=AerSimulator(),\n",
    "\tsave_data_while_sampling=True # activate data saving feature\n",
    ")\n",
    "\n",
    "sampler = create_sampler_from_sampling_backend(sampling_backend)\n",
    "\n",
    "cnt1 = sampler(qp_circuit1, 100)\n",
    "cnt2 = sampler(qp_circuit2, 200)\n",
    "cnt3 = sampler(qp_circuit3, 300)\n",
    "\n",
    "print(cnt1)\n",
    "print(cnt2)\n",
    "print(cnt3)"
   ]
  },
  {
   "cell_type": "markdown",
   "metadata": {},
   "source": [
    "After performing sampling job like the above, we may save the sampling data into a json file:"
   ]
  },
  {
   "cell_type": "code",
   "execution_count": 15,
   "metadata": {},
   "outputs": [],
   "source": [
    "import json\n",
    "\n",
    "with open('saved_sampling_job.json', 'w') as fp:\n",
    "\tjson.dump(sampling_backend.jobs_json, fp)"
   ]
  },
  {
   "cell_type": "markdown",
   "metadata": {},
   "source": [
    "The `jobs_json` property accessed above encodes all the past sampling jobs in the order they were submitted. Now, let’s load it back to the memory and replay with the `QiskitSavedDataSamplingBackend`."
   ]
  },
  {
   "cell_type": "code",
   "execution_count": 16,
   "metadata": {},
   "outputs": [
    {
     "name": "stdout",
     "output_type": "stream",
     "text": [
      "{2: 3, 3: 6, 0: 53, 1: 38}\n",
      "{1: 98, 2: 1, 0: 101}\n",
      "{1: 3, 0: 6, 3: 167, 2: 124}\n"
     ]
    },
    {
     "name": "stderr",
     "output_type": "stream",
     "text": [
      "/Users/daniel/Documents/Project/qunasys/quri-parts/packages/qiskit/quri_parts/qiskit/backend/utils.py:68: UserWarning: No max_shots setting is found. The max shot is set to default value 1000000\n",
      "  warnings.warn(\n"
     ]
    }
   ],
   "source": [
    "from quri_parts.qiskit.backend import QiskitSavedDataSamplingBackend\n",
    "\n",
    "with open('saved_sampling_job.json', 'r') as fp:\n",
    "\tsaved_data = json.load(fp)\n",
    "\n",
    "replay_backend = QiskitSavedDataSamplingBackend(\n",
    "\tbackend=AerSimulator(),\n",
    "\tsaved_data=saved_data\n",
    ")\n",
    "\n",
    "replay_sampler = create_sampler_from_sampling_backend(replay_backend)\n",
    "\n",
    "replay_cnt1 = replay_sampler(qp_circuit1, 100)\n",
    "replay_cnt2 = replay_sampler(qp_circuit2, 200)\n",
    "replay_cnt3 = replay_sampler(qp_circuit3, 300)\n",
    "\n",
    "print(replay_cnt1)\n",
    "print(replay_cnt2)\n",
    "print(replay_cnt3)"
   ]
  }
 ],
 "metadata": {
  "kernelspec": {
   "display_name": ".venv",
   "language": "python",
   "name": "python3"
  },
  "language_info": {
   "codemirror_mode": {
    "name": "ipython",
    "version": 3
   },
   "file_extension": ".py",
   "mimetype": "text/x-python",
   "name": "python",
   "nbconvert_exporter": "python",
   "pygments_lexer": "ipython3",
   "version": "3.11.10"
  },
  "orig_nbformat": 4
 },
 "nbformat": 4,
 "nbformat_minor": 2
}
